{
 "cells": [
  {
   "attachments": {},
   "cell_type": "markdown",
   "metadata": {},
   "source": [
    "## Financial Data Preprocessing"
   ]
  },
  {
   "attachments": {},
   "cell_type": "markdown",
   "metadata": {},
   "source": [
    "A time series is a series of data points indexed in time order. Financial data such as equity, commodity and forex price series observed at equally spaced points in time are an example of such a series. It is a sequence of data points observed at regular time intervals and depending on the frequency of observations, a time series may typically be in ticks, seconds, minutes, hourly, daily, weekly, monthly, quarterly and annual.\n",
    "\n",
    "The first step towards any data analysis would be to parse the raw data that involves extracting the data from the source and then cleaning and filling the missing data, if any. While data comes in many forms, Python makes it easy to read time series data using useful packages.\n"
   ]
  },
  {
   "attachments": {},
   "cell_type": "markdown",
   "metadata": {},
   "source": [
    "## Load Libraries"
   ]
  },
  {
   "cell_type": "code",
   "execution_count": 18,
   "metadata": {},
   "outputs": [
    {
     "data": {
      "text/html": [
       "        <script type=\"text/javascript\">\n",
       "        window.PlotlyConfig = {MathJaxConfig: 'local'};\n",
       "        if (window.MathJax && window.MathJax.Hub && window.MathJax.Hub.Config) {window.MathJax.Hub.Config({SVG: {font: \"STIX-Web\"}});}\n",
       "        if (typeof require !== 'undefined') {\n",
       "        require.undef(\"plotly\");\n",
       "        requirejs.config({\n",
       "            paths: {\n",
       "                'plotly': ['https://cdn.plot.ly/plotly-2.16.1.min']\n",
       "            }\n",
       "        });\n",
       "        require(['plotly'], function(Plotly) {\n",
       "            window._Plotly = Plotly;\n",
       "        });\n",
       "        }\n",
       "        </script>\n",
       "        "
      ]
     },
     "metadata": {},
     "output_type": "display_data"
    },
    {
     "data": {
      "text/html": [
       "        <script type=\"text/javascript\">\n",
       "        window.PlotlyConfig = {MathJaxConfig: 'local'};\n",
       "        if (window.MathJax && window.MathJax.Hub && window.MathJax.Hub.Config) {window.MathJax.Hub.Config({SVG: {font: \"STIX-Web\"}});}\n",
       "        if (typeof require !== 'undefined') {\n",
       "        require.undef(\"plotly\");\n",
       "        requirejs.config({\n",
       "            paths: {\n",
       "                'plotly': ['https://cdn.plot.ly/plotly-2.16.1.min']\n",
       "            }\n",
       "        });\n",
       "        require(['plotly'], function(Plotly) {\n",
       "            window._Plotly = Plotly;\n",
       "        });\n",
       "        }\n",
       "        </script>\n",
       "        "
      ]
     },
     "metadata": {},
     "output_type": "display_data"
    }
   ],
   "source": [
    "# Import required libraries\n",
    "import pandas as pd\n",
    "import numpy as np\n",
    "\n",
    "# Import yahoo finance libraries\n",
    "import pandas_datareader as pdr\n",
    "import yfinance as yf\n",
    "\n",
    "# Import cufflinks for visualization\n",
    "import cufflinks as cf\n",
    "cf.set_config_file(offline=True)\n",
    "\n",
    "# Ignore warnings\n",
    "import warnings\n",
    "warnings.filterwarnings('ignore')"
   ]
  },
  {
   "cell_type": "code",
   "execution_count": 19,
   "metadata": {},
   "outputs": [
    {
     "data": {
      "text/plain": [
       "'3.10.0'"
      ]
     },
     "execution_count": 19,
     "metadata": {},
     "output_type": "execute_result"
    }
   ],
   "source": [
    "\n",
    "from platform import python_version\n",
    "\n",
    "# Check the version of python \n",
    "python_version()"
   ]
  },
  {
   "cell_type": "code",
   "execution_count": 20,
   "metadata": {},
   "outputs": [
    {
     "data": {
      "text/plain": [
       "('1.5.3', '0.10.0', '0.17.3', '0.2.9')"
      ]
     },
     "execution_count": 20,
     "metadata": {},
     "output_type": "execute_result"
    }
   ],
   "source": [
    "# Check the package version\n",
    "pd.__version__, pdr.__version__, cf.__version__, yf.__version__"
   ]
  },
  {
   "attachments": {},
   "cell_type": "markdown",
   "metadata": {},
   "source": [
    "## Retrieving data using Pandas Datareader"
   ]
  },
  {
   "cell_type": "code",
   "execution_count": 21,
   "metadata": {},
   "outputs": [
    {
     "data": {
      "text/html": [
       "<div>\n",
       "<style scoped>\n",
       "    .dataframe tbody tr th:only-of-type {\n",
       "        vertical-align: middle;\n",
       "    }\n",
       "\n",
       "    .dataframe tbody tr th {\n",
       "        vertical-align: top;\n",
       "    }\n",
       "\n",
       "    .dataframe thead th {\n",
       "        text-align: right;\n",
       "    }\n",
       "</style>\n",
       "<table border=\"1\" class=\"dataframe\">\n",
       "  <thead>\n",
       "    <tr style=\"text-align: right;\">\n",
       "      <th></th>\n",
       "      <th>VIXCLS</th>\n",
       "    </tr>\n",
       "    <tr>\n",
       "      <th>DATE</th>\n",
       "      <th></th>\n",
       "    </tr>\n",
       "  </thead>\n",
       "  <tbody>\n",
       "    <tr>\n",
       "      <th>2023-02-10</th>\n",
       "      <td>20.53</td>\n",
       "    </tr>\n",
       "    <tr>\n",
       "      <th>2023-02-13</th>\n",
       "      <td>20.34</td>\n",
       "    </tr>\n",
       "    <tr>\n",
       "      <th>2023-02-14</th>\n",
       "      <td>18.91</td>\n",
       "    </tr>\n",
       "    <tr>\n",
       "      <th>2023-02-15</th>\n",
       "      <td>18.23</td>\n",
       "    </tr>\n",
       "    <tr>\n",
       "      <th>2023-02-16</th>\n",
       "      <td>20.17</td>\n",
       "    </tr>\n",
       "  </tbody>\n",
       "</table>\n",
       "</div>"
      ],
      "text/plain": [
       "            VIXCLS\n",
       "DATE              \n",
       "2023-02-10   20.53\n",
       "2023-02-13   20.34\n",
       "2023-02-14   18.91\n",
       "2023-02-15   18.23\n",
       "2023-02-16   20.17"
      ]
     },
     "execution_count": 21,
     "metadata": {},
     "output_type": "execute_result"
    }
   ],
   "source": [
    "# VIX data from FRED\n",
    "cboe_vix = pdr.DataReader(\"VIXCLS\", 'fred')\n",
    "\n",
    "# Display the last five rows\n",
    "cboe_vix.tail()"
   ]
  },
  {
   "attachments": {},
   "cell_type": "markdown",
   "metadata": {},
   "source": [
    "## Retrieving end-of-day data for single security\n",
    "We'll retrieve historical data from yahoo finance using yfinance library\n",
    "\n",
    "Example 1"
   ]
  },
  {
   "cell_type": "code",
   "execution_count": 22,
   "metadata": {},
   "outputs": [
    {
     "data": {
      "text/html": [
       "<div>\n",
       "<style scoped>\n",
       "    .dataframe tbody tr th:only-of-type {\n",
       "        vertical-align: middle;\n",
       "    }\n",
       "\n",
       "    .dataframe tbody tr th {\n",
       "        vertical-align: top;\n",
       "    }\n",
       "\n",
       "    .dataframe thead th {\n",
       "        text-align: right;\n",
       "    }\n",
       "</style>\n",
       "<table border=\"1\" class=\"dataframe\">\n",
       "  <thead>\n",
       "    <tr style=\"text-align: right;\">\n",
       "      <th></th>\n",
       "      <th>Open</th>\n",
       "      <th>High</th>\n",
       "      <th>Low</th>\n",
       "      <th>Close</th>\n",
       "      <th>Adj Close</th>\n",
       "      <th>Volume</th>\n",
       "    </tr>\n",
       "    <tr>\n",
       "      <th>Date</th>\n",
       "      <th></th>\n",
       "      <th></th>\n",
       "      <th></th>\n",
       "      <th></th>\n",
       "      <th></th>\n",
       "      <th></th>\n",
       "    </tr>\n",
       "  </thead>\n",
       "  <tbody>\n",
       "    <tr>\n",
       "      <th>2023-02-13 00:00:00-05:00</th>\n",
       "      <td>408.720001</td>\n",
       "      <td>412.970001</td>\n",
       "      <td>408.239990</td>\n",
       "      <td>412.829987</td>\n",
       "      <td>412.829987</td>\n",
       "      <td>64913500</td>\n",
       "    </tr>\n",
       "    <tr>\n",
       "      <th>2023-02-14 00:00:00-05:00</th>\n",
       "      <td>411.239990</td>\n",
       "      <td>415.049988</td>\n",
       "      <td>408.510010</td>\n",
       "      <td>412.640015</td>\n",
       "      <td>412.640015</td>\n",
       "      <td>88389300</td>\n",
       "    </tr>\n",
       "    <tr>\n",
       "      <th>2023-02-15 00:00:00-05:00</th>\n",
       "      <td>410.350006</td>\n",
       "      <td>414.059998</td>\n",
       "      <td>409.470001</td>\n",
       "      <td>413.980011</td>\n",
       "      <td>413.980011</td>\n",
       "      <td>61685300</td>\n",
       "    </tr>\n",
       "    <tr>\n",
       "      <th>2023-02-16 00:00:00-05:00</th>\n",
       "      <td>408.790009</td>\n",
       "      <td>412.910004</td>\n",
       "      <td>408.140015</td>\n",
       "      <td>408.279999</td>\n",
       "      <td>408.279999</td>\n",
       "      <td>76431500</td>\n",
       "    </tr>\n",
       "    <tr>\n",
       "      <th>2023-02-17 00:00:00-05:00</th>\n",
       "      <td>406.059998</td>\n",
       "      <td>407.510010</td>\n",
       "      <td>404.049988</td>\n",
       "      <td>407.260010</td>\n",
       "      <td>407.260010</td>\n",
       "      <td>89169100</td>\n",
       "    </tr>\n",
       "  </tbody>\n",
       "</table>\n",
       "</div>"
      ],
      "text/plain": [
       "                                 Open        High         Low       Close  \\\n",
       "Date                                                                        \n",
       "2023-02-13 00:00:00-05:00  408.720001  412.970001  408.239990  412.829987   \n",
       "2023-02-14 00:00:00-05:00  411.239990  415.049988  408.510010  412.640015   \n",
       "2023-02-15 00:00:00-05:00  410.350006  414.059998  409.470001  413.980011   \n",
       "2023-02-16 00:00:00-05:00  408.790009  412.910004  408.140015  408.279999   \n",
       "2023-02-17 00:00:00-05:00  406.059998  407.510010  404.049988  407.260010   \n",
       "\n",
       "                            Adj Close    Volume  \n",
       "Date                                             \n",
       "2023-02-13 00:00:00-05:00  412.829987  64913500  \n",
       "2023-02-14 00:00:00-05:00  412.640015  88389300  \n",
       "2023-02-15 00:00:00-05:00  413.980011  61685300  \n",
       "2023-02-16 00:00:00-05:00  408.279999  76431500  \n",
       "2023-02-17 00:00:00-05:00  407.260010  89169100  "
      ]
     },
     "execution_count": 22,
     "metadata": {},
     "output_type": "execute_result"
    }
   ],
   "source": [
    "# Fetch the data by specifying the number of period\n",
    "df1 = yf.download('SPY', period='5d', progress=False)\n",
    "\n",
    "# Display the first five rows of the dataframe to check the results. \n",
    "df1.head()"
   ]
  },
  {
   "attachments": {},
   "cell_type": "markdown",
   "metadata": {},
   "source": [
    "Example 2"
   ]
  },
  {
   "cell_type": "code",
   "execution_count": 23,
   "metadata": {},
   "outputs": [
    {
     "data": {
      "text/html": [
       "<div>\n",
       "<style scoped>\n",
       "    .dataframe tbody tr th:only-of-type {\n",
       "        vertical-align: middle;\n",
       "    }\n",
       "\n",
       "    .dataframe tbody tr th {\n",
       "        vertical-align: top;\n",
       "    }\n",
       "\n",
       "    .dataframe thead th {\n",
       "        text-align: right;\n",
       "    }\n",
       "</style>\n",
       "<table border=\"1\" class=\"dataframe\">\n",
       "  <thead>\n",
       "    <tr style=\"text-align: right;\">\n",
       "      <th></th>\n",
       "      <th>Open</th>\n",
       "      <th>High</th>\n",
       "      <th>Low</th>\n",
       "      <th>Close</th>\n",
       "      <th>Adj Close</th>\n",
       "      <th>Volume</th>\n",
       "    </tr>\n",
       "    <tr>\n",
       "      <th>Date</th>\n",
       "      <th></th>\n",
       "      <th></th>\n",
       "      <th></th>\n",
       "      <th></th>\n",
       "      <th></th>\n",
       "      <th></th>\n",
       "    </tr>\n",
       "  </thead>\n",
       "  <tbody>\n",
       "    <tr>\n",
       "      <th>2023-02-01 00:00:00-05:00</th>\n",
       "      <td>405.209991</td>\n",
       "      <td>413.670013</td>\n",
       "      <td>402.350006</td>\n",
       "      <td>410.799988</td>\n",
       "      <td>410.799988</td>\n",
       "      <td>101459200</td>\n",
       "    </tr>\n",
       "    <tr>\n",
       "      <th>2023-02-02 00:00:00-05:00</th>\n",
       "      <td>414.859985</td>\n",
       "      <td>418.309998</td>\n",
       "      <td>412.880005</td>\n",
       "      <td>416.779999</td>\n",
       "      <td>416.779999</td>\n",
       "      <td>101654500</td>\n",
       "    </tr>\n",
       "    <tr>\n",
       "      <th>2023-02-03 00:00:00-05:00</th>\n",
       "      <td>411.589996</td>\n",
       "      <td>416.970001</td>\n",
       "      <td>411.089996</td>\n",
       "      <td>412.350006</td>\n",
       "      <td>412.350006</td>\n",
       "      <td>94647400</td>\n",
       "    </tr>\n",
       "    <tr>\n",
       "      <th>2023-02-06 00:00:00-05:00</th>\n",
       "      <td>409.790009</td>\n",
       "      <td>411.290009</td>\n",
       "      <td>408.100006</td>\n",
       "      <td>409.829987</td>\n",
       "      <td>409.829987</td>\n",
       "      <td>60295300</td>\n",
       "    </tr>\n",
       "    <tr>\n",
       "      <th>2023-02-07 00:00:00-05:00</th>\n",
       "      <td>408.869995</td>\n",
       "      <td>416.489990</td>\n",
       "      <td>407.570007</td>\n",
       "      <td>415.190002</td>\n",
       "      <td>415.190002</td>\n",
       "      <td>90990700</td>\n",
       "    </tr>\n",
       "  </tbody>\n",
       "</table>\n",
       "</div>"
      ],
      "text/plain": [
       "                                 Open        High         Low       Close  \\\n",
       "Date                                                                        \n",
       "2023-02-01 00:00:00-05:00  405.209991  413.670013  402.350006  410.799988   \n",
       "2023-02-02 00:00:00-05:00  414.859985  418.309998  412.880005  416.779999   \n",
       "2023-02-03 00:00:00-05:00  411.589996  416.970001  411.089996  412.350006   \n",
       "2023-02-06 00:00:00-05:00  409.790009  411.290009  408.100006  409.829987   \n",
       "2023-02-07 00:00:00-05:00  408.869995  416.489990  407.570007  415.190002   \n",
       "\n",
       "                            Adj Close     Volume  \n",
       "Date                                              \n",
       "2023-02-01 00:00:00-05:00  410.799988  101459200  \n",
       "2023-02-02 00:00:00-05:00  416.779999  101654500  \n",
       "2023-02-03 00:00:00-05:00  412.350006   94647400  \n",
       "2023-02-06 00:00:00-05:00  409.829987   60295300  \n",
       "2023-02-07 00:00:00-05:00  415.190002   90990700  "
      ]
     },
     "execution_count": 23,
     "metadata": {},
     "output_type": "execute_result"
    }
   ],
   "source": [
    "# Fetch data by specifying the the start and end dates\n",
    "df2 = yf.download('SPY', start='2023-02-01', end='2023-02-10', progress=False)\n",
    "\n",
    "# Display the first five rows of the dataframe to check the results. \n",
    "df2.head()"
   ]
  },
  {
   "attachments": {},
   "cell_type": "markdown",
   "metadata": {},
   "source": [
    "Example 3"
   ]
  },
  {
   "cell_type": "code",
   "execution_count": 24,
   "metadata": {},
   "outputs": [
    {
     "data": {
      "text/html": [
       "<div>\n",
       "<style scoped>\n",
       "    .dataframe tbody tr th:only-of-type {\n",
       "        vertical-align: middle;\n",
       "    }\n",
       "\n",
       "    .dataframe tbody tr th {\n",
       "        vertical-align: top;\n",
       "    }\n",
       "\n",
       "    .dataframe thead th {\n",
       "        text-align: right;\n",
       "    }\n",
       "</style>\n",
       "<table border=\"1\" class=\"dataframe\">\n",
       "  <thead>\n",
       "    <tr style=\"text-align: right;\">\n",
       "      <th></th>\n",
       "      <th>Open</th>\n",
       "      <th>High</th>\n",
       "      <th>Low</th>\n",
       "      <th>Close</th>\n",
       "      <th>Adj Close</th>\n",
       "      <th>Volume</th>\n",
       "    </tr>\n",
       "    <tr>\n",
       "      <th>Date</th>\n",
       "      <th></th>\n",
       "      <th></th>\n",
       "      <th></th>\n",
       "      <th></th>\n",
       "      <th></th>\n",
       "      <th></th>\n",
       "    </tr>\n",
       "  </thead>\n",
       "  <tbody>\n",
       "    <tr>\n",
       "      <th>2023-02-13 00:00:00-05:00</th>\n",
       "      <td>408.720001</td>\n",
       "      <td>412.970001</td>\n",
       "      <td>408.239990</td>\n",
       "      <td>412.829987</td>\n",
       "      <td>412.829987</td>\n",
       "      <td>64913500</td>\n",
       "    </tr>\n",
       "    <tr>\n",
       "      <th>2023-02-14 00:00:00-05:00</th>\n",
       "      <td>411.239990</td>\n",
       "      <td>415.049988</td>\n",
       "      <td>408.510010</td>\n",
       "      <td>412.640015</td>\n",
       "      <td>412.640015</td>\n",
       "      <td>88389300</td>\n",
       "    </tr>\n",
       "    <tr>\n",
       "      <th>2023-02-15 00:00:00-05:00</th>\n",
       "      <td>410.350006</td>\n",
       "      <td>414.059998</td>\n",
       "      <td>409.470001</td>\n",
       "      <td>413.980011</td>\n",
       "      <td>413.980011</td>\n",
       "      <td>61685300</td>\n",
       "    </tr>\n",
       "    <tr>\n",
       "      <th>2023-02-16 00:00:00-05:00</th>\n",
       "      <td>408.790009</td>\n",
       "      <td>412.910004</td>\n",
       "      <td>408.140015</td>\n",
       "      <td>408.279999</td>\n",
       "      <td>408.279999</td>\n",
       "      <td>76431500</td>\n",
       "    </tr>\n",
       "    <tr>\n",
       "      <th>2023-02-17 00:00:00-05:00</th>\n",
       "      <td>406.059998</td>\n",
       "      <td>407.510010</td>\n",
       "      <td>404.049988</td>\n",
       "      <td>407.260010</td>\n",
       "      <td>407.260010</td>\n",
       "      <td>89169100</td>\n",
       "    </tr>\n",
       "  </tbody>\n",
       "</table>\n",
       "</div>"
      ],
      "text/plain": [
       "                                 Open        High         Low       Close  \\\n",
       "Date                                                                        \n",
       "2023-02-13 00:00:00-05:00  408.720001  412.970001  408.239990  412.829987   \n",
       "2023-02-14 00:00:00-05:00  411.239990  415.049988  408.510010  412.640015   \n",
       "2023-02-15 00:00:00-05:00  410.350006  414.059998  409.470001  413.980011   \n",
       "2023-02-16 00:00:00-05:00  408.790009  412.910004  408.140015  408.279999   \n",
       "2023-02-17 00:00:00-05:00  406.059998  407.510010  404.049988  407.260010   \n",
       "\n",
       "                            Adj Close    Volume  \n",
       "Date                                             \n",
       "2023-02-13 00:00:00-05:00  412.829987  64913500  \n",
       "2023-02-14 00:00:00-05:00  412.640015  88389300  \n",
       "2023-02-15 00:00:00-05:00  413.980011  61685300  \n",
       "2023-02-16 00:00:00-05:00  408.279999  76431500  \n",
       "2023-02-17 00:00:00-05:00  407.260010  89169100  "
      ]
     },
     "execution_count": 24,
     "metadata": {},
     "output_type": "execute_result"
    }
   ],
   "source": [
    "# Fetch data for year to date (YTD)\n",
    "df3 = yf.download('SPY', period='ytd', progress=False)\n",
    "\n",
    "# Display the last five rows of the dataframe to check the results. \n",
    "df3.tail()"
   ]
  },
  {
   "attachments": {},
   "cell_type": "markdown",
   "metadata": {},
   "source": [
    "## Retrieving data for multiple securities\n",
    "We'll retrieve historical price data of FAANG stocks from yahoo finance.\n",
    "\n",
    "Example 4"
   ]
  },
  {
   "cell_type": "code",
   "execution_count": 25,
   "metadata": {},
   "outputs": [],
   "source": [
    "# Specify stocks\n",
    "faang_stocks = ['AAPL', 'AMZN', 'MSFT', 'GOOG', 'NFLX']"
   ]
  },
  {
   "cell_type": "code",
   "execution_count": 26,
   "metadata": {},
   "outputs": [
    {
     "data": {
      "text/html": [
       "<div>\n",
       "<style scoped>\n",
       "    .dataframe tbody tr th:only-of-type {\n",
       "        vertical-align: middle;\n",
       "    }\n",
       "\n",
       "    .dataframe tbody tr th {\n",
       "        vertical-align: top;\n",
       "    }\n",
       "\n",
       "    .dataframe thead th {\n",
       "        text-align: right;\n",
       "    }\n",
       "</style>\n",
       "<table border=\"1\" class=\"dataframe\">\n",
       "  <thead>\n",
       "    <tr style=\"text-align: right;\">\n",
       "      <th></th>\n",
       "      <th>AAPL</th>\n",
       "      <th>AMZN</th>\n",
       "      <th>GOOG</th>\n",
       "      <th>MSFT</th>\n",
       "      <th>NFLX</th>\n",
       "    </tr>\n",
       "    <tr>\n",
       "      <th>Date</th>\n",
       "      <th></th>\n",
       "      <th></th>\n",
       "      <th></th>\n",
       "      <th></th>\n",
       "      <th></th>\n",
       "    </tr>\n",
       "  </thead>\n",
       "  <tbody>\n",
       "    <tr>\n",
       "      <th>2023-02-13 00:00:00-05:00</th>\n",
       "      <td>153.850006</td>\n",
       "      <td>99.540001</td>\n",
       "      <td>95.000000</td>\n",
       "      <td>270.642120</td>\n",
       "      <td>358.570007</td>\n",
       "    </tr>\n",
       "    <tr>\n",
       "      <th>2023-02-14 00:00:00-05:00</th>\n",
       "      <td>153.199997</td>\n",
       "      <td>99.699997</td>\n",
       "      <td>94.949997</td>\n",
       "      <td>271.490021</td>\n",
       "      <td>359.959991</td>\n",
       "    </tr>\n",
       "    <tr>\n",
       "      <th>2023-02-15 00:00:00-05:00</th>\n",
       "      <td>155.330002</td>\n",
       "      <td>101.160004</td>\n",
       "      <td>97.099998</td>\n",
       "      <td>269.320007</td>\n",
       "      <td>361.420013</td>\n",
       "    </tr>\n",
       "    <tr>\n",
       "      <th>2023-02-16 00:00:00-05:00</th>\n",
       "      <td>153.710007</td>\n",
       "      <td>98.150002</td>\n",
       "      <td>95.779999</td>\n",
       "      <td>262.149994</td>\n",
       "      <td>350.709991</td>\n",
       "    </tr>\n",
       "    <tr>\n",
       "      <th>2023-02-17 00:00:00-05:00</th>\n",
       "      <td>152.550003</td>\n",
       "      <td>97.199997</td>\n",
       "      <td>94.589996</td>\n",
       "      <td>258.059998</td>\n",
       "      <td>347.959991</td>\n",
       "    </tr>\n",
       "  </tbody>\n",
       "</table>\n",
       "</div>"
      ],
      "text/plain": [
       "                                 AAPL        AMZN       GOOG        MSFT  \\\n",
       "Date                                                                       \n",
       "2023-02-13 00:00:00-05:00  153.850006   99.540001  95.000000  270.642120   \n",
       "2023-02-14 00:00:00-05:00  153.199997   99.699997  94.949997  271.490021   \n",
       "2023-02-15 00:00:00-05:00  155.330002  101.160004  97.099998  269.320007   \n",
       "2023-02-16 00:00:00-05:00  153.710007   98.150002  95.779999  262.149994   \n",
       "2023-02-17 00:00:00-05:00  152.550003   97.199997  94.589996  258.059998   \n",
       "\n",
       "                                 NFLX  \n",
       "Date                                   \n",
       "2023-02-13 00:00:00-05:00  358.570007  \n",
       "2023-02-14 00:00:00-05:00  359.959991  \n",
       "2023-02-15 00:00:00-05:00  361.420013  \n",
       "2023-02-16 00:00:00-05:00  350.709991  \n",
       "2023-02-17 00:00:00-05:00  347.959991  "
      ]
     },
     "execution_count": 26,
     "metadata": {},
     "output_type": "execute_result"
    }
   ],
   "source": [
    "# Fetch last five days of data\n",
    "df4 = yf.download(faang_stocks, period='ytd', progress=False)['Adj Close']\n",
    "\n",
    "# Display dataframe\n",
    "df4.tail()"
   ]
  },
  {
   "attachments": {},
   "cell_type": "markdown",
   "metadata": {},
   "source": [
    "## Retrieving OHLCV data for multiple securities\n",
    "We'll now retrieve multiple fields from yahoo finance.\n",
    "\n",
    "Example 5"
   ]
  },
  {
   "cell_type": "code",
   "execution_count": 27,
   "metadata": {},
   "outputs": [],
   "source": [
    "# Fetch data for multiple fields using comprehension\n",
    "ohlcv= {symbol: yf.download(symbol, period='250d', progress=False) \n",
    "             for symbol in faang_stocks}"
   ]
  },
  {
   "cell_type": "code",
   "execution_count": 28,
   "metadata": {},
   "outputs": [
    {
     "data": {
      "text/html": [
       "<div>\n",
       "<style scoped>\n",
       "    .dataframe tbody tr th:only-of-type {\n",
       "        vertical-align: middle;\n",
       "    }\n",
       "\n",
       "    .dataframe tbody tr th {\n",
       "        vertical-align: top;\n",
       "    }\n",
       "\n",
       "    .dataframe thead th {\n",
       "        text-align: right;\n",
       "    }\n",
       "</style>\n",
       "<table border=\"1\" class=\"dataframe\">\n",
       "  <thead>\n",
       "    <tr style=\"text-align: right;\">\n",
       "      <th></th>\n",
       "      <th>Open</th>\n",
       "      <th>High</th>\n",
       "      <th>Low</th>\n",
       "      <th>Close</th>\n",
       "      <th>Adj Close</th>\n",
       "      <th>Volume</th>\n",
       "    </tr>\n",
       "    <tr>\n",
       "      <th>Date</th>\n",
       "      <th></th>\n",
       "      <th></th>\n",
       "      <th></th>\n",
       "      <th></th>\n",
       "      <th></th>\n",
       "      <th></th>\n",
       "    </tr>\n",
       "  </thead>\n",
       "  <tbody>\n",
       "    <tr>\n",
       "      <th>2022-02-22 00:00:00-05:00</th>\n",
       "      <td>150.478500</td>\n",
       "      <td>152.982498</td>\n",
       "      <td>148.485504</td>\n",
       "      <td>150.197495</td>\n",
       "      <td>150.197495</td>\n",
       "      <td>66128000</td>\n",
       "    </tr>\n",
       "    <tr>\n",
       "      <th>2022-02-23 00:00:00-05:00</th>\n",
       "      <td>151.650497</td>\n",
       "      <td>151.763000</td>\n",
       "      <td>144.651001</td>\n",
       "      <td>144.826996</td>\n",
       "      <td>144.826996</td>\n",
       "      <td>64244000</td>\n",
       "    </tr>\n",
       "    <tr>\n",
       "      <th>2022-02-24 00:00:00-05:00</th>\n",
       "      <td>139.837494</td>\n",
       "      <td>151.748993</td>\n",
       "      <td>139.500000</td>\n",
       "      <td>151.358002</td>\n",
       "      <td>151.358002</td>\n",
       "      <td>100786000</td>\n",
       "    </tr>\n",
       "    <tr>\n",
       "      <th>2022-02-25 00:00:00-05:00</th>\n",
       "      <td>150.550003</td>\n",
       "      <td>153.990005</td>\n",
       "      <td>149.213501</td>\n",
       "      <td>153.788498</td>\n",
       "      <td>153.788498</td>\n",
       "      <td>62396000</td>\n",
       "    </tr>\n",
       "    <tr>\n",
       "      <th>2022-02-28 00:00:00-05:00</th>\n",
       "      <td>152.425003</td>\n",
       "      <td>154.449997</td>\n",
       "      <td>150.850006</td>\n",
       "      <td>153.563004</td>\n",
       "      <td>153.563004</td>\n",
       "      <td>57684000</td>\n",
       "    </tr>\n",
       "    <tr>\n",
       "      <th>...</th>\n",
       "      <td>...</td>\n",
       "      <td>...</td>\n",
       "      <td>...</td>\n",
       "      <td>...</td>\n",
       "      <td>...</td>\n",
       "      <td>...</td>\n",
       "    </tr>\n",
       "    <tr>\n",
       "      <th>2023-02-13 00:00:00-05:00</th>\n",
       "      <td>97.849998</td>\n",
       "      <td>99.680000</td>\n",
       "      <td>96.910004</td>\n",
       "      <td>99.540001</td>\n",
       "      <td>99.540001</td>\n",
       "      <td>52841500</td>\n",
       "    </tr>\n",
       "    <tr>\n",
       "      <th>2023-02-14 00:00:00-05:00</th>\n",
       "      <td>98.410004</td>\n",
       "      <td>100.919998</td>\n",
       "      <td>97.519997</td>\n",
       "      <td>99.699997</td>\n",
       "      <td>99.699997</td>\n",
       "      <td>56202900</td>\n",
       "    </tr>\n",
       "    <tr>\n",
       "      <th>2023-02-15 00:00:00-05:00</th>\n",
       "      <td>99.089996</td>\n",
       "      <td>101.169998</td>\n",
       "      <td>98.449997</td>\n",
       "      <td>101.160004</td>\n",
       "      <td>101.160004</td>\n",
       "      <td>48053900</td>\n",
       "    </tr>\n",
       "    <tr>\n",
       "      <th>2023-02-16 00:00:00-05:00</th>\n",
       "      <td>99.209999</td>\n",
       "      <td>100.629997</td>\n",
       "      <td>98.099998</td>\n",
       "      <td>98.150002</td>\n",
       "      <td>98.150002</td>\n",
       "      <td>56339200</td>\n",
       "    </tr>\n",
       "    <tr>\n",
       "      <th>2023-02-17 00:00:00-05:00</th>\n",
       "      <td>97.800003</td>\n",
       "      <td>97.940002</td>\n",
       "      <td>95.650002</td>\n",
       "      <td>97.199997</td>\n",
       "      <td>97.199997</td>\n",
       "      <td>59967700</td>\n",
       "    </tr>\n",
       "  </tbody>\n",
       "</table>\n",
       "<p>250 rows × 6 columns</p>\n",
       "</div>"
      ],
      "text/plain": [
       "                                 Open        High         Low       Close  \\\n",
       "Date                                                                        \n",
       "2022-02-22 00:00:00-05:00  150.478500  152.982498  148.485504  150.197495   \n",
       "2022-02-23 00:00:00-05:00  151.650497  151.763000  144.651001  144.826996   \n",
       "2022-02-24 00:00:00-05:00  139.837494  151.748993  139.500000  151.358002   \n",
       "2022-02-25 00:00:00-05:00  150.550003  153.990005  149.213501  153.788498   \n",
       "2022-02-28 00:00:00-05:00  152.425003  154.449997  150.850006  153.563004   \n",
       "...                               ...         ...         ...         ...   \n",
       "2023-02-13 00:00:00-05:00   97.849998   99.680000   96.910004   99.540001   \n",
       "2023-02-14 00:00:00-05:00   98.410004  100.919998   97.519997   99.699997   \n",
       "2023-02-15 00:00:00-05:00   99.089996  101.169998   98.449997  101.160004   \n",
       "2023-02-16 00:00:00-05:00   99.209999  100.629997   98.099998   98.150002   \n",
       "2023-02-17 00:00:00-05:00   97.800003   97.940002   95.650002   97.199997   \n",
       "\n",
       "                            Adj Close     Volume  \n",
       "Date                                              \n",
       "2022-02-22 00:00:00-05:00  150.197495   66128000  \n",
       "2022-02-23 00:00:00-05:00  144.826996   64244000  \n",
       "2022-02-24 00:00:00-05:00  151.358002  100786000  \n",
       "2022-02-25 00:00:00-05:00  153.788498   62396000  \n",
       "2022-02-28 00:00:00-05:00  153.563004   57684000  \n",
       "...                               ...        ...  \n",
       "2023-02-13 00:00:00-05:00   99.540001   52841500  \n",
       "2023-02-14 00:00:00-05:00   99.699997   56202900  \n",
       "2023-02-15 00:00:00-05:00  101.160004   48053900  \n",
       "2023-02-16 00:00:00-05:00   98.150002   56339200  \n",
       "2023-02-17 00:00:00-05:00   97.199997   59967700  \n",
       "\n",
       "[250 rows x 6 columns]"
      ]
     },
     "execution_count": 28,
     "metadata": {},
     "output_type": "execute_result"
    }
   ],
   "source": [
    "# Display AMZN stock data\n",
    "ohlcv['AMZN']"
   ]
  },
  {
   "cell_type": "code",
   "execution_count": 29,
   "metadata": {},
   "outputs": [
    {
     "data": {
      "text/plain": [
       "Date\n",
       "2022-02-22 00:00:00-05:00    150.197495\n",
       "2022-02-23 00:00:00-05:00    144.826996\n",
       "2022-02-24 00:00:00-05:00    151.358002\n",
       "2022-02-25 00:00:00-05:00    153.788498\n",
       "2022-02-28 00:00:00-05:00    153.563004\n",
       "                                ...    \n",
       "2023-02-13 00:00:00-05:00     99.540001\n",
       "2023-02-14 00:00:00-05:00     99.699997\n",
       "2023-02-15 00:00:00-05:00    101.160004\n",
       "2023-02-16 00:00:00-05:00     98.150002\n",
       "2023-02-17 00:00:00-05:00     97.199997\n",
       "Name: Adj Close, Length: 250, dtype: float64"
      ]
     },
     "execution_count": 29,
     "metadata": {},
     "output_type": "execute_result"
    }
   ],
   "source": [
    "# Display AMZN adjusted close data\n",
    "ohlcv['AMZN']['Adj Close']"
   ]
  },
  {
   "attachments": {},
   "cell_type": "markdown",
   "metadata": {},
   "source": [
    "## Retrieving intraday data\n",
    "We'll now retrieve intraday data from yahoo finance.\n",
    "\n",
    "Example 6"
   ]
  },
  {
   "cell_type": "code",
   "execution_count": 30,
   "metadata": {},
   "outputs": [
    {
     "data": {
      "text/html": [
       "<div>\n",
       "<style scoped>\n",
       "    .dataframe tbody tr th:only-of-type {\n",
       "        vertical-align: middle;\n",
       "    }\n",
       "\n",
       "    .dataframe tbody tr th {\n",
       "        vertical-align: top;\n",
       "    }\n",
       "\n",
       "    .dataframe thead th {\n",
       "        text-align: right;\n",
       "    }\n",
       "</style>\n",
       "<table border=\"1\" class=\"dataframe\">\n",
       "  <thead>\n",
       "    <tr style=\"text-align: right;\">\n",
       "      <th></th>\n",
       "      <th>Open</th>\n",
       "      <th>High</th>\n",
       "      <th>Low</th>\n",
       "      <th>Close</th>\n",
       "      <th>Adj Close</th>\n",
       "      <th>Volume</th>\n",
       "    </tr>\n",
       "    <tr>\n",
       "      <th>Datetime</th>\n",
       "      <th></th>\n",
       "      <th></th>\n",
       "      <th></th>\n",
       "      <th></th>\n",
       "      <th></th>\n",
       "      <th></th>\n",
       "    </tr>\n",
       "  </thead>\n",
       "  <tbody>\n",
       "    <tr>\n",
       "      <th>2023-02-17 15:56:00-05:00</th>\n",
       "      <td>407.214996</td>\n",
       "      <td>407.299988</td>\n",
       "      <td>407.095001</td>\n",
       "      <td>407.109985</td>\n",
       "      <td>407.109985</td>\n",
       "      <td>428859</td>\n",
       "    </tr>\n",
       "    <tr>\n",
       "      <th>2023-02-17 15:57:00-05:00</th>\n",
       "      <td>407.109985</td>\n",
       "      <td>407.119995</td>\n",
       "      <td>406.929993</td>\n",
       "      <td>406.984985</td>\n",
       "      <td>406.984985</td>\n",
       "      <td>507198</td>\n",
       "    </tr>\n",
       "    <tr>\n",
       "      <th>2023-02-17 15:58:00-05:00</th>\n",
       "      <td>406.984985</td>\n",
       "      <td>407.190002</td>\n",
       "      <td>406.880005</td>\n",
       "      <td>407.084991</td>\n",
       "      <td>407.084991</td>\n",
       "      <td>681816</td>\n",
       "    </tr>\n",
       "    <tr>\n",
       "      <th>2023-02-17 15:59:00-05:00</th>\n",
       "      <td>407.084991</td>\n",
       "      <td>407.279999</td>\n",
       "      <td>407.015015</td>\n",
       "      <td>407.250000</td>\n",
       "      <td>407.250000</td>\n",
       "      <td>1593922</td>\n",
       "    </tr>\n",
       "    <tr>\n",
       "      <th>2023-02-17 16:00:00-05:00</th>\n",
       "      <td>407.260010</td>\n",
       "      <td>407.260010</td>\n",
       "      <td>407.260010</td>\n",
       "      <td>407.260010</td>\n",
       "      <td>407.260010</td>\n",
       "      <td>0</td>\n",
       "    </tr>\n",
       "  </tbody>\n",
       "</table>\n",
       "</div>"
      ],
      "text/plain": [
       "                                 Open        High         Low       Close  \\\n",
       "Datetime                                                                    \n",
       "2023-02-17 15:56:00-05:00  407.214996  407.299988  407.095001  407.109985   \n",
       "2023-02-17 15:57:00-05:00  407.109985  407.119995  406.929993  406.984985   \n",
       "2023-02-17 15:58:00-05:00  406.984985  407.190002  406.880005  407.084991   \n",
       "2023-02-17 15:59:00-05:00  407.084991  407.279999  407.015015  407.250000   \n",
       "2023-02-17 16:00:00-05:00  407.260010  407.260010  407.260010  407.260010   \n",
       "\n",
       "                            Adj Close   Volume  \n",
       "Datetime                                        \n",
       "2023-02-17 15:56:00-05:00  407.109985   428859  \n",
       "2023-02-17 15:57:00-05:00  406.984985   507198  \n",
       "2023-02-17 15:58:00-05:00  407.084991   681816  \n",
       "2023-02-17 15:59:00-05:00  407.250000  1593922  \n",
       "2023-02-17 16:00:00-05:00  407.260010        0  "
      ]
     },
     "execution_count": 30,
     "metadata": {},
     "output_type": "execute_result"
    }
   ],
   "source": [
    "# Retrieve intraday data\n",
    "df6 = yf.download(tickers='SPY', period='5d', interval='1m', progress=False)\n",
    "\n",
    "# Display last five rows of the dataframe\n",
    "df6.tail()"
   ]
  },
  {
   "attachments": {},
   "cell_type": "markdown",
   "metadata": {},
   "source": [
    "## Retrieving option chain\n",
    "We'll now retrieve option chain for SPY for Feb 2023 expiration from yahoo finance and filter the output to display the first seven columns.\n",
    "\n",
    "Example 7"
   ]
  },
  {
   "cell_type": "code",
   "execution_count": 31,
   "metadata": {},
   "outputs": [],
   "source": [
    "# Get SPY option chain\n",
    "spy = yf.Ticker('SPY')\n",
    "options = spy.option_chain('2023-02-21')"
   ]
  },
  {
   "cell_type": "code",
   "execution_count": 32,
   "metadata": {},
   "outputs": [
    {
     "data": {
      "text/html": [
       "<div>\n",
       "<style scoped>\n",
       "    .dataframe tbody tr th:only-of-type {\n",
       "        vertical-align: middle;\n",
       "    }\n",
       "\n",
       "    .dataframe tbody tr th {\n",
       "        vertical-align: top;\n",
       "    }\n",
       "\n",
       "    .dataframe thead th {\n",
       "        text-align: right;\n",
       "    }\n",
       "</style>\n",
       "<table border=\"1\" class=\"dataframe\">\n",
       "  <thead>\n",
       "    <tr style=\"text-align: right;\">\n",
       "      <th></th>\n",
       "      <th>contractSymbol</th>\n",
       "      <th>lastTradeDate</th>\n",
       "      <th>strike</th>\n",
       "      <th>lastPrice</th>\n",
       "      <th>bid</th>\n",
       "      <th>ask</th>\n",
       "      <th>change</th>\n",
       "    </tr>\n",
       "  </thead>\n",
       "  <tbody>\n",
       "    <tr>\n",
       "      <th>76</th>\n",
       "      <td>SPY230221C00457000</td>\n",
       "      <td>2023-02-08 15:38:52+00:00</td>\n",
       "      <td>457.0</td>\n",
       "      <td>0.01</td>\n",
       "      <td>NaN</td>\n",
       "      <td>0.01</td>\n",
       "      <td>0.0</td>\n",
       "    </tr>\n",
       "    <tr>\n",
       "      <th>77</th>\n",
       "      <td>SPY230221C00460000</td>\n",
       "      <td>2023-02-16 15:30:26+00:00</td>\n",
       "      <td>460.0</td>\n",
       "      <td>0.01</td>\n",
       "      <td>NaN</td>\n",
       "      <td>0.01</td>\n",
       "      <td>0.0</td>\n",
       "    </tr>\n",
       "    <tr>\n",
       "      <th>78</th>\n",
       "      <td>SPY230221C00461000</td>\n",
       "      <td>2023-02-16 16:15:25+00:00</td>\n",
       "      <td>461.0</td>\n",
       "      <td>0.01</td>\n",
       "      <td>NaN</td>\n",
       "      <td>0.01</td>\n",
       "      <td>0.0</td>\n",
       "    </tr>\n",
       "    <tr>\n",
       "      <th>79</th>\n",
       "      <td>SPY230221C00468000</td>\n",
       "      <td>2023-02-08 17:35:38+00:00</td>\n",
       "      <td>468.0</td>\n",
       "      <td>0.01</td>\n",
       "      <td>NaN</td>\n",
       "      <td>0.01</td>\n",
       "      <td>0.0</td>\n",
       "    </tr>\n",
       "    <tr>\n",
       "      <th>80</th>\n",
       "      <td>SPY230221C00470000</td>\n",
       "      <td>2023-02-10 20:57:32+00:00</td>\n",
       "      <td>470.0</td>\n",
       "      <td>0.01</td>\n",
       "      <td>NaN</td>\n",
       "      <td>0.01</td>\n",
       "      <td>0.0</td>\n",
       "    </tr>\n",
       "  </tbody>\n",
       "</table>\n",
       "</div>"
      ],
      "text/plain": [
       "        contractSymbol             lastTradeDate  strike  lastPrice  bid  \\\n",
       "76  SPY230221C00457000 2023-02-08 15:38:52+00:00   457.0       0.01  NaN   \n",
       "77  SPY230221C00460000 2023-02-16 15:30:26+00:00   460.0       0.01  NaN   \n",
       "78  SPY230221C00461000 2023-02-16 16:15:25+00:00   461.0       0.01  NaN   \n",
       "79  SPY230221C00468000 2023-02-08 17:35:38+00:00   468.0       0.01  NaN   \n",
       "80  SPY230221C00470000 2023-02-10 20:57:32+00:00   470.0       0.01  NaN   \n",
       "\n",
       "     ask  change  \n",
       "76  0.01     0.0  \n",
       "77  0.01     0.0  \n",
       "78  0.01     0.0  \n",
       "79  0.01     0.0  \n",
       "80  0.01     0.0  "
      ]
     },
     "execution_count": 32,
     "metadata": {},
     "output_type": "execute_result"
    }
   ],
   "source": [
    "# Filter calls for strike above 350\n",
    "df = options.calls[options.calls['strike']>350]\n",
    "df.reset_index(drop=True, inplace=True)\n",
    "\n",
    "# Check the filtered output\n",
    "df.iloc[:,:7].tail()"
   ]
  },
  {
   "attachments": {},
   "cell_type": "markdown",
   "metadata": {},
   "source": [
    "## Fetching Intraday Data from Alpha Vantage\n",
    "We can also use `alpha_vantage` library to retrieve intraday timeseries data"
   ]
  },
  {
   "cell_type": "code",
   "execution_count": 33,
   "metadata": {},
   "outputs": [],
   "source": [
    "from alpha_vantage.timeseries import TimeSeries"
   ]
  },
  {
   "cell_type": "code",
   "execution_count": 34,
   "metadata": {},
   "outputs": [],
   "source": [
    "tokens = [line.rstrip() for line in open('key.txt')]"
   ]
  },
  {
   "cell_type": "code",
   "execution_count": 35,
   "metadata": {},
   "outputs": [],
   "source": [
    "ts = TimeSeries(key=tokens[0],output_format='pandas')\n",
    "data, metadata  = ts.get_intraday(symbol='AMZN',interval='1min', outputsize='full')"
   ]
  },
  {
   "cell_type": "code",
   "execution_count": 36,
   "metadata": {},
   "outputs": [
    {
     "data": {
      "text/plain": [
       "{'1. Information': 'Intraday (1min) open, high, low, close prices and volume',\n",
       " '2. Symbol': 'AMZN',\n",
       " '3. Last Refreshed': '2023-02-17 20:00:00',\n",
       " '4. Interval': '1min',\n",
       " '5. Output Size': 'Full size',\n",
       " '6. Time Zone': 'US/Eastern'}"
      ]
     },
     "execution_count": 36,
     "metadata": {},
     "output_type": "execute_result"
    }
   ],
   "source": [
    "metadata"
   ]
  },
  {
   "cell_type": "code",
   "execution_count": 37,
   "metadata": {},
   "outputs": [
    {
     "data": {
      "text/html": [
       "<div>\n",
       "<style scoped>\n",
       "    .dataframe tbody tr th:only-of-type {\n",
       "        vertical-align: middle;\n",
       "    }\n",
       "\n",
       "    .dataframe tbody tr th {\n",
       "        vertical-align: top;\n",
       "    }\n",
       "\n",
       "    .dataframe thead th {\n",
       "        text-align: right;\n",
       "    }\n",
       "</style>\n",
       "<table border=\"1\" class=\"dataframe\">\n",
       "  <thead>\n",
       "    <tr style=\"text-align: right;\">\n",
       "      <th></th>\n",
       "      <th>1. open</th>\n",
       "      <th>2. high</th>\n",
       "      <th>3. low</th>\n",
       "      <th>4. close</th>\n",
       "      <th>5. volume</th>\n",
       "    </tr>\n",
       "    <tr>\n",
       "      <th>date</th>\n",
       "      <th></th>\n",
       "      <th></th>\n",
       "      <th></th>\n",
       "      <th></th>\n",
       "      <th></th>\n",
       "    </tr>\n",
       "  </thead>\n",
       "  <tbody>\n",
       "    <tr>\n",
       "      <th>2023-02-17 20:00:00</th>\n",
       "      <td>97.19</td>\n",
       "      <td>97.19</td>\n",
       "      <td>97.19</td>\n",
       "      <td>97.19</td>\n",
       "      <td>716.0</td>\n",
       "    </tr>\n",
       "    <tr>\n",
       "      <th>2023-02-17 19:59:00</th>\n",
       "      <td>97.20</td>\n",
       "      <td>97.20</td>\n",
       "      <td>97.19</td>\n",
       "      <td>97.19</td>\n",
       "      <td>542.0</td>\n",
       "    </tr>\n",
       "    <tr>\n",
       "      <th>2023-02-17 19:58:00</th>\n",
       "      <td>97.20</td>\n",
       "      <td>97.20</td>\n",
       "      <td>97.20</td>\n",
       "      <td>97.20</td>\n",
       "      <td>331.0</td>\n",
       "    </tr>\n",
       "    <tr>\n",
       "      <th>2023-02-17 19:57:00</th>\n",
       "      <td>97.20</td>\n",
       "      <td>97.20</td>\n",
       "      <td>97.20</td>\n",
       "      <td>97.20</td>\n",
       "      <td>1235.0</td>\n",
       "    </tr>\n",
       "    <tr>\n",
       "      <th>2023-02-17 19:56:00</th>\n",
       "      <td>97.20</td>\n",
       "      <td>97.20</td>\n",
       "      <td>97.20</td>\n",
       "      <td>97.20</td>\n",
       "      <td>790.0</td>\n",
       "    </tr>\n",
       "  </tbody>\n",
       "</table>\n",
       "</div>"
      ],
      "text/plain": [
       "                     1. open  2. high  3. low  4. close  5. volume\n",
       "date                                                              \n",
       "2023-02-17 20:00:00    97.19    97.19   97.19     97.19      716.0\n",
       "2023-02-17 19:59:00    97.20    97.20   97.19     97.19      542.0\n",
       "2023-02-17 19:58:00    97.20    97.20   97.20     97.20      331.0\n",
       "2023-02-17 19:57:00    97.20    97.20   97.20     97.20     1235.0\n",
       "2023-02-17 19:56:00    97.20    97.20   97.20     97.20      790.0"
      ]
     },
     "execution_count": 37,
     "metadata": {},
     "output_type": "execute_result"
    }
   ],
   "source": [
    "data.head()"
   ]
  },
  {
   "attachments": {},
   "cell_type": "markdown",
   "metadata": {},
   "source": [
    "## Reading Hypertext Markup Language (HTML)"
   ]
  },
  {
   "cell_type": "code",
   "execution_count": 38,
   "metadata": {},
   "outputs": [],
   "source": [
    "# read data from wikipedia\n",
    "import pandas as pd\n",
    "sp500 = pd.read_html('https://en.wikipedia.org/wiki/List_of_S%26P_500_companies')"
   ]
  },
  {
   "cell_type": "code",
   "execution_count": 39,
   "metadata": {},
   "outputs": [
    {
     "data": {
      "text/plain": [
       "['MMM', 'AOS', 'ABT', 'ABBV', 'ACN', 'ATVI', 'ADM', 'ADBE', 'ADP', 'AAP']"
      ]
     },
     "execution_count": 39,
     "metadata": {},
     "output_type": "execute_result"
    }
   ],
   "source": [
    "# filter table for symbols\n",
    "stocklist = list(sp500[0]['Symbol'])\n",
    "stocklist[:10]"
   ]
  },
  {
   "attachments": {},
   "cell_type": "markdown",
   "metadata": {},
   "source": [
    "Retrieving Nifty50 Symbols"
   ]
  },
  {
   "cell_type": "code",
   "execution_count": 40,
   "metadata": {},
   "outputs": [],
   "source": [
    "my_index = pd.read_html('https://en.wikipedia.org/wiki/NIFTY_50')"
   ]
  },
  {
   "cell_type": "code",
   "execution_count": 41,
   "metadata": {},
   "outputs": [
    {
     "data": {
      "text/plain": [
       "['ADANIENT',\n",
       " 'ADANIPORTS',\n",
       " 'APOLLOHOSP',\n",
       " 'ASIANPAINT',\n",
       " 'AXISBANK',\n",
       " 'BAJAJ-AUTO',\n",
       " 'BAJFINANCE',\n",
       " 'BAJAJFINSV',\n",
       " 'BHARTIARTL',\n",
       " 'BPCL']"
      ]
     },
     "execution_count": 41,
     "metadata": {},
     "output_type": "execute_result"
    }
   ],
   "source": [
    "yfsymbols = list(my_index[1]['Symbol'])\n",
    "yfsymbols [:10]"
   ]
  },
  {
   "cell_type": "code",
   "execution_count": 42,
   "metadata": {},
   "outputs": [
    {
     "data": {
      "text/plain": [
       "0      ADANIENT\n",
       "1    ADANIPORTS\n",
       "2    APOLLOHOSP\n",
       "3    ASIANPAINT\n",
       "4      AXISBANK\n",
       "5    BAJAJ-AUTO\n",
       "6    BAJFINANCE\n",
       "7    BAJAJFINSV\n",
       "8    BHARTIARTL\n",
       "9          BPCL\n",
       "dtype: object"
      ]
     },
     "execution_count": 42,
     "metadata": {},
     "output_type": "execute_result"
    }
   ],
   "source": [
    "stocklist = pd.Series([x.split('.NS',1)[0] for x in yfsymbols])\n",
    "stocklist[:10]"
   ]
  },
  {
   "attachments": {},
   "cell_type": "markdown",
   "metadata": {},
   "source": [
    "## Application Programming Interface (API)"
   ]
  },
  {
   "attachments": {},
   "cell_type": "markdown",
   "metadata": {},
   "source": [
    "Retrieving GME Short Interest"
   ]
  },
  {
   "cell_type": "code",
   "execution_count": 43,
   "metadata": {},
   "outputs": [],
   "source": [
    "# import requests\n",
    "# r = requests.get(f'https://finnhub.io/api/v1/stock/short-interest?symbol=GME&from=2020-02-01&to=2021-02-01&token={tokens[1]}')\n",
    "# print(r.json())"
   ]
  },
  {
   "attachments": {},
   "cell_type": "markdown",
   "metadata": {},
   "source": [
    "Visualising a Price Series"
   ]
  },
  {
   "cell_type": "code",
   "execution_count": 46,
   "metadata": {},
   "outputs": [
    {
     "data": {
      "application/vnd.plotly.v1+json": {
       "config": {
        "linkText": "Export to plot.ly",
        "plotlyServerURL": "https://plot.ly",
        "showLink": true
       },
       "data": [
        {
         "line": {
          "color": "rgba(255, 153, 51, 1.0)",
          "dash": "solid",
          "shape": "linear",
          "width": 1.3
         },
         "mode": "lines",
         "name": "Adj Close",
         "text": "",
         "type": "scatter",
         "x": [
          "2022-02-22 00:00:00-05:00",
          "2022-02-23 00:00:00-05:00",
          "2022-02-24 00:00:00-05:00",
          "2022-02-25 00:00:00-05:00",
          "2022-02-28 00:00:00-05:00",
          "2022-03-01 00:00:00-05:00",
          "2022-03-02 00:00:00-05:00",
          "2022-03-03 00:00:00-05:00",
          "2022-03-04 00:00:00-05:00",
          "2022-03-07 00:00:00-05:00",
          "2022-03-08 00:00:00-05:00",
          "2022-03-09 00:00:00-05:00",
          "2022-03-10 00:00:00-05:00",
          "2022-03-11 00:00:00-05:00",
          "2022-03-14 00:00:00-04:00",
          "2022-03-15 00:00:00-04:00",
          "2022-03-16 00:00:00-04:00",
          "2022-03-17 00:00:00-04:00",
          "2022-03-18 00:00:00-04:00",
          "2022-03-21 00:00:00-04:00",
          "2022-03-22 00:00:00-04:00",
          "2022-03-23 00:00:00-04:00",
          "2022-03-24 00:00:00-04:00",
          "2022-03-25 00:00:00-04:00",
          "2022-03-28 00:00:00-04:00",
          "2022-03-29 00:00:00-04:00",
          "2022-03-30 00:00:00-04:00",
          "2022-03-31 00:00:00-04:00",
          "2022-04-01 00:00:00-04:00",
          "2022-04-04 00:00:00-04:00",
          "2022-04-05 00:00:00-04:00",
          "2022-04-06 00:00:00-04:00",
          "2022-04-07 00:00:00-04:00",
          "2022-04-08 00:00:00-04:00",
          "2022-04-11 00:00:00-04:00",
          "2022-04-12 00:00:00-04:00",
          "2022-04-13 00:00:00-04:00",
          "2022-04-14 00:00:00-04:00",
          "2022-04-18 00:00:00-04:00",
          "2022-04-19 00:00:00-04:00",
          "2022-04-20 00:00:00-04:00",
          "2022-04-21 00:00:00-04:00",
          "2022-04-22 00:00:00-04:00",
          "2022-04-25 00:00:00-04:00",
          "2022-04-26 00:00:00-04:00",
          "2022-04-27 00:00:00-04:00",
          "2022-04-28 00:00:00-04:00",
          "2022-04-29 00:00:00-04:00",
          "2022-05-02 00:00:00-04:00",
          "2022-05-03 00:00:00-04:00",
          "2022-05-04 00:00:00-04:00",
          "2022-05-05 00:00:00-04:00",
          "2022-05-06 00:00:00-04:00",
          "2022-05-09 00:00:00-04:00",
          "2022-05-10 00:00:00-04:00",
          "2022-05-11 00:00:00-04:00",
          "2022-05-12 00:00:00-04:00",
          "2022-05-13 00:00:00-04:00",
          "2022-05-16 00:00:00-04:00",
          "2022-05-17 00:00:00-04:00",
          "2022-05-18 00:00:00-04:00",
          "2022-05-19 00:00:00-04:00",
          "2022-05-20 00:00:00-04:00",
          "2022-05-23 00:00:00-04:00",
          "2022-05-24 00:00:00-04:00",
          "2022-05-25 00:00:00-04:00",
          "2022-05-26 00:00:00-04:00",
          "2022-05-27 00:00:00-04:00",
          "2022-05-31 00:00:00-04:00",
          "2022-06-01 00:00:00-04:00",
          "2022-06-02 00:00:00-04:00",
          "2022-06-03 00:00:00-04:00",
          "2022-06-06 00:00:00-04:00",
          "2022-06-07 00:00:00-04:00",
          "2022-06-08 00:00:00-04:00",
          "2022-06-09 00:00:00-04:00",
          "2022-06-10 00:00:00-04:00",
          "2022-06-13 00:00:00-04:00",
          "2022-06-14 00:00:00-04:00",
          "2022-06-15 00:00:00-04:00",
          "2022-06-16 00:00:00-04:00",
          "2022-06-17 00:00:00-04:00",
          "2022-06-21 00:00:00-04:00",
          "2022-06-22 00:00:00-04:00",
          "2022-06-23 00:00:00-04:00",
          "2022-06-24 00:00:00-04:00",
          "2022-06-27 00:00:00-04:00",
          "2022-06-28 00:00:00-04:00",
          "2022-06-29 00:00:00-04:00",
          "2022-06-30 00:00:00-04:00",
          "2022-07-01 00:00:00-04:00",
          "2022-07-05 00:00:00-04:00",
          "2022-07-06 00:00:00-04:00",
          "2022-07-07 00:00:00-04:00",
          "2022-07-08 00:00:00-04:00",
          "2022-07-11 00:00:00-04:00",
          "2022-07-12 00:00:00-04:00",
          "2022-07-13 00:00:00-04:00",
          "2022-07-14 00:00:00-04:00",
          "2022-07-15 00:00:00-04:00",
          "2022-07-18 00:00:00-04:00",
          "2022-07-19 00:00:00-04:00",
          "2022-07-20 00:00:00-04:00",
          "2022-07-21 00:00:00-04:00",
          "2022-07-22 00:00:00-04:00",
          "2022-07-25 00:00:00-04:00",
          "2022-07-26 00:00:00-04:00",
          "2022-07-27 00:00:00-04:00",
          "2022-07-28 00:00:00-04:00",
          "2022-07-29 00:00:00-04:00",
          "2022-08-01 00:00:00-04:00",
          "2022-08-02 00:00:00-04:00",
          "2022-08-03 00:00:00-04:00",
          "2022-08-04 00:00:00-04:00",
          "2022-08-05 00:00:00-04:00",
          "2022-08-08 00:00:00-04:00",
          "2022-08-09 00:00:00-04:00",
          "2022-08-10 00:00:00-04:00",
          "2022-08-11 00:00:00-04:00",
          "2022-08-12 00:00:00-04:00",
          "2022-08-15 00:00:00-04:00",
          "2022-08-16 00:00:00-04:00",
          "2022-08-17 00:00:00-04:00",
          "2022-08-18 00:00:00-04:00",
          "2022-08-19 00:00:00-04:00",
          "2022-08-22 00:00:00-04:00",
          "2022-08-23 00:00:00-04:00",
          "2022-08-24 00:00:00-04:00",
          "2022-08-25 00:00:00-04:00",
          "2022-08-26 00:00:00-04:00",
          "2022-08-29 00:00:00-04:00",
          "2022-08-30 00:00:00-04:00",
          "2022-08-31 00:00:00-04:00",
          "2022-09-01 00:00:00-04:00",
          "2022-09-02 00:00:00-04:00",
          "2022-09-06 00:00:00-04:00",
          "2022-09-07 00:00:00-04:00",
          "2022-09-08 00:00:00-04:00",
          "2022-09-09 00:00:00-04:00",
          "2022-09-12 00:00:00-04:00",
          "2022-09-13 00:00:00-04:00",
          "2022-09-14 00:00:00-04:00",
          "2022-09-15 00:00:00-04:00",
          "2022-09-16 00:00:00-04:00",
          "2022-09-19 00:00:00-04:00",
          "2022-09-20 00:00:00-04:00",
          "2022-09-21 00:00:00-04:00",
          "2022-09-22 00:00:00-04:00",
          "2022-09-23 00:00:00-04:00",
          "2022-09-26 00:00:00-04:00",
          "2022-09-27 00:00:00-04:00",
          "2022-09-28 00:00:00-04:00",
          "2022-09-29 00:00:00-04:00",
          "2022-09-30 00:00:00-04:00",
          "2022-10-03 00:00:00-04:00",
          "2022-10-04 00:00:00-04:00",
          "2022-10-05 00:00:00-04:00",
          "2022-10-06 00:00:00-04:00",
          "2022-10-07 00:00:00-04:00",
          "2022-10-10 00:00:00-04:00",
          "2022-10-11 00:00:00-04:00",
          "2022-10-12 00:00:00-04:00",
          "2022-10-13 00:00:00-04:00",
          "2022-10-14 00:00:00-04:00",
          "2022-10-17 00:00:00-04:00",
          "2022-10-18 00:00:00-04:00",
          "2022-10-19 00:00:00-04:00",
          "2022-10-20 00:00:00-04:00",
          "2022-10-21 00:00:00-04:00",
          "2022-10-24 00:00:00-04:00",
          "2022-10-25 00:00:00-04:00",
          "2022-10-26 00:00:00-04:00",
          "2022-10-27 00:00:00-04:00",
          "2022-10-28 00:00:00-04:00",
          "2022-10-31 00:00:00-04:00",
          "2022-11-01 00:00:00-04:00",
          "2022-11-02 00:00:00-04:00",
          "2022-11-03 00:00:00-04:00",
          "2022-11-04 00:00:00-04:00",
          "2022-11-07 00:00:00-05:00",
          "2022-11-08 00:00:00-05:00",
          "2022-11-09 00:00:00-05:00",
          "2022-11-10 00:00:00-05:00",
          "2022-11-11 00:00:00-05:00",
          "2022-11-14 00:00:00-05:00",
          "2022-11-15 00:00:00-05:00",
          "2022-11-16 00:00:00-05:00",
          "2022-11-17 00:00:00-05:00",
          "2022-11-18 00:00:00-05:00",
          "2022-11-21 00:00:00-05:00",
          "2022-11-22 00:00:00-05:00",
          "2022-11-23 00:00:00-05:00",
          "2022-11-25 00:00:00-05:00",
          "2022-11-28 00:00:00-05:00",
          "2022-11-29 00:00:00-05:00",
          "2022-11-30 00:00:00-05:00",
          "2022-12-01 00:00:00-05:00",
          "2022-12-02 00:00:00-05:00",
          "2022-12-05 00:00:00-05:00",
          "2022-12-06 00:00:00-05:00",
          "2022-12-07 00:00:00-05:00",
          "2022-12-08 00:00:00-05:00",
          "2022-12-09 00:00:00-05:00",
          "2022-12-12 00:00:00-05:00",
          "2022-12-13 00:00:00-05:00",
          "2022-12-14 00:00:00-05:00",
          "2022-12-15 00:00:00-05:00",
          "2022-12-16 00:00:00-05:00",
          "2022-12-19 00:00:00-05:00",
          "2022-12-20 00:00:00-05:00",
          "2022-12-21 00:00:00-05:00",
          "2022-12-22 00:00:00-05:00",
          "2022-12-23 00:00:00-05:00",
          "2022-12-27 00:00:00-05:00",
          "2022-12-28 00:00:00-05:00",
          "2022-12-29 00:00:00-05:00",
          "2022-12-30 00:00:00-05:00",
          "2023-01-03 00:00:00-05:00",
          "2023-01-04 00:00:00-05:00",
          "2023-01-05 00:00:00-05:00",
          "2023-01-06 00:00:00-05:00",
          "2023-01-09 00:00:00-05:00",
          "2023-01-10 00:00:00-05:00",
          "2023-01-11 00:00:00-05:00",
          "2023-01-12 00:00:00-05:00",
          "2023-01-13 00:00:00-05:00",
          "2023-01-17 00:00:00-05:00",
          "2023-01-18 00:00:00-05:00",
          "2023-01-19 00:00:00-05:00",
          "2023-01-20 00:00:00-05:00",
          "2023-01-23 00:00:00-05:00",
          "2023-01-24 00:00:00-05:00",
          "2023-01-25 00:00:00-05:00",
          "2023-01-26 00:00:00-05:00",
          "2023-01-27 00:00:00-05:00",
          "2023-01-30 00:00:00-05:00",
          "2023-01-31 00:00:00-05:00",
          "2023-02-01 00:00:00-05:00",
          "2023-02-02 00:00:00-05:00",
          "2023-02-03 00:00:00-05:00",
          "2023-02-06 00:00:00-05:00",
          "2023-02-07 00:00:00-05:00",
          "2023-02-08 00:00:00-05:00",
          "2023-02-09 00:00:00-05:00",
          "2023-02-10 00:00:00-05:00",
          "2023-02-13 00:00:00-05:00",
          "2023-02-14 00:00:00-05:00",
          "2023-02-15 00:00:00-05:00",
          "2023-02-16 00:00:00-05:00",
          "2023-02-17 00:00:00-05:00"
         ],
         "y": [
          150.19749450683594,
          144.82699584960938,
          151.35800170898438,
          153.7884979248047,
          153.56300354003906,
          151.14199829101562,
          152.05250549316406,
          147.89849853515625,
          145.64100646972656,
          137.4530029296875,
          136.01449584960938,
          139.2790069580078,
          146.8175048828125,
          145.52450561523438,
          141.85299682617188,
          147.3665008544922,
          153.10400390625,
          157.23899841308594,
          161.25050354003906,
          161.4915008544922,
          164.88900756835938,
          163.4080047607422,
          163.64950561523438,
          164.77349853515625,
          168.99049377441406,
          169.31500244140625,
          166.30099487304688,
          162.99749755859375,
          163.55999755859375,
          168.34649658203125,
          164.05499267578125,
          158.75599670410156,
          157.7845001220703,
          154.4604949951172,
          151.1219940185547,
          150.78750610351562,
          155.54100036621094,
          151.7064971923828,
          152.78500366210938,
          158.11549377441406,
          153.9980010986328,
          148.29600524902344,
          144.35000610351562,
          146.07400512695312,
          139.39100646972656,
          138.16700744628906,
          144.59649658203125,
          124.28150177001953,
          124.5,
          124.25350189208984,
          125.92849731445312,
          116.40699768066406,
          114.77249908447266,
          108.78900146484375,
          108.85900115966797,
          105.37200164794922,
          106.93049621582031,
          113.05500030517578,
          110.81050109863281,
          115.36849975585938,
          107.11250305175781,
          107.31900024414062,
          107.59100341796875,
          107.55699920654297,
          104.0999984741211,
          106.7750015258789,
          111.07749938964844,
          115.14649963378906,
          120.20950317382812,
          121.68399810791016,
          125.51100158691406,
          122.3499984741211,
          124.79000091552734,
          123,
          121.18000030517578,
          116.1500015258789,
          109.6500015258789,
          103.66999816894531,
          102.30999755859375,
          107.66999816894531,
          103.66000366210938,
          106.22000122070312,
          108.68000030517578,
          108.94999694824219,
          112.44000244140625,
          116.45999908447266,
          113.22000122070312,
          107.4000015258789,
          108.91999816894531,
          106.20999908447266,
          109.55999755859375,
          113.5,
          114.33000183105469,
          116.33000183105469,
          115.54000091552734,
          111.75,
          109.22000122070312,
          110.4000015258789,
          110.62999725341797,
          113.55000305175781,
          113.76000213623047,
          118.20999908447266,
          122.7699966430664,
          124.62999725341797,
          122.41999816894531,
          121.13999938964844,
          114.80999755859375,
          120.97000122070312,
          122.27999877929688,
          134.9499969482422,
          135.38999938964844,
          134.16000366210938,
          139.52000427246094,
          142.57000732421875,
          140.8000030517578,
          139.41000366210938,
          137.8300018310547,
          142.69000244140625,
          140.63999938964844,
          143.5500030517578,
          143.17999267578125,
          144.77999877929688,
          142.10000610351562,
          142.3000030517578,
          138.22999572753906,
          133.22000122070312,
          133.6199951171875,
          133.8000030517578,
          137.27999877929688,
          130.75,
          129.7899932861328,
          128.72999572753906,
          126.7699966430664,
          127.81999969482422,
          127.51000213623047,
          126.11000061035156,
          129.47999572753906,
          129.82000732421875,
          133.27000427246094,
          136.4499969482422,
          126.81999969482422,
          128.5500030517578,
          126.27999877929688,
          123.52999877929688,
          124.66000366210938,
          122.19000244140625,
          118.54000091552734,
          117.30999755859375,
          113.77999877929688,
          115.1500015258789,
          114.41000366210938,
          118.01000213623047,
          114.80000305175781,
          113,
          115.87999725341797,
          121.08999633789062,
          120.94999694824219,
          120.30000305175781,
          114.55999755859375,
          113.66999816894531,
          112.20999908447266,
          112.9000015258789,
          112.52999877929688,
          106.9000015258789,
          113.79000091552734,
          116.36000061035156,
          115.06999969482422,
          115.25,
          119.31999969482422,
          119.81999969482422,
          120.5999984741211,
          115.66000366210938,
          110.95999908447266,
          103.41000366210938,
          102.44000244140625,
          96.79000091552734,
          92.12000274658203,
          89.30000305175781,
          90.9800033569336,
          90.52999877929688,
          89.9800033569336,
          86.13999938964844,
          96.62999725341797,
          100.79000091552734,
          98.48999786376953,
          98.94000244140625,
          97.12000274658203,
          94.8499984741211,
          94.13999938964844,
          92.45999908447266,
          93.19999694824219,
          94.12999725341797,
          93.41000366210938,
          93.94999694824219,
          92.41999816894531,
          96.54000091552734,
          95.5,
          94.12999725341797,
          91.01000213623047,
          88.25,
          88.45999908447266,
          90.3499984741211,
          89.08999633789062,
          90.55000305175781,
          92.48999786376953,
          91.58000183105469,
          88.44999694824219,
          87.86000061035156,
          84.91999816894531,
          85.19000244140625,
          86.7699966430664,
          83.79000091552734,
          85.25,
          83.04000091552734,
          81.81999969482422,
          84.18000030517578,
          84,
          85.81999969482422,
          85.13999938964844,
          83.12000274658203,
          86.08000183105469,
          87.36000061035156,
          89.87000274658203,
          95.08999633789062,
          95.2699966430664,
          98.12000274658203,
          96.05000305175781,
          95.45999908447266,
          93.68000030517578,
          97.25,
          97.5199966430664,
          96.31999969482422,
          97.18000030517578,
          99.22000122070312,
          102.23999786376953,
          100.55000305175781,
          103.12999725341797,
          105.1500015258789,
          112.91000366210938,
          103.38999938964844,
          102.18000030517578,
          102.11000061035156,
          100.05000305175781,
          98.23999786376953,
          97.61000061035156,
          99.54000091552734,
          99.69999694824219,
          101.16000366210938,
          98.1500015258789,
          97.19999694824219
         ]
        }
       ],
       "layout": {
        "legend": {
         "bgcolor": "#F5F6F9",
         "font": {
          "color": "#4D5663"
         }
        },
        "paper_bgcolor": "#F5F6F9",
        "plot_bgcolor": "#F5F6F9",
        "template": {
         "data": {
          "bar": [
           {
            "error_x": {
             "color": "#2a3f5f"
            },
            "error_y": {
             "color": "#2a3f5f"
            },
            "marker": {
             "line": {
              "color": "#E5ECF6",
              "width": 0.5
             },
             "pattern": {
              "fillmode": "overlay",
              "size": 10,
              "solidity": 0.2
             }
            },
            "type": "bar"
           }
          ],
          "barpolar": [
           {
            "marker": {
             "line": {
              "color": "#E5ECF6",
              "width": 0.5
             },
             "pattern": {
              "fillmode": "overlay",
              "size": 10,
              "solidity": 0.2
             }
            },
            "type": "barpolar"
           }
          ],
          "carpet": [
           {
            "aaxis": {
             "endlinecolor": "#2a3f5f",
             "gridcolor": "white",
             "linecolor": "white",
             "minorgridcolor": "white",
             "startlinecolor": "#2a3f5f"
            },
            "baxis": {
             "endlinecolor": "#2a3f5f",
             "gridcolor": "white",
             "linecolor": "white",
             "minorgridcolor": "white",
             "startlinecolor": "#2a3f5f"
            },
            "type": "carpet"
           }
          ],
          "choropleth": [
           {
            "colorbar": {
             "outlinewidth": 0,
             "ticks": ""
            },
            "type": "choropleth"
           }
          ],
          "contour": [
           {
            "colorbar": {
             "outlinewidth": 0,
             "ticks": ""
            },
            "colorscale": [
             [
              0,
              "#0d0887"
             ],
             [
              0.1111111111111111,
              "#46039f"
             ],
             [
              0.2222222222222222,
              "#7201a8"
             ],
             [
              0.3333333333333333,
              "#9c179e"
             ],
             [
              0.4444444444444444,
              "#bd3786"
             ],
             [
              0.5555555555555556,
              "#d8576b"
             ],
             [
              0.6666666666666666,
              "#ed7953"
             ],
             [
              0.7777777777777778,
              "#fb9f3a"
             ],
             [
              0.8888888888888888,
              "#fdca26"
             ],
             [
              1,
              "#f0f921"
             ]
            ],
            "type": "contour"
           }
          ],
          "contourcarpet": [
           {
            "colorbar": {
             "outlinewidth": 0,
             "ticks": ""
            },
            "type": "contourcarpet"
           }
          ],
          "heatmap": [
           {
            "colorbar": {
             "outlinewidth": 0,
             "ticks": ""
            },
            "colorscale": [
             [
              0,
              "#0d0887"
             ],
             [
              0.1111111111111111,
              "#46039f"
             ],
             [
              0.2222222222222222,
              "#7201a8"
             ],
             [
              0.3333333333333333,
              "#9c179e"
             ],
             [
              0.4444444444444444,
              "#bd3786"
             ],
             [
              0.5555555555555556,
              "#d8576b"
             ],
             [
              0.6666666666666666,
              "#ed7953"
             ],
             [
              0.7777777777777778,
              "#fb9f3a"
             ],
             [
              0.8888888888888888,
              "#fdca26"
             ],
             [
              1,
              "#f0f921"
             ]
            ],
            "type": "heatmap"
           }
          ],
          "heatmapgl": [
           {
            "colorbar": {
             "outlinewidth": 0,
             "ticks": ""
            },
            "colorscale": [
             [
              0,
              "#0d0887"
             ],
             [
              0.1111111111111111,
              "#46039f"
             ],
             [
              0.2222222222222222,
              "#7201a8"
             ],
             [
              0.3333333333333333,
              "#9c179e"
             ],
             [
              0.4444444444444444,
              "#bd3786"
             ],
             [
              0.5555555555555556,
              "#d8576b"
             ],
             [
              0.6666666666666666,
              "#ed7953"
             ],
             [
              0.7777777777777778,
              "#fb9f3a"
             ],
             [
              0.8888888888888888,
              "#fdca26"
             ],
             [
              1,
              "#f0f921"
             ]
            ],
            "type": "heatmapgl"
           }
          ],
          "histogram": [
           {
            "marker": {
             "pattern": {
              "fillmode": "overlay",
              "size": 10,
              "solidity": 0.2
             }
            },
            "type": "histogram"
           }
          ],
          "histogram2d": [
           {
            "colorbar": {
             "outlinewidth": 0,
             "ticks": ""
            },
            "colorscale": [
             [
              0,
              "#0d0887"
             ],
             [
              0.1111111111111111,
              "#46039f"
             ],
             [
              0.2222222222222222,
              "#7201a8"
             ],
             [
              0.3333333333333333,
              "#9c179e"
             ],
             [
              0.4444444444444444,
              "#bd3786"
             ],
             [
              0.5555555555555556,
              "#d8576b"
             ],
             [
              0.6666666666666666,
              "#ed7953"
             ],
             [
              0.7777777777777778,
              "#fb9f3a"
             ],
             [
              0.8888888888888888,
              "#fdca26"
             ],
             [
              1,
              "#f0f921"
             ]
            ],
            "type": "histogram2d"
           }
          ],
          "histogram2dcontour": [
           {
            "colorbar": {
             "outlinewidth": 0,
             "ticks": ""
            },
            "colorscale": [
             [
              0,
              "#0d0887"
             ],
             [
              0.1111111111111111,
              "#46039f"
             ],
             [
              0.2222222222222222,
              "#7201a8"
             ],
             [
              0.3333333333333333,
              "#9c179e"
             ],
             [
              0.4444444444444444,
              "#bd3786"
             ],
             [
              0.5555555555555556,
              "#d8576b"
             ],
             [
              0.6666666666666666,
              "#ed7953"
             ],
             [
              0.7777777777777778,
              "#fb9f3a"
             ],
             [
              0.8888888888888888,
              "#fdca26"
             ],
             [
              1,
              "#f0f921"
             ]
            ],
            "type": "histogram2dcontour"
           }
          ],
          "mesh3d": [
           {
            "colorbar": {
             "outlinewidth": 0,
             "ticks": ""
            },
            "type": "mesh3d"
           }
          ],
          "parcoords": [
           {
            "line": {
             "colorbar": {
              "outlinewidth": 0,
              "ticks": ""
             }
            },
            "type": "parcoords"
           }
          ],
          "pie": [
           {
            "automargin": true,
            "type": "pie"
           }
          ],
          "scatter": [
           {
            "fillpattern": {
             "fillmode": "overlay",
             "size": 10,
             "solidity": 0.2
            },
            "type": "scatter"
           }
          ],
          "scatter3d": [
           {
            "line": {
             "colorbar": {
              "outlinewidth": 0,
              "ticks": ""
             }
            },
            "marker": {
             "colorbar": {
              "outlinewidth": 0,
              "ticks": ""
             }
            },
            "type": "scatter3d"
           }
          ],
          "scattercarpet": [
           {
            "marker": {
             "colorbar": {
              "outlinewidth": 0,
              "ticks": ""
             }
            },
            "type": "scattercarpet"
           }
          ],
          "scattergeo": [
           {
            "marker": {
             "colorbar": {
              "outlinewidth": 0,
              "ticks": ""
             }
            },
            "type": "scattergeo"
           }
          ],
          "scattergl": [
           {
            "marker": {
             "colorbar": {
              "outlinewidth": 0,
              "ticks": ""
             }
            },
            "type": "scattergl"
           }
          ],
          "scattermapbox": [
           {
            "marker": {
             "colorbar": {
              "outlinewidth": 0,
              "ticks": ""
             }
            },
            "type": "scattermapbox"
           }
          ],
          "scatterpolar": [
           {
            "marker": {
             "colorbar": {
              "outlinewidth": 0,
              "ticks": ""
             }
            },
            "type": "scatterpolar"
           }
          ],
          "scatterpolargl": [
           {
            "marker": {
             "colorbar": {
              "outlinewidth": 0,
              "ticks": ""
             }
            },
            "type": "scatterpolargl"
           }
          ],
          "scatterternary": [
           {
            "marker": {
             "colorbar": {
              "outlinewidth": 0,
              "ticks": ""
             }
            },
            "type": "scatterternary"
           }
          ],
          "surface": [
           {
            "colorbar": {
             "outlinewidth": 0,
             "ticks": ""
            },
            "colorscale": [
             [
              0,
              "#0d0887"
             ],
             [
              0.1111111111111111,
              "#46039f"
             ],
             [
              0.2222222222222222,
              "#7201a8"
             ],
             [
              0.3333333333333333,
              "#9c179e"
             ],
             [
              0.4444444444444444,
              "#bd3786"
             ],
             [
              0.5555555555555556,
              "#d8576b"
             ],
             [
              0.6666666666666666,
              "#ed7953"
             ],
             [
              0.7777777777777778,
              "#fb9f3a"
             ],
             [
              0.8888888888888888,
              "#fdca26"
             ],
             [
              1,
              "#f0f921"
             ]
            ],
            "type": "surface"
           }
          ],
          "table": [
           {
            "cells": {
             "fill": {
              "color": "#EBF0F8"
             },
             "line": {
              "color": "white"
             }
            },
            "header": {
             "fill": {
              "color": "#C8D4E3"
             },
             "line": {
              "color": "white"
             }
            },
            "type": "table"
           }
          ]
         },
         "layout": {
          "annotationdefaults": {
           "arrowcolor": "#2a3f5f",
           "arrowhead": 0,
           "arrowwidth": 1
          },
          "autotypenumbers": "strict",
          "coloraxis": {
           "colorbar": {
            "outlinewidth": 0,
            "ticks": ""
           }
          },
          "colorscale": {
           "diverging": [
            [
             0,
             "#8e0152"
            ],
            [
             0.1,
             "#c51b7d"
            ],
            [
             0.2,
             "#de77ae"
            ],
            [
             0.3,
             "#f1b6da"
            ],
            [
             0.4,
             "#fde0ef"
            ],
            [
             0.5,
             "#f7f7f7"
            ],
            [
             0.6,
             "#e6f5d0"
            ],
            [
             0.7,
             "#b8e186"
            ],
            [
             0.8,
             "#7fbc41"
            ],
            [
             0.9,
             "#4d9221"
            ],
            [
             1,
             "#276419"
            ]
           ],
           "sequential": [
            [
             0,
             "#0d0887"
            ],
            [
             0.1111111111111111,
             "#46039f"
            ],
            [
             0.2222222222222222,
             "#7201a8"
            ],
            [
             0.3333333333333333,
             "#9c179e"
            ],
            [
             0.4444444444444444,
             "#bd3786"
            ],
            [
             0.5555555555555556,
             "#d8576b"
            ],
            [
             0.6666666666666666,
             "#ed7953"
            ],
            [
             0.7777777777777778,
             "#fb9f3a"
            ],
            [
             0.8888888888888888,
             "#fdca26"
            ],
            [
             1,
             "#f0f921"
            ]
           ],
           "sequentialminus": [
            [
             0,
             "#0d0887"
            ],
            [
             0.1111111111111111,
             "#46039f"
            ],
            [
             0.2222222222222222,
             "#7201a8"
            ],
            [
             0.3333333333333333,
             "#9c179e"
            ],
            [
             0.4444444444444444,
             "#bd3786"
            ],
            [
             0.5555555555555556,
             "#d8576b"
            ],
            [
             0.6666666666666666,
             "#ed7953"
            ],
            [
             0.7777777777777778,
             "#fb9f3a"
            ],
            [
             0.8888888888888888,
             "#fdca26"
            ],
            [
             1,
             "#f0f921"
            ]
           ]
          },
          "colorway": [
           "#636efa",
           "#EF553B",
           "#00cc96",
           "#ab63fa",
           "#FFA15A",
           "#19d3f3",
           "#FF6692",
           "#B6E880",
           "#FF97FF",
           "#FECB52"
          ],
          "font": {
           "color": "#2a3f5f"
          },
          "geo": {
           "bgcolor": "white",
           "lakecolor": "white",
           "landcolor": "#E5ECF6",
           "showlakes": true,
           "showland": true,
           "subunitcolor": "white"
          },
          "hoverlabel": {
           "align": "left"
          },
          "hovermode": "closest",
          "mapbox": {
           "style": "light"
          },
          "paper_bgcolor": "white",
          "plot_bgcolor": "#E5ECF6",
          "polar": {
           "angularaxis": {
            "gridcolor": "white",
            "linecolor": "white",
            "ticks": ""
           },
           "bgcolor": "#E5ECF6",
           "radialaxis": {
            "gridcolor": "white",
            "linecolor": "white",
            "ticks": ""
           }
          },
          "scene": {
           "xaxis": {
            "backgroundcolor": "#E5ECF6",
            "gridcolor": "white",
            "gridwidth": 2,
            "linecolor": "white",
            "showbackground": true,
            "ticks": "",
            "zerolinecolor": "white"
           },
           "yaxis": {
            "backgroundcolor": "#E5ECF6",
            "gridcolor": "white",
            "gridwidth": 2,
            "linecolor": "white",
            "showbackground": true,
            "ticks": "",
            "zerolinecolor": "white"
           },
           "zaxis": {
            "backgroundcolor": "#E5ECF6",
            "gridcolor": "white",
            "gridwidth": 2,
            "linecolor": "white",
            "showbackground": true,
            "ticks": "",
            "zerolinecolor": "white"
           }
          },
          "shapedefaults": {
           "line": {
            "color": "#2a3f5f"
           }
          },
          "ternary": {
           "aaxis": {
            "gridcolor": "white",
            "linecolor": "white",
            "ticks": ""
           },
           "baxis": {
            "gridcolor": "white",
            "linecolor": "white",
            "ticks": ""
           },
           "bgcolor": "#E5ECF6",
           "caxis": {
            "gridcolor": "white",
            "linecolor": "white",
            "ticks": ""
           }
          },
          "title": {
           "x": 0.05
          },
          "xaxis": {
           "automargin": true,
           "gridcolor": "white",
           "linecolor": "white",
           "ticks": "",
           "title": {
            "standoff": 15
           },
           "zerolinecolor": "white",
           "zerolinewidth": 2
          },
          "yaxis": {
           "automargin": true,
           "gridcolor": "white",
           "linecolor": "white",
           "ticks": "",
           "title": {
            "standoff": 15
           },
           "zerolinecolor": "white",
           "zerolinewidth": 2
          }
         }
        },
        "title": {
         "font": {
          "color": "#4D5663"
         },
         "text": "Amazon Adj Close"
        },
        "xaxis": {
         "gridcolor": "#E1E5ED",
         "showgrid": true,
         "tickfont": {
          "color": "#4D5663"
         },
         "title": {
          "font": {
           "color": "#4D5663"
          },
          "text": ""
         },
         "zerolinecolor": "#E1E5ED"
        },
        "yaxis": {
         "gridcolor": "#E1E5ED",
         "showgrid": true,
         "tickfont": {
          "color": "#4D5663"
         },
         "title": {
          "font": {
           "color": "#4D5663"
          },
          "text": ""
         },
         "zerolinecolor": "#E1E5ED"
        }
       }
      },
      "text/html": [
       "<div>                            <div id=\"c726d6a8-0443-4b07-b6f3-2cc48804899a\" class=\"plotly-graph-div\" style=\"height:525px; width:100%;\"></div>            <script type=\"text/javascript\">                require([\"plotly\"], function(Plotly) {                    window.PLOTLYENV=window.PLOTLYENV || {};\n",
       "                    window.PLOTLYENV.BASE_URL='https://plot.ly';                                    if (document.getElementById(\"c726d6a8-0443-4b07-b6f3-2cc48804899a\")) {                    Plotly.newPlot(                        \"c726d6a8-0443-4b07-b6f3-2cc48804899a\",                        [{\"line\":{\"color\":\"rgba(255, 153, 51, 1.0)\",\"dash\":\"solid\",\"shape\":\"linear\",\"width\":1.3},\"mode\":\"lines\",\"name\":\"Adj Close\",\"text\":\"\",\"x\":[\"2022-02-22 00:00:00-05:00\",\"2022-02-23 00:00:00-05:00\",\"2022-02-24 00:00:00-05:00\",\"2022-02-25 00:00:00-05:00\",\"2022-02-28 00:00:00-05:00\",\"2022-03-01 00:00:00-05:00\",\"2022-03-02 00:00:00-05:00\",\"2022-03-03 00:00:00-05:00\",\"2022-03-04 00:00:00-05:00\",\"2022-03-07 00:00:00-05:00\",\"2022-03-08 00:00:00-05:00\",\"2022-03-09 00:00:00-05:00\",\"2022-03-10 00:00:00-05:00\",\"2022-03-11 00:00:00-05:00\",\"2022-03-14 00:00:00-04:00\",\"2022-03-15 00:00:00-04:00\",\"2022-03-16 00:00:00-04:00\",\"2022-03-17 00:00:00-04:00\",\"2022-03-18 00:00:00-04:00\",\"2022-03-21 00:00:00-04:00\",\"2022-03-22 00:00:00-04:00\",\"2022-03-23 00:00:00-04:00\",\"2022-03-24 00:00:00-04:00\",\"2022-03-25 00:00:00-04:00\",\"2022-03-28 00:00:00-04:00\",\"2022-03-29 00:00:00-04:00\",\"2022-03-30 00:00:00-04:00\",\"2022-03-31 00:00:00-04:00\",\"2022-04-01 00:00:00-04:00\",\"2022-04-04 00:00:00-04:00\",\"2022-04-05 00:00:00-04:00\",\"2022-04-06 00:00:00-04:00\",\"2022-04-07 00:00:00-04:00\",\"2022-04-08 00:00:00-04:00\",\"2022-04-11 00:00:00-04:00\",\"2022-04-12 00:00:00-04:00\",\"2022-04-13 00:00:00-04:00\",\"2022-04-14 00:00:00-04:00\",\"2022-04-18 00:00:00-04:00\",\"2022-04-19 00:00:00-04:00\",\"2022-04-20 00:00:00-04:00\",\"2022-04-21 00:00:00-04:00\",\"2022-04-22 00:00:00-04:00\",\"2022-04-25 00:00:00-04:00\",\"2022-04-26 00:00:00-04:00\",\"2022-04-27 00:00:00-04:00\",\"2022-04-28 00:00:00-04:00\",\"2022-04-29 00:00:00-04:00\",\"2022-05-02 00:00:00-04:00\",\"2022-05-03 00:00:00-04:00\",\"2022-05-04 00:00:00-04:00\",\"2022-05-05 00:00:00-04:00\",\"2022-05-06 00:00:00-04:00\",\"2022-05-09 00:00:00-04:00\",\"2022-05-10 00:00:00-04:00\",\"2022-05-11 00:00:00-04:00\",\"2022-05-12 00:00:00-04:00\",\"2022-05-13 00:00:00-04:00\",\"2022-05-16 00:00:00-04:00\",\"2022-05-17 00:00:00-04:00\",\"2022-05-18 00:00:00-04:00\",\"2022-05-19 00:00:00-04:00\",\"2022-05-20 00:00:00-04:00\",\"2022-05-23 00:00:00-04:00\",\"2022-05-24 00:00:00-04:00\",\"2022-05-25 00:00:00-04:00\",\"2022-05-26 00:00:00-04:00\",\"2022-05-27 00:00:00-04:00\",\"2022-05-31 00:00:00-04:00\",\"2022-06-01 00:00:00-04:00\",\"2022-06-02 00:00:00-04:00\",\"2022-06-03 00:00:00-04:00\",\"2022-06-06 00:00:00-04:00\",\"2022-06-07 00:00:00-04:00\",\"2022-06-08 00:00:00-04:00\",\"2022-06-09 00:00:00-04:00\",\"2022-06-10 00:00:00-04:00\",\"2022-06-13 00:00:00-04:00\",\"2022-06-14 00:00:00-04:00\",\"2022-06-15 00:00:00-04:00\",\"2022-06-16 00:00:00-04:00\",\"2022-06-17 00:00:00-04:00\",\"2022-06-21 00:00:00-04:00\",\"2022-06-22 00:00:00-04:00\",\"2022-06-23 00:00:00-04:00\",\"2022-06-24 00:00:00-04:00\",\"2022-06-27 00:00:00-04:00\",\"2022-06-28 00:00:00-04:00\",\"2022-06-29 00:00:00-04:00\",\"2022-06-30 00:00:00-04:00\",\"2022-07-01 00:00:00-04:00\",\"2022-07-05 00:00:00-04:00\",\"2022-07-06 00:00:00-04:00\",\"2022-07-07 00:00:00-04:00\",\"2022-07-08 00:00:00-04:00\",\"2022-07-11 00:00:00-04:00\",\"2022-07-12 00:00:00-04:00\",\"2022-07-13 00:00:00-04:00\",\"2022-07-14 00:00:00-04:00\",\"2022-07-15 00:00:00-04:00\",\"2022-07-18 00:00:00-04:00\",\"2022-07-19 00:00:00-04:00\",\"2022-07-20 00:00:00-04:00\",\"2022-07-21 00:00:00-04:00\",\"2022-07-22 00:00:00-04:00\",\"2022-07-25 00:00:00-04:00\",\"2022-07-26 00:00:00-04:00\",\"2022-07-27 00:00:00-04:00\",\"2022-07-28 00:00:00-04:00\",\"2022-07-29 00:00:00-04:00\",\"2022-08-01 00:00:00-04:00\",\"2022-08-02 00:00:00-04:00\",\"2022-08-03 00:00:00-04:00\",\"2022-08-04 00:00:00-04:00\",\"2022-08-05 00:00:00-04:00\",\"2022-08-08 00:00:00-04:00\",\"2022-08-09 00:00:00-04:00\",\"2022-08-10 00:00:00-04:00\",\"2022-08-11 00:00:00-04:00\",\"2022-08-12 00:00:00-04:00\",\"2022-08-15 00:00:00-04:00\",\"2022-08-16 00:00:00-04:00\",\"2022-08-17 00:00:00-04:00\",\"2022-08-18 00:00:00-04:00\",\"2022-08-19 00:00:00-04:00\",\"2022-08-22 00:00:00-04:00\",\"2022-08-23 00:00:00-04:00\",\"2022-08-24 00:00:00-04:00\",\"2022-08-25 00:00:00-04:00\",\"2022-08-26 00:00:00-04:00\",\"2022-08-29 00:00:00-04:00\",\"2022-08-30 00:00:00-04:00\",\"2022-08-31 00:00:00-04:00\",\"2022-09-01 00:00:00-04:00\",\"2022-09-02 00:00:00-04:00\",\"2022-09-06 00:00:00-04:00\",\"2022-09-07 00:00:00-04:00\",\"2022-09-08 00:00:00-04:00\",\"2022-09-09 00:00:00-04:00\",\"2022-09-12 00:00:00-04:00\",\"2022-09-13 00:00:00-04:00\",\"2022-09-14 00:00:00-04:00\",\"2022-09-15 00:00:00-04:00\",\"2022-09-16 00:00:00-04:00\",\"2022-09-19 00:00:00-04:00\",\"2022-09-20 00:00:00-04:00\",\"2022-09-21 00:00:00-04:00\",\"2022-09-22 00:00:00-04:00\",\"2022-09-23 00:00:00-04:00\",\"2022-09-26 00:00:00-04:00\",\"2022-09-27 00:00:00-04:00\",\"2022-09-28 00:00:00-04:00\",\"2022-09-29 00:00:00-04:00\",\"2022-09-30 00:00:00-04:00\",\"2022-10-03 00:00:00-04:00\",\"2022-10-04 00:00:00-04:00\",\"2022-10-05 00:00:00-04:00\",\"2022-10-06 00:00:00-04:00\",\"2022-10-07 00:00:00-04:00\",\"2022-10-10 00:00:00-04:00\",\"2022-10-11 00:00:00-04:00\",\"2022-10-12 00:00:00-04:00\",\"2022-10-13 00:00:00-04:00\",\"2022-10-14 00:00:00-04:00\",\"2022-10-17 00:00:00-04:00\",\"2022-10-18 00:00:00-04:00\",\"2022-10-19 00:00:00-04:00\",\"2022-10-20 00:00:00-04:00\",\"2022-10-21 00:00:00-04:00\",\"2022-10-24 00:00:00-04:00\",\"2022-10-25 00:00:00-04:00\",\"2022-10-26 00:00:00-04:00\",\"2022-10-27 00:00:00-04:00\",\"2022-10-28 00:00:00-04:00\",\"2022-10-31 00:00:00-04:00\",\"2022-11-01 00:00:00-04:00\",\"2022-11-02 00:00:00-04:00\",\"2022-11-03 00:00:00-04:00\",\"2022-11-04 00:00:00-04:00\",\"2022-11-07 00:00:00-05:00\",\"2022-11-08 00:00:00-05:00\",\"2022-11-09 00:00:00-05:00\",\"2022-11-10 00:00:00-05:00\",\"2022-11-11 00:00:00-05:00\",\"2022-11-14 00:00:00-05:00\",\"2022-11-15 00:00:00-05:00\",\"2022-11-16 00:00:00-05:00\",\"2022-11-17 00:00:00-05:00\",\"2022-11-18 00:00:00-05:00\",\"2022-11-21 00:00:00-05:00\",\"2022-11-22 00:00:00-05:00\",\"2022-11-23 00:00:00-05:00\",\"2022-11-25 00:00:00-05:00\",\"2022-11-28 00:00:00-05:00\",\"2022-11-29 00:00:00-05:00\",\"2022-11-30 00:00:00-05:00\",\"2022-12-01 00:00:00-05:00\",\"2022-12-02 00:00:00-05:00\",\"2022-12-05 00:00:00-05:00\",\"2022-12-06 00:00:00-05:00\",\"2022-12-07 00:00:00-05:00\",\"2022-12-08 00:00:00-05:00\",\"2022-12-09 00:00:00-05:00\",\"2022-12-12 00:00:00-05:00\",\"2022-12-13 00:00:00-05:00\",\"2022-12-14 00:00:00-05:00\",\"2022-12-15 00:00:00-05:00\",\"2022-12-16 00:00:00-05:00\",\"2022-12-19 00:00:00-05:00\",\"2022-12-20 00:00:00-05:00\",\"2022-12-21 00:00:00-05:00\",\"2022-12-22 00:00:00-05:00\",\"2022-12-23 00:00:00-05:00\",\"2022-12-27 00:00:00-05:00\",\"2022-12-28 00:00:00-05:00\",\"2022-12-29 00:00:00-05:00\",\"2022-12-30 00:00:00-05:00\",\"2023-01-03 00:00:00-05:00\",\"2023-01-04 00:00:00-05:00\",\"2023-01-05 00:00:00-05:00\",\"2023-01-06 00:00:00-05:00\",\"2023-01-09 00:00:00-05:00\",\"2023-01-10 00:00:00-05:00\",\"2023-01-11 00:00:00-05:00\",\"2023-01-12 00:00:00-05:00\",\"2023-01-13 00:00:00-05:00\",\"2023-01-17 00:00:00-05:00\",\"2023-01-18 00:00:00-05:00\",\"2023-01-19 00:00:00-05:00\",\"2023-01-20 00:00:00-05:00\",\"2023-01-23 00:00:00-05:00\",\"2023-01-24 00:00:00-05:00\",\"2023-01-25 00:00:00-05:00\",\"2023-01-26 00:00:00-05:00\",\"2023-01-27 00:00:00-05:00\",\"2023-01-30 00:00:00-05:00\",\"2023-01-31 00:00:00-05:00\",\"2023-02-01 00:00:00-05:00\",\"2023-02-02 00:00:00-05:00\",\"2023-02-03 00:00:00-05:00\",\"2023-02-06 00:00:00-05:00\",\"2023-02-07 00:00:00-05:00\",\"2023-02-08 00:00:00-05:00\",\"2023-02-09 00:00:00-05:00\",\"2023-02-10 00:00:00-05:00\",\"2023-02-13 00:00:00-05:00\",\"2023-02-14 00:00:00-05:00\",\"2023-02-15 00:00:00-05:00\",\"2023-02-16 00:00:00-05:00\",\"2023-02-17 00:00:00-05:00\"],\"y\":[150.19749450683594,144.82699584960938,151.35800170898438,153.7884979248047,153.56300354003906,151.14199829101562,152.05250549316406,147.89849853515625,145.64100646972656,137.4530029296875,136.01449584960938,139.2790069580078,146.8175048828125,145.52450561523438,141.85299682617188,147.3665008544922,153.10400390625,157.23899841308594,161.25050354003906,161.4915008544922,164.88900756835938,163.4080047607422,163.64950561523438,164.77349853515625,168.99049377441406,169.31500244140625,166.30099487304688,162.99749755859375,163.55999755859375,168.34649658203125,164.05499267578125,158.75599670410156,157.7845001220703,154.4604949951172,151.1219940185547,150.78750610351562,155.54100036621094,151.7064971923828,152.78500366210938,158.11549377441406,153.9980010986328,148.29600524902344,144.35000610351562,146.07400512695312,139.39100646972656,138.16700744628906,144.59649658203125,124.28150177001953,124.5,124.25350189208984,125.92849731445312,116.40699768066406,114.77249908447266,108.78900146484375,108.85900115966797,105.37200164794922,106.93049621582031,113.05500030517578,110.81050109863281,115.36849975585938,107.11250305175781,107.31900024414062,107.59100341796875,107.55699920654297,104.0999984741211,106.7750015258789,111.07749938964844,115.14649963378906,120.20950317382812,121.68399810791016,125.51100158691406,122.3499984741211,124.79000091552734,123.0,121.18000030517578,116.1500015258789,109.6500015258789,103.66999816894531,102.30999755859375,107.66999816894531,103.66000366210938,106.22000122070312,108.68000030517578,108.94999694824219,112.44000244140625,116.45999908447266,113.22000122070312,107.4000015258789,108.91999816894531,106.20999908447266,109.55999755859375,113.5,114.33000183105469,116.33000183105469,115.54000091552734,111.75,109.22000122070312,110.4000015258789,110.62999725341797,113.55000305175781,113.76000213623047,118.20999908447266,122.7699966430664,124.62999725341797,122.41999816894531,121.13999938964844,114.80999755859375,120.97000122070312,122.27999877929688,134.9499969482422,135.38999938964844,134.16000366210938,139.52000427246094,142.57000732421875,140.8000030517578,139.41000366210938,137.8300018310547,142.69000244140625,140.63999938964844,143.5500030517578,143.17999267578125,144.77999877929688,142.10000610351562,142.3000030517578,138.22999572753906,133.22000122070312,133.6199951171875,133.8000030517578,137.27999877929688,130.75,129.7899932861328,128.72999572753906,126.7699966430664,127.81999969482422,127.51000213623047,126.11000061035156,129.47999572753906,129.82000732421875,133.27000427246094,136.4499969482422,126.81999969482422,128.5500030517578,126.27999877929688,123.52999877929688,124.66000366210938,122.19000244140625,118.54000091552734,117.30999755859375,113.77999877929688,115.1500015258789,114.41000366210938,118.01000213623047,114.80000305175781,113.0,115.87999725341797,121.08999633789062,120.94999694824219,120.30000305175781,114.55999755859375,113.66999816894531,112.20999908447266,112.9000015258789,112.52999877929688,106.9000015258789,113.79000091552734,116.36000061035156,115.06999969482422,115.25,119.31999969482422,119.81999969482422,120.5999984741211,115.66000366210938,110.95999908447266,103.41000366210938,102.44000244140625,96.79000091552734,92.12000274658203,89.30000305175781,90.9800033569336,90.52999877929688,89.9800033569336,86.13999938964844,96.62999725341797,100.79000091552734,98.48999786376953,98.94000244140625,97.12000274658203,94.8499984741211,94.13999938964844,92.45999908447266,93.19999694824219,94.12999725341797,93.41000366210938,93.94999694824219,92.41999816894531,96.54000091552734,95.5,94.12999725341797,91.01000213623047,88.25,88.45999908447266,90.3499984741211,89.08999633789062,90.55000305175781,92.48999786376953,91.58000183105469,88.44999694824219,87.86000061035156,84.91999816894531,85.19000244140625,86.7699966430664,83.79000091552734,85.25,83.04000091552734,81.81999969482422,84.18000030517578,84.0,85.81999969482422,85.13999938964844,83.12000274658203,86.08000183105469,87.36000061035156,89.87000274658203,95.08999633789062,95.2699966430664,98.12000274658203,96.05000305175781,95.45999908447266,93.68000030517578,97.25,97.5199966430664,96.31999969482422,97.18000030517578,99.22000122070312,102.23999786376953,100.55000305175781,103.12999725341797,105.1500015258789,112.91000366210938,103.38999938964844,102.18000030517578,102.11000061035156,100.05000305175781,98.23999786376953,97.61000061035156,99.54000091552734,99.69999694824219,101.16000366210938,98.1500015258789,97.19999694824219],\"type\":\"scatter\"}],                        {\"legend\":{\"bgcolor\":\"#F5F6F9\",\"font\":{\"color\":\"#4D5663\"}},\"paper_bgcolor\":\"#F5F6F9\",\"plot_bgcolor\":\"#F5F6F9\",\"template\":{\"data\":{\"barpolar\":[{\"marker\":{\"line\":{\"color\":\"#E5ECF6\",\"width\":0.5},\"pattern\":{\"fillmode\":\"overlay\",\"size\":10,\"solidity\":0.2}},\"type\":\"barpolar\"}],\"bar\":[{\"error_x\":{\"color\":\"#2a3f5f\"},\"error_y\":{\"color\":\"#2a3f5f\"},\"marker\":{\"line\":{\"color\":\"#E5ECF6\",\"width\":0.5},\"pattern\":{\"fillmode\":\"overlay\",\"size\":10,\"solidity\":0.2}},\"type\":\"bar\"}],\"carpet\":[{\"aaxis\":{\"endlinecolor\":\"#2a3f5f\",\"gridcolor\":\"white\",\"linecolor\":\"white\",\"minorgridcolor\":\"white\",\"startlinecolor\":\"#2a3f5f\"},\"baxis\":{\"endlinecolor\":\"#2a3f5f\",\"gridcolor\":\"white\",\"linecolor\":\"white\",\"minorgridcolor\":\"white\",\"startlinecolor\":\"#2a3f5f\"},\"type\":\"carpet\"}],\"choropleth\":[{\"colorbar\":{\"outlinewidth\":0,\"ticks\":\"\"},\"type\":\"choropleth\"}],\"contourcarpet\":[{\"colorbar\":{\"outlinewidth\":0,\"ticks\":\"\"},\"type\":\"contourcarpet\"}],\"contour\":[{\"colorbar\":{\"outlinewidth\":0,\"ticks\":\"\"},\"colorscale\":[[0.0,\"#0d0887\"],[0.1111111111111111,\"#46039f\"],[0.2222222222222222,\"#7201a8\"],[0.3333333333333333,\"#9c179e\"],[0.4444444444444444,\"#bd3786\"],[0.5555555555555556,\"#d8576b\"],[0.6666666666666666,\"#ed7953\"],[0.7777777777777778,\"#fb9f3a\"],[0.8888888888888888,\"#fdca26\"],[1.0,\"#f0f921\"]],\"type\":\"contour\"}],\"heatmapgl\":[{\"colorbar\":{\"outlinewidth\":0,\"ticks\":\"\"},\"colorscale\":[[0.0,\"#0d0887\"],[0.1111111111111111,\"#46039f\"],[0.2222222222222222,\"#7201a8\"],[0.3333333333333333,\"#9c179e\"],[0.4444444444444444,\"#bd3786\"],[0.5555555555555556,\"#d8576b\"],[0.6666666666666666,\"#ed7953\"],[0.7777777777777778,\"#fb9f3a\"],[0.8888888888888888,\"#fdca26\"],[1.0,\"#f0f921\"]],\"type\":\"heatmapgl\"}],\"heatmap\":[{\"colorbar\":{\"outlinewidth\":0,\"ticks\":\"\"},\"colorscale\":[[0.0,\"#0d0887\"],[0.1111111111111111,\"#46039f\"],[0.2222222222222222,\"#7201a8\"],[0.3333333333333333,\"#9c179e\"],[0.4444444444444444,\"#bd3786\"],[0.5555555555555556,\"#d8576b\"],[0.6666666666666666,\"#ed7953\"],[0.7777777777777778,\"#fb9f3a\"],[0.8888888888888888,\"#fdca26\"],[1.0,\"#f0f921\"]],\"type\":\"heatmap\"}],\"histogram2dcontour\":[{\"colorbar\":{\"outlinewidth\":0,\"ticks\":\"\"},\"colorscale\":[[0.0,\"#0d0887\"],[0.1111111111111111,\"#46039f\"],[0.2222222222222222,\"#7201a8\"],[0.3333333333333333,\"#9c179e\"],[0.4444444444444444,\"#bd3786\"],[0.5555555555555556,\"#d8576b\"],[0.6666666666666666,\"#ed7953\"],[0.7777777777777778,\"#fb9f3a\"],[0.8888888888888888,\"#fdca26\"],[1.0,\"#f0f921\"]],\"type\":\"histogram2dcontour\"}],\"histogram2d\":[{\"colorbar\":{\"outlinewidth\":0,\"ticks\":\"\"},\"colorscale\":[[0.0,\"#0d0887\"],[0.1111111111111111,\"#46039f\"],[0.2222222222222222,\"#7201a8\"],[0.3333333333333333,\"#9c179e\"],[0.4444444444444444,\"#bd3786\"],[0.5555555555555556,\"#d8576b\"],[0.6666666666666666,\"#ed7953\"],[0.7777777777777778,\"#fb9f3a\"],[0.8888888888888888,\"#fdca26\"],[1.0,\"#f0f921\"]],\"type\":\"histogram2d\"}],\"histogram\":[{\"marker\":{\"pattern\":{\"fillmode\":\"overlay\",\"size\":10,\"solidity\":0.2}},\"type\":\"histogram\"}],\"mesh3d\":[{\"colorbar\":{\"outlinewidth\":0,\"ticks\":\"\"},\"type\":\"mesh3d\"}],\"parcoords\":[{\"line\":{\"colorbar\":{\"outlinewidth\":0,\"ticks\":\"\"}},\"type\":\"parcoords\"}],\"pie\":[{\"automargin\":true,\"type\":\"pie\"}],\"scatter3d\":[{\"line\":{\"colorbar\":{\"outlinewidth\":0,\"ticks\":\"\"}},\"marker\":{\"colorbar\":{\"outlinewidth\":0,\"ticks\":\"\"}},\"type\":\"scatter3d\"}],\"scattercarpet\":[{\"marker\":{\"colorbar\":{\"outlinewidth\":0,\"ticks\":\"\"}},\"type\":\"scattercarpet\"}],\"scattergeo\":[{\"marker\":{\"colorbar\":{\"outlinewidth\":0,\"ticks\":\"\"}},\"type\":\"scattergeo\"}],\"scattergl\":[{\"marker\":{\"colorbar\":{\"outlinewidth\":0,\"ticks\":\"\"}},\"type\":\"scattergl\"}],\"scattermapbox\":[{\"marker\":{\"colorbar\":{\"outlinewidth\":0,\"ticks\":\"\"}},\"type\":\"scattermapbox\"}],\"scatterpolargl\":[{\"marker\":{\"colorbar\":{\"outlinewidth\":0,\"ticks\":\"\"}},\"type\":\"scatterpolargl\"}],\"scatterpolar\":[{\"marker\":{\"colorbar\":{\"outlinewidth\":0,\"ticks\":\"\"}},\"type\":\"scatterpolar\"}],\"scatter\":[{\"fillpattern\":{\"fillmode\":\"overlay\",\"size\":10,\"solidity\":0.2},\"type\":\"scatter\"}],\"scatterternary\":[{\"marker\":{\"colorbar\":{\"outlinewidth\":0,\"ticks\":\"\"}},\"type\":\"scatterternary\"}],\"surface\":[{\"colorbar\":{\"outlinewidth\":0,\"ticks\":\"\"},\"colorscale\":[[0.0,\"#0d0887\"],[0.1111111111111111,\"#46039f\"],[0.2222222222222222,\"#7201a8\"],[0.3333333333333333,\"#9c179e\"],[0.4444444444444444,\"#bd3786\"],[0.5555555555555556,\"#d8576b\"],[0.6666666666666666,\"#ed7953\"],[0.7777777777777778,\"#fb9f3a\"],[0.8888888888888888,\"#fdca26\"],[1.0,\"#f0f921\"]],\"type\":\"surface\"}],\"table\":[{\"cells\":{\"fill\":{\"color\":\"#EBF0F8\"},\"line\":{\"color\":\"white\"}},\"header\":{\"fill\":{\"color\":\"#C8D4E3\"},\"line\":{\"color\":\"white\"}},\"type\":\"table\"}]},\"layout\":{\"annotationdefaults\":{\"arrowcolor\":\"#2a3f5f\",\"arrowhead\":0,\"arrowwidth\":1},\"autotypenumbers\":\"strict\",\"coloraxis\":{\"colorbar\":{\"outlinewidth\":0,\"ticks\":\"\"}},\"colorscale\":{\"diverging\":[[0,\"#8e0152\"],[0.1,\"#c51b7d\"],[0.2,\"#de77ae\"],[0.3,\"#f1b6da\"],[0.4,\"#fde0ef\"],[0.5,\"#f7f7f7\"],[0.6,\"#e6f5d0\"],[0.7,\"#b8e186\"],[0.8,\"#7fbc41\"],[0.9,\"#4d9221\"],[1,\"#276419\"]],\"sequential\":[[0.0,\"#0d0887\"],[0.1111111111111111,\"#46039f\"],[0.2222222222222222,\"#7201a8\"],[0.3333333333333333,\"#9c179e\"],[0.4444444444444444,\"#bd3786\"],[0.5555555555555556,\"#d8576b\"],[0.6666666666666666,\"#ed7953\"],[0.7777777777777778,\"#fb9f3a\"],[0.8888888888888888,\"#fdca26\"],[1.0,\"#f0f921\"]],\"sequentialminus\":[[0.0,\"#0d0887\"],[0.1111111111111111,\"#46039f\"],[0.2222222222222222,\"#7201a8\"],[0.3333333333333333,\"#9c179e\"],[0.4444444444444444,\"#bd3786\"],[0.5555555555555556,\"#d8576b\"],[0.6666666666666666,\"#ed7953\"],[0.7777777777777778,\"#fb9f3a\"],[0.8888888888888888,\"#fdca26\"],[1.0,\"#f0f921\"]]},\"colorway\":[\"#636efa\",\"#EF553B\",\"#00cc96\",\"#ab63fa\",\"#FFA15A\",\"#19d3f3\",\"#FF6692\",\"#B6E880\",\"#FF97FF\",\"#FECB52\"],\"font\":{\"color\":\"#2a3f5f\"},\"geo\":{\"bgcolor\":\"white\",\"lakecolor\":\"white\",\"landcolor\":\"#E5ECF6\",\"showlakes\":true,\"showland\":true,\"subunitcolor\":\"white\"},\"hoverlabel\":{\"align\":\"left\"},\"hovermode\":\"closest\",\"mapbox\":{\"style\":\"light\"},\"paper_bgcolor\":\"white\",\"plot_bgcolor\":\"#E5ECF6\",\"polar\":{\"angularaxis\":{\"gridcolor\":\"white\",\"linecolor\":\"white\",\"ticks\":\"\"},\"bgcolor\":\"#E5ECF6\",\"radialaxis\":{\"gridcolor\":\"white\",\"linecolor\":\"white\",\"ticks\":\"\"}},\"scene\":{\"xaxis\":{\"backgroundcolor\":\"#E5ECF6\",\"gridcolor\":\"white\",\"gridwidth\":2,\"linecolor\":\"white\",\"showbackground\":true,\"ticks\":\"\",\"zerolinecolor\":\"white\"},\"yaxis\":{\"backgroundcolor\":\"#E5ECF6\",\"gridcolor\":\"white\",\"gridwidth\":2,\"linecolor\":\"white\",\"showbackground\":true,\"ticks\":\"\",\"zerolinecolor\":\"white\"},\"zaxis\":{\"backgroundcolor\":\"#E5ECF6\",\"gridcolor\":\"white\",\"gridwidth\":2,\"linecolor\":\"white\",\"showbackground\":true,\"ticks\":\"\",\"zerolinecolor\":\"white\"}},\"shapedefaults\":{\"line\":{\"color\":\"#2a3f5f\"}},\"ternary\":{\"aaxis\":{\"gridcolor\":\"white\",\"linecolor\":\"white\",\"ticks\":\"\"},\"baxis\":{\"gridcolor\":\"white\",\"linecolor\":\"white\",\"ticks\":\"\"},\"bgcolor\":\"#E5ECF6\",\"caxis\":{\"gridcolor\":\"white\",\"linecolor\":\"white\",\"ticks\":\"\"}},\"title\":{\"x\":0.05},\"xaxis\":{\"automargin\":true,\"gridcolor\":\"white\",\"linecolor\":\"white\",\"ticks\":\"\",\"title\":{\"standoff\":15},\"zerolinecolor\":\"white\",\"zerolinewidth\":2},\"yaxis\":{\"automargin\":true,\"gridcolor\":\"white\",\"linecolor\":\"white\",\"ticks\":\"\",\"title\":{\"standoff\":15},\"zerolinecolor\":\"white\",\"zerolinewidth\":2}}},\"title\":{\"font\":{\"color\":\"#4D5663\"},\"text\":\"Amazon Adj Close\"},\"xaxis\":{\"gridcolor\":\"#E1E5ED\",\"showgrid\":true,\"tickfont\":{\"color\":\"#4D5663\"},\"title\":{\"font\":{\"color\":\"#4D5663\"},\"text\":\"\"},\"zerolinecolor\":\"#E1E5ED\"},\"yaxis\":{\"gridcolor\":\"#E1E5ED\",\"showgrid\":true,\"tickfont\":{\"color\":\"#4D5663\"},\"title\":{\"font\":{\"color\":\"#4D5663\"},\"text\":\"\"},\"zerolinecolor\":\"#E1E5ED\"}},                        {\"showLink\": true, \"linkText\": \"Export to plot.ly\", \"plotlyServerURL\": \"https://plot.ly\", \"responsive\": true}                    ).then(function(){\n",
       "                            \n",
       "var gd = document.getElementById('c726d6a8-0443-4b07-b6f3-2cc48804899a');\n",
       "var x = new MutationObserver(function (mutations, observer) {{\n",
       "        var display = window.getComputedStyle(gd).display;\n",
       "        if (!display || display === 'none') {{\n",
       "            console.log([gd, 'removed!']);\n",
       "            Plotly.purge(gd);\n",
       "            observer.disconnect();\n",
       "        }}\n",
       "}});\n",
       "\n",
       "// Listen for the removal of the full notebook cells\n",
       "var notebookContainer = gd.closest('#notebook-container');\n",
       "if (notebookContainer) {{\n",
       "    x.observe(notebookContainer, {childList: true});\n",
       "}}\n",
       "\n",
       "// Listen for the clearing of the current output cell\n",
       "var outputEl = gd.closest('.output');\n",
       "if (outputEl) {{\n",
       "    x.observe(outputEl, {childList: true});\n",
       "}}\n",
       "\n",
       "                        })                };                });            </script>        </div>"
      ]
     },
     "metadata": {},
     "output_type": "display_data"
    }
   ],
   "source": [
    "ohlcv['AMZN']['Adj Close'].iplot(kind='line', title='Amazon Adj Close')"
   ]
  },
  {
   "cell_type": "code",
   "execution_count": 47,
   "metadata": {},
   "outputs": [
    {
     "data": {
      "application/vnd.plotly.v1+json": {
       "config": {
        "linkText": "Export to plot.ly",
        "plotlyServerURL": "https://plot.ly",
        "showLink": true
       },
       "data": [
        {
         "close": [
          388.0799865722656,
          387.8599853515625,
          390.5799865722656,
          395.5199890136719,
          396.9599914550781,
          398.5,
          397.7699890136719,
          391.489990234375,
          388.6400146484375,
          395.8800048828125,
          400.6300048828125,
          400.20001220703125,
          400.3500061035156,
          404.75,
          405.67999267578125,
          400.5899963378906,
          406.4800109863281,
          410.79998779296875,
          416.7799987792969,
          412.3500061035156,
          409.8299865722656,
          415.19000244140625,
          410.6499938964844,
          407.0899963378906,
          408.0400085449219,
          412.8299865722656,
          412.6400146484375,
          413.9800109863281,
          408.2799987792969,
          407.260009765625
         ],
         "high": [
          389.25,
          393.70001220703125,
          390.6499938964844,
          395.6000061035156,
          398.489990234375,
          399.1000061035156,
          400.2300109863281,
          400.1199951171875,
          391.0799865722656,
          396.0400085449219,
          402.6499938964844,
          401.1499938964844,
          400.70001220703125,
          404.9200134277344,
          408.1600036621094,
          405.1300048828125,
          406.5299987792969,
          413.6700134277344,
          418.30999755859375,
          416.9700012207031,
          411.2900085449219,
          416.489990234375,
          414.5299987792969,
          414.57000732421875,
          408.44000244140625,
          412.9700012207031,
          415.04998779296875,
          414.05999755859375,
          412.9100036621094,
          407.510009765625
         ],
         "low": [
          379.4100036621094,
          387.6700134277344,
          386.2699890136719,
          391.3800048828125,
          392.4200134277344,
          393.3399963378906,
          397.05999755859375,
          391.2799987792969,
          387.260009765625,
          388.3800048828125,
          395.7200012207031,
          397.6400146484375,
          393.55999755859375,
          400.0299987792969,
          403.44000244140625,
          400.2799987792969,
          400.7699890136719,
          402.3500061035156,
          412.8800048828125,
          411.0899963378906,
          408.1000061035156,
          407.57000732421875,
          409.92999267578125,
          405.80999755859375,
          405.010009765625,
          408.239990234375,
          408.510009765625,
          409.4700012207031,
          408.1400146484375,
          404.04998779296875
         ],
         "open": [
          382.6099853515625,
          390.3699951171875,
          387.25,
          392.2300109863281,
          396.6700134277344,
          393.6199951171875,
          398.4800109863281,
          399.010009765625,
          389.3599853515625,
          390.1000061035156,
          396.7200012207031,
          398.8800048828125,
          395.95001220703125,
          403.1300048828125,
          403.6600036621094,
          402.79998779296875,
          401.1300048828125,
          405.2099914550781,
          414.8599853515625,
          411.5899963378906,
          409.7900085449219,
          408.8699951171875,
          413.1300048828125,
          414.4100036621094,
          405.8599853515625,
          408.7200012207031,
          411.239990234375,
          410.3500061035156,
          408.7900085449219,
          406.05999755859375
         ],
         "showlegend": false,
         "type": "ohlc",
         "x": [
          "2023-01-06 00:00:00-05:00",
          "2023-01-09 00:00:00-05:00",
          "2023-01-10 00:00:00-05:00",
          "2023-01-11 00:00:00-05:00",
          "2023-01-12 00:00:00-05:00",
          "2023-01-13 00:00:00-05:00",
          "2023-01-17 00:00:00-05:00",
          "2023-01-18 00:00:00-05:00",
          "2023-01-19 00:00:00-05:00",
          "2023-01-20 00:00:00-05:00",
          "2023-01-23 00:00:00-05:00",
          "2023-01-24 00:00:00-05:00",
          "2023-01-25 00:00:00-05:00",
          "2023-01-26 00:00:00-05:00",
          "2023-01-27 00:00:00-05:00",
          "2023-01-30 00:00:00-05:00",
          "2023-01-31 00:00:00-05:00",
          "2023-02-01 00:00:00-05:00",
          "2023-02-02 00:00:00-05:00",
          "2023-02-03 00:00:00-05:00",
          "2023-02-06 00:00:00-05:00",
          "2023-02-07 00:00:00-05:00",
          "2023-02-08 00:00:00-05:00",
          "2023-02-09 00:00:00-05:00",
          "2023-02-10 00:00:00-05:00",
          "2023-02-13 00:00:00-05:00",
          "2023-02-14 00:00:00-05:00",
          "2023-02-15 00:00:00-05:00",
          "2023-02-16 00:00:00-05:00",
          "2023-02-17 00:00:00-05:00"
         ],
         "yaxis": "y2"
        }
       ],
       "layout": {
        "legend": {
         "bgcolor": "#F5F6F9",
         "font": {
          "color": "#4D5663"
         }
        },
        "paper_bgcolor": "#F5F6F9",
        "plot_bgcolor": "#F5F6F9",
        "template": {
         "data": {
          "bar": [
           {
            "error_x": {
             "color": "#2a3f5f"
            },
            "error_y": {
             "color": "#2a3f5f"
            },
            "marker": {
             "line": {
              "color": "#E5ECF6",
              "width": 0.5
             },
             "pattern": {
              "fillmode": "overlay",
              "size": 10,
              "solidity": 0.2
             }
            },
            "type": "bar"
           }
          ],
          "barpolar": [
           {
            "marker": {
             "line": {
              "color": "#E5ECF6",
              "width": 0.5
             },
             "pattern": {
              "fillmode": "overlay",
              "size": 10,
              "solidity": 0.2
             }
            },
            "type": "barpolar"
           }
          ],
          "carpet": [
           {
            "aaxis": {
             "endlinecolor": "#2a3f5f",
             "gridcolor": "white",
             "linecolor": "white",
             "minorgridcolor": "white",
             "startlinecolor": "#2a3f5f"
            },
            "baxis": {
             "endlinecolor": "#2a3f5f",
             "gridcolor": "white",
             "linecolor": "white",
             "minorgridcolor": "white",
             "startlinecolor": "#2a3f5f"
            },
            "type": "carpet"
           }
          ],
          "choropleth": [
           {
            "colorbar": {
             "outlinewidth": 0,
             "ticks": ""
            },
            "type": "choropleth"
           }
          ],
          "contour": [
           {
            "colorbar": {
             "outlinewidth": 0,
             "ticks": ""
            },
            "colorscale": [
             [
              0,
              "#0d0887"
             ],
             [
              0.1111111111111111,
              "#46039f"
             ],
             [
              0.2222222222222222,
              "#7201a8"
             ],
             [
              0.3333333333333333,
              "#9c179e"
             ],
             [
              0.4444444444444444,
              "#bd3786"
             ],
             [
              0.5555555555555556,
              "#d8576b"
             ],
             [
              0.6666666666666666,
              "#ed7953"
             ],
             [
              0.7777777777777778,
              "#fb9f3a"
             ],
             [
              0.8888888888888888,
              "#fdca26"
             ],
             [
              1,
              "#f0f921"
             ]
            ],
            "type": "contour"
           }
          ],
          "contourcarpet": [
           {
            "colorbar": {
             "outlinewidth": 0,
             "ticks": ""
            },
            "type": "contourcarpet"
           }
          ],
          "heatmap": [
           {
            "colorbar": {
             "outlinewidth": 0,
             "ticks": ""
            },
            "colorscale": [
             [
              0,
              "#0d0887"
             ],
             [
              0.1111111111111111,
              "#46039f"
             ],
             [
              0.2222222222222222,
              "#7201a8"
             ],
             [
              0.3333333333333333,
              "#9c179e"
             ],
             [
              0.4444444444444444,
              "#bd3786"
             ],
             [
              0.5555555555555556,
              "#d8576b"
             ],
             [
              0.6666666666666666,
              "#ed7953"
             ],
             [
              0.7777777777777778,
              "#fb9f3a"
             ],
             [
              0.8888888888888888,
              "#fdca26"
             ],
             [
              1,
              "#f0f921"
             ]
            ],
            "type": "heatmap"
           }
          ],
          "heatmapgl": [
           {
            "colorbar": {
             "outlinewidth": 0,
             "ticks": ""
            },
            "colorscale": [
             [
              0,
              "#0d0887"
             ],
             [
              0.1111111111111111,
              "#46039f"
             ],
             [
              0.2222222222222222,
              "#7201a8"
             ],
             [
              0.3333333333333333,
              "#9c179e"
             ],
             [
              0.4444444444444444,
              "#bd3786"
             ],
             [
              0.5555555555555556,
              "#d8576b"
             ],
             [
              0.6666666666666666,
              "#ed7953"
             ],
             [
              0.7777777777777778,
              "#fb9f3a"
             ],
             [
              0.8888888888888888,
              "#fdca26"
             ],
             [
              1,
              "#f0f921"
             ]
            ],
            "type": "heatmapgl"
           }
          ],
          "histogram": [
           {
            "marker": {
             "pattern": {
              "fillmode": "overlay",
              "size": 10,
              "solidity": 0.2
             }
            },
            "type": "histogram"
           }
          ],
          "histogram2d": [
           {
            "colorbar": {
             "outlinewidth": 0,
             "ticks": ""
            },
            "colorscale": [
             [
              0,
              "#0d0887"
             ],
             [
              0.1111111111111111,
              "#46039f"
             ],
             [
              0.2222222222222222,
              "#7201a8"
             ],
             [
              0.3333333333333333,
              "#9c179e"
             ],
             [
              0.4444444444444444,
              "#bd3786"
             ],
             [
              0.5555555555555556,
              "#d8576b"
             ],
             [
              0.6666666666666666,
              "#ed7953"
             ],
             [
              0.7777777777777778,
              "#fb9f3a"
             ],
             [
              0.8888888888888888,
              "#fdca26"
             ],
             [
              1,
              "#f0f921"
             ]
            ],
            "type": "histogram2d"
           }
          ],
          "histogram2dcontour": [
           {
            "colorbar": {
             "outlinewidth": 0,
             "ticks": ""
            },
            "colorscale": [
             [
              0,
              "#0d0887"
             ],
             [
              0.1111111111111111,
              "#46039f"
             ],
             [
              0.2222222222222222,
              "#7201a8"
             ],
             [
              0.3333333333333333,
              "#9c179e"
             ],
             [
              0.4444444444444444,
              "#bd3786"
             ],
             [
              0.5555555555555556,
              "#d8576b"
             ],
             [
              0.6666666666666666,
              "#ed7953"
             ],
             [
              0.7777777777777778,
              "#fb9f3a"
             ],
             [
              0.8888888888888888,
              "#fdca26"
             ],
             [
              1,
              "#f0f921"
             ]
            ],
            "type": "histogram2dcontour"
           }
          ],
          "mesh3d": [
           {
            "colorbar": {
             "outlinewidth": 0,
             "ticks": ""
            },
            "type": "mesh3d"
           }
          ],
          "parcoords": [
           {
            "line": {
             "colorbar": {
              "outlinewidth": 0,
              "ticks": ""
             }
            },
            "type": "parcoords"
           }
          ],
          "pie": [
           {
            "automargin": true,
            "type": "pie"
           }
          ],
          "scatter": [
           {
            "fillpattern": {
             "fillmode": "overlay",
             "size": 10,
             "solidity": 0.2
            },
            "type": "scatter"
           }
          ],
          "scatter3d": [
           {
            "line": {
             "colorbar": {
              "outlinewidth": 0,
              "ticks": ""
             }
            },
            "marker": {
             "colorbar": {
              "outlinewidth": 0,
              "ticks": ""
             }
            },
            "type": "scatter3d"
           }
          ],
          "scattercarpet": [
           {
            "marker": {
             "colorbar": {
              "outlinewidth": 0,
              "ticks": ""
             }
            },
            "type": "scattercarpet"
           }
          ],
          "scattergeo": [
           {
            "marker": {
             "colorbar": {
              "outlinewidth": 0,
              "ticks": ""
             }
            },
            "type": "scattergeo"
           }
          ],
          "scattergl": [
           {
            "marker": {
             "colorbar": {
              "outlinewidth": 0,
              "ticks": ""
             }
            },
            "type": "scattergl"
           }
          ],
          "scattermapbox": [
           {
            "marker": {
             "colorbar": {
              "outlinewidth": 0,
              "ticks": ""
             }
            },
            "type": "scattermapbox"
           }
          ],
          "scatterpolar": [
           {
            "marker": {
             "colorbar": {
              "outlinewidth": 0,
              "ticks": ""
             }
            },
            "type": "scatterpolar"
           }
          ],
          "scatterpolargl": [
           {
            "marker": {
             "colorbar": {
              "outlinewidth": 0,
              "ticks": ""
             }
            },
            "type": "scatterpolargl"
           }
          ],
          "scatterternary": [
           {
            "marker": {
             "colorbar": {
              "outlinewidth": 0,
              "ticks": ""
             }
            },
            "type": "scatterternary"
           }
          ],
          "surface": [
           {
            "colorbar": {
             "outlinewidth": 0,
             "ticks": ""
            },
            "colorscale": [
             [
              0,
              "#0d0887"
             ],
             [
              0.1111111111111111,
              "#46039f"
             ],
             [
              0.2222222222222222,
              "#7201a8"
             ],
             [
              0.3333333333333333,
              "#9c179e"
             ],
             [
              0.4444444444444444,
              "#bd3786"
             ],
             [
              0.5555555555555556,
              "#d8576b"
             ],
             [
              0.6666666666666666,
              "#ed7953"
             ],
             [
              0.7777777777777778,
              "#fb9f3a"
             ],
             [
              0.8888888888888888,
              "#fdca26"
             ],
             [
              1,
              "#f0f921"
             ]
            ],
            "type": "surface"
           }
          ],
          "table": [
           {
            "cells": {
             "fill": {
              "color": "#EBF0F8"
             },
             "line": {
              "color": "white"
             }
            },
            "header": {
             "fill": {
              "color": "#C8D4E3"
             },
             "line": {
              "color": "white"
             }
            },
            "type": "table"
           }
          ]
         },
         "layout": {
          "annotationdefaults": {
           "arrowcolor": "#2a3f5f",
           "arrowhead": 0,
           "arrowwidth": 1
          },
          "autotypenumbers": "strict",
          "coloraxis": {
           "colorbar": {
            "outlinewidth": 0,
            "ticks": ""
           }
          },
          "colorscale": {
           "diverging": [
            [
             0,
             "#8e0152"
            ],
            [
             0.1,
             "#c51b7d"
            ],
            [
             0.2,
             "#de77ae"
            ],
            [
             0.3,
             "#f1b6da"
            ],
            [
             0.4,
             "#fde0ef"
            ],
            [
             0.5,
             "#f7f7f7"
            ],
            [
             0.6,
             "#e6f5d0"
            ],
            [
             0.7,
             "#b8e186"
            ],
            [
             0.8,
             "#7fbc41"
            ],
            [
             0.9,
             "#4d9221"
            ],
            [
             1,
             "#276419"
            ]
           ],
           "sequential": [
            [
             0,
             "#0d0887"
            ],
            [
             0.1111111111111111,
             "#46039f"
            ],
            [
             0.2222222222222222,
             "#7201a8"
            ],
            [
             0.3333333333333333,
             "#9c179e"
            ],
            [
             0.4444444444444444,
             "#bd3786"
            ],
            [
             0.5555555555555556,
             "#d8576b"
            ],
            [
             0.6666666666666666,
             "#ed7953"
            ],
            [
             0.7777777777777778,
             "#fb9f3a"
            ],
            [
             0.8888888888888888,
             "#fdca26"
            ],
            [
             1,
             "#f0f921"
            ]
           ],
           "sequentialminus": [
            [
             0,
             "#0d0887"
            ],
            [
             0.1111111111111111,
             "#46039f"
            ],
            [
             0.2222222222222222,
             "#7201a8"
            ],
            [
             0.3333333333333333,
             "#9c179e"
            ],
            [
             0.4444444444444444,
             "#bd3786"
            ],
            [
             0.5555555555555556,
             "#d8576b"
            ],
            [
             0.6666666666666666,
             "#ed7953"
            ],
            [
             0.7777777777777778,
             "#fb9f3a"
            ],
            [
             0.8888888888888888,
             "#fdca26"
            ],
            [
             1,
             "#f0f921"
            ]
           ]
          },
          "colorway": [
           "#636efa",
           "#EF553B",
           "#00cc96",
           "#ab63fa",
           "#FFA15A",
           "#19d3f3",
           "#FF6692",
           "#B6E880",
           "#FF97FF",
           "#FECB52"
          ],
          "font": {
           "color": "#2a3f5f"
          },
          "geo": {
           "bgcolor": "white",
           "lakecolor": "white",
           "landcolor": "#E5ECF6",
           "showlakes": true,
           "showland": true,
           "subunitcolor": "white"
          },
          "hoverlabel": {
           "align": "left"
          },
          "hovermode": "closest",
          "mapbox": {
           "style": "light"
          },
          "paper_bgcolor": "white",
          "plot_bgcolor": "#E5ECF6",
          "polar": {
           "angularaxis": {
            "gridcolor": "white",
            "linecolor": "white",
            "ticks": ""
           },
           "bgcolor": "#E5ECF6",
           "radialaxis": {
            "gridcolor": "white",
            "linecolor": "white",
            "ticks": ""
           }
          },
          "scene": {
           "xaxis": {
            "backgroundcolor": "#E5ECF6",
            "gridcolor": "white",
            "gridwidth": 2,
            "linecolor": "white",
            "showbackground": true,
            "ticks": "",
            "zerolinecolor": "white"
           },
           "yaxis": {
            "backgroundcolor": "#E5ECF6",
            "gridcolor": "white",
            "gridwidth": 2,
            "linecolor": "white",
            "showbackground": true,
            "ticks": "",
            "zerolinecolor": "white"
           },
           "zaxis": {
            "backgroundcolor": "#E5ECF6",
            "gridcolor": "white",
            "gridwidth": 2,
            "linecolor": "white",
            "showbackground": true,
            "ticks": "",
            "zerolinecolor": "white"
           }
          },
          "shapedefaults": {
           "line": {
            "color": "#2a3f5f"
           }
          },
          "ternary": {
           "aaxis": {
            "gridcolor": "white",
            "linecolor": "white",
            "ticks": ""
           },
           "baxis": {
            "gridcolor": "white",
            "linecolor": "white",
            "ticks": ""
           },
           "bgcolor": "#E5ECF6",
           "caxis": {
            "gridcolor": "white",
            "linecolor": "white",
            "ticks": ""
           }
          },
          "title": {
           "x": 0.05
          },
          "xaxis": {
           "automargin": true,
           "gridcolor": "white",
           "linecolor": "white",
           "ticks": "",
           "title": {
            "standoff": 15
           },
           "zerolinecolor": "white",
           "zerolinewidth": 2
          },
          "yaxis": {
           "automargin": true,
           "gridcolor": "white",
           "linecolor": "white",
           "ticks": "",
           "title": {
            "standoff": 15
           },
           "zerolinecolor": "white",
           "zerolinewidth": 2
          }
         }
        },
        "title": {
         "font": {
          "color": "#4D5663"
         },
         "text": "SPY Price"
        },
        "xaxis": {
         "gridcolor": "#E1E5ED",
         "rangeslider": {
          "visible": false
         },
         "showgrid": true,
         "tickfont": {
          "color": "#4D5663"
         },
         "title": {
          "font": {
           "color": "#4D5663"
          },
          "text": ""
         },
         "zerolinecolor": "#E1E5ED"
        },
        "yaxis": {
         "gridcolor": "#E1E5ED",
         "showgrid": true,
         "showticklabels": false,
         "tickfont": {
          "color": "#4D5663"
         },
         "title": {
          "font": {
           "color": "#4D5663"
          },
          "text": ""
         },
         "zerolinecolor": "#E1E5ED"
        },
        "yaxis2": {
         "gridcolor": "#E1E5ED",
         "showgrid": true,
         "tickfont": {
          "color": "#4D5663"
         },
         "title": {
          "font": {
           "color": "#4D5663"
          },
          "text": ""
         },
         "zerolinecolor": "#E1E5ED"
        }
       }
      },
      "text/html": [
       "<div>                            <div id=\"a8614c38-3239-49d2-bd61-f4d7eb74e710\" class=\"plotly-graph-div\" style=\"height:525px; width:100%;\"></div>            <script type=\"text/javascript\">                require([\"plotly\"], function(Plotly) {                    window.PLOTLYENV=window.PLOTLYENV || {};\n",
       "                    window.PLOTLYENV.BASE_URL='https://plot.ly';                                    if (document.getElementById(\"a8614c38-3239-49d2-bd61-f4d7eb74e710\")) {                    Plotly.newPlot(                        \"a8614c38-3239-49d2-bd61-f4d7eb74e710\",                        [{\"close\":[388.0799865722656,387.8599853515625,390.5799865722656,395.5199890136719,396.9599914550781,398.5,397.7699890136719,391.489990234375,388.6400146484375,395.8800048828125,400.6300048828125,400.20001220703125,400.3500061035156,404.75,405.67999267578125,400.5899963378906,406.4800109863281,410.79998779296875,416.7799987792969,412.3500061035156,409.8299865722656,415.19000244140625,410.6499938964844,407.0899963378906,408.0400085449219,412.8299865722656,412.6400146484375,413.9800109863281,408.2799987792969,407.260009765625],\"high\":[389.25,393.70001220703125,390.6499938964844,395.6000061035156,398.489990234375,399.1000061035156,400.2300109863281,400.1199951171875,391.0799865722656,396.0400085449219,402.6499938964844,401.1499938964844,400.70001220703125,404.9200134277344,408.1600036621094,405.1300048828125,406.5299987792969,413.6700134277344,418.30999755859375,416.9700012207031,411.2900085449219,416.489990234375,414.5299987792969,414.57000732421875,408.44000244140625,412.9700012207031,415.04998779296875,414.05999755859375,412.9100036621094,407.510009765625],\"low\":[379.4100036621094,387.6700134277344,386.2699890136719,391.3800048828125,392.4200134277344,393.3399963378906,397.05999755859375,391.2799987792969,387.260009765625,388.3800048828125,395.7200012207031,397.6400146484375,393.55999755859375,400.0299987792969,403.44000244140625,400.2799987792969,400.7699890136719,402.3500061035156,412.8800048828125,411.0899963378906,408.1000061035156,407.57000732421875,409.92999267578125,405.80999755859375,405.010009765625,408.239990234375,408.510009765625,409.4700012207031,408.1400146484375,404.04998779296875],\"open\":[382.6099853515625,390.3699951171875,387.25,392.2300109863281,396.6700134277344,393.6199951171875,398.4800109863281,399.010009765625,389.3599853515625,390.1000061035156,396.7200012207031,398.8800048828125,395.95001220703125,403.1300048828125,403.6600036621094,402.79998779296875,401.1300048828125,405.2099914550781,414.8599853515625,411.5899963378906,409.7900085449219,408.8699951171875,413.1300048828125,414.4100036621094,405.8599853515625,408.7200012207031,411.239990234375,410.3500061035156,408.7900085449219,406.05999755859375],\"showlegend\":false,\"x\":[\"2023-01-06 00:00:00-05:00\",\"2023-01-09 00:00:00-05:00\",\"2023-01-10 00:00:00-05:00\",\"2023-01-11 00:00:00-05:00\",\"2023-01-12 00:00:00-05:00\",\"2023-01-13 00:00:00-05:00\",\"2023-01-17 00:00:00-05:00\",\"2023-01-18 00:00:00-05:00\",\"2023-01-19 00:00:00-05:00\",\"2023-01-20 00:00:00-05:00\",\"2023-01-23 00:00:00-05:00\",\"2023-01-24 00:00:00-05:00\",\"2023-01-25 00:00:00-05:00\",\"2023-01-26 00:00:00-05:00\",\"2023-01-27 00:00:00-05:00\",\"2023-01-30 00:00:00-05:00\",\"2023-01-31 00:00:00-05:00\",\"2023-02-01 00:00:00-05:00\",\"2023-02-02 00:00:00-05:00\",\"2023-02-03 00:00:00-05:00\",\"2023-02-06 00:00:00-05:00\",\"2023-02-07 00:00:00-05:00\",\"2023-02-08 00:00:00-05:00\",\"2023-02-09 00:00:00-05:00\",\"2023-02-10 00:00:00-05:00\",\"2023-02-13 00:00:00-05:00\",\"2023-02-14 00:00:00-05:00\",\"2023-02-15 00:00:00-05:00\",\"2023-02-16 00:00:00-05:00\",\"2023-02-17 00:00:00-05:00\"],\"yaxis\":\"y2\",\"type\":\"ohlc\"}],                        {\"legend\":{\"bgcolor\":\"#F5F6F9\",\"font\":{\"color\":\"#4D5663\"}},\"paper_bgcolor\":\"#F5F6F9\",\"plot_bgcolor\":\"#F5F6F9\",\"template\":{\"data\":{\"barpolar\":[{\"marker\":{\"line\":{\"color\":\"#E5ECF6\",\"width\":0.5},\"pattern\":{\"fillmode\":\"overlay\",\"size\":10,\"solidity\":0.2}},\"type\":\"barpolar\"}],\"bar\":[{\"error_x\":{\"color\":\"#2a3f5f\"},\"error_y\":{\"color\":\"#2a3f5f\"},\"marker\":{\"line\":{\"color\":\"#E5ECF6\",\"width\":0.5},\"pattern\":{\"fillmode\":\"overlay\",\"size\":10,\"solidity\":0.2}},\"type\":\"bar\"}],\"carpet\":[{\"aaxis\":{\"endlinecolor\":\"#2a3f5f\",\"gridcolor\":\"white\",\"linecolor\":\"white\",\"minorgridcolor\":\"white\",\"startlinecolor\":\"#2a3f5f\"},\"baxis\":{\"endlinecolor\":\"#2a3f5f\",\"gridcolor\":\"white\",\"linecolor\":\"white\",\"minorgridcolor\":\"white\",\"startlinecolor\":\"#2a3f5f\"},\"type\":\"carpet\"}],\"choropleth\":[{\"colorbar\":{\"outlinewidth\":0,\"ticks\":\"\"},\"type\":\"choropleth\"}],\"contourcarpet\":[{\"colorbar\":{\"outlinewidth\":0,\"ticks\":\"\"},\"type\":\"contourcarpet\"}],\"contour\":[{\"colorbar\":{\"outlinewidth\":0,\"ticks\":\"\"},\"colorscale\":[[0.0,\"#0d0887\"],[0.1111111111111111,\"#46039f\"],[0.2222222222222222,\"#7201a8\"],[0.3333333333333333,\"#9c179e\"],[0.4444444444444444,\"#bd3786\"],[0.5555555555555556,\"#d8576b\"],[0.6666666666666666,\"#ed7953\"],[0.7777777777777778,\"#fb9f3a\"],[0.8888888888888888,\"#fdca26\"],[1.0,\"#f0f921\"]],\"type\":\"contour\"}],\"heatmapgl\":[{\"colorbar\":{\"outlinewidth\":0,\"ticks\":\"\"},\"colorscale\":[[0.0,\"#0d0887\"],[0.1111111111111111,\"#46039f\"],[0.2222222222222222,\"#7201a8\"],[0.3333333333333333,\"#9c179e\"],[0.4444444444444444,\"#bd3786\"],[0.5555555555555556,\"#d8576b\"],[0.6666666666666666,\"#ed7953\"],[0.7777777777777778,\"#fb9f3a\"],[0.8888888888888888,\"#fdca26\"],[1.0,\"#f0f921\"]],\"type\":\"heatmapgl\"}],\"heatmap\":[{\"colorbar\":{\"outlinewidth\":0,\"ticks\":\"\"},\"colorscale\":[[0.0,\"#0d0887\"],[0.1111111111111111,\"#46039f\"],[0.2222222222222222,\"#7201a8\"],[0.3333333333333333,\"#9c179e\"],[0.4444444444444444,\"#bd3786\"],[0.5555555555555556,\"#d8576b\"],[0.6666666666666666,\"#ed7953\"],[0.7777777777777778,\"#fb9f3a\"],[0.8888888888888888,\"#fdca26\"],[1.0,\"#f0f921\"]],\"type\":\"heatmap\"}],\"histogram2dcontour\":[{\"colorbar\":{\"outlinewidth\":0,\"ticks\":\"\"},\"colorscale\":[[0.0,\"#0d0887\"],[0.1111111111111111,\"#46039f\"],[0.2222222222222222,\"#7201a8\"],[0.3333333333333333,\"#9c179e\"],[0.4444444444444444,\"#bd3786\"],[0.5555555555555556,\"#d8576b\"],[0.6666666666666666,\"#ed7953\"],[0.7777777777777778,\"#fb9f3a\"],[0.8888888888888888,\"#fdca26\"],[1.0,\"#f0f921\"]],\"type\":\"histogram2dcontour\"}],\"histogram2d\":[{\"colorbar\":{\"outlinewidth\":0,\"ticks\":\"\"},\"colorscale\":[[0.0,\"#0d0887\"],[0.1111111111111111,\"#46039f\"],[0.2222222222222222,\"#7201a8\"],[0.3333333333333333,\"#9c179e\"],[0.4444444444444444,\"#bd3786\"],[0.5555555555555556,\"#d8576b\"],[0.6666666666666666,\"#ed7953\"],[0.7777777777777778,\"#fb9f3a\"],[0.8888888888888888,\"#fdca26\"],[1.0,\"#f0f921\"]],\"type\":\"histogram2d\"}],\"histogram\":[{\"marker\":{\"pattern\":{\"fillmode\":\"overlay\",\"size\":10,\"solidity\":0.2}},\"type\":\"histogram\"}],\"mesh3d\":[{\"colorbar\":{\"outlinewidth\":0,\"ticks\":\"\"},\"type\":\"mesh3d\"}],\"parcoords\":[{\"line\":{\"colorbar\":{\"outlinewidth\":0,\"ticks\":\"\"}},\"type\":\"parcoords\"}],\"pie\":[{\"automargin\":true,\"type\":\"pie\"}],\"scatter3d\":[{\"line\":{\"colorbar\":{\"outlinewidth\":0,\"ticks\":\"\"}},\"marker\":{\"colorbar\":{\"outlinewidth\":0,\"ticks\":\"\"}},\"type\":\"scatter3d\"}],\"scattercarpet\":[{\"marker\":{\"colorbar\":{\"outlinewidth\":0,\"ticks\":\"\"}},\"type\":\"scattercarpet\"}],\"scattergeo\":[{\"marker\":{\"colorbar\":{\"outlinewidth\":0,\"ticks\":\"\"}},\"type\":\"scattergeo\"}],\"scattergl\":[{\"marker\":{\"colorbar\":{\"outlinewidth\":0,\"ticks\":\"\"}},\"type\":\"scattergl\"}],\"scattermapbox\":[{\"marker\":{\"colorbar\":{\"outlinewidth\":0,\"ticks\":\"\"}},\"type\":\"scattermapbox\"}],\"scatterpolargl\":[{\"marker\":{\"colorbar\":{\"outlinewidth\":0,\"ticks\":\"\"}},\"type\":\"scatterpolargl\"}],\"scatterpolar\":[{\"marker\":{\"colorbar\":{\"outlinewidth\":0,\"ticks\":\"\"}},\"type\":\"scatterpolar\"}],\"scatter\":[{\"fillpattern\":{\"fillmode\":\"overlay\",\"size\":10,\"solidity\":0.2},\"type\":\"scatter\"}],\"scatterternary\":[{\"marker\":{\"colorbar\":{\"outlinewidth\":0,\"ticks\":\"\"}},\"type\":\"scatterternary\"}],\"surface\":[{\"colorbar\":{\"outlinewidth\":0,\"ticks\":\"\"},\"colorscale\":[[0.0,\"#0d0887\"],[0.1111111111111111,\"#46039f\"],[0.2222222222222222,\"#7201a8\"],[0.3333333333333333,\"#9c179e\"],[0.4444444444444444,\"#bd3786\"],[0.5555555555555556,\"#d8576b\"],[0.6666666666666666,\"#ed7953\"],[0.7777777777777778,\"#fb9f3a\"],[0.8888888888888888,\"#fdca26\"],[1.0,\"#f0f921\"]],\"type\":\"surface\"}],\"table\":[{\"cells\":{\"fill\":{\"color\":\"#EBF0F8\"},\"line\":{\"color\":\"white\"}},\"header\":{\"fill\":{\"color\":\"#C8D4E3\"},\"line\":{\"color\":\"white\"}},\"type\":\"table\"}]},\"layout\":{\"annotationdefaults\":{\"arrowcolor\":\"#2a3f5f\",\"arrowhead\":0,\"arrowwidth\":1},\"autotypenumbers\":\"strict\",\"coloraxis\":{\"colorbar\":{\"outlinewidth\":0,\"ticks\":\"\"}},\"colorscale\":{\"diverging\":[[0,\"#8e0152\"],[0.1,\"#c51b7d\"],[0.2,\"#de77ae\"],[0.3,\"#f1b6da\"],[0.4,\"#fde0ef\"],[0.5,\"#f7f7f7\"],[0.6,\"#e6f5d0\"],[0.7,\"#b8e186\"],[0.8,\"#7fbc41\"],[0.9,\"#4d9221\"],[1,\"#276419\"]],\"sequential\":[[0.0,\"#0d0887\"],[0.1111111111111111,\"#46039f\"],[0.2222222222222222,\"#7201a8\"],[0.3333333333333333,\"#9c179e\"],[0.4444444444444444,\"#bd3786\"],[0.5555555555555556,\"#d8576b\"],[0.6666666666666666,\"#ed7953\"],[0.7777777777777778,\"#fb9f3a\"],[0.8888888888888888,\"#fdca26\"],[1.0,\"#f0f921\"]],\"sequentialminus\":[[0.0,\"#0d0887\"],[0.1111111111111111,\"#46039f\"],[0.2222222222222222,\"#7201a8\"],[0.3333333333333333,\"#9c179e\"],[0.4444444444444444,\"#bd3786\"],[0.5555555555555556,\"#d8576b\"],[0.6666666666666666,\"#ed7953\"],[0.7777777777777778,\"#fb9f3a\"],[0.8888888888888888,\"#fdca26\"],[1.0,\"#f0f921\"]]},\"colorway\":[\"#636efa\",\"#EF553B\",\"#00cc96\",\"#ab63fa\",\"#FFA15A\",\"#19d3f3\",\"#FF6692\",\"#B6E880\",\"#FF97FF\",\"#FECB52\"],\"font\":{\"color\":\"#2a3f5f\"},\"geo\":{\"bgcolor\":\"white\",\"lakecolor\":\"white\",\"landcolor\":\"#E5ECF6\",\"showlakes\":true,\"showland\":true,\"subunitcolor\":\"white\"},\"hoverlabel\":{\"align\":\"left\"},\"hovermode\":\"closest\",\"mapbox\":{\"style\":\"light\"},\"paper_bgcolor\":\"white\",\"plot_bgcolor\":\"#E5ECF6\",\"polar\":{\"angularaxis\":{\"gridcolor\":\"white\",\"linecolor\":\"white\",\"ticks\":\"\"},\"bgcolor\":\"#E5ECF6\",\"radialaxis\":{\"gridcolor\":\"white\",\"linecolor\":\"white\",\"ticks\":\"\"}},\"scene\":{\"xaxis\":{\"backgroundcolor\":\"#E5ECF6\",\"gridcolor\":\"white\",\"gridwidth\":2,\"linecolor\":\"white\",\"showbackground\":true,\"ticks\":\"\",\"zerolinecolor\":\"white\"},\"yaxis\":{\"backgroundcolor\":\"#E5ECF6\",\"gridcolor\":\"white\",\"gridwidth\":2,\"linecolor\":\"white\",\"showbackground\":true,\"ticks\":\"\",\"zerolinecolor\":\"white\"},\"zaxis\":{\"backgroundcolor\":\"#E5ECF6\",\"gridcolor\":\"white\",\"gridwidth\":2,\"linecolor\":\"white\",\"showbackground\":true,\"ticks\":\"\",\"zerolinecolor\":\"white\"}},\"shapedefaults\":{\"line\":{\"color\":\"#2a3f5f\"}},\"ternary\":{\"aaxis\":{\"gridcolor\":\"white\",\"linecolor\":\"white\",\"ticks\":\"\"},\"baxis\":{\"gridcolor\":\"white\",\"linecolor\":\"white\",\"ticks\":\"\"},\"bgcolor\":\"#E5ECF6\",\"caxis\":{\"gridcolor\":\"white\",\"linecolor\":\"white\",\"ticks\":\"\"}},\"title\":{\"x\":0.05},\"xaxis\":{\"automargin\":true,\"gridcolor\":\"white\",\"linecolor\":\"white\",\"ticks\":\"\",\"title\":{\"standoff\":15},\"zerolinecolor\":\"white\",\"zerolinewidth\":2},\"yaxis\":{\"automargin\":true,\"gridcolor\":\"white\",\"linecolor\":\"white\",\"ticks\":\"\",\"title\":{\"standoff\":15},\"zerolinecolor\":\"white\",\"zerolinewidth\":2}}},\"title\":{\"font\":{\"color\":\"#4D5663\"},\"text\":\"SPY Price\"},\"xaxis\":{\"gridcolor\":\"#E1E5ED\",\"rangeslider\":{\"visible\":false},\"showgrid\":true,\"tickfont\":{\"color\":\"#4D5663\"},\"title\":{\"font\":{\"color\":\"#4D5663\"},\"text\":\"\"},\"zerolinecolor\":\"#E1E5ED\"},\"yaxis\":{\"gridcolor\":\"#E1E5ED\",\"showgrid\":true,\"showticklabels\":false,\"tickfont\":{\"color\":\"#4D5663\"},\"title\":{\"font\":{\"color\":\"#4D5663\"},\"text\":\"\"},\"zerolinecolor\":\"#E1E5ED\"},\"yaxis2\":{\"gridcolor\":\"#E1E5ED\",\"showgrid\":true,\"tickfont\":{\"color\":\"#4D5663\"},\"title\":{\"font\":{\"color\":\"#4D5663\"},\"text\":\"\"},\"zerolinecolor\":\"#E1E5ED\"}},                        {\"showLink\": true, \"linkText\": \"Export to plot.ly\", \"plotlyServerURL\": \"https://plot.ly\", \"responsive\": true}                    ).then(function(){\n",
       "                            \n",
       "var gd = document.getElementById('a8614c38-3239-49d2-bd61-f4d7eb74e710');\n",
       "var x = new MutationObserver(function (mutations, observer) {{\n",
       "        var display = window.getComputedStyle(gd).display;\n",
       "        if (!display || display === 'none') {{\n",
       "            console.log([gd, 'removed!']);\n",
       "            Plotly.purge(gd);\n",
       "            observer.disconnect();\n",
       "        }}\n",
       "}});\n",
       "\n",
       "// Listen for the removal of the full notebook cells\n",
       "var notebookContainer = gd.closest('#notebook-container');\n",
       "if (notebookContainer) {{\n",
       "    x.observe(notebookContainer, {childList: true});\n",
       "}}\n",
       "\n",
       "// Listen for the clearing of the current output cell\n",
       "var outputEl = gd.closest('.output');\n",
       "if (outputEl) {{\n",
       "    x.observe(outputEl, {childList: true});\n",
       "}}\n",
       "\n",
       "                        })                };                });            </script>        </div>"
      ]
     },
     "metadata": {},
     "output_type": "display_data"
    }
   ],
   "source": [
    "df3[-30:].iplot(kind='ohlc',title='SPY Price')"
   ]
  },
  {
   "cell_type": "code",
   "execution_count": 48,
   "metadata": {},
   "outputs": [
    {
     "data": {
      "application/vnd.plotly.v1+json": {
       "config": {
        "linkText": "Export to plot.ly",
        "plotlyServerURL": "https://plot.ly",
        "showLink": true
       },
       "data": [
        {
         "close": [
          388.0799865722656,
          387.8599853515625,
          390.5799865722656,
          395.5199890136719,
          396.9599914550781,
          398.5,
          397.7699890136719,
          391.489990234375,
          388.6400146484375,
          395.8800048828125,
          400.6300048828125,
          400.20001220703125,
          400.3500061035156,
          404.75,
          405.67999267578125,
          400.5899963378906,
          406.4800109863281,
          410.79998779296875,
          416.7799987792969,
          412.3500061035156,
          409.8299865722656,
          415.19000244140625,
          410.6499938964844,
          407.0899963378906,
          408.0400085449219,
          412.8299865722656,
          412.6400146484375,
          413.9800109863281,
          408.2799987792969,
          407.260009765625
         ],
         "high": [
          389.25,
          393.70001220703125,
          390.6499938964844,
          395.6000061035156,
          398.489990234375,
          399.1000061035156,
          400.2300109863281,
          400.1199951171875,
          391.0799865722656,
          396.0400085449219,
          402.6499938964844,
          401.1499938964844,
          400.70001220703125,
          404.9200134277344,
          408.1600036621094,
          405.1300048828125,
          406.5299987792969,
          413.6700134277344,
          418.30999755859375,
          416.9700012207031,
          411.2900085449219,
          416.489990234375,
          414.5299987792969,
          414.57000732421875,
          408.44000244140625,
          412.9700012207031,
          415.04998779296875,
          414.05999755859375,
          412.9100036621094,
          407.510009765625
         ],
         "low": [
          379.4100036621094,
          387.6700134277344,
          386.2699890136719,
          391.3800048828125,
          392.4200134277344,
          393.3399963378906,
          397.05999755859375,
          391.2799987792969,
          387.260009765625,
          388.3800048828125,
          395.7200012207031,
          397.6400146484375,
          393.55999755859375,
          400.0299987792969,
          403.44000244140625,
          400.2799987792969,
          400.7699890136719,
          402.3500061035156,
          412.8800048828125,
          411.0899963378906,
          408.1000061035156,
          407.57000732421875,
          409.92999267578125,
          405.80999755859375,
          405.010009765625,
          408.239990234375,
          408.510009765625,
          409.4700012207031,
          408.1400146484375,
          404.04998779296875
         ],
         "open": [
          382.6099853515625,
          390.3699951171875,
          387.25,
          392.2300109863281,
          396.6700134277344,
          393.6199951171875,
          398.4800109863281,
          399.010009765625,
          389.3599853515625,
          390.1000061035156,
          396.7200012207031,
          398.8800048828125,
          395.95001220703125,
          403.1300048828125,
          403.6600036621094,
          402.79998779296875,
          401.1300048828125,
          405.2099914550781,
          414.8599853515625,
          411.5899963378906,
          409.7900085449219,
          408.8699951171875,
          413.1300048828125,
          414.4100036621094,
          405.8599853515625,
          408.7200012207031,
          411.239990234375,
          410.3500061035156,
          408.7900085449219,
          406.05999755859375
         ],
         "showlegend": false,
         "type": "candlestick",
         "x": [
          "2023-01-06 00:00:00-05:00",
          "2023-01-09 00:00:00-05:00",
          "2023-01-10 00:00:00-05:00",
          "2023-01-11 00:00:00-05:00",
          "2023-01-12 00:00:00-05:00",
          "2023-01-13 00:00:00-05:00",
          "2023-01-17 00:00:00-05:00",
          "2023-01-18 00:00:00-05:00",
          "2023-01-19 00:00:00-05:00",
          "2023-01-20 00:00:00-05:00",
          "2023-01-23 00:00:00-05:00",
          "2023-01-24 00:00:00-05:00",
          "2023-01-25 00:00:00-05:00",
          "2023-01-26 00:00:00-05:00",
          "2023-01-27 00:00:00-05:00",
          "2023-01-30 00:00:00-05:00",
          "2023-01-31 00:00:00-05:00",
          "2023-02-01 00:00:00-05:00",
          "2023-02-02 00:00:00-05:00",
          "2023-02-03 00:00:00-05:00",
          "2023-02-06 00:00:00-05:00",
          "2023-02-07 00:00:00-05:00",
          "2023-02-08 00:00:00-05:00",
          "2023-02-09 00:00:00-05:00",
          "2023-02-10 00:00:00-05:00",
          "2023-02-13 00:00:00-05:00",
          "2023-02-14 00:00:00-05:00",
          "2023-02-15 00:00:00-05:00",
          "2023-02-16 00:00:00-05:00",
          "2023-02-17 00:00:00-05:00"
         ],
         "yaxis": "y2"
        }
       ],
       "layout": {
        "legend": {
         "bgcolor": "#F5F6F9",
         "font": {
          "color": "#4D5663"
         }
        },
        "paper_bgcolor": "#F5F6F9",
        "plot_bgcolor": "#F5F6F9",
        "template": {
         "data": {
          "bar": [
           {
            "error_x": {
             "color": "#2a3f5f"
            },
            "error_y": {
             "color": "#2a3f5f"
            },
            "marker": {
             "line": {
              "color": "#E5ECF6",
              "width": 0.5
             },
             "pattern": {
              "fillmode": "overlay",
              "size": 10,
              "solidity": 0.2
             }
            },
            "type": "bar"
           }
          ],
          "barpolar": [
           {
            "marker": {
             "line": {
              "color": "#E5ECF6",
              "width": 0.5
             },
             "pattern": {
              "fillmode": "overlay",
              "size": 10,
              "solidity": 0.2
             }
            },
            "type": "barpolar"
           }
          ],
          "carpet": [
           {
            "aaxis": {
             "endlinecolor": "#2a3f5f",
             "gridcolor": "white",
             "linecolor": "white",
             "minorgridcolor": "white",
             "startlinecolor": "#2a3f5f"
            },
            "baxis": {
             "endlinecolor": "#2a3f5f",
             "gridcolor": "white",
             "linecolor": "white",
             "minorgridcolor": "white",
             "startlinecolor": "#2a3f5f"
            },
            "type": "carpet"
           }
          ],
          "choropleth": [
           {
            "colorbar": {
             "outlinewidth": 0,
             "ticks": ""
            },
            "type": "choropleth"
           }
          ],
          "contour": [
           {
            "colorbar": {
             "outlinewidth": 0,
             "ticks": ""
            },
            "colorscale": [
             [
              0,
              "#0d0887"
             ],
             [
              0.1111111111111111,
              "#46039f"
             ],
             [
              0.2222222222222222,
              "#7201a8"
             ],
             [
              0.3333333333333333,
              "#9c179e"
             ],
             [
              0.4444444444444444,
              "#bd3786"
             ],
             [
              0.5555555555555556,
              "#d8576b"
             ],
             [
              0.6666666666666666,
              "#ed7953"
             ],
             [
              0.7777777777777778,
              "#fb9f3a"
             ],
             [
              0.8888888888888888,
              "#fdca26"
             ],
             [
              1,
              "#f0f921"
             ]
            ],
            "type": "contour"
           }
          ],
          "contourcarpet": [
           {
            "colorbar": {
             "outlinewidth": 0,
             "ticks": ""
            },
            "type": "contourcarpet"
           }
          ],
          "heatmap": [
           {
            "colorbar": {
             "outlinewidth": 0,
             "ticks": ""
            },
            "colorscale": [
             [
              0,
              "#0d0887"
             ],
             [
              0.1111111111111111,
              "#46039f"
             ],
             [
              0.2222222222222222,
              "#7201a8"
             ],
             [
              0.3333333333333333,
              "#9c179e"
             ],
             [
              0.4444444444444444,
              "#bd3786"
             ],
             [
              0.5555555555555556,
              "#d8576b"
             ],
             [
              0.6666666666666666,
              "#ed7953"
             ],
             [
              0.7777777777777778,
              "#fb9f3a"
             ],
             [
              0.8888888888888888,
              "#fdca26"
             ],
             [
              1,
              "#f0f921"
             ]
            ],
            "type": "heatmap"
           }
          ],
          "heatmapgl": [
           {
            "colorbar": {
             "outlinewidth": 0,
             "ticks": ""
            },
            "colorscale": [
             [
              0,
              "#0d0887"
             ],
             [
              0.1111111111111111,
              "#46039f"
             ],
             [
              0.2222222222222222,
              "#7201a8"
             ],
             [
              0.3333333333333333,
              "#9c179e"
             ],
             [
              0.4444444444444444,
              "#bd3786"
             ],
             [
              0.5555555555555556,
              "#d8576b"
             ],
             [
              0.6666666666666666,
              "#ed7953"
             ],
             [
              0.7777777777777778,
              "#fb9f3a"
             ],
             [
              0.8888888888888888,
              "#fdca26"
             ],
             [
              1,
              "#f0f921"
             ]
            ],
            "type": "heatmapgl"
           }
          ],
          "histogram": [
           {
            "marker": {
             "pattern": {
              "fillmode": "overlay",
              "size": 10,
              "solidity": 0.2
             }
            },
            "type": "histogram"
           }
          ],
          "histogram2d": [
           {
            "colorbar": {
             "outlinewidth": 0,
             "ticks": ""
            },
            "colorscale": [
             [
              0,
              "#0d0887"
             ],
             [
              0.1111111111111111,
              "#46039f"
             ],
             [
              0.2222222222222222,
              "#7201a8"
             ],
             [
              0.3333333333333333,
              "#9c179e"
             ],
             [
              0.4444444444444444,
              "#bd3786"
             ],
             [
              0.5555555555555556,
              "#d8576b"
             ],
             [
              0.6666666666666666,
              "#ed7953"
             ],
             [
              0.7777777777777778,
              "#fb9f3a"
             ],
             [
              0.8888888888888888,
              "#fdca26"
             ],
             [
              1,
              "#f0f921"
             ]
            ],
            "type": "histogram2d"
           }
          ],
          "histogram2dcontour": [
           {
            "colorbar": {
             "outlinewidth": 0,
             "ticks": ""
            },
            "colorscale": [
             [
              0,
              "#0d0887"
             ],
             [
              0.1111111111111111,
              "#46039f"
             ],
             [
              0.2222222222222222,
              "#7201a8"
             ],
             [
              0.3333333333333333,
              "#9c179e"
             ],
             [
              0.4444444444444444,
              "#bd3786"
             ],
             [
              0.5555555555555556,
              "#d8576b"
             ],
             [
              0.6666666666666666,
              "#ed7953"
             ],
             [
              0.7777777777777778,
              "#fb9f3a"
             ],
             [
              0.8888888888888888,
              "#fdca26"
             ],
             [
              1,
              "#f0f921"
             ]
            ],
            "type": "histogram2dcontour"
           }
          ],
          "mesh3d": [
           {
            "colorbar": {
             "outlinewidth": 0,
             "ticks": ""
            },
            "type": "mesh3d"
           }
          ],
          "parcoords": [
           {
            "line": {
             "colorbar": {
              "outlinewidth": 0,
              "ticks": ""
             }
            },
            "type": "parcoords"
           }
          ],
          "pie": [
           {
            "automargin": true,
            "type": "pie"
           }
          ],
          "scatter": [
           {
            "fillpattern": {
             "fillmode": "overlay",
             "size": 10,
             "solidity": 0.2
            },
            "type": "scatter"
           }
          ],
          "scatter3d": [
           {
            "line": {
             "colorbar": {
              "outlinewidth": 0,
              "ticks": ""
             }
            },
            "marker": {
             "colorbar": {
              "outlinewidth": 0,
              "ticks": ""
             }
            },
            "type": "scatter3d"
           }
          ],
          "scattercarpet": [
           {
            "marker": {
             "colorbar": {
              "outlinewidth": 0,
              "ticks": ""
             }
            },
            "type": "scattercarpet"
           }
          ],
          "scattergeo": [
           {
            "marker": {
             "colorbar": {
              "outlinewidth": 0,
              "ticks": ""
             }
            },
            "type": "scattergeo"
           }
          ],
          "scattergl": [
           {
            "marker": {
             "colorbar": {
              "outlinewidth": 0,
              "ticks": ""
             }
            },
            "type": "scattergl"
           }
          ],
          "scattermapbox": [
           {
            "marker": {
             "colorbar": {
              "outlinewidth": 0,
              "ticks": ""
             }
            },
            "type": "scattermapbox"
           }
          ],
          "scatterpolar": [
           {
            "marker": {
             "colorbar": {
              "outlinewidth": 0,
              "ticks": ""
             }
            },
            "type": "scatterpolar"
           }
          ],
          "scatterpolargl": [
           {
            "marker": {
             "colorbar": {
              "outlinewidth": 0,
              "ticks": ""
             }
            },
            "type": "scatterpolargl"
           }
          ],
          "scatterternary": [
           {
            "marker": {
             "colorbar": {
              "outlinewidth": 0,
              "ticks": ""
             }
            },
            "type": "scatterternary"
           }
          ],
          "surface": [
           {
            "colorbar": {
             "outlinewidth": 0,
             "ticks": ""
            },
            "colorscale": [
             [
              0,
              "#0d0887"
             ],
             [
              0.1111111111111111,
              "#46039f"
             ],
             [
              0.2222222222222222,
              "#7201a8"
             ],
             [
              0.3333333333333333,
              "#9c179e"
             ],
             [
              0.4444444444444444,
              "#bd3786"
             ],
             [
              0.5555555555555556,
              "#d8576b"
             ],
             [
              0.6666666666666666,
              "#ed7953"
             ],
             [
              0.7777777777777778,
              "#fb9f3a"
             ],
             [
              0.8888888888888888,
              "#fdca26"
             ],
             [
              1,
              "#f0f921"
             ]
            ],
            "type": "surface"
           }
          ],
          "table": [
           {
            "cells": {
             "fill": {
              "color": "#EBF0F8"
             },
             "line": {
              "color": "white"
             }
            },
            "header": {
             "fill": {
              "color": "#C8D4E3"
             },
             "line": {
              "color": "white"
             }
            },
            "type": "table"
           }
          ]
         },
         "layout": {
          "annotationdefaults": {
           "arrowcolor": "#2a3f5f",
           "arrowhead": 0,
           "arrowwidth": 1
          },
          "autotypenumbers": "strict",
          "coloraxis": {
           "colorbar": {
            "outlinewidth": 0,
            "ticks": ""
           }
          },
          "colorscale": {
           "diverging": [
            [
             0,
             "#8e0152"
            ],
            [
             0.1,
             "#c51b7d"
            ],
            [
             0.2,
             "#de77ae"
            ],
            [
             0.3,
             "#f1b6da"
            ],
            [
             0.4,
             "#fde0ef"
            ],
            [
             0.5,
             "#f7f7f7"
            ],
            [
             0.6,
             "#e6f5d0"
            ],
            [
             0.7,
             "#b8e186"
            ],
            [
             0.8,
             "#7fbc41"
            ],
            [
             0.9,
             "#4d9221"
            ],
            [
             1,
             "#276419"
            ]
           ],
           "sequential": [
            [
             0,
             "#0d0887"
            ],
            [
             0.1111111111111111,
             "#46039f"
            ],
            [
             0.2222222222222222,
             "#7201a8"
            ],
            [
             0.3333333333333333,
             "#9c179e"
            ],
            [
             0.4444444444444444,
             "#bd3786"
            ],
            [
             0.5555555555555556,
             "#d8576b"
            ],
            [
             0.6666666666666666,
             "#ed7953"
            ],
            [
             0.7777777777777778,
             "#fb9f3a"
            ],
            [
             0.8888888888888888,
             "#fdca26"
            ],
            [
             1,
             "#f0f921"
            ]
           ],
           "sequentialminus": [
            [
             0,
             "#0d0887"
            ],
            [
             0.1111111111111111,
             "#46039f"
            ],
            [
             0.2222222222222222,
             "#7201a8"
            ],
            [
             0.3333333333333333,
             "#9c179e"
            ],
            [
             0.4444444444444444,
             "#bd3786"
            ],
            [
             0.5555555555555556,
             "#d8576b"
            ],
            [
             0.6666666666666666,
             "#ed7953"
            ],
            [
             0.7777777777777778,
             "#fb9f3a"
            ],
            [
             0.8888888888888888,
             "#fdca26"
            ],
            [
             1,
             "#f0f921"
            ]
           ]
          },
          "colorway": [
           "#636efa",
           "#EF553B",
           "#00cc96",
           "#ab63fa",
           "#FFA15A",
           "#19d3f3",
           "#FF6692",
           "#B6E880",
           "#FF97FF",
           "#FECB52"
          ],
          "font": {
           "color": "#2a3f5f"
          },
          "geo": {
           "bgcolor": "white",
           "lakecolor": "white",
           "landcolor": "#E5ECF6",
           "showlakes": true,
           "showland": true,
           "subunitcolor": "white"
          },
          "hoverlabel": {
           "align": "left"
          },
          "hovermode": "closest",
          "mapbox": {
           "style": "light"
          },
          "paper_bgcolor": "white",
          "plot_bgcolor": "#E5ECF6",
          "polar": {
           "angularaxis": {
            "gridcolor": "white",
            "linecolor": "white",
            "ticks": ""
           },
           "bgcolor": "#E5ECF6",
           "radialaxis": {
            "gridcolor": "white",
            "linecolor": "white",
            "ticks": ""
           }
          },
          "scene": {
           "xaxis": {
            "backgroundcolor": "#E5ECF6",
            "gridcolor": "white",
            "gridwidth": 2,
            "linecolor": "white",
            "showbackground": true,
            "ticks": "",
            "zerolinecolor": "white"
           },
           "yaxis": {
            "backgroundcolor": "#E5ECF6",
            "gridcolor": "white",
            "gridwidth": 2,
            "linecolor": "white",
            "showbackground": true,
            "ticks": "",
            "zerolinecolor": "white"
           },
           "zaxis": {
            "backgroundcolor": "#E5ECF6",
            "gridcolor": "white",
            "gridwidth": 2,
            "linecolor": "white",
            "showbackground": true,
            "ticks": "",
            "zerolinecolor": "white"
           }
          },
          "shapedefaults": {
           "line": {
            "color": "#2a3f5f"
           }
          },
          "ternary": {
           "aaxis": {
            "gridcolor": "white",
            "linecolor": "white",
            "ticks": ""
           },
           "baxis": {
            "gridcolor": "white",
            "linecolor": "white",
            "ticks": ""
           },
           "bgcolor": "#E5ECF6",
           "caxis": {
            "gridcolor": "white",
            "linecolor": "white",
            "ticks": ""
           }
          },
          "title": {
           "x": 0.05
          },
          "xaxis": {
           "automargin": true,
           "gridcolor": "white",
           "linecolor": "white",
           "ticks": "",
           "title": {
            "standoff": 15
           },
           "zerolinecolor": "white",
           "zerolinewidth": 2
          },
          "yaxis": {
           "automargin": true,
           "gridcolor": "white",
           "linecolor": "white",
           "ticks": "",
           "title": {
            "standoff": 15
           },
           "zerolinecolor": "white",
           "zerolinewidth": 2
          }
         }
        },
        "title": {
         "font": {
          "color": "#4D5663"
         },
         "text": "SPY Price"
        },
        "xaxis": {
         "gridcolor": "#E1E5ED",
         "rangeslider": {
          "visible": false
         },
         "showgrid": true,
         "tickfont": {
          "color": "#4D5663"
         },
         "title": {
          "font": {
           "color": "#4D5663"
          },
          "text": ""
         },
         "zerolinecolor": "#E1E5ED"
        },
        "yaxis": {
         "gridcolor": "#E1E5ED",
         "showgrid": true,
         "showticklabels": false,
         "tickfont": {
          "color": "#4D5663"
         },
         "title": {
          "font": {
           "color": "#4D5663"
          },
          "text": ""
         },
         "zerolinecolor": "#E1E5ED"
        },
        "yaxis2": {
         "gridcolor": "#E1E5ED",
         "showgrid": true,
         "tickfont": {
          "color": "#4D5663"
         },
         "title": {
          "font": {
           "color": "#4D5663"
          },
          "text": ""
         },
         "zerolinecolor": "#E1E5ED"
        }
       }
      },
      "text/html": [
       "<div>                            <div id=\"ff458545-5099-4557-8859-ae5495aa92da\" class=\"plotly-graph-div\" style=\"height:525px; width:100%;\"></div>            <script type=\"text/javascript\">                require([\"plotly\"], function(Plotly) {                    window.PLOTLYENV=window.PLOTLYENV || {};\n",
       "                    window.PLOTLYENV.BASE_URL='https://plot.ly';                                    if (document.getElementById(\"ff458545-5099-4557-8859-ae5495aa92da\")) {                    Plotly.newPlot(                        \"ff458545-5099-4557-8859-ae5495aa92da\",                        [{\"close\":[388.0799865722656,387.8599853515625,390.5799865722656,395.5199890136719,396.9599914550781,398.5,397.7699890136719,391.489990234375,388.6400146484375,395.8800048828125,400.6300048828125,400.20001220703125,400.3500061035156,404.75,405.67999267578125,400.5899963378906,406.4800109863281,410.79998779296875,416.7799987792969,412.3500061035156,409.8299865722656,415.19000244140625,410.6499938964844,407.0899963378906,408.0400085449219,412.8299865722656,412.6400146484375,413.9800109863281,408.2799987792969,407.260009765625],\"high\":[389.25,393.70001220703125,390.6499938964844,395.6000061035156,398.489990234375,399.1000061035156,400.2300109863281,400.1199951171875,391.0799865722656,396.0400085449219,402.6499938964844,401.1499938964844,400.70001220703125,404.9200134277344,408.1600036621094,405.1300048828125,406.5299987792969,413.6700134277344,418.30999755859375,416.9700012207031,411.2900085449219,416.489990234375,414.5299987792969,414.57000732421875,408.44000244140625,412.9700012207031,415.04998779296875,414.05999755859375,412.9100036621094,407.510009765625],\"low\":[379.4100036621094,387.6700134277344,386.2699890136719,391.3800048828125,392.4200134277344,393.3399963378906,397.05999755859375,391.2799987792969,387.260009765625,388.3800048828125,395.7200012207031,397.6400146484375,393.55999755859375,400.0299987792969,403.44000244140625,400.2799987792969,400.7699890136719,402.3500061035156,412.8800048828125,411.0899963378906,408.1000061035156,407.57000732421875,409.92999267578125,405.80999755859375,405.010009765625,408.239990234375,408.510009765625,409.4700012207031,408.1400146484375,404.04998779296875],\"open\":[382.6099853515625,390.3699951171875,387.25,392.2300109863281,396.6700134277344,393.6199951171875,398.4800109863281,399.010009765625,389.3599853515625,390.1000061035156,396.7200012207031,398.8800048828125,395.95001220703125,403.1300048828125,403.6600036621094,402.79998779296875,401.1300048828125,405.2099914550781,414.8599853515625,411.5899963378906,409.7900085449219,408.8699951171875,413.1300048828125,414.4100036621094,405.8599853515625,408.7200012207031,411.239990234375,410.3500061035156,408.7900085449219,406.05999755859375],\"showlegend\":false,\"x\":[\"2023-01-06 00:00:00-05:00\",\"2023-01-09 00:00:00-05:00\",\"2023-01-10 00:00:00-05:00\",\"2023-01-11 00:00:00-05:00\",\"2023-01-12 00:00:00-05:00\",\"2023-01-13 00:00:00-05:00\",\"2023-01-17 00:00:00-05:00\",\"2023-01-18 00:00:00-05:00\",\"2023-01-19 00:00:00-05:00\",\"2023-01-20 00:00:00-05:00\",\"2023-01-23 00:00:00-05:00\",\"2023-01-24 00:00:00-05:00\",\"2023-01-25 00:00:00-05:00\",\"2023-01-26 00:00:00-05:00\",\"2023-01-27 00:00:00-05:00\",\"2023-01-30 00:00:00-05:00\",\"2023-01-31 00:00:00-05:00\",\"2023-02-01 00:00:00-05:00\",\"2023-02-02 00:00:00-05:00\",\"2023-02-03 00:00:00-05:00\",\"2023-02-06 00:00:00-05:00\",\"2023-02-07 00:00:00-05:00\",\"2023-02-08 00:00:00-05:00\",\"2023-02-09 00:00:00-05:00\",\"2023-02-10 00:00:00-05:00\",\"2023-02-13 00:00:00-05:00\",\"2023-02-14 00:00:00-05:00\",\"2023-02-15 00:00:00-05:00\",\"2023-02-16 00:00:00-05:00\",\"2023-02-17 00:00:00-05:00\"],\"yaxis\":\"y2\",\"type\":\"candlestick\"}],                        {\"legend\":{\"bgcolor\":\"#F5F6F9\",\"font\":{\"color\":\"#4D5663\"}},\"paper_bgcolor\":\"#F5F6F9\",\"plot_bgcolor\":\"#F5F6F9\",\"template\":{\"data\":{\"barpolar\":[{\"marker\":{\"line\":{\"color\":\"#E5ECF6\",\"width\":0.5},\"pattern\":{\"fillmode\":\"overlay\",\"size\":10,\"solidity\":0.2}},\"type\":\"barpolar\"}],\"bar\":[{\"error_x\":{\"color\":\"#2a3f5f\"},\"error_y\":{\"color\":\"#2a3f5f\"},\"marker\":{\"line\":{\"color\":\"#E5ECF6\",\"width\":0.5},\"pattern\":{\"fillmode\":\"overlay\",\"size\":10,\"solidity\":0.2}},\"type\":\"bar\"}],\"carpet\":[{\"aaxis\":{\"endlinecolor\":\"#2a3f5f\",\"gridcolor\":\"white\",\"linecolor\":\"white\",\"minorgridcolor\":\"white\",\"startlinecolor\":\"#2a3f5f\"},\"baxis\":{\"endlinecolor\":\"#2a3f5f\",\"gridcolor\":\"white\",\"linecolor\":\"white\",\"minorgridcolor\":\"white\",\"startlinecolor\":\"#2a3f5f\"},\"type\":\"carpet\"}],\"choropleth\":[{\"colorbar\":{\"outlinewidth\":0,\"ticks\":\"\"},\"type\":\"choropleth\"}],\"contourcarpet\":[{\"colorbar\":{\"outlinewidth\":0,\"ticks\":\"\"},\"type\":\"contourcarpet\"}],\"contour\":[{\"colorbar\":{\"outlinewidth\":0,\"ticks\":\"\"},\"colorscale\":[[0.0,\"#0d0887\"],[0.1111111111111111,\"#46039f\"],[0.2222222222222222,\"#7201a8\"],[0.3333333333333333,\"#9c179e\"],[0.4444444444444444,\"#bd3786\"],[0.5555555555555556,\"#d8576b\"],[0.6666666666666666,\"#ed7953\"],[0.7777777777777778,\"#fb9f3a\"],[0.8888888888888888,\"#fdca26\"],[1.0,\"#f0f921\"]],\"type\":\"contour\"}],\"heatmapgl\":[{\"colorbar\":{\"outlinewidth\":0,\"ticks\":\"\"},\"colorscale\":[[0.0,\"#0d0887\"],[0.1111111111111111,\"#46039f\"],[0.2222222222222222,\"#7201a8\"],[0.3333333333333333,\"#9c179e\"],[0.4444444444444444,\"#bd3786\"],[0.5555555555555556,\"#d8576b\"],[0.6666666666666666,\"#ed7953\"],[0.7777777777777778,\"#fb9f3a\"],[0.8888888888888888,\"#fdca26\"],[1.0,\"#f0f921\"]],\"type\":\"heatmapgl\"}],\"heatmap\":[{\"colorbar\":{\"outlinewidth\":0,\"ticks\":\"\"},\"colorscale\":[[0.0,\"#0d0887\"],[0.1111111111111111,\"#46039f\"],[0.2222222222222222,\"#7201a8\"],[0.3333333333333333,\"#9c179e\"],[0.4444444444444444,\"#bd3786\"],[0.5555555555555556,\"#d8576b\"],[0.6666666666666666,\"#ed7953\"],[0.7777777777777778,\"#fb9f3a\"],[0.8888888888888888,\"#fdca26\"],[1.0,\"#f0f921\"]],\"type\":\"heatmap\"}],\"histogram2dcontour\":[{\"colorbar\":{\"outlinewidth\":0,\"ticks\":\"\"},\"colorscale\":[[0.0,\"#0d0887\"],[0.1111111111111111,\"#46039f\"],[0.2222222222222222,\"#7201a8\"],[0.3333333333333333,\"#9c179e\"],[0.4444444444444444,\"#bd3786\"],[0.5555555555555556,\"#d8576b\"],[0.6666666666666666,\"#ed7953\"],[0.7777777777777778,\"#fb9f3a\"],[0.8888888888888888,\"#fdca26\"],[1.0,\"#f0f921\"]],\"type\":\"histogram2dcontour\"}],\"histogram2d\":[{\"colorbar\":{\"outlinewidth\":0,\"ticks\":\"\"},\"colorscale\":[[0.0,\"#0d0887\"],[0.1111111111111111,\"#46039f\"],[0.2222222222222222,\"#7201a8\"],[0.3333333333333333,\"#9c179e\"],[0.4444444444444444,\"#bd3786\"],[0.5555555555555556,\"#d8576b\"],[0.6666666666666666,\"#ed7953\"],[0.7777777777777778,\"#fb9f3a\"],[0.8888888888888888,\"#fdca26\"],[1.0,\"#f0f921\"]],\"type\":\"histogram2d\"}],\"histogram\":[{\"marker\":{\"pattern\":{\"fillmode\":\"overlay\",\"size\":10,\"solidity\":0.2}},\"type\":\"histogram\"}],\"mesh3d\":[{\"colorbar\":{\"outlinewidth\":0,\"ticks\":\"\"},\"type\":\"mesh3d\"}],\"parcoords\":[{\"line\":{\"colorbar\":{\"outlinewidth\":0,\"ticks\":\"\"}},\"type\":\"parcoords\"}],\"pie\":[{\"automargin\":true,\"type\":\"pie\"}],\"scatter3d\":[{\"line\":{\"colorbar\":{\"outlinewidth\":0,\"ticks\":\"\"}},\"marker\":{\"colorbar\":{\"outlinewidth\":0,\"ticks\":\"\"}},\"type\":\"scatter3d\"}],\"scattercarpet\":[{\"marker\":{\"colorbar\":{\"outlinewidth\":0,\"ticks\":\"\"}},\"type\":\"scattercarpet\"}],\"scattergeo\":[{\"marker\":{\"colorbar\":{\"outlinewidth\":0,\"ticks\":\"\"}},\"type\":\"scattergeo\"}],\"scattergl\":[{\"marker\":{\"colorbar\":{\"outlinewidth\":0,\"ticks\":\"\"}},\"type\":\"scattergl\"}],\"scattermapbox\":[{\"marker\":{\"colorbar\":{\"outlinewidth\":0,\"ticks\":\"\"}},\"type\":\"scattermapbox\"}],\"scatterpolargl\":[{\"marker\":{\"colorbar\":{\"outlinewidth\":0,\"ticks\":\"\"}},\"type\":\"scatterpolargl\"}],\"scatterpolar\":[{\"marker\":{\"colorbar\":{\"outlinewidth\":0,\"ticks\":\"\"}},\"type\":\"scatterpolar\"}],\"scatter\":[{\"fillpattern\":{\"fillmode\":\"overlay\",\"size\":10,\"solidity\":0.2},\"type\":\"scatter\"}],\"scatterternary\":[{\"marker\":{\"colorbar\":{\"outlinewidth\":0,\"ticks\":\"\"}},\"type\":\"scatterternary\"}],\"surface\":[{\"colorbar\":{\"outlinewidth\":0,\"ticks\":\"\"},\"colorscale\":[[0.0,\"#0d0887\"],[0.1111111111111111,\"#46039f\"],[0.2222222222222222,\"#7201a8\"],[0.3333333333333333,\"#9c179e\"],[0.4444444444444444,\"#bd3786\"],[0.5555555555555556,\"#d8576b\"],[0.6666666666666666,\"#ed7953\"],[0.7777777777777778,\"#fb9f3a\"],[0.8888888888888888,\"#fdca26\"],[1.0,\"#f0f921\"]],\"type\":\"surface\"}],\"table\":[{\"cells\":{\"fill\":{\"color\":\"#EBF0F8\"},\"line\":{\"color\":\"white\"}},\"header\":{\"fill\":{\"color\":\"#C8D4E3\"},\"line\":{\"color\":\"white\"}},\"type\":\"table\"}]},\"layout\":{\"annotationdefaults\":{\"arrowcolor\":\"#2a3f5f\",\"arrowhead\":0,\"arrowwidth\":1},\"autotypenumbers\":\"strict\",\"coloraxis\":{\"colorbar\":{\"outlinewidth\":0,\"ticks\":\"\"}},\"colorscale\":{\"diverging\":[[0,\"#8e0152\"],[0.1,\"#c51b7d\"],[0.2,\"#de77ae\"],[0.3,\"#f1b6da\"],[0.4,\"#fde0ef\"],[0.5,\"#f7f7f7\"],[0.6,\"#e6f5d0\"],[0.7,\"#b8e186\"],[0.8,\"#7fbc41\"],[0.9,\"#4d9221\"],[1,\"#276419\"]],\"sequential\":[[0.0,\"#0d0887\"],[0.1111111111111111,\"#46039f\"],[0.2222222222222222,\"#7201a8\"],[0.3333333333333333,\"#9c179e\"],[0.4444444444444444,\"#bd3786\"],[0.5555555555555556,\"#d8576b\"],[0.6666666666666666,\"#ed7953\"],[0.7777777777777778,\"#fb9f3a\"],[0.8888888888888888,\"#fdca26\"],[1.0,\"#f0f921\"]],\"sequentialminus\":[[0.0,\"#0d0887\"],[0.1111111111111111,\"#46039f\"],[0.2222222222222222,\"#7201a8\"],[0.3333333333333333,\"#9c179e\"],[0.4444444444444444,\"#bd3786\"],[0.5555555555555556,\"#d8576b\"],[0.6666666666666666,\"#ed7953\"],[0.7777777777777778,\"#fb9f3a\"],[0.8888888888888888,\"#fdca26\"],[1.0,\"#f0f921\"]]},\"colorway\":[\"#636efa\",\"#EF553B\",\"#00cc96\",\"#ab63fa\",\"#FFA15A\",\"#19d3f3\",\"#FF6692\",\"#B6E880\",\"#FF97FF\",\"#FECB52\"],\"font\":{\"color\":\"#2a3f5f\"},\"geo\":{\"bgcolor\":\"white\",\"lakecolor\":\"white\",\"landcolor\":\"#E5ECF6\",\"showlakes\":true,\"showland\":true,\"subunitcolor\":\"white\"},\"hoverlabel\":{\"align\":\"left\"},\"hovermode\":\"closest\",\"mapbox\":{\"style\":\"light\"},\"paper_bgcolor\":\"white\",\"plot_bgcolor\":\"#E5ECF6\",\"polar\":{\"angularaxis\":{\"gridcolor\":\"white\",\"linecolor\":\"white\",\"ticks\":\"\"},\"bgcolor\":\"#E5ECF6\",\"radialaxis\":{\"gridcolor\":\"white\",\"linecolor\":\"white\",\"ticks\":\"\"}},\"scene\":{\"xaxis\":{\"backgroundcolor\":\"#E5ECF6\",\"gridcolor\":\"white\",\"gridwidth\":2,\"linecolor\":\"white\",\"showbackground\":true,\"ticks\":\"\",\"zerolinecolor\":\"white\"},\"yaxis\":{\"backgroundcolor\":\"#E5ECF6\",\"gridcolor\":\"white\",\"gridwidth\":2,\"linecolor\":\"white\",\"showbackground\":true,\"ticks\":\"\",\"zerolinecolor\":\"white\"},\"zaxis\":{\"backgroundcolor\":\"#E5ECF6\",\"gridcolor\":\"white\",\"gridwidth\":2,\"linecolor\":\"white\",\"showbackground\":true,\"ticks\":\"\",\"zerolinecolor\":\"white\"}},\"shapedefaults\":{\"line\":{\"color\":\"#2a3f5f\"}},\"ternary\":{\"aaxis\":{\"gridcolor\":\"white\",\"linecolor\":\"white\",\"ticks\":\"\"},\"baxis\":{\"gridcolor\":\"white\",\"linecolor\":\"white\",\"ticks\":\"\"},\"bgcolor\":\"#E5ECF6\",\"caxis\":{\"gridcolor\":\"white\",\"linecolor\":\"white\",\"ticks\":\"\"}},\"title\":{\"x\":0.05},\"xaxis\":{\"automargin\":true,\"gridcolor\":\"white\",\"linecolor\":\"white\",\"ticks\":\"\",\"title\":{\"standoff\":15},\"zerolinecolor\":\"white\",\"zerolinewidth\":2},\"yaxis\":{\"automargin\":true,\"gridcolor\":\"white\",\"linecolor\":\"white\",\"ticks\":\"\",\"title\":{\"standoff\":15},\"zerolinecolor\":\"white\",\"zerolinewidth\":2}}},\"title\":{\"font\":{\"color\":\"#4D5663\"},\"text\":\"SPY Price\"},\"xaxis\":{\"gridcolor\":\"#E1E5ED\",\"rangeslider\":{\"visible\":false},\"showgrid\":true,\"tickfont\":{\"color\":\"#4D5663\"},\"title\":{\"font\":{\"color\":\"#4D5663\"},\"text\":\"\"},\"zerolinecolor\":\"#E1E5ED\"},\"yaxis\":{\"gridcolor\":\"#E1E5ED\",\"showgrid\":true,\"showticklabels\":false,\"tickfont\":{\"color\":\"#4D5663\"},\"title\":{\"font\":{\"color\":\"#4D5663\"},\"text\":\"\"},\"zerolinecolor\":\"#E1E5ED\"},\"yaxis2\":{\"gridcolor\":\"#E1E5ED\",\"showgrid\":true,\"tickfont\":{\"color\":\"#4D5663\"},\"title\":{\"font\":{\"color\":\"#4D5663\"},\"text\":\"\"},\"zerolinecolor\":\"#E1E5ED\"}},                        {\"showLink\": true, \"linkText\": \"Export to plot.ly\", \"plotlyServerURL\": \"https://plot.ly\", \"responsive\": true}                    ).then(function(){\n",
       "                            \n",
       "var gd = document.getElementById('ff458545-5099-4557-8859-ae5495aa92da');\n",
       "var x = new MutationObserver(function (mutations, observer) {{\n",
       "        var display = window.getComputedStyle(gd).display;\n",
       "        if (!display || display === 'none') {{\n",
       "            console.log([gd, 'removed!']);\n",
       "            Plotly.purge(gd);\n",
       "            observer.disconnect();\n",
       "        }}\n",
       "}});\n",
       "\n",
       "// Listen for the removal of the full notebook cells\n",
       "var notebookContainer = gd.closest('#notebook-container');\n",
       "if (notebookContainer) {{\n",
       "    x.observe(notebookContainer, {childList: true});\n",
       "}}\n",
       "\n",
       "// Listen for the clearing of the current output cell\n",
       "var outputEl = gd.closest('.output');\n",
       "if (outputEl) {{\n",
       "    x.observe(outputEl, {childList: true});\n",
       "}}\n",
       "\n",
       "                        })                };                });            </script>        </div>"
      ]
     },
     "metadata": {},
     "output_type": "display_data"
    }
   ],
   "source": [
    "df3[-30:].iplot(kind='candle', title='SPY Price')"
   ]
  },
  {
   "cell_type": "code",
   "execution_count": 49,
   "metadata": {},
   "outputs": [
    {
     "data": {
      "application/vnd.plotly.v1+json": {
       "config": {
        "linkText": "Export to plot.ly",
        "plotlyServerURL": "https://plot.ly",
        "showLink": true
       },
       "data": [
        {
         "line": {
          "color": "rgba(255, 153, 51, 1.0)",
          "dash": "solid",
          "shape": "linear",
          "width": 1.3
         },
         "mode": "lines",
         "name": "AMZN",
         "text": "",
         "type": "scatter",
         "x": [
          "2023-01-03 00:00:00-05:00",
          "2023-01-04 00:00:00-05:00",
          "2023-01-05 00:00:00-05:00",
          "2023-01-06 00:00:00-05:00",
          "2023-01-09 00:00:00-05:00",
          "2023-01-10 00:00:00-05:00",
          "2023-01-11 00:00:00-05:00",
          "2023-01-12 00:00:00-05:00",
          "2023-01-13 00:00:00-05:00",
          "2023-01-17 00:00:00-05:00",
          "2023-01-18 00:00:00-05:00",
          "2023-01-19 00:00:00-05:00",
          "2023-01-20 00:00:00-05:00",
          "2023-01-23 00:00:00-05:00",
          "2023-01-24 00:00:00-05:00",
          "2023-01-25 00:00:00-05:00",
          "2023-01-26 00:00:00-05:00",
          "2023-01-27 00:00:00-05:00",
          "2023-01-30 00:00:00-05:00",
          "2023-01-31 00:00:00-05:00",
          "2023-02-01 00:00:00-05:00",
          "2023-02-02 00:00:00-05:00",
          "2023-02-03 00:00:00-05:00",
          "2023-02-06 00:00:00-05:00",
          "2023-02-07 00:00:00-05:00",
          "2023-02-08 00:00:00-05:00",
          "2023-02-09 00:00:00-05:00",
          "2023-02-10 00:00:00-05:00",
          "2023-02-13 00:00:00-05:00",
          "2023-02-14 00:00:00-05:00",
          "2023-02-15 00:00:00-05:00",
          "2023-02-16 00:00:00-05:00",
          "2023-02-17 00:00:00-05:00"
         ],
         "y": [
          85.81999969482422,
          85.13999938964844,
          83.12000274658203,
          86.08000183105469,
          87.36000061035156,
          89.87000274658203,
          95.08999633789062,
          95.2699966430664,
          98.12000274658203,
          96.05000305175781,
          95.45999908447266,
          93.68000030517578,
          97.25,
          97.5199966430664,
          96.31999969482422,
          97.18000030517578,
          99.22000122070312,
          102.23999786376953,
          100.55000305175781,
          103.12999725341797,
          105.1500015258789,
          112.91000366210938,
          103.38999938964844,
          102.18000030517578,
          102.11000061035156,
          100.05000305175781,
          98.23999786376953,
          97.61000061035156,
          99.54000091552734,
          99.69999694824219,
          101.16000366210938,
          98.1500015258789,
          97.19999694824219
         ]
        },
        {
         "line": {
          "color": "rgba(55, 128, 191, 1.0)",
          "dash": "solid",
          "shape": "linear",
          "width": 1.3
         },
         "mode": "lines",
         "name": "AAPL",
         "text": "",
         "type": "scatter",
         "x": [
          "2023-01-03 00:00:00-05:00",
          "2023-01-04 00:00:00-05:00",
          "2023-01-05 00:00:00-05:00",
          "2023-01-06 00:00:00-05:00",
          "2023-01-09 00:00:00-05:00",
          "2023-01-10 00:00:00-05:00",
          "2023-01-11 00:00:00-05:00",
          "2023-01-12 00:00:00-05:00",
          "2023-01-13 00:00:00-05:00",
          "2023-01-17 00:00:00-05:00",
          "2023-01-18 00:00:00-05:00",
          "2023-01-19 00:00:00-05:00",
          "2023-01-20 00:00:00-05:00",
          "2023-01-23 00:00:00-05:00",
          "2023-01-24 00:00:00-05:00",
          "2023-01-25 00:00:00-05:00",
          "2023-01-26 00:00:00-05:00",
          "2023-01-27 00:00:00-05:00",
          "2023-01-30 00:00:00-05:00",
          "2023-01-31 00:00:00-05:00",
          "2023-02-01 00:00:00-05:00",
          "2023-02-02 00:00:00-05:00",
          "2023-02-03 00:00:00-05:00",
          "2023-02-06 00:00:00-05:00",
          "2023-02-07 00:00:00-05:00",
          "2023-02-08 00:00:00-05:00",
          "2023-02-09 00:00:00-05:00",
          "2023-02-10 00:00:00-05:00",
          "2023-02-13 00:00:00-05:00",
          "2023-02-14 00:00:00-05:00",
          "2023-02-15 00:00:00-05:00",
          "2023-02-16 00:00:00-05:00",
          "2023-02-17 00:00:00-05:00"
         ],
         "xaxis": "x",
         "y": [
          124.87932586669922,
          126.16736602783203,
          124.82939910888672,
          129.42239379882812,
          129.9515838623047,
          130.53070068359375,
          133.2864990234375,
          133.2066192626953,
          134.55455017089844,
          135.73275756835938,
          135.00387573242188,
          135.06378173828125,
          137.65980529785156,
          140.89488220214844,
          142.31271362304688,
          141.64373779296875,
          143.74053955078125,
          145.70751953125,
          142.78199768066406,
          144.0700225830078,
          145.20828247070312,
          150.590087890625,
          154.26446533203125,
          151.49868774414062,
          154.4142303466797,
          151.6884002685547,
          150.63999938964844,
          151.00999450683594,
          153.85000610351562,
          153.1999969482422,
          155.3300018310547,
          153.7100067138672,
          152.5500030517578
         ],
         "yaxis": "y2"
        }
       ],
       "layout": {
        "legend": {
         "bgcolor": "#F5F6F9",
         "font": {
          "color": "#4D5663"
         }
        },
        "paper_bgcolor": "#F5F6F9",
        "plot_bgcolor": "#F5F6F9",
        "template": {
         "data": {
          "bar": [
           {
            "error_x": {
             "color": "#2a3f5f"
            },
            "error_y": {
             "color": "#2a3f5f"
            },
            "marker": {
             "line": {
              "color": "#E5ECF6",
              "width": 0.5
             },
             "pattern": {
              "fillmode": "overlay",
              "size": 10,
              "solidity": 0.2
             }
            },
            "type": "bar"
           }
          ],
          "barpolar": [
           {
            "marker": {
             "line": {
              "color": "#E5ECF6",
              "width": 0.5
             },
             "pattern": {
              "fillmode": "overlay",
              "size": 10,
              "solidity": 0.2
             }
            },
            "type": "barpolar"
           }
          ],
          "carpet": [
           {
            "aaxis": {
             "endlinecolor": "#2a3f5f",
             "gridcolor": "white",
             "linecolor": "white",
             "minorgridcolor": "white",
             "startlinecolor": "#2a3f5f"
            },
            "baxis": {
             "endlinecolor": "#2a3f5f",
             "gridcolor": "white",
             "linecolor": "white",
             "minorgridcolor": "white",
             "startlinecolor": "#2a3f5f"
            },
            "type": "carpet"
           }
          ],
          "choropleth": [
           {
            "colorbar": {
             "outlinewidth": 0,
             "ticks": ""
            },
            "type": "choropleth"
           }
          ],
          "contour": [
           {
            "colorbar": {
             "outlinewidth": 0,
             "ticks": ""
            },
            "colorscale": [
             [
              0,
              "#0d0887"
             ],
             [
              0.1111111111111111,
              "#46039f"
             ],
             [
              0.2222222222222222,
              "#7201a8"
             ],
             [
              0.3333333333333333,
              "#9c179e"
             ],
             [
              0.4444444444444444,
              "#bd3786"
             ],
             [
              0.5555555555555556,
              "#d8576b"
             ],
             [
              0.6666666666666666,
              "#ed7953"
             ],
             [
              0.7777777777777778,
              "#fb9f3a"
             ],
             [
              0.8888888888888888,
              "#fdca26"
             ],
             [
              1,
              "#f0f921"
             ]
            ],
            "type": "contour"
           }
          ],
          "contourcarpet": [
           {
            "colorbar": {
             "outlinewidth": 0,
             "ticks": ""
            },
            "type": "contourcarpet"
           }
          ],
          "heatmap": [
           {
            "colorbar": {
             "outlinewidth": 0,
             "ticks": ""
            },
            "colorscale": [
             [
              0,
              "#0d0887"
             ],
             [
              0.1111111111111111,
              "#46039f"
             ],
             [
              0.2222222222222222,
              "#7201a8"
             ],
             [
              0.3333333333333333,
              "#9c179e"
             ],
             [
              0.4444444444444444,
              "#bd3786"
             ],
             [
              0.5555555555555556,
              "#d8576b"
             ],
             [
              0.6666666666666666,
              "#ed7953"
             ],
             [
              0.7777777777777778,
              "#fb9f3a"
             ],
             [
              0.8888888888888888,
              "#fdca26"
             ],
             [
              1,
              "#f0f921"
             ]
            ],
            "type": "heatmap"
           }
          ],
          "heatmapgl": [
           {
            "colorbar": {
             "outlinewidth": 0,
             "ticks": ""
            },
            "colorscale": [
             [
              0,
              "#0d0887"
             ],
             [
              0.1111111111111111,
              "#46039f"
             ],
             [
              0.2222222222222222,
              "#7201a8"
             ],
             [
              0.3333333333333333,
              "#9c179e"
             ],
             [
              0.4444444444444444,
              "#bd3786"
             ],
             [
              0.5555555555555556,
              "#d8576b"
             ],
             [
              0.6666666666666666,
              "#ed7953"
             ],
             [
              0.7777777777777778,
              "#fb9f3a"
             ],
             [
              0.8888888888888888,
              "#fdca26"
             ],
             [
              1,
              "#f0f921"
             ]
            ],
            "type": "heatmapgl"
           }
          ],
          "histogram": [
           {
            "marker": {
             "pattern": {
              "fillmode": "overlay",
              "size": 10,
              "solidity": 0.2
             }
            },
            "type": "histogram"
           }
          ],
          "histogram2d": [
           {
            "colorbar": {
             "outlinewidth": 0,
             "ticks": ""
            },
            "colorscale": [
             [
              0,
              "#0d0887"
             ],
             [
              0.1111111111111111,
              "#46039f"
             ],
             [
              0.2222222222222222,
              "#7201a8"
             ],
             [
              0.3333333333333333,
              "#9c179e"
             ],
             [
              0.4444444444444444,
              "#bd3786"
             ],
             [
              0.5555555555555556,
              "#d8576b"
             ],
             [
              0.6666666666666666,
              "#ed7953"
             ],
             [
              0.7777777777777778,
              "#fb9f3a"
             ],
             [
              0.8888888888888888,
              "#fdca26"
             ],
             [
              1,
              "#f0f921"
             ]
            ],
            "type": "histogram2d"
           }
          ],
          "histogram2dcontour": [
           {
            "colorbar": {
             "outlinewidth": 0,
             "ticks": ""
            },
            "colorscale": [
             [
              0,
              "#0d0887"
             ],
             [
              0.1111111111111111,
              "#46039f"
             ],
             [
              0.2222222222222222,
              "#7201a8"
             ],
             [
              0.3333333333333333,
              "#9c179e"
             ],
             [
              0.4444444444444444,
              "#bd3786"
             ],
             [
              0.5555555555555556,
              "#d8576b"
             ],
             [
              0.6666666666666666,
              "#ed7953"
             ],
             [
              0.7777777777777778,
              "#fb9f3a"
             ],
             [
              0.8888888888888888,
              "#fdca26"
             ],
             [
              1,
              "#f0f921"
             ]
            ],
            "type": "histogram2dcontour"
           }
          ],
          "mesh3d": [
           {
            "colorbar": {
             "outlinewidth": 0,
             "ticks": ""
            },
            "type": "mesh3d"
           }
          ],
          "parcoords": [
           {
            "line": {
             "colorbar": {
              "outlinewidth": 0,
              "ticks": ""
             }
            },
            "type": "parcoords"
           }
          ],
          "pie": [
           {
            "automargin": true,
            "type": "pie"
           }
          ],
          "scatter": [
           {
            "fillpattern": {
             "fillmode": "overlay",
             "size": 10,
             "solidity": 0.2
            },
            "type": "scatter"
           }
          ],
          "scatter3d": [
           {
            "line": {
             "colorbar": {
              "outlinewidth": 0,
              "ticks": ""
             }
            },
            "marker": {
             "colorbar": {
              "outlinewidth": 0,
              "ticks": ""
             }
            },
            "type": "scatter3d"
           }
          ],
          "scattercarpet": [
           {
            "marker": {
             "colorbar": {
              "outlinewidth": 0,
              "ticks": ""
             }
            },
            "type": "scattercarpet"
           }
          ],
          "scattergeo": [
           {
            "marker": {
             "colorbar": {
              "outlinewidth": 0,
              "ticks": ""
             }
            },
            "type": "scattergeo"
           }
          ],
          "scattergl": [
           {
            "marker": {
             "colorbar": {
              "outlinewidth": 0,
              "ticks": ""
             }
            },
            "type": "scattergl"
           }
          ],
          "scattermapbox": [
           {
            "marker": {
             "colorbar": {
              "outlinewidth": 0,
              "ticks": ""
             }
            },
            "type": "scattermapbox"
           }
          ],
          "scatterpolar": [
           {
            "marker": {
             "colorbar": {
              "outlinewidth": 0,
              "ticks": ""
             }
            },
            "type": "scatterpolar"
           }
          ],
          "scatterpolargl": [
           {
            "marker": {
             "colorbar": {
              "outlinewidth": 0,
              "ticks": ""
             }
            },
            "type": "scatterpolargl"
           }
          ],
          "scatterternary": [
           {
            "marker": {
             "colorbar": {
              "outlinewidth": 0,
              "ticks": ""
             }
            },
            "type": "scatterternary"
           }
          ],
          "surface": [
           {
            "colorbar": {
             "outlinewidth": 0,
             "ticks": ""
            },
            "colorscale": [
             [
              0,
              "#0d0887"
             ],
             [
              0.1111111111111111,
              "#46039f"
             ],
             [
              0.2222222222222222,
              "#7201a8"
             ],
             [
              0.3333333333333333,
              "#9c179e"
             ],
             [
              0.4444444444444444,
              "#bd3786"
             ],
             [
              0.5555555555555556,
              "#d8576b"
             ],
             [
              0.6666666666666666,
              "#ed7953"
             ],
             [
              0.7777777777777778,
              "#fb9f3a"
             ],
             [
              0.8888888888888888,
              "#fdca26"
             ],
             [
              1,
              "#f0f921"
             ]
            ],
            "type": "surface"
           }
          ],
          "table": [
           {
            "cells": {
             "fill": {
              "color": "#EBF0F8"
             },
             "line": {
              "color": "white"
             }
            },
            "header": {
             "fill": {
              "color": "#C8D4E3"
             },
             "line": {
              "color": "white"
             }
            },
            "type": "table"
           }
          ]
         },
         "layout": {
          "annotationdefaults": {
           "arrowcolor": "#2a3f5f",
           "arrowhead": 0,
           "arrowwidth": 1
          },
          "autotypenumbers": "strict",
          "coloraxis": {
           "colorbar": {
            "outlinewidth": 0,
            "ticks": ""
           }
          },
          "colorscale": {
           "diverging": [
            [
             0,
             "#8e0152"
            ],
            [
             0.1,
             "#c51b7d"
            ],
            [
             0.2,
             "#de77ae"
            ],
            [
             0.3,
             "#f1b6da"
            ],
            [
             0.4,
             "#fde0ef"
            ],
            [
             0.5,
             "#f7f7f7"
            ],
            [
             0.6,
             "#e6f5d0"
            ],
            [
             0.7,
             "#b8e186"
            ],
            [
             0.8,
             "#7fbc41"
            ],
            [
             0.9,
             "#4d9221"
            ],
            [
             1,
             "#276419"
            ]
           ],
           "sequential": [
            [
             0,
             "#0d0887"
            ],
            [
             0.1111111111111111,
             "#46039f"
            ],
            [
             0.2222222222222222,
             "#7201a8"
            ],
            [
             0.3333333333333333,
             "#9c179e"
            ],
            [
             0.4444444444444444,
             "#bd3786"
            ],
            [
             0.5555555555555556,
             "#d8576b"
            ],
            [
             0.6666666666666666,
             "#ed7953"
            ],
            [
             0.7777777777777778,
             "#fb9f3a"
            ],
            [
             0.8888888888888888,
             "#fdca26"
            ],
            [
             1,
             "#f0f921"
            ]
           ],
           "sequentialminus": [
            [
             0,
             "#0d0887"
            ],
            [
             0.1111111111111111,
             "#46039f"
            ],
            [
             0.2222222222222222,
             "#7201a8"
            ],
            [
             0.3333333333333333,
             "#9c179e"
            ],
            [
             0.4444444444444444,
             "#bd3786"
            ],
            [
             0.5555555555555556,
             "#d8576b"
            ],
            [
             0.6666666666666666,
             "#ed7953"
            ],
            [
             0.7777777777777778,
             "#fb9f3a"
            ],
            [
             0.8888888888888888,
             "#fdca26"
            ],
            [
             1,
             "#f0f921"
            ]
           ]
          },
          "colorway": [
           "#636efa",
           "#EF553B",
           "#00cc96",
           "#ab63fa",
           "#FFA15A",
           "#19d3f3",
           "#FF6692",
           "#B6E880",
           "#FF97FF",
           "#FECB52"
          ],
          "font": {
           "color": "#2a3f5f"
          },
          "geo": {
           "bgcolor": "white",
           "lakecolor": "white",
           "landcolor": "#E5ECF6",
           "showlakes": true,
           "showland": true,
           "subunitcolor": "white"
          },
          "hoverlabel": {
           "align": "left"
          },
          "hovermode": "closest",
          "mapbox": {
           "style": "light"
          },
          "paper_bgcolor": "white",
          "plot_bgcolor": "#E5ECF6",
          "polar": {
           "angularaxis": {
            "gridcolor": "white",
            "linecolor": "white",
            "ticks": ""
           },
           "bgcolor": "#E5ECF6",
           "radialaxis": {
            "gridcolor": "white",
            "linecolor": "white",
            "ticks": ""
           }
          },
          "scene": {
           "xaxis": {
            "backgroundcolor": "#E5ECF6",
            "gridcolor": "white",
            "gridwidth": 2,
            "linecolor": "white",
            "showbackground": true,
            "ticks": "",
            "zerolinecolor": "white"
           },
           "yaxis": {
            "backgroundcolor": "#E5ECF6",
            "gridcolor": "white",
            "gridwidth": 2,
            "linecolor": "white",
            "showbackground": true,
            "ticks": "",
            "zerolinecolor": "white"
           },
           "zaxis": {
            "backgroundcolor": "#E5ECF6",
            "gridcolor": "white",
            "gridwidth": 2,
            "linecolor": "white",
            "showbackground": true,
            "ticks": "",
            "zerolinecolor": "white"
           }
          },
          "shapedefaults": {
           "line": {
            "color": "#2a3f5f"
           }
          },
          "ternary": {
           "aaxis": {
            "gridcolor": "white",
            "linecolor": "white",
            "ticks": ""
           },
           "baxis": {
            "gridcolor": "white",
            "linecolor": "white",
            "ticks": ""
           },
           "bgcolor": "#E5ECF6",
           "caxis": {
            "gridcolor": "white",
            "linecolor": "white",
            "ticks": ""
           }
          },
          "title": {
           "x": 0.05
          },
          "xaxis": {
           "automargin": true,
           "gridcolor": "white",
           "linecolor": "white",
           "ticks": "",
           "title": {
            "standoff": 15
           },
           "zerolinecolor": "white",
           "zerolinewidth": 2
          },
          "yaxis": {
           "automargin": true,
           "gridcolor": "white",
           "linecolor": "white",
           "ticks": "",
           "title": {
            "standoff": 15
           },
           "zerolinecolor": "white",
           "zerolinewidth": 2
          }
         }
        },
        "title": {
         "font": {
          "color": "#4D5663"
         },
         "text": "Amazon Vs Apple"
        },
        "xaxis": {
         "gridcolor": "#E1E5ED",
         "showgrid": true,
         "tickfont": {
          "color": "#4D5663"
         },
         "title": {
          "font": {
           "color": "#4D5663"
          },
          "text": ""
         },
         "zerolinecolor": "#E1E5ED"
        },
        "yaxis": {
         "gridcolor": "#E1E5ED",
         "showgrid": true,
         "tickfont": {
          "color": "#4D5663"
         },
         "title": {
          "font": {
           "color": "#4D5663"
          },
          "text": ""
         },
         "zerolinecolor": "#E1E5ED"
        },
        "yaxis2": {
         "anchor": "x",
         "gridcolor": "#E1E5ED",
         "overlaying": "y",
         "showgrid": true,
         "side": "right",
         "tickfont": {
          "color": "#4D5663"
         },
         "title": {
          "text": ""
         },
         "zerolinecolor": "#E1E5ED"
        }
       }
      },
      "text/html": [
       "<div>                            <div id=\"fce86d25-65d1-41f8-aa40-4489d777c0d3\" class=\"plotly-graph-div\" style=\"height:525px; width:100%;\"></div>            <script type=\"text/javascript\">                require([\"plotly\"], function(Plotly) {                    window.PLOTLYENV=window.PLOTLYENV || {};\n",
       "                    window.PLOTLYENV.BASE_URL='https://plot.ly';                                    if (document.getElementById(\"fce86d25-65d1-41f8-aa40-4489d777c0d3\")) {                    Plotly.newPlot(                        \"fce86d25-65d1-41f8-aa40-4489d777c0d3\",                        [{\"line\":{\"color\":\"rgba(255, 153, 51, 1.0)\",\"dash\":\"solid\",\"shape\":\"linear\",\"width\":1.3},\"mode\":\"lines\",\"name\":\"AMZN\",\"text\":\"\",\"x\":[\"2023-01-03 00:00:00-05:00\",\"2023-01-04 00:00:00-05:00\",\"2023-01-05 00:00:00-05:00\",\"2023-01-06 00:00:00-05:00\",\"2023-01-09 00:00:00-05:00\",\"2023-01-10 00:00:00-05:00\",\"2023-01-11 00:00:00-05:00\",\"2023-01-12 00:00:00-05:00\",\"2023-01-13 00:00:00-05:00\",\"2023-01-17 00:00:00-05:00\",\"2023-01-18 00:00:00-05:00\",\"2023-01-19 00:00:00-05:00\",\"2023-01-20 00:00:00-05:00\",\"2023-01-23 00:00:00-05:00\",\"2023-01-24 00:00:00-05:00\",\"2023-01-25 00:00:00-05:00\",\"2023-01-26 00:00:00-05:00\",\"2023-01-27 00:00:00-05:00\",\"2023-01-30 00:00:00-05:00\",\"2023-01-31 00:00:00-05:00\",\"2023-02-01 00:00:00-05:00\",\"2023-02-02 00:00:00-05:00\",\"2023-02-03 00:00:00-05:00\",\"2023-02-06 00:00:00-05:00\",\"2023-02-07 00:00:00-05:00\",\"2023-02-08 00:00:00-05:00\",\"2023-02-09 00:00:00-05:00\",\"2023-02-10 00:00:00-05:00\",\"2023-02-13 00:00:00-05:00\",\"2023-02-14 00:00:00-05:00\",\"2023-02-15 00:00:00-05:00\",\"2023-02-16 00:00:00-05:00\",\"2023-02-17 00:00:00-05:00\"],\"y\":[85.81999969482422,85.13999938964844,83.12000274658203,86.08000183105469,87.36000061035156,89.87000274658203,95.08999633789062,95.2699966430664,98.12000274658203,96.05000305175781,95.45999908447266,93.68000030517578,97.25,97.5199966430664,96.31999969482422,97.18000030517578,99.22000122070312,102.23999786376953,100.55000305175781,103.12999725341797,105.1500015258789,112.91000366210938,103.38999938964844,102.18000030517578,102.11000061035156,100.05000305175781,98.23999786376953,97.61000061035156,99.54000091552734,99.69999694824219,101.16000366210938,98.1500015258789,97.19999694824219],\"type\":\"scatter\"},{\"line\":{\"color\":\"rgba(55, 128, 191, 1.0)\",\"dash\":\"solid\",\"shape\":\"linear\",\"width\":1.3},\"mode\":\"lines\",\"name\":\"AAPL\",\"text\":\"\",\"x\":[\"2023-01-03 00:00:00-05:00\",\"2023-01-04 00:00:00-05:00\",\"2023-01-05 00:00:00-05:00\",\"2023-01-06 00:00:00-05:00\",\"2023-01-09 00:00:00-05:00\",\"2023-01-10 00:00:00-05:00\",\"2023-01-11 00:00:00-05:00\",\"2023-01-12 00:00:00-05:00\",\"2023-01-13 00:00:00-05:00\",\"2023-01-17 00:00:00-05:00\",\"2023-01-18 00:00:00-05:00\",\"2023-01-19 00:00:00-05:00\",\"2023-01-20 00:00:00-05:00\",\"2023-01-23 00:00:00-05:00\",\"2023-01-24 00:00:00-05:00\",\"2023-01-25 00:00:00-05:00\",\"2023-01-26 00:00:00-05:00\",\"2023-01-27 00:00:00-05:00\",\"2023-01-30 00:00:00-05:00\",\"2023-01-31 00:00:00-05:00\",\"2023-02-01 00:00:00-05:00\",\"2023-02-02 00:00:00-05:00\",\"2023-02-03 00:00:00-05:00\",\"2023-02-06 00:00:00-05:00\",\"2023-02-07 00:00:00-05:00\",\"2023-02-08 00:00:00-05:00\",\"2023-02-09 00:00:00-05:00\",\"2023-02-10 00:00:00-05:00\",\"2023-02-13 00:00:00-05:00\",\"2023-02-14 00:00:00-05:00\",\"2023-02-15 00:00:00-05:00\",\"2023-02-16 00:00:00-05:00\",\"2023-02-17 00:00:00-05:00\"],\"y\":[124.87932586669922,126.16736602783203,124.82939910888672,129.42239379882812,129.9515838623047,130.53070068359375,133.2864990234375,133.2066192626953,134.55455017089844,135.73275756835938,135.00387573242188,135.06378173828125,137.65980529785156,140.89488220214844,142.31271362304688,141.64373779296875,143.74053955078125,145.70751953125,142.78199768066406,144.0700225830078,145.20828247070312,150.590087890625,154.26446533203125,151.49868774414062,154.4142303466797,151.6884002685547,150.63999938964844,151.00999450683594,153.85000610351562,153.1999969482422,155.3300018310547,153.7100067138672,152.5500030517578],\"type\":\"scatter\",\"xaxis\":\"x\",\"yaxis\":\"y2\"}],                        {\"legend\":{\"bgcolor\":\"#F5F6F9\",\"font\":{\"color\":\"#4D5663\"}},\"paper_bgcolor\":\"#F5F6F9\",\"plot_bgcolor\":\"#F5F6F9\",\"title\":{\"text\":\"Amazon Vs Apple\",\"font\":{\"color\":\"#4D5663\"}},\"xaxis\":{\"gridcolor\":\"#E1E5ED\",\"showgrid\":true,\"tickfont\":{\"color\":\"#4D5663\"},\"title\":{\"text\":\"\",\"font\":{\"color\":\"#4D5663\"}},\"zerolinecolor\":\"#E1E5ED\"},\"yaxis\":{\"gridcolor\":\"#E1E5ED\",\"showgrid\":true,\"tickfont\":{\"color\":\"#4D5663\"},\"title\":{\"text\":\"\",\"font\":{\"color\":\"#4D5663\"}},\"zerolinecolor\":\"#E1E5ED\"},\"template\":{\"data\":{\"histogram2dcontour\":[{\"type\":\"histogram2dcontour\",\"colorbar\":{\"outlinewidth\":0,\"ticks\":\"\"},\"colorscale\":[[0.0,\"#0d0887\"],[0.1111111111111111,\"#46039f\"],[0.2222222222222222,\"#7201a8\"],[0.3333333333333333,\"#9c179e\"],[0.4444444444444444,\"#bd3786\"],[0.5555555555555556,\"#d8576b\"],[0.6666666666666666,\"#ed7953\"],[0.7777777777777778,\"#fb9f3a\"],[0.8888888888888888,\"#fdca26\"],[1.0,\"#f0f921\"]]}],\"choropleth\":[{\"type\":\"choropleth\",\"colorbar\":{\"outlinewidth\":0,\"ticks\":\"\"}}],\"histogram2d\":[{\"type\":\"histogram2d\",\"colorbar\":{\"outlinewidth\":0,\"ticks\":\"\"},\"colorscale\":[[0.0,\"#0d0887\"],[0.1111111111111111,\"#46039f\"],[0.2222222222222222,\"#7201a8\"],[0.3333333333333333,\"#9c179e\"],[0.4444444444444444,\"#bd3786\"],[0.5555555555555556,\"#d8576b\"],[0.6666666666666666,\"#ed7953\"],[0.7777777777777778,\"#fb9f3a\"],[0.8888888888888888,\"#fdca26\"],[1.0,\"#f0f921\"]]}],\"heatmap\":[{\"type\":\"heatmap\",\"colorbar\":{\"outlinewidth\":0,\"ticks\":\"\"},\"colorscale\":[[0.0,\"#0d0887\"],[0.1111111111111111,\"#46039f\"],[0.2222222222222222,\"#7201a8\"],[0.3333333333333333,\"#9c179e\"],[0.4444444444444444,\"#bd3786\"],[0.5555555555555556,\"#d8576b\"],[0.6666666666666666,\"#ed7953\"],[0.7777777777777778,\"#fb9f3a\"],[0.8888888888888888,\"#fdca26\"],[1.0,\"#f0f921\"]]}],\"heatmapgl\":[{\"type\":\"heatmapgl\",\"colorbar\":{\"outlinewidth\":0,\"ticks\":\"\"},\"colorscale\":[[0.0,\"#0d0887\"],[0.1111111111111111,\"#46039f\"],[0.2222222222222222,\"#7201a8\"],[0.3333333333333333,\"#9c179e\"],[0.4444444444444444,\"#bd3786\"],[0.5555555555555556,\"#d8576b\"],[0.6666666666666666,\"#ed7953\"],[0.7777777777777778,\"#fb9f3a\"],[0.8888888888888888,\"#fdca26\"],[1.0,\"#f0f921\"]]}],\"contourcarpet\":[{\"type\":\"contourcarpet\",\"colorbar\":{\"outlinewidth\":0,\"ticks\":\"\"}}],\"contour\":[{\"type\":\"contour\",\"colorbar\":{\"outlinewidth\":0,\"ticks\":\"\"},\"colorscale\":[[0.0,\"#0d0887\"],[0.1111111111111111,\"#46039f\"],[0.2222222222222222,\"#7201a8\"],[0.3333333333333333,\"#9c179e\"],[0.4444444444444444,\"#bd3786\"],[0.5555555555555556,\"#d8576b\"],[0.6666666666666666,\"#ed7953\"],[0.7777777777777778,\"#fb9f3a\"],[0.8888888888888888,\"#fdca26\"],[1.0,\"#f0f921\"]]}],\"surface\":[{\"type\":\"surface\",\"colorbar\":{\"outlinewidth\":0,\"ticks\":\"\"},\"colorscale\":[[0.0,\"#0d0887\"],[0.1111111111111111,\"#46039f\"],[0.2222222222222222,\"#7201a8\"],[0.3333333333333333,\"#9c179e\"],[0.4444444444444444,\"#bd3786\"],[0.5555555555555556,\"#d8576b\"],[0.6666666666666666,\"#ed7953\"],[0.7777777777777778,\"#fb9f3a\"],[0.8888888888888888,\"#fdca26\"],[1.0,\"#f0f921\"]]}],\"mesh3d\":[{\"type\":\"mesh3d\",\"colorbar\":{\"outlinewidth\":0,\"ticks\":\"\"}}],\"scatter\":[{\"fillpattern\":{\"fillmode\":\"overlay\",\"size\":10,\"solidity\":0.2},\"type\":\"scatter\"}],\"parcoords\":[{\"type\":\"parcoords\",\"line\":{\"colorbar\":{\"outlinewidth\":0,\"ticks\":\"\"}}}],\"scatterpolargl\":[{\"type\":\"scatterpolargl\",\"marker\":{\"colorbar\":{\"outlinewidth\":0,\"ticks\":\"\"}}}],\"bar\":[{\"error_x\":{\"color\":\"#2a3f5f\"},\"error_y\":{\"color\":\"#2a3f5f\"},\"marker\":{\"line\":{\"color\":\"#E5ECF6\",\"width\":0.5},\"pattern\":{\"fillmode\":\"overlay\",\"size\":10,\"solidity\":0.2}},\"type\":\"bar\"}],\"scattergeo\":[{\"type\":\"scattergeo\",\"marker\":{\"colorbar\":{\"outlinewidth\":0,\"ticks\":\"\"}}}],\"scatterpolar\":[{\"type\":\"scatterpolar\",\"marker\":{\"colorbar\":{\"outlinewidth\":0,\"ticks\":\"\"}}}],\"histogram\":[{\"marker\":{\"pattern\":{\"fillmode\":\"overlay\",\"size\":10,\"solidity\":0.2}},\"type\":\"histogram\"}],\"scattergl\":[{\"type\":\"scattergl\",\"marker\":{\"colorbar\":{\"outlinewidth\":0,\"ticks\":\"\"}}}],\"scatter3d\":[{\"type\":\"scatter3d\",\"line\":{\"colorbar\":{\"outlinewidth\":0,\"ticks\":\"\"}},\"marker\":{\"colorbar\":{\"outlinewidth\":0,\"ticks\":\"\"}}}],\"scattermapbox\":[{\"type\":\"scattermapbox\",\"marker\":{\"colorbar\":{\"outlinewidth\":0,\"ticks\":\"\"}}}],\"scatterternary\":[{\"type\":\"scatterternary\",\"marker\":{\"colorbar\":{\"outlinewidth\":0,\"ticks\":\"\"}}}],\"scattercarpet\":[{\"type\":\"scattercarpet\",\"marker\":{\"colorbar\":{\"outlinewidth\":0,\"ticks\":\"\"}}}],\"carpet\":[{\"aaxis\":{\"endlinecolor\":\"#2a3f5f\",\"gridcolor\":\"white\",\"linecolor\":\"white\",\"minorgridcolor\":\"white\",\"startlinecolor\":\"#2a3f5f\"},\"baxis\":{\"endlinecolor\":\"#2a3f5f\",\"gridcolor\":\"white\",\"linecolor\":\"white\",\"minorgridcolor\":\"white\",\"startlinecolor\":\"#2a3f5f\"},\"type\":\"carpet\"}],\"table\":[{\"cells\":{\"fill\":{\"color\":\"#EBF0F8\"},\"line\":{\"color\":\"white\"}},\"header\":{\"fill\":{\"color\":\"#C8D4E3\"},\"line\":{\"color\":\"white\"}},\"type\":\"table\"}],\"barpolar\":[{\"marker\":{\"line\":{\"color\":\"#E5ECF6\",\"width\":0.5},\"pattern\":{\"fillmode\":\"overlay\",\"size\":10,\"solidity\":0.2}},\"type\":\"barpolar\"}],\"pie\":[{\"automargin\":true,\"type\":\"pie\"}]},\"layout\":{\"autotypenumbers\":\"strict\",\"colorway\":[\"#636efa\",\"#EF553B\",\"#00cc96\",\"#ab63fa\",\"#FFA15A\",\"#19d3f3\",\"#FF6692\",\"#B6E880\",\"#FF97FF\",\"#FECB52\"],\"font\":{\"color\":\"#2a3f5f\"},\"hovermode\":\"closest\",\"hoverlabel\":{\"align\":\"left\"},\"paper_bgcolor\":\"white\",\"plot_bgcolor\":\"#E5ECF6\",\"polar\":{\"bgcolor\":\"#E5ECF6\",\"angularaxis\":{\"gridcolor\":\"white\",\"linecolor\":\"white\",\"ticks\":\"\"},\"radialaxis\":{\"gridcolor\":\"white\",\"linecolor\":\"white\",\"ticks\":\"\"}},\"ternary\":{\"bgcolor\":\"#E5ECF6\",\"aaxis\":{\"gridcolor\":\"white\",\"linecolor\":\"white\",\"ticks\":\"\"},\"baxis\":{\"gridcolor\":\"white\",\"linecolor\":\"white\",\"ticks\":\"\"},\"caxis\":{\"gridcolor\":\"white\",\"linecolor\":\"white\",\"ticks\":\"\"}},\"coloraxis\":{\"colorbar\":{\"outlinewidth\":0,\"ticks\":\"\"}},\"colorscale\":{\"sequential\":[[0.0,\"#0d0887\"],[0.1111111111111111,\"#46039f\"],[0.2222222222222222,\"#7201a8\"],[0.3333333333333333,\"#9c179e\"],[0.4444444444444444,\"#bd3786\"],[0.5555555555555556,\"#d8576b\"],[0.6666666666666666,\"#ed7953\"],[0.7777777777777778,\"#fb9f3a\"],[0.8888888888888888,\"#fdca26\"],[1.0,\"#f0f921\"]],\"sequentialminus\":[[0.0,\"#0d0887\"],[0.1111111111111111,\"#46039f\"],[0.2222222222222222,\"#7201a8\"],[0.3333333333333333,\"#9c179e\"],[0.4444444444444444,\"#bd3786\"],[0.5555555555555556,\"#d8576b\"],[0.6666666666666666,\"#ed7953\"],[0.7777777777777778,\"#fb9f3a\"],[0.8888888888888888,\"#fdca26\"],[1.0,\"#f0f921\"]],\"diverging\":[[0,\"#8e0152\"],[0.1,\"#c51b7d\"],[0.2,\"#de77ae\"],[0.3,\"#f1b6da\"],[0.4,\"#fde0ef\"],[0.5,\"#f7f7f7\"],[0.6,\"#e6f5d0\"],[0.7,\"#b8e186\"],[0.8,\"#7fbc41\"],[0.9,\"#4d9221\"],[1,\"#276419\"]]},\"xaxis\":{\"gridcolor\":\"white\",\"linecolor\":\"white\",\"ticks\":\"\",\"title\":{\"standoff\":15},\"zerolinecolor\":\"white\",\"automargin\":true,\"zerolinewidth\":2},\"yaxis\":{\"gridcolor\":\"white\",\"linecolor\":\"white\",\"ticks\":\"\",\"title\":{\"standoff\":15},\"zerolinecolor\":\"white\",\"automargin\":true,\"zerolinewidth\":2},\"scene\":{\"xaxis\":{\"backgroundcolor\":\"#E5ECF6\",\"gridcolor\":\"white\",\"linecolor\":\"white\",\"showbackground\":true,\"ticks\":\"\",\"zerolinecolor\":\"white\",\"gridwidth\":2},\"yaxis\":{\"backgroundcolor\":\"#E5ECF6\",\"gridcolor\":\"white\",\"linecolor\":\"white\",\"showbackground\":true,\"ticks\":\"\",\"zerolinecolor\":\"white\",\"gridwidth\":2},\"zaxis\":{\"backgroundcolor\":\"#E5ECF6\",\"gridcolor\":\"white\",\"linecolor\":\"white\",\"showbackground\":true,\"ticks\":\"\",\"zerolinecolor\":\"white\",\"gridwidth\":2}},\"shapedefaults\":{\"line\":{\"color\":\"#2a3f5f\"}},\"annotationdefaults\":{\"arrowcolor\":\"#2a3f5f\",\"arrowhead\":0,\"arrowwidth\":1},\"geo\":{\"bgcolor\":\"white\",\"landcolor\":\"#E5ECF6\",\"subunitcolor\":\"white\",\"showland\":true,\"showlakes\":true,\"lakecolor\":\"white\"},\"title\":{\"x\":0.05},\"mapbox\":{\"style\":\"light\"}}},\"yaxis2\":{\"anchor\":\"x\",\"gridcolor\":\"#E1E5ED\",\"overlaying\":\"y\",\"showgrid\":true,\"side\":\"right\",\"tickfont\":{\"color\":\"#4D5663\"},\"title\":{\"text\":\"\"},\"zerolinecolor\":\"#E1E5ED\"}},                        {\"showLink\": true, \"linkText\": \"Export to plot.ly\", \"plotlyServerURL\": \"https://plot.ly\", \"responsive\": true}                    ).then(function(){\n",
       "                            \n",
       "var gd = document.getElementById('fce86d25-65d1-41f8-aa40-4489d777c0d3');\n",
       "var x = new MutationObserver(function (mutations, observer) {{\n",
       "        var display = window.getComputedStyle(gd).display;\n",
       "        if (!display || display === 'none') {{\n",
       "            console.log([gd, 'removed!']);\n",
       "            Plotly.purge(gd);\n",
       "            observer.disconnect();\n",
       "        }}\n",
       "}});\n",
       "\n",
       "// Listen for the removal of the full notebook cells\n",
       "var notebookContainer = gd.closest('#notebook-container');\n",
       "if (notebookContainer) {{\n",
       "    x.observe(notebookContainer, {childList: true});\n",
       "}}\n",
       "\n",
       "// Listen for the clearing of the current output cell\n",
       "var outputEl = gd.closest('.output');\n",
       "if (outputEl) {{\n",
       "    x.observe(outputEl, {childList: true});\n",
       "}}\n",
       "\n",
       "                        })                };                });            </script>        </div>"
      ]
     },
     "metadata": {},
     "output_type": "display_data"
    }
   ],
   "source": [
    "# Use secondary axis\n",
    "df4[['AMZN', 'AAPL']].iplot(title='Amazon Vs Apple',secondary_y='AAPL')"
   ]
  },
  {
   "cell_type": "code",
   "execution_count": 50,
   "metadata": {},
   "outputs": [
    {
     "data": {
      "application/vnd.plotly.v1+json": {
       "config": {
        "linkText": "Export to plot.ly",
        "plotlyServerURL": "https://plot.ly",
        "showLink": true
       },
       "data": [
        {
         "line": {
          "color": "rgba(255, 153, 51, 1.0)",
          "dash": "solid",
          "shape": "linear",
          "width": 1.3
         },
         "mode": "lines",
         "name": "AMZN",
         "text": "",
         "type": "scatter",
         "x": [
          "2023-01-03 00:00:00-05:00",
          "2023-01-04 00:00:00-05:00",
          "2023-01-05 00:00:00-05:00",
          "2023-01-06 00:00:00-05:00",
          "2023-01-09 00:00:00-05:00",
          "2023-01-10 00:00:00-05:00",
          "2023-01-11 00:00:00-05:00",
          "2023-01-12 00:00:00-05:00",
          "2023-01-13 00:00:00-05:00",
          "2023-01-17 00:00:00-05:00",
          "2023-01-18 00:00:00-05:00",
          "2023-01-19 00:00:00-05:00",
          "2023-01-20 00:00:00-05:00",
          "2023-01-23 00:00:00-05:00",
          "2023-01-24 00:00:00-05:00",
          "2023-01-25 00:00:00-05:00",
          "2023-01-26 00:00:00-05:00",
          "2023-01-27 00:00:00-05:00",
          "2023-01-30 00:00:00-05:00",
          "2023-01-31 00:00:00-05:00",
          "2023-02-01 00:00:00-05:00",
          "2023-02-02 00:00:00-05:00",
          "2023-02-03 00:00:00-05:00",
          "2023-02-06 00:00:00-05:00",
          "2023-02-07 00:00:00-05:00",
          "2023-02-08 00:00:00-05:00",
          "2023-02-09 00:00:00-05:00",
          "2023-02-10 00:00:00-05:00",
          "2023-02-13 00:00:00-05:00",
          "2023-02-14 00:00:00-05:00",
          "2023-02-15 00:00:00-05:00",
          "2023-02-16 00:00:00-05:00",
          "2023-02-17 00:00:00-05:00"
         ],
         "xaxis": "x",
         "y": [
          85.81999969482422,
          85.13999938964844,
          83.12000274658203,
          86.08000183105469,
          87.36000061035156,
          89.87000274658203,
          95.08999633789062,
          95.2699966430664,
          98.12000274658203,
          96.05000305175781,
          95.45999908447266,
          93.68000030517578,
          97.25,
          97.5199966430664,
          96.31999969482422,
          97.18000030517578,
          99.22000122070312,
          102.23999786376953,
          100.55000305175781,
          103.12999725341797,
          105.1500015258789,
          112.91000366210938,
          103.38999938964844,
          102.18000030517578,
          102.11000061035156,
          100.05000305175781,
          98.23999786376953,
          97.61000061035156,
          99.54000091552734,
          99.69999694824219,
          101.16000366210938,
          98.1500015258789,
          97.19999694824219
         ],
         "yaxis": "y"
        },
        {
         "line": {
          "color": "rgba(55, 128, 191, 1.0)",
          "dash": "solid",
          "shape": "linear",
          "width": 1.3
         },
         "mode": "lines",
         "name": "AAPL",
         "text": "",
         "type": "scatter",
         "x": [
          "2023-01-03 00:00:00-05:00",
          "2023-01-04 00:00:00-05:00",
          "2023-01-05 00:00:00-05:00",
          "2023-01-06 00:00:00-05:00",
          "2023-01-09 00:00:00-05:00",
          "2023-01-10 00:00:00-05:00",
          "2023-01-11 00:00:00-05:00",
          "2023-01-12 00:00:00-05:00",
          "2023-01-13 00:00:00-05:00",
          "2023-01-17 00:00:00-05:00",
          "2023-01-18 00:00:00-05:00",
          "2023-01-19 00:00:00-05:00",
          "2023-01-20 00:00:00-05:00",
          "2023-01-23 00:00:00-05:00",
          "2023-01-24 00:00:00-05:00",
          "2023-01-25 00:00:00-05:00",
          "2023-01-26 00:00:00-05:00",
          "2023-01-27 00:00:00-05:00",
          "2023-01-30 00:00:00-05:00",
          "2023-01-31 00:00:00-05:00",
          "2023-02-01 00:00:00-05:00",
          "2023-02-02 00:00:00-05:00",
          "2023-02-03 00:00:00-05:00",
          "2023-02-06 00:00:00-05:00",
          "2023-02-07 00:00:00-05:00",
          "2023-02-08 00:00:00-05:00",
          "2023-02-09 00:00:00-05:00",
          "2023-02-10 00:00:00-05:00",
          "2023-02-13 00:00:00-05:00",
          "2023-02-14 00:00:00-05:00",
          "2023-02-15 00:00:00-05:00",
          "2023-02-16 00:00:00-05:00",
          "2023-02-17 00:00:00-05:00"
         ],
         "xaxis": "x2",
         "y": [
          124.87932586669922,
          126.16736602783203,
          124.82939910888672,
          129.42239379882812,
          129.9515838623047,
          130.53070068359375,
          133.2864990234375,
          133.2066192626953,
          134.55455017089844,
          135.73275756835938,
          135.00387573242188,
          135.06378173828125,
          137.65980529785156,
          140.89488220214844,
          142.31271362304688,
          141.64373779296875,
          143.74053955078125,
          145.70751953125,
          142.78199768066406,
          144.0700225830078,
          145.20828247070312,
          150.590087890625,
          154.26446533203125,
          151.49868774414062,
          154.4142303466797,
          151.6884002685547,
          150.63999938964844,
          151.00999450683594,
          153.85000610351562,
          153.1999969482422,
          155.3300018310547,
          153.7100067138672,
          152.5500030517578
         ],
         "yaxis": "y2"
        }
       ],
       "layout": {
        "legend": {
         "bgcolor": "#F5F6F9",
         "font": {
          "color": "#4D5663"
         }
        },
        "paper_bgcolor": "#F5F6F9",
        "plot_bgcolor": "#F5F6F9",
        "template": {
         "data": {
          "bar": [
           {
            "error_x": {
             "color": "#2a3f5f"
            },
            "error_y": {
             "color": "#2a3f5f"
            },
            "marker": {
             "line": {
              "color": "#E5ECF6",
              "width": 0.5
             },
             "pattern": {
              "fillmode": "overlay",
              "size": 10,
              "solidity": 0.2
             }
            },
            "type": "bar"
           }
          ],
          "barpolar": [
           {
            "marker": {
             "line": {
              "color": "#E5ECF6",
              "width": 0.5
             },
             "pattern": {
              "fillmode": "overlay",
              "size": 10,
              "solidity": 0.2
             }
            },
            "type": "barpolar"
           }
          ],
          "carpet": [
           {
            "aaxis": {
             "endlinecolor": "#2a3f5f",
             "gridcolor": "white",
             "linecolor": "white",
             "minorgridcolor": "white",
             "startlinecolor": "#2a3f5f"
            },
            "baxis": {
             "endlinecolor": "#2a3f5f",
             "gridcolor": "white",
             "linecolor": "white",
             "minorgridcolor": "white",
             "startlinecolor": "#2a3f5f"
            },
            "type": "carpet"
           }
          ],
          "choropleth": [
           {
            "colorbar": {
             "outlinewidth": 0,
             "ticks": ""
            },
            "type": "choropleth"
           }
          ],
          "contour": [
           {
            "colorbar": {
             "outlinewidth": 0,
             "ticks": ""
            },
            "colorscale": [
             [
              0,
              "#0d0887"
             ],
             [
              0.1111111111111111,
              "#46039f"
             ],
             [
              0.2222222222222222,
              "#7201a8"
             ],
             [
              0.3333333333333333,
              "#9c179e"
             ],
             [
              0.4444444444444444,
              "#bd3786"
             ],
             [
              0.5555555555555556,
              "#d8576b"
             ],
             [
              0.6666666666666666,
              "#ed7953"
             ],
             [
              0.7777777777777778,
              "#fb9f3a"
             ],
             [
              0.8888888888888888,
              "#fdca26"
             ],
             [
              1,
              "#f0f921"
             ]
            ],
            "type": "contour"
           }
          ],
          "contourcarpet": [
           {
            "colorbar": {
             "outlinewidth": 0,
             "ticks": ""
            },
            "type": "contourcarpet"
           }
          ],
          "heatmap": [
           {
            "colorbar": {
             "outlinewidth": 0,
             "ticks": ""
            },
            "colorscale": [
             [
              0,
              "#0d0887"
             ],
             [
              0.1111111111111111,
              "#46039f"
             ],
             [
              0.2222222222222222,
              "#7201a8"
             ],
             [
              0.3333333333333333,
              "#9c179e"
             ],
             [
              0.4444444444444444,
              "#bd3786"
             ],
             [
              0.5555555555555556,
              "#d8576b"
             ],
             [
              0.6666666666666666,
              "#ed7953"
             ],
             [
              0.7777777777777778,
              "#fb9f3a"
             ],
             [
              0.8888888888888888,
              "#fdca26"
             ],
             [
              1,
              "#f0f921"
             ]
            ],
            "type": "heatmap"
           }
          ],
          "heatmapgl": [
           {
            "colorbar": {
             "outlinewidth": 0,
             "ticks": ""
            },
            "colorscale": [
             [
              0,
              "#0d0887"
             ],
             [
              0.1111111111111111,
              "#46039f"
             ],
             [
              0.2222222222222222,
              "#7201a8"
             ],
             [
              0.3333333333333333,
              "#9c179e"
             ],
             [
              0.4444444444444444,
              "#bd3786"
             ],
             [
              0.5555555555555556,
              "#d8576b"
             ],
             [
              0.6666666666666666,
              "#ed7953"
             ],
             [
              0.7777777777777778,
              "#fb9f3a"
             ],
             [
              0.8888888888888888,
              "#fdca26"
             ],
             [
              1,
              "#f0f921"
             ]
            ],
            "type": "heatmapgl"
           }
          ],
          "histogram": [
           {
            "marker": {
             "pattern": {
              "fillmode": "overlay",
              "size": 10,
              "solidity": 0.2
             }
            },
            "type": "histogram"
           }
          ],
          "histogram2d": [
           {
            "colorbar": {
             "outlinewidth": 0,
             "ticks": ""
            },
            "colorscale": [
             [
              0,
              "#0d0887"
             ],
             [
              0.1111111111111111,
              "#46039f"
             ],
             [
              0.2222222222222222,
              "#7201a8"
             ],
             [
              0.3333333333333333,
              "#9c179e"
             ],
             [
              0.4444444444444444,
              "#bd3786"
             ],
             [
              0.5555555555555556,
              "#d8576b"
             ],
             [
              0.6666666666666666,
              "#ed7953"
             ],
             [
              0.7777777777777778,
              "#fb9f3a"
             ],
             [
              0.8888888888888888,
              "#fdca26"
             ],
             [
              1,
              "#f0f921"
             ]
            ],
            "type": "histogram2d"
           }
          ],
          "histogram2dcontour": [
           {
            "colorbar": {
             "outlinewidth": 0,
             "ticks": ""
            },
            "colorscale": [
             [
              0,
              "#0d0887"
             ],
             [
              0.1111111111111111,
              "#46039f"
             ],
             [
              0.2222222222222222,
              "#7201a8"
             ],
             [
              0.3333333333333333,
              "#9c179e"
             ],
             [
              0.4444444444444444,
              "#bd3786"
             ],
             [
              0.5555555555555556,
              "#d8576b"
             ],
             [
              0.6666666666666666,
              "#ed7953"
             ],
             [
              0.7777777777777778,
              "#fb9f3a"
             ],
             [
              0.8888888888888888,
              "#fdca26"
             ],
             [
              1,
              "#f0f921"
             ]
            ],
            "type": "histogram2dcontour"
           }
          ],
          "mesh3d": [
           {
            "colorbar": {
             "outlinewidth": 0,
             "ticks": ""
            },
            "type": "mesh3d"
           }
          ],
          "parcoords": [
           {
            "line": {
             "colorbar": {
              "outlinewidth": 0,
              "ticks": ""
             }
            },
            "type": "parcoords"
           }
          ],
          "pie": [
           {
            "automargin": true,
            "type": "pie"
           }
          ],
          "scatter": [
           {
            "fillpattern": {
             "fillmode": "overlay",
             "size": 10,
             "solidity": 0.2
            },
            "type": "scatter"
           }
          ],
          "scatter3d": [
           {
            "line": {
             "colorbar": {
              "outlinewidth": 0,
              "ticks": ""
             }
            },
            "marker": {
             "colorbar": {
              "outlinewidth": 0,
              "ticks": ""
             }
            },
            "type": "scatter3d"
           }
          ],
          "scattercarpet": [
           {
            "marker": {
             "colorbar": {
              "outlinewidth": 0,
              "ticks": ""
             }
            },
            "type": "scattercarpet"
           }
          ],
          "scattergeo": [
           {
            "marker": {
             "colorbar": {
              "outlinewidth": 0,
              "ticks": ""
             }
            },
            "type": "scattergeo"
           }
          ],
          "scattergl": [
           {
            "marker": {
             "colorbar": {
              "outlinewidth": 0,
              "ticks": ""
             }
            },
            "type": "scattergl"
           }
          ],
          "scattermapbox": [
           {
            "marker": {
             "colorbar": {
              "outlinewidth": 0,
              "ticks": ""
             }
            },
            "type": "scattermapbox"
           }
          ],
          "scatterpolar": [
           {
            "marker": {
             "colorbar": {
              "outlinewidth": 0,
              "ticks": ""
             }
            },
            "type": "scatterpolar"
           }
          ],
          "scatterpolargl": [
           {
            "marker": {
             "colorbar": {
              "outlinewidth": 0,
              "ticks": ""
             }
            },
            "type": "scatterpolargl"
           }
          ],
          "scatterternary": [
           {
            "marker": {
             "colorbar": {
              "outlinewidth": 0,
              "ticks": ""
             }
            },
            "type": "scatterternary"
           }
          ],
          "surface": [
           {
            "colorbar": {
             "outlinewidth": 0,
             "ticks": ""
            },
            "colorscale": [
             [
              0,
              "#0d0887"
             ],
             [
              0.1111111111111111,
              "#46039f"
             ],
             [
              0.2222222222222222,
              "#7201a8"
             ],
             [
              0.3333333333333333,
              "#9c179e"
             ],
             [
              0.4444444444444444,
              "#bd3786"
             ],
             [
              0.5555555555555556,
              "#d8576b"
             ],
             [
              0.6666666666666666,
              "#ed7953"
             ],
             [
              0.7777777777777778,
              "#fb9f3a"
             ],
             [
              0.8888888888888888,
              "#fdca26"
             ],
             [
              1,
              "#f0f921"
             ]
            ],
            "type": "surface"
           }
          ],
          "table": [
           {
            "cells": {
             "fill": {
              "color": "#EBF0F8"
             },
             "line": {
              "color": "white"
             }
            },
            "header": {
             "fill": {
              "color": "#C8D4E3"
             },
             "line": {
              "color": "white"
             }
            },
            "type": "table"
           }
          ]
         },
         "layout": {
          "annotationdefaults": {
           "arrowcolor": "#2a3f5f",
           "arrowhead": 0,
           "arrowwidth": 1
          },
          "autotypenumbers": "strict",
          "coloraxis": {
           "colorbar": {
            "outlinewidth": 0,
            "ticks": ""
           }
          },
          "colorscale": {
           "diverging": [
            [
             0,
             "#8e0152"
            ],
            [
             0.1,
             "#c51b7d"
            ],
            [
             0.2,
             "#de77ae"
            ],
            [
             0.3,
             "#f1b6da"
            ],
            [
             0.4,
             "#fde0ef"
            ],
            [
             0.5,
             "#f7f7f7"
            ],
            [
             0.6,
             "#e6f5d0"
            ],
            [
             0.7,
             "#b8e186"
            ],
            [
             0.8,
             "#7fbc41"
            ],
            [
             0.9,
             "#4d9221"
            ],
            [
             1,
             "#276419"
            ]
           ],
           "sequential": [
            [
             0,
             "#0d0887"
            ],
            [
             0.1111111111111111,
             "#46039f"
            ],
            [
             0.2222222222222222,
             "#7201a8"
            ],
            [
             0.3333333333333333,
             "#9c179e"
            ],
            [
             0.4444444444444444,
             "#bd3786"
            ],
            [
             0.5555555555555556,
             "#d8576b"
            ],
            [
             0.6666666666666666,
             "#ed7953"
            ],
            [
             0.7777777777777778,
             "#fb9f3a"
            ],
            [
             0.8888888888888888,
             "#fdca26"
            ],
            [
             1,
             "#f0f921"
            ]
           ],
           "sequentialminus": [
            [
             0,
             "#0d0887"
            ],
            [
             0.1111111111111111,
             "#46039f"
            ],
            [
             0.2222222222222222,
             "#7201a8"
            ],
            [
             0.3333333333333333,
             "#9c179e"
            ],
            [
             0.4444444444444444,
             "#bd3786"
            ],
            [
             0.5555555555555556,
             "#d8576b"
            ],
            [
             0.6666666666666666,
             "#ed7953"
            ],
            [
             0.7777777777777778,
             "#fb9f3a"
            ],
            [
             0.8888888888888888,
             "#fdca26"
            ],
            [
             1,
             "#f0f921"
            ]
           ]
          },
          "colorway": [
           "#636efa",
           "#EF553B",
           "#00cc96",
           "#ab63fa",
           "#FFA15A",
           "#19d3f3",
           "#FF6692",
           "#B6E880",
           "#FF97FF",
           "#FECB52"
          ],
          "font": {
           "color": "#2a3f5f"
          },
          "geo": {
           "bgcolor": "white",
           "lakecolor": "white",
           "landcolor": "#E5ECF6",
           "showlakes": true,
           "showland": true,
           "subunitcolor": "white"
          },
          "hoverlabel": {
           "align": "left"
          },
          "hovermode": "closest",
          "mapbox": {
           "style": "light"
          },
          "paper_bgcolor": "white",
          "plot_bgcolor": "#E5ECF6",
          "polar": {
           "angularaxis": {
            "gridcolor": "white",
            "linecolor": "white",
            "ticks": ""
           },
           "bgcolor": "#E5ECF6",
           "radialaxis": {
            "gridcolor": "white",
            "linecolor": "white",
            "ticks": ""
           }
          },
          "scene": {
           "xaxis": {
            "backgroundcolor": "#E5ECF6",
            "gridcolor": "white",
            "gridwidth": 2,
            "linecolor": "white",
            "showbackground": true,
            "ticks": "",
            "zerolinecolor": "white"
           },
           "yaxis": {
            "backgroundcolor": "#E5ECF6",
            "gridcolor": "white",
            "gridwidth": 2,
            "linecolor": "white",
            "showbackground": true,
            "ticks": "",
            "zerolinecolor": "white"
           },
           "zaxis": {
            "backgroundcolor": "#E5ECF6",
            "gridcolor": "white",
            "gridwidth": 2,
            "linecolor": "white",
            "showbackground": true,
            "ticks": "",
            "zerolinecolor": "white"
           }
          },
          "shapedefaults": {
           "line": {
            "color": "#2a3f5f"
           }
          },
          "ternary": {
           "aaxis": {
            "gridcolor": "white",
            "linecolor": "white",
            "ticks": ""
           },
           "baxis": {
            "gridcolor": "white",
            "linecolor": "white",
            "ticks": ""
           },
           "bgcolor": "#E5ECF6",
           "caxis": {
            "gridcolor": "white",
            "linecolor": "white",
            "ticks": ""
           }
          },
          "title": {
           "x": 0.05
          },
          "xaxis": {
           "automargin": true,
           "gridcolor": "white",
           "linecolor": "white",
           "ticks": "",
           "title": {
            "standoff": 15
           },
           "zerolinecolor": "white",
           "zerolinewidth": 2
          },
          "yaxis": {
           "automargin": true,
           "gridcolor": "white",
           "linecolor": "white",
           "ticks": "",
           "title": {
            "standoff": 15
           },
           "zerolinecolor": "white",
           "zerolinewidth": 2
          }
         }
        },
        "title": {
         "font": {
          "color": "#4D5663"
         },
         "text": "Amazon Vs Apple Price Movement"
        },
        "xaxis": {
         "anchor": "y",
         "domain": [
          0,
          0.45
         ],
         "gridcolor": "#E1E5ED",
         "showgrid": true,
         "tickfont": {
          "color": "#4D5663"
         },
         "title": {
          "font": {
           "color": "#4D5663"
          },
          "text": ""
         },
         "zerolinecolor": "#E1E5ED"
        },
        "xaxis2": {
         "anchor": "y2",
         "domain": [
          0.55,
          1
         ],
         "gridcolor": "#E1E5ED",
         "showgrid": true,
         "tickfont": {
          "color": "#4D5663"
         },
         "title": {
          "font": {
           "color": "#4D5663"
          },
          "text": ""
         },
         "zerolinecolor": "#E1E5ED"
        },
        "yaxis": {
         "anchor": "x",
         "domain": [
          0,
          1
         ],
         "gridcolor": "#E1E5ED",
         "showgrid": true,
         "tickfont": {
          "color": "#4D5663"
         },
         "title": {
          "font": {
           "color": "#4D5663"
          },
          "text": ""
         },
         "zerolinecolor": "#E1E5ED"
        },
        "yaxis2": {
         "anchor": "x2",
         "domain": [
          0,
          1
         ],
         "gridcolor": "#E1E5ED",
         "showgrid": true,
         "tickfont": {
          "color": "#4D5663"
         },
         "title": {
          "font": {
           "color": "#4D5663"
          },
          "text": ""
         },
         "zerolinecolor": "#E1E5ED"
        }
       }
      },
      "text/html": [
       "<div>                            <div id=\"45add676-6dd4-4800-a0de-c65bd1b88ba3\" class=\"plotly-graph-div\" style=\"height:525px; width:100%;\"></div>            <script type=\"text/javascript\">                require([\"plotly\"], function(Plotly) {                    window.PLOTLYENV=window.PLOTLYENV || {};\n",
       "                    window.PLOTLYENV.BASE_URL='https://plot.ly';                                    if (document.getElementById(\"45add676-6dd4-4800-a0de-c65bd1b88ba3\")) {                    Plotly.newPlot(                        \"45add676-6dd4-4800-a0de-c65bd1b88ba3\",                        [{\"line\":{\"color\":\"rgba(255, 153, 51, 1.0)\",\"dash\":\"solid\",\"shape\":\"linear\",\"width\":1.3},\"mode\":\"lines\",\"name\":\"AMZN\",\"text\":\"\",\"x\":[\"2023-01-03 00:00:00-05:00\",\"2023-01-04 00:00:00-05:00\",\"2023-01-05 00:00:00-05:00\",\"2023-01-06 00:00:00-05:00\",\"2023-01-09 00:00:00-05:00\",\"2023-01-10 00:00:00-05:00\",\"2023-01-11 00:00:00-05:00\",\"2023-01-12 00:00:00-05:00\",\"2023-01-13 00:00:00-05:00\",\"2023-01-17 00:00:00-05:00\",\"2023-01-18 00:00:00-05:00\",\"2023-01-19 00:00:00-05:00\",\"2023-01-20 00:00:00-05:00\",\"2023-01-23 00:00:00-05:00\",\"2023-01-24 00:00:00-05:00\",\"2023-01-25 00:00:00-05:00\",\"2023-01-26 00:00:00-05:00\",\"2023-01-27 00:00:00-05:00\",\"2023-01-30 00:00:00-05:00\",\"2023-01-31 00:00:00-05:00\",\"2023-02-01 00:00:00-05:00\",\"2023-02-02 00:00:00-05:00\",\"2023-02-03 00:00:00-05:00\",\"2023-02-06 00:00:00-05:00\",\"2023-02-07 00:00:00-05:00\",\"2023-02-08 00:00:00-05:00\",\"2023-02-09 00:00:00-05:00\",\"2023-02-10 00:00:00-05:00\",\"2023-02-13 00:00:00-05:00\",\"2023-02-14 00:00:00-05:00\",\"2023-02-15 00:00:00-05:00\",\"2023-02-16 00:00:00-05:00\",\"2023-02-17 00:00:00-05:00\"],\"xaxis\":\"x\",\"y\":[85.81999969482422,85.13999938964844,83.12000274658203,86.08000183105469,87.36000061035156,89.87000274658203,95.08999633789062,95.2699966430664,98.12000274658203,96.05000305175781,95.45999908447266,93.68000030517578,97.25,97.5199966430664,96.31999969482422,97.18000030517578,99.22000122070312,102.23999786376953,100.55000305175781,103.12999725341797,105.1500015258789,112.91000366210938,103.38999938964844,102.18000030517578,102.11000061035156,100.05000305175781,98.23999786376953,97.61000061035156,99.54000091552734,99.69999694824219,101.16000366210938,98.1500015258789,97.19999694824219],\"yaxis\":\"y\",\"type\":\"scatter\"},{\"line\":{\"color\":\"rgba(55, 128, 191, 1.0)\",\"dash\":\"solid\",\"shape\":\"linear\",\"width\":1.3},\"mode\":\"lines\",\"name\":\"AAPL\",\"text\":\"\",\"x\":[\"2023-01-03 00:00:00-05:00\",\"2023-01-04 00:00:00-05:00\",\"2023-01-05 00:00:00-05:00\",\"2023-01-06 00:00:00-05:00\",\"2023-01-09 00:00:00-05:00\",\"2023-01-10 00:00:00-05:00\",\"2023-01-11 00:00:00-05:00\",\"2023-01-12 00:00:00-05:00\",\"2023-01-13 00:00:00-05:00\",\"2023-01-17 00:00:00-05:00\",\"2023-01-18 00:00:00-05:00\",\"2023-01-19 00:00:00-05:00\",\"2023-01-20 00:00:00-05:00\",\"2023-01-23 00:00:00-05:00\",\"2023-01-24 00:00:00-05:00\",\"2023-01-25 00:00:00-05:00\",\"2023-01-26 00:00:00-05:00\",\"2023-01-27 00:00:00-05:00\",\"2023-01-30 00:00:00-05:00\",\"2023-01-31 00:00:00-05:00\",\"2023-02-01 00:00:00-05:00\",\"2023-02-02 00:00:00-05:00\",\"2023-02-03 00:00:00-05:00\",\"2023-02-06 00:00:00-05:00\",\"2023-02-07 00:00:00-05:00\",\"2023-02-08 00:00:00-05:00\",\"2023-02-09 00:00:00-05:00\",\"2023-02-10 00:00:00-05:00\",\"2023-02-13 00:00:00-05:00\",\"2023-02-14 00:00:00-05:00\",\"2023-02-15 00:00:00-05:00\",\"2023-02-16 00:00:00-05:00\",\"2023-02-17 00:00:00-05:00\"],\"xaxis\":\"x2\",\"y\":[124.87932586669922,126.16736602783203,124.82939910888672,129.42239379882812,129.9515838623047,130.53070068359375,133.2864990234375,133.2066192626953,134.55455017089844,135.73275756835938,135.00387573242188,135.06378173828125,137.65980529785156,140.89488220214844,142.31271362304688,141.64373779296875,143.74053955078125,145.70751953125,142.78199768066406,144.0700225830078,145.20828247070312,150.590087890625,154.26446533203125,151.49868774414062,154.4142303466797,151.6884002685547,150.63999938964844,151.00999450683594,153.85000610351562,153.1999969482422,155.3300018310547,153.7100067138672,152.5500030517578],\"yaxis\":\"y2\",\"type\":\"scatter\"}],                        {\"legend\":{\"bgcolor\":\"#F5F6F9\",\"font\":{\"color\":\"#4D5663\"}},\"paper_bgcolor\":\"#F5F6F9\",\"plot_bgcolor\":\"#F5F6F9\",\"template\":{\"data\":{\"barpolar\":[{\"marker\":{\"line\":{\"color\":\"#E5ECF6\",\"width\":0.5},\"pattern\":{\"fillmode\":\"overlay\",\"size\":10,\"solidity\":0.2}},\"type\":\"barpolar\"}],\"bar\":[{\"error_x\":{\"color\":\"#2a3f5f\"},\"error_y\":{\"color\":\"#2a3f5f\"},\"marker\":{\"line\":{\"color\":\"#E5ECF6\",\"width\":0.5},\"pattern\":{\"fillmode\":\"overlay\",\"size\":10,\"solidity\":0.2}},\"type\":\"bar\"}],\"carpet\":[{\"aaxis\":{\"endlinecolor\":\"#2a3f5f\",\"gridcolor\":\"white\",\"linecolor\":\"white\",\"minorgridcolor\":\"white\",\"startlinecolor\":\"#2a3f5f\"},\"baxis\":{\"endlinecolor\":\"#2a3f5f\",\"gridcolor\":\"white\",\"linecolor\":\"white\",\"minorgridcolor\":\"white\",\"startlinecolor\":\"#2a3f5f\"},\"type\":\"carpet\"}],\"choropleth\":[{\"colorbar\":{\"outlinewidth\":0,\"ticks\":\"\"},\"type\":\"choropleth\"}],\"contourcarpet\":[{\"colorbar\":{\"outlinewidth\":0,\"ticks\":\"\"},\"type\":\"contourcarpet\"}],\"contour\":[{\"colorbar\":{\"outlinewidth\":0,\"ticks\":\"\"},\"colorscale\":[[0.0,\"#0d0887\"],[0.1111111111111111,\"#46039f\"],[0.2222222222222222,\"#7201a8\"],[0.3333333333333333,\"#9c179e\"],[0.4444444444444444,\"#bd3786\"],[0.5555555555555556,\"#d8576b\"],[0.6666666666666666,\"#ed7953\"],[0.7777777777777778,\"#fb9f3a\"],[0.8888888888888888,\"#fdca26\"],[1.0,\"#f0f921\"]],\"type\":\"contour\"}],\"heatmapgl\":[{\"colorbar\":{\"outlinewidth\":0,\"ticks\":\"\"},\"colorscale\":[[0.0,\"#0d0887\"],[0.1111111111111111,\"#46039f\"],[0.2222222222222222,\"#7201a8\"],[0.3333333333333333,\"#9c179e\"],[0.4444444444444444,\"#bd3786\"],[0.5555555555555556,\"#d8576b\"],[0.6666666666666666,\"#ed7953\"],[0.7777777777777778,\"#fb9f3a\"],[0.8888888888888888,\"#fdca26\"],[1.0,\"#f0f921\"]],\"type\":\"heatmapgl\"}],\"heatmap\":[{\"colorbar\":{\"outlinewidth\":0,\"ticks\":\"\"},\"colorscale\":[[0.0,\"#0d0887\"],[0.1111111111111111,\"#46039f\"],[0.2222222222222222,\"#7201a8\"],[0.3333333333333333,\"#9c179e\"],[0.4444444444444444,\"#bd3786\"],[0.5555555555555556,\"#d8576b\"],[0.6666666666666666,\"#ed7953\"],[0.7777777777777778,\"#fb9f3a\"],[0.8888888888888888,\"#fdca26\"],[1.0,\"#f0f921\"]],\"type\":\"heatmap\"}],\"histogram2dcontour\":[{\"colorbar\":{\"outlinewidth\":0,\"ticks\":\"\"},\"colorscale\":[[0.0,\"#0d0887\"],[0.1111111111111111,\"#46039f\"],[0.2222222222222222,\"#7201a8\"],[0.3333333333333333,\"#9c179e\"],[0.4444444444444444,\"#bd3786\"],[0.5555555555555556,\"#d8576b\"],[0.6666666666666666,\"#ed7953\"],[0.7777777777777778,\"#fb9f3a\"],[0.8888888888888888,\"#fdca26\"],[1.0,\"#f0f921\"]],\"type\":\"histogram2dcontour\"}],\"histogram2d\":[{\"colorbar\":{\"outlinewidth\":0,\"ticks\":\"\"},\"colorscale\":[[0.0,\"#0d0887\"],[0.1111111111111111,\"#46039f\"],[0.2222222222222222,\"#7201a8\"],[0.3333333333333333,\"#9c179e\"],[0.4444444444444444,\"#bd3786\"],[0.5555555555555556,\"#d8576b\"],[0.6666666666666666,\"#ed7953\"],[0.7777777777777778,\"#fb9f3a\"],[0.8888888888888888,\"#fdca26\"],[1.0,\"#f0f921\"]],\"type\":\"histogram2d\"}],\"histogram\":[{\"marker\":{\"pattern\":{\"fillmode\":\"overlay\",\"size\":10,\"solidity\":0.2}},\"type\":\"histogram\"}],\"mesh3d\":[{\"colorbar\":{\"outlinewidth\":0,\"ticks\":\"\"},\"type\":\"mesh3d\"}],\"parcoords\":[{\"line\":{\"colorbar\":{\"outlinewidth\":0,\"ticks\":\"\"}},\"type\":\"parcoords\"}],\"pie\":[{\"automargin\":true,\"type\":\"pie\"}],\"scatter3d\":[{\"line\":{\"colorbar\":{\"outlinewidth\":0,\"ticks\":\"\"}},\"marker\":{\"colorbar\":{\"outlinewidth\":0,\"ticks\":\"\"}},\"type\":\"scatter3d\"}],\"scattercarpet\":[{\"marker\":{\"colorbar\":{\"outlinewidth\":0,\"ticks\":\"\"}},\"type\":\"scattercarpet\"}],\"scattergeo\":[{\"marker\":{\"colorbar\":{\"outlinewidth\":0,\"ticks\":\"\"}},\"type\":\"scattergeo\"}],\"scattergl\":[{\"marker\":{\"colorbar\":{\"outlinewidth\":0,\"ticks\":\"\"}},\"type\":\"scattergl\"}],\"scattermapbox\":[{\"marker\":{\"colorbar\":{\"outlinewidth\":0,\"ticks\":\"\"}},\"type\":\"scattermapbox\"}],\"scatterpolargl\":[{\"marker\":{\"colorbar\":{\"outlinewidth\":0,\"ticks\":\"\"}},\"type\":\"scatterpolargl\"}],\"scatterpolar\":[{\"marker\":{\"colorbar\":{\"outlinewidth\":0,\"ticks\":\"\"}},\"type\":\"scatterpolar\"}],\"scatter\":[{\"fillpattern\":{\"fillmode\":\"overlay\",\"size\":10,\"solidity\":0.2},\"type\":\"scatter\"}],\"scatterternary\":[{\"marker\":{\"colorbar\":{\"outlinewidth\":0,\"ticks\":\"\"}},\"type\":\"scatterternary\"}],\"surface\":[{\"colorbar\":{\"outlinewidth\":0,\"ticks\":\"\"},\"colorscale\":[[0.0,\"#0d0887\"],[0.1111111111111111,\"#46039f\"],[0.2222222222222222,\"#7201a8\"],[0.3333333333333333,\"#9c179e\"],[0.4444444444444444,\"#bd3786\"],[0.5555555555555556,\"#d8576b\"],[0.6666666666666666,\"#ed7953\"],[0.7777777777777778,\"#fb9f3a\"],[0.8888888888888888,\"#fdca26\"],[1.0,\"#f0f921\"]],\"type\":\"surface\"}],\"table\":[{\"cells\":{\"fill\":{\"color\":\"#EBF0F8\"},\"line\":{\"color\":\"white\"}},\"header\":{\"fill\":{\"color\":\"#C8D4E3\"},\"line\":{\"color\":\"white\"}},\"type\":\"table\"}]},\"layout\":{\"annotationdefaults\":{\"arrowcolor\":\"#2a3f5f\",\"arrowhead\":0,\"arrowwidth\":1},\"autotypenumbers\":\"strict\",\"coloraxis\":{\"colorbar\":{\"outlinewidth\":0,\"ticks\":\"\"}},\"colorscale\":{\"diverging\":[[0,\"#8e0152\"],[0.1,\"#c51b7d\"],[0.2,\"#de77ae\"],[0.3,\"#f1b6da\"],[0.4,\"#fde0ef\"],[0.5,\"#f7f7f7\"],[0.6,\"#e6f5d0\"],[0.7,\"#b8e186\"],[0.8,\"#7fbc41\"],[0.9,\"#4d9221\"],[1,\"#276419\"]],\"sequential\":[[0.0,\"#0d0887\"],[0.1111111111111111,\"#46039f\"],[0.2222222222222222,\"#7201a8\"],[0.3333333333333333,\"#9c179e\"],[0.4444444444444444,\"#bd3786\"],[0.5555555555555556,\"#d8576b\"],[0.6666666666666666,\"#ed7953\"],[0.7777777777777778,\"#fb9f3a\"],[0.8888888888888888,\"#fdca26\"],[1.0,\"#f0f921\"]],\"sequentialminus\":[[0.0,\"#0d0887\"],[0.1111111111111111,\"#46039f\"],[0.2222222222222222,\"#7201a8\"],[0.3333333333333333,\"#9c179e\"],[0.4444444444444444,\"#bd3786\"],[0.5555555555555556,\"#d8576b\"],[0.6666666666666666,\"#ed7953\"],[0.7777777777777778,\"#fb9f3a\"],[0.8888888888888888,\"#fdca26\"],[1.0,\"#f0f921\"]]},\"colorway\":[\"#636efa\",\"#EF553B\",\"#00cc96\",\"#ab63fa\",\"#FFA15A\",\"#19d3f3\",\"#FF6692\",\"#B6E880\",\"#FF97FF\",\"#FECB52\"],\"font\":{\"color\":\"#2a3f5f\"},\"geo\":{\"bgcolor\":\"white\",\"lakecolor\":\"white\",\"landcolor\":\"#E5ECF6\",\"showlakes\":true,\"showland\":true,\"subunitcolor\":\"white\"},\"hoverlabel\":{\"align\":\"left\"},\"hovermode\":\"closest\",\"mapbox\":{\"style\":\"light\"},\"paper_bgcolor\":\"white\",\"plot_bgcolor\":\"#E5ECF6\",\"polar\":{\"angularaxis\":{\"gridcolor\":\"white\",\"linecolor\":\"white\",\"ticks\":\"\"},\"bgcolor\":\"#E5ECF6\",\"radialaxis\":{\"gridcolor\":\"white\",\"linecolor\":\"white\",\"ticks\":\"\"}},\"scene\":{\"xaxis\":{\"backgroundcolor\":\"#E5ECF6\",\"gridcolor\":\"white\",\"gridwidth\":2,\"linecolor\":\"white\",\"showbackground\":true,\"ticks\":\"\",\"zerolinecolor\":\"white\"},\"yaxis\":{\"backgroundcolor\":\"#E5ECF6\",\"gridcolor\":\"white\",\"gridwidth\":2,\"linecolor\":\"white\",\"showbackground\":true,\"ticks\":\"\",\"zerolinecolor\":\"white\"},\"zaxis\":{\"backgroundcolor\":\"#E5ECF6\",\"gridcolor\":\"white\",\"gridwidth\":2,\"linecolor\":\"white\",\"showbackground\":true,\"ticks\":\"\",\"zerolinecolor\":\"white\"}},\"shapedefaults\":{\"line\":{\"color\":\"#2a3f5f\"}},\"ternary\":{\"aaxis\":{\"gridcolor\":\"white\",\"linecolor\":\"white\",\"ticks\":\"\"},\"baxis\":{\"gridcolor\":\"white\",\"linecolor\":\"white\",\"ticks\":\"\"},\"bgcolor\":\"#E5ECF6\",\"caxis\":{\"gridcolor\":\"white\",\"linecolor\":\"white\",\"ticks\":\"\"}},\"title\":{\"x\":0.05},\"xaxis\":{\"automargin\":true,\"gridcolor\":\"white\",\"linecolor\":\"white\",\"ticks\":\"\",\"title\":{\"standoff\":15},\"zerolinecolor\":\"white\",\"zerolinewidth\":2},\"yaxis\":{\"automargin\":true,\"gridcolor\":\"white\",\"linecolor\":\"white\",\"ticks\":\"\",\"title\":{\"standoff\":15},\"zerolinecolor\":\"white\",\"zerolinewidth\":2}}},\"title\":{\"font\":{\"color\":\"#4D5663\"},\"text\":\"Amazon Vs Apple Price Movement\"},\"xaxis\":{\"anchor\":\"y\",\"domain\":[0.0,0.45],\"gridcolor\":\"#E1E5ED\",\"showgrid\":true,\"tickfont\":{\"color\":\"#4D5663\"},\"title\":{\"font\":{\"color\":\"#4D5663\"},\"text\":\"\"},\"zerolinecolor\":\"#E1E5ED\"},\"yaxis\":{\"anchor\":\"x\",\"domain\":[0.0,1.0],\"gridcolor\":\"#E1E5ED\",\"showgrid\":true,\"tickfont\":{\"color\":\"#4D5663\"},\"title\":{\"font\":{\"color\":\"#4D5663\"},\"text\":\"\"},\"zerolinecolor\":\"#E1E5ED\"},\"xaxis2\":{\"anchor\":\"y2\",\"domain\":[0.55,1.0],\"gridcolor\":\"#E1E5ED\",\"showgrid\":true,\"tickfont\":{\"color\":\"#4D5663\"},\"title\":{\"font\":{\"color\":\"#4D5663\"},\"text\":\"\"},\"zerolinecolor\":\"#E1E5ED\"},\"yaxis2\":{\"anchor\":\"x2\",\"domain\":[0.0,1.0],\"gridcolor\":\"#E1E5ED\",\"showgrid\":true,\"tickfont\":{\"color\":\"#4D5663\"},\"title\":{\"font\":{\"color\":\"#4D5663\"},\"text\":\"\"},\"zerolinecolor\":\"#E1E5ED\"}},                        {\"showLink\": true, \"linkText\": \"Export to plot.ly\", \"plotlyServerURL\": \"https://plot.ly\", \"responsive\": true}                    ).then(function(){\n",
       "                            \n",
       "var gd = document.getElementById('45add676-6dd4-4800-a0de-c65bd1b88ba3');\n",
       "var x = new MutationObserver(function (mutations, observer) {{\n",
       "        var display = window.getComputedStyle(gd).display;\n",
       "        if (!display || display === 'none') {{\n",
       "            console.log([gd, 'removed!']);\n",
       "            Plotly.purge(gd);\n",
       "            observer.disconnect();\n",
       "        }}\n",
       "}});\n",
       "\n",
       "// Listen for the removal of the full notebook cells\n",
       "var notebookContainer = gd.closest('#notebook-container');\n",
       "if (notebookContainer) {{\n",
       "    x.observe(notebookContainer, {childList: true});\n",
       "}}\n",
       "\n",
       "// Listen for the clearing of the current output cell\n",
       "var outputEl = gd.closest('.output');\n",
       "if (outputEl) {{\n",
       "    x.observe(outputEl, {childList: true});\n",
       "}}\n",
       "\n",
       "                        })                };                });            </script>        </div>"
      ]
     },
     "metadata": {},
     "output_type": "display_data"
    }
   ],
   "source": [
    "# Use subplots\n",
    "df4[['AMZN', 'AAPL']].iplot(title='Amazon Vs Apple Price Movement',subplots=True)"
   ]
  },
  {
   "cell_type": "code",
   "execution_count": 51,
   "metadata": {},
   "outputs": [
    {
     "data": {
      "application/vnd.plotly.v1+json": {
       "config": {
        "linkText": "Export to plot.ly",
        "plotlyServerURL": "https://plot.ly",
        "showLink": true
       },
       "data": [
        {
         "line": {
          "color": "rgba(255, 153, 51, 1.0)",
          "dash": "solid",
          "shape": "linear",
          "width": 1.3
         },
         "mode": "lines",
         "name": "AAPL",
         "text": "",
         "type": "scatter",
         "x": [
          "2023-01-03 00:00:00-05:00",
          "2023-01-04 00:00:00-05:00",
          "2023-01-05 00:00:00-05:00",
          "2023-01-06 00:00:00-05:00",
          "2023-01-09 00:00:00-05:00",
          "2023-01-10 00:00:00-05:00",
          "2023-01-11 00:00:00-05:00",
          "2023-01-12 00:00:00-05:00",
          "2023-01-13 00:00:00-05:00",
          "2023-01-17 00:00:00-05:00",
          "2023-01-18 00:00:00-05:00",
          "2023-01-19 00:00:00-05:00",
          "2023-01-20 00:00:00-05:00",
          "2023-01-23 00:00:00-05:00",
          "2023-01-24 00:00:00-05:00",
          "2023-01-25 00:00:00-05:00",
          "2023-01-26 00:00:00-05:00",
          "2023-01-27 00:00:00-05:00",
          "2023-01-30 00:00:00-05:00",
          "2023-01-31 00:00:00-05:00",
          "2023-02-01 00:00:00-05:00",
          "2023-02-02 00:00:00-05:00",
          "2023-02-03 00:00:00-05:00",
          "2023-02-06 00:00:00-05:00",
          "2023-02-07 00:00:00-05:00",
          "2023-02-08 00:00:00-05:00",
          "2023-02-09 00:00:00-05:00",
          "2023-02-10 00:00:00-05:00",
          "2023-02-13 00:00:00-05:00",
          "2023-02-14 00:00:00-05:00",
          "2023-02-15 00:00:00-05:00",
          "2023-02-16 00:00:00-05:00",
          "2023-02-17 00:00:00-05:00"
         ],
         "y": [
          100,
          101.03142786221294,
          99.96001999733262,
          103.63796641325429,
          104.06172756010854,
          104.52546870963013,
          106.73223778106586,
          106.66827222056352,
          107.74765897961917,
          108.69113572349478,
          108.10746678479828,
          108.15543790046824,
          110.23426363207204,
          112.82482606652187,
          113.96018727307728,
          113.42448945005074,
          115.10355181146252,
          116.67865639087735,
          114.33597730426158,
          115.36739294764729,
          116.2788808018581,
          120.58848560038705,
          123.53082807053171,
          121.31606788609342,
          123.65075585970659,
          121.46798456493309,
          120.62845338422719,
          120.92473550668392,
          123.19894028555277,
          122.67843046476203,
          124.38408099420688,
          123.08683254579937,
          122.15793286279852
         ]
        },
        {
         "line": {
          "color": "rgba(55, 128, 191, 1.0)",
          "dash": "solid",
          "shape": "linear",
          "width": 1.3
         },
         "mode": "lines",
         "name": "AMZN",
         "text": "",
         "type": "scatter",
         "x": [
          "2023-01-03 00:00:00-05:00",
          "2023-01-04 00:00:00-05:00",
          "2023-01-05 00:00:00-05:00",
          "2023-01-06 00:00:00-05:00",
          "2023-01-09 00:00:00-05:00",
          "2023-01-10 00:00:00-05:00",
          "2023-01-11 00:00:00-05:00",
          "2023-01-12 00:00:00-05:00",
          "2023-01-13 00:00:00-05:00",
          "2023-01-17 00:00:00-05:00",
          "2023-01-18 00:00:00-05:00",
          "2023-01-19 00:00:00-05:00",
          "2023-01-20 00:00:00-05:00",
          "2023-01-23 00:00:00-05:00",
          "2023-01-24 00:00:00-05:00",
          "2023-01-25 00:00:00-05:00",
          "2023-01-26 00:00:00-05:00",
          "2023-01-27 00:00:00-05:00",
          "2023-01-30 00:00:00-05:00",
          "2023-01-31 00:00:00-05:00",
          "2023-02-01 00:00:00-05:00",
          "2023-02-02 00:00:00-05:00",
          "2023-02-03 00:00:00-05:00",
          "2023-02-06 00:00:00-05:00",
          "2023-02-07 00:00:00-05:00",
          "2023-02-08 00:00:00-05:00",
          "2023-02-09 00:00:00-05:00",
          "2023-02-10 00:00:00-05:00",
          "2023-02-13 00:00:00-05:00",
          "2023-02-14 00:00:00-05:00",
          "2023-02-15 00:00:00-05:00",
          "2023-02-16 00:00:00-05:00",
          "2023-02-17 00:00:00-05:00"
         ],
         "y": [
          100,
          99.207643547432,
          96.85388375921303,
          100.30296217333377,
          101.79445458052155,
          104.71918325117645,
          110.80167405736483,
          111.01141573275038,
          114.33232707468726,
          111.92030225275164,
          111.23281219287841,
          109.15870500850818,
          113.31857416199121,
          113.63318223007151,
          112.23491032083194,
          113.23700844878547,
          115.61407780648952,
          119.13306714907341,
          117.1638352473939,
          120.17012074125853,
          122.52388941947348,
          131.56607325054435,
          120.47308291459228,
          119.06315622061024,
          118.9815905074045,
          116.58122047021145,
          114.47214893161362,
          113.73805751276225,
          115.98695090828643,
          116.17338301418691,
          117.87462598675621,
          114.36728253891886,
          113.26030912827456
         ]
        },
        {
         "line": {
          "color": "rgba(50, 171, 96, 1.0)",
          "dash": "solid",
          "shape": "linear",
          "width": 1.3
         },
         "mode": "lines",
         "name": "GOOG",
         "text": "",
         "type": "scatter",
         "x": [
          "2023-01-03 00:00:00-05:00",
          "2023-01-04 00:00:00-05:00",
          "2023-01-05 00:00:00-05:00",
          "2023-01-06 00:00:00-05:00",
          "2023-01-09 00:00:00-05:00",
          "2023-01-10 00:00:00-05:00",
          "2023-01-11 00:00:00-05:00",
          "2023-01-12 00:00:00-05:00",
          "2023-01-13 00:00:00-05:00",
          "2023-01-17 00:00:00-05:00",
          "2023-01-18 00:00:00-05:00",
          "2023-01-19 00:00:00-05:00",
          "2023-01-20 00:00:00-05:00",
          "2023-01-23 00:00:00-05:00",
          "2023-01-24 00:00:00-05:00",
          "2023-01-25 00:00:00-05:00",
          "2023-01-26 00:00:00-05:00",
          "2023-01-27 00:00:00-05:00",
          "2023-01-30 00:00:00-05:00",
          "2023-01-31 00:00:00-05:00",
          "2023-02-01 00:00:00-05:00",
          "2023-02-02 00:00:00-05:00",
          "2023-02-03 00:00:00-05:00",
          "2023-02-06 00:00:00-05:00",
          "2023-02-07 00:00:00-05:00",
          "2023-02-08 00:00:00-05:00",
          "2023-02-09 00:00:00-05:00",
          "2023-02-10 00:00:00-05:00",
          "2023-02-13 00:00:00-05:00",
          "2023-02-14 00:00:00-05:00",
          "2023-02-15 00:00:00-05:00",
          "2023-02-16 00:00:00-05:00",
          "2023-02-17 00:00:00-05:00"
         ],
         "y": [
          100,
          98.89632341421286,
          96.73355584742504,
          98.28317353564526,
          98.99666228862452,
          99.48718049038722,
          102.85396351737384,
          102.46377568456595,
          103.45597124747323,
          102.742482494494,
          102.31884269991099,
          104.69343016399031,
          110.68004699775236,
          112.83166391061515,
          110.60200943119077,
          107.8372426397604,
          110.54627317247927,
          112.27425029075904,
          109.19732472762551,
          111.3377994920201,
          113.0769272642249,
          121.29320708286815,
          117.30212352338889,
          115.35117585389258,
          120.44593599915898,
          111.4827239712182,
          106.42140728227008,
          105.75251263953413,
          105.9085877726573,
          105.85284300848896,
          108.24972327496153,
          106.7781516587597,
          105.45150452175602
         ]
        },
        {
         "line": {
          "color": "rgba(128, 0, 128, 1.0)",
          "dash": "solid",
          "shape": "linear",
          "width": 1.3
         },
         "mode": "lines",
         "name": "MSFT",
         "text": "",
         "type": "scatter",
         "x": [
          "2023-01-03 00:00:00-05:00",
          "2023-01-04 00:00:00-05:00",
          "2023-01-05 00:00:00-05:00",
          "2023-01-06 00:00:00-05:00",
          "2023-01-09 00:00:00-05:00",
          "2023-01-10 00:00:00-05:00",
          "2023-01-11 00:00:00-05:00",
          "2023-01-12 00:00:00-05:00",
          "2023-01-13 00:00:00-05:00",
          "2023-01-17 00:00:00-05:00",
          "2023-01-18 00:00:00-05:00",
          "2023-01-19 00:00:00-05:00",
          "2023-01-20 00:00:00-05:00",
          "2023-01-23 00:00:00-05:00",
          "2023-01-24 00:00:00-05:00",
          "2023-01-25 00:00:00-05:00",
          "2023-01-26 00:00:00-05:00",
          "2023-01-27 00:00:00-05:00",
          "2023-01-30 00:00:00-05:00",
          "2023-01-31 00:00:00-05:00",
          "2023-02-01 00:00:00-05:00",
          "2023-02-02 00:00:00-05:00",
          "2023-02-03 00:00:00-05:00",
          "2023-02-06 00:00:00-05:00",
          "2023-02-07 00:00:00-05:00",
          "2023-02-08 00:00:00-05:00",
          "2023-02-09 00:00:00-05:00",
          "2023-02-10 00:00:00-05:00",
          "2023-02-13 00:00:00-05:00",
          "2023-02-14 00:00:00-05:00",
          "2023-02-15 00:00:00-05:00",
          "2023-02-16 00:00:00-05:00",
          "2023-02-17 00:00:00-05:00"
         ],
         "y": [
          100,
          95.62568035384243,
          92.79154548873963,
          93.88512380404737,
          94.7992282156039,
          95.52132511235715,
          98.40971269937013,
          99.55338076439959,
          99.85390649287662,
          100.32139805375941,
          98.4264092826107,
          96.8069045575415,
          100.26713256199588,
          101.2521862787032,
          101.02679198234543,
          100.42991626743316,
          103.51448072636458,
          103.58126705932689,
          101.30645177046674,
          103.43517355220351,
          105.49711538590465,
          110.44326906457695,
          107.83454126568527,
          107.1750421899992,
          111.67876514496623,
          111.33233179373596,
          110.03422512242618,
          109.81717592522536,
          113.24818012031372,
          113.60297772548098,
          112.69495176411372,
          109.69471303170558,
          107.98328451737649
         ]
        },
        {
         "line": {
          "color": "rgba(219, 64, 82, 1.0)",
          "dash": "solid",
          "shape": "linear",
          "width": 1.3
         },
         "mode": "lines",
         "name": "NFLX",
         "text": "",
         "type": "scatter",
         "x": [
          "2023-01-03 00:00:00-05:00",
          "2023-01-04 00:00:00-05:00",
          "2023-01-05 00:00:00-05:00",
          "2023-01-06 00:00:00-05:00",
          "2023-01-09 00:00:00-05:00",
          "2023-01-10 00:00:00-05:00",
          "2023-01-11 00:00:00-05:00",
          "2023-01-12 00:00:00-05:00",
          "2023-01-13 00:00:00-05:00",
          "2023-01-17 00:00:00-05:00",
          "2023-01-18 00:00:00-05:00",
          "2023-01-19 00:00:00-05:00",
          "2023-01-20 00:00:00-05:00",
          "2023-01-23 00:00:00-05:00",
          "2023-01-24 00:00:00-05:00",
          "2023-01-25 00:00:00-05:00",
          "2023-01-26 00:00:00-05:00",
          "2023-01-27 00:00:00-05:00",
          "2023-01-30 00:00:00-05:00",
          "2023-01-31 00:00:00-05:00",
          "2023-02-01 00:00:00-05:00",
          "2023-02-02 00:00:00-05:00",
          "2023-02-03 00:00:00-05:00",
          "2023-02-06 00:00:00-05:00",
          "2023-02-07 00:00:00-05:00",
          "2023-02-08 00:00:00-05:00",
          "2023-02-09 00:00:00-05:00",
          "2023-02-10 00:00:00-05:00",
          "2023-02-13 00:00:00-05:00",
          "2023-02-14 00:00:00-05:00",
          "2023-02-15 00:00:00-05:00",
          "2023-02-16 00:00:00-05:00",
          "2023-02-17 00:00:00-05:00"
         ],
         "y": [
          100,
          104.90252275186494,
          105.00084739431938,
          106.98422604962565,
          106.8553993503517,
          111.0493286960826,
          110.95439776958365,
          111.92744235287155,
          112.83946212913048,
          110.60179275114687,
          110.63908223987737,
          107.0622090897371,
          116.12137169860245,
          121.17986053069025,
          123.35310103899442,
          124.75333996487504,
          123.70570605743119,
          122.31563793272207,
          119.71858645108568,
          119.97286682706803,
          122.7292677581878,
          124.39057449196176,
          124.05491735991248,
          122.5563641382724,
          123.05475408906558,
          124.37022254292378,
          122.90218172479818,
          117.76910356855441,
          121.56975503785752,
          122.04101595439674,
          122.53602253592942,
          118.9048913172812,
          117.97252993867929
         ]
        }
       ],
       "layout": {
        "legend": {
         "bgcolor": "#F5F6F9",
         "font": {
          "color": "#4D5663"
         }
        },
        "paper_bgcolor": "#F5F6F9",
        "plot_bgcolor": "#F5F6F9",
        "template": {
         "data": {
          "bar": [
           {
            "error_x": {
             "color": "#2a3f5f"
            },
            "error_y": {
             "color": "#2a3f5f"
            },
            "marker": {
             "line": {
              "color": "#E5ECF6",
              "width": 0.5
             },
             "pattern": {
              "fillmode": "overlay",
              "size": 10,
              "solidity": 0.2
             }
            },
            "type": "bar"
           }
          ],
          "barpolar": [
           {
            "marker": {
             "line": {
              "color": "#E5ECF6",
              "width": 0.5
             },
             "pattern": {
              "fillmode": "overlay",
              "size": 10,
              "solidity": 0.2
             }
            },
            "type": "barpolar"
           }
          ],
          "carpet": [
           {
            "aaxis": {
             "endlinecolor": "#2a3f5f",
             "gridcolor": "white",
             "linecolor": "white",
             "minorgridcolor": "white",
             "startlinecolor": "#2a3f5f"
            },
            "baxis": {
             "endlinecolor": "#2a3f5f",
             "gridcolor": "white",
             "linecolor": "white",
             "minorgridcolor": "white",
             "startlinecolor": "#2a3f5f"
            },
            "type": "carpet"
           }
          ],
          "choropleth": [
           {
            "colorbar": {
             "outlinewidth": 0,
             "ticks": ""
            },
            "type": "choropleth"
           }
          ],
          "contour": [
           {
            "colorbar": {
             "outlinewidth": 0,
             "ticks": ""
            },
            "colorscale": [
             [
              0,
              "#0d0887"
             ],
             [
              0.1111111111111111,
              "#46039f"
             ],
             [
              0.2222222222222222,
              "#7201a8"
             ],
             [
              0.3333333333333333,
              "#9c179e"
             ],
             [
              0.4444444444444444,
              "#bd3786"
             ],
             [
              0.5555555555555556,
              "#d8576b"
             ],
             [
              0.6666666666666666,
              "#ed7953"
             ],
             [
              0.7777777777777778,
              "#fb9f3a"
             ],
             [
              0.8888888888888888,
              "#fdca26"
             ],
             [
              1,
              "#f0f921"
             ]
            ],
            "type": "contour"
           }
          ],
          "contourcarpet": [
           {
            "colorbar": {
             "outlinewidth": 0,
             "ticks": ""
            },
            "type": "contourcarpet"
           }
          ],
          "heatmap": [
           {
            "colorbar": {
             "outlinewidth": 0,
             "ticks": ""
            },
            "colorscale": [
             [
              0,
              "#0d0887"
             ],
             [
              0.1111111111111111,
              "#46039f"
             ],
             [
              0.2222222222222222,
              "#7201a8"
             ],
             [
              0.3333333333333333,
              "#9c179e"
             ],
             [
              0.4444444444444444,
              "#bd3786"
             ],
             [
              0.5555555555555556,
              "#d8576b"
             ],
             [
              0.6666666666666666,
              "#ed7953"
             ],
             [
              0.7777777777777778,
              "#fb9f3a"
             ],
             [
              0.8888888888888888,
              "#fdca26"
             ],
             [
              1,
              "#f0f921"
             ]
            ],
            "type": "heatmap"
           }
          ],
          "heatmapgl": [
           {
            "colorbar": {
             "outlinewidth": 0,
             "ticks": ""
            },
            "colorscale": [
             [
              0,
              "#0d0887"
             ],
             [
              0.1111111111111111,
              "#46039f"
             ],
             [
              0.2222222222222222,
              "#7201a8"
             ],
             [
              0.3333333333333333,
              "#9c179e"
             ],
             [
              0.4444444444444444,
              "#bd3786"
             ],
             [
              0.5555555555555556,
              "#d8576b"
             ],
             [
              0.6666666666666666,
              "#ed7953"
             ],
             [
              0.7777777777777778,
              "#fb9f3a"
             ],
             [
              0.8888888888888888,
              "#fdca26"
             ],
             [
              1,
              "#f0f921"
             ]
            ],
            "type": "heatmapgl"
           }
          ],
          "histogram": [
           {
            "marker": {
             "pattern": {
              "fillmode": "overlay",
              "size": 10,
              "solidity": 0.2
             }
            },
            "type": "histogram"
           }
          ],
          "histogram2d": [
           {
            "colorbar": {
             "outlinewidth": 0,
             "ticks": ""
            },
            "colorscale": [
             [
              0,
              "#0d0887"
             ],
             [
              0.1111111111111111,
              "#46039f"
             ],
             [
              0.2222222222222222,
              "#7201a8"
             ],
             [
              0.3333333333333333,
              "#9c179e"
             ],
             [
              0.4444444444444444,
              "#bd3786"
             ],
             [
              0.5555555555555556,
              "#d8576b"
             ],
             [
              0.6666666666666666,
              "#ed7953"
             ],
             [
              0.7777777777777778,
              "#fb9f3a"
             ],
             [
              0.8888888888888888,
              "#fdca26"
             ],
             [
              1,
              "#f0f921"
             ]
            ],
            "type": "histogram2d"
           }
          ],
          "histogram2dcontour": [
           {
            "colorbar": {
             "outlinewidth": 0,
             "ticks": ""
            },
            "colorscale": [
             [
              0,
              "#0d0887"
             ],
             [
              0.1111111111111111,
              "#46039f"
             ],
             [
              0.2222222222222222,
              "#7201a8"
             ],
             [
              0.3333333333333333,
              "#9c179e"
             ],
             [
              0.4444444444444444,
              "#bd3786"
             ],
             [
              0.5555555555555556,
              "#d8576b"
             ],
             [
              0.6666666666666666,
              "#ed7953"
             ],
             [
              0.7777777777777778,
              "#fb9f3a"
             ],
             [
              0.8888888888888888,
              "#fdca26"
             ],
             [
              1,
              "#f0f921"
             ]
            ],
            "type": "histogram2dcontour"
           }
          ],
          "mesh3d": [
           {
            "colorbar": {
             "outlinewidth": 0,
             "ticks": ""
            },
            "type": "mesh3d"
           }
          ],
          "parcoords": [
           {
            "line": {
             "colorbar": {
              "outlinewidth": 0,
              "ticks": ""
             }
            },
            "type": "parcoords"
           }
          ],
          "pie": [
           {
            "automargin": true,
            "type": "pie"
           }
          ],
          "scatter": [
           {
            "fillpattern": {
             "fillmode": "overlay",
             "size": 10,
             "solidity": 0.2
            },
            "type": "scatter"
           }
          ],
          "scatter3d": [
           {
            "line": {
             "colorbar": {
              "outlinewidth": 0,
              "ticks": ""
             }
            },
            "marker": {
             "colorbar": {
              "outlinewidth": 0,
              "ticks": ""
             }
            },
            "type": "scatter3d"
           }
          ],
          "scattercarpet": [
           {
            "marker": {
             "colorbar": {
              "outlinewidth": 0,
              "ticks": ""
             }
            },
            "type": "scattercarpet"
           }
          ],
          "scattergeo": [
           {
            "marker": {
             "colorbar": {
              "outlinewidth": 0,
              "ticks": ""
             }
            },
            "type": "scattergeo"
           }
          ],
          "scattergl": [
           {
            "marker": {
             "colorbar": {
              "outlinewidth": 0,
              "ticks": ""
             }
            },
            "type": "scattergl"
           }
          ],
          "scattermapbox": [
           {
            "marker": {
             "colorbar": {
              "outlinewidth": 0,
              "ticks": ""
             }
            },
            "type": "scattermapbox"
           }
          ],
          "scatterpolar": [
           {
            "marker": {
             "colorbar": {
              "outlinewidth": 0,
              "ticks": ""
             }
            },
            "type": "scatterpolar"
           }
          ],
          "scatterpolargl": [
           {
            "marker": {
             "colorbar": {
              "outlinewidth": 0,
              "ticks": ""
             }
            },
            "type": "scatterpolargl"
           }
          ],
          "scatterternary": [
           {
            "marker": {
             "colorbar": {
              "outlinewidth": 0,
              "ticks": ""
             }
            },
            "type": "scatterternary"
           }
          ],
          "surface": [
           {
            "colorbar": {
             "outlinewidth": 0,
             "ticks": ""
            },
            "colorscale": [
             [
              0,
              "#0d0887"
             ],
             [
              0.1111111111111111,
              "#46039f"
             ],
             [
              0.2222222222222222,
              "#7201a8"
             ],
             [
              0.3333333333333333,
              "#9c179e"
             ],
             [
              0.4444444444444444,
              "#bd3786"
             ],
             [
              0.5555555555555556,
              "#d8576b"
             ],
             [
              0.6666666666666666,
              "#ed7953"
             ],
             [
              0.7777777777777778,
              "#fb9f3a"
             ],
             [
              0.8888888888888888,
              "#fdca26"
             ],
             [
              1,
              "#f0f921"
             ]
            ],
            "type": "surface"
           }
          ],
          "table": [
           {
            "cells": {
             "fill": {
              "color": "#EBF0F8"
             },
             "line": {
              "color": "white"
             }
            },
            "header": {
             "fill": {
              "color": "#C8D4E3"
             },
             "line": {
              "color": "white"
             }
            },
            "type": "table"
           }
          ]
         },
         "layout": {
          "annotationdefaults": {
           "arrowcolor": "#2a3f5f",
           "arrowhead": 0,
           "arrowwidth": 1
          },
          "autotypenumbers": "strict",
          "coloraxis": {
           "colorbar": {
            "outlinewidth": 0,
            "ticks": ""
           }
          },
          "colorscale": {
           "diverging": [
            [
             0,
             "#8e0152"
            ],
            [
             0.1,
             "#c51b7d"
            ],
            [
             0.2,
             "#de77ae"
            ],
            [
             0.3,
             "#f1b6da"
            ],
            [
             0.4,
             "#fde0ef"
            ],
            [
             0.5,
             "#f7f7f7"
            ],
            [
             0.6,
             "#e6f5d0"
            ],
            [
             0.7,
             "#b8e186"
            ],
            [
             0.8,
             "#7fbc41"
            ],
            [
             0.9,
             "#4d9221"
            ],
            [
             1,
             "#276419"
            ]
           ],
           "sequential": [
            [
             0,
             "#0d0887"
            ],
            [
             0.1111111111111111,
             "#46039f"
            ],
            [
             0.2222222222222222,
             "#7201a8"
            ],
            [
             0.3333333333333333,
             "#9c179e"
            ],
            [
             0.4444444444444444,
             "#bd3786"
            ],
            [
             0.5555555555555556,
             "#d8576b"
            ],
            [
             0.6666666666666666,
             "#ed7953"
            ],
            [
             0.7777777777777778,
             "#fb9f3a"
            ],
            [
             0.8888888888888888,
             "#fdca26"
            ],
            [
             1,
             "#f0f921"
            ]
           ],
           "sequentialminus": [
            [
             0,
             "#0d0887"
            ],
            [
             0.1111111111111111,
             "#46039f"
            ],
            [
             0.2222222222222222,
             "#7201a8"
            ],
            [
             0.3333333333333333,
             "#9c179e"
            ],
            [
             0.4444444444444444,
             "#bd3786"
            ],
            [
             0.5555555555555556,
             "#d8576b"
            ],
            [
             0.6666666666666666,
             "#ed7953"
            ],
            [
             0.7777777777777778,
             "#fb9f3a"
            ],
            [
             0.8888888888888888,
             "#fdca26"
            ],
            [
             1,
             "#f0f921"
            ]
           ]
          },
          "colorway": [
           "#636efa",
           "#EF553B",
           "#00cc96",
           "#ab63fa",
           "#FFA15A",
           "#19d3f3",
           "#FF6692",
           "#B6E880",
           "#FF97FF",
           "#FECB52"
          ],
          "font": {
           "color": "#2a3f5f"
          },
          "geo": {
           "bgcolor": "white",
           "lakecolor": "white",
           "landcolor": "#E5ECF6",
           "showlakes": true,
           "showland": true,
           "subunitcolor": "white"
          },
          "hoverlabel": {
           "align": "left"
          },
          "hovermode": "closest",
          "mapbox": {
           "style": "light"
          },
          "paper_bgcolor": "white",
          "plot_bgcolor": "#E5ECF6",
          "polar": {
           "angularaxis": {
            "gridcolor": "white",
            "linecolor": "white",
            "ticks": ""
           },
           "bgcolor": "#E5ECF6",
           "radialaxis": {
            "gridcolor": "white",
            "linecolor": "white",
            "ticks": ""
           }
          },
          "scene": {
           "xaxis": {
            "backgroundcolor": "#E5ECF6",
            "gridcolor": "white",
            "gridwidth": 2,
            "linecolor": "white",
            "showbackground": true,
            "ticks": "",
            "zerolinecolor": "white"
           },
           "yaxis": {
            "backgroundcolor": "#E5ECF6",
            "gridcolor": "white",
            "gridwidth": 2,
            "linecolor": "white",
            "showbackground": true,
            "ticks": "",
            "zerolinecolor": "white"
           },
           "zaxis": {
            "backgroundcolor": "#E5ECF6",
            "gridcolor": "white",
            "gridwidth": 2,
            "linecolor": "white",
            "showbackground": true,
            "ticks": "",
            "zerolinecolor": "white"
           }
          },
          "shapedefaults": {
           "line": {
            "color": "#2a3f5f"
           }
          },
          "ternary": {
           "aaxis": {
            "gridcolor": "white",
            "linecolor": "white",
            "ticks": ""
           },
           "baxis": {
            "gridcolor": "white",
            "linecolor": "white",
            "ticks": ""
           },
           "bgcolor": "#E5ECF6",
           "caxis": {
            "gridcolor": "white",
            "linecolor": "white",
            "ticks": ""
           }
          },
          "title": {
           "x": 0.05
          },
          "xaxis": {
           "automargin": true,
           "gridcolor": "white",
           "linecolor": "white",
           "ticks": "",
           "title": {
            "standoff": 15
           },
           "zerolinecolor": "white",
           "zerolinewidth": 2
          },
          "yaxis": {
           "automargin": true,
           "gridcolor": "white",
           "linecolor": "white",
           "ticks": "",
           "title": {
            "standoff": 15
           },
           "zerolinecolor": "white",
           "zerolinewidth": 2
          }
         }
        },
        "title": {
         "font": {
          "color": "#4D5663"
         },
         "text": "The FAANG Stocks"
        },
        "xaxis": {
         "gridcolor": "#E1E5ED",
         "showgrid": true,
         "tickfont": {
          "color": "#4D5663"
         },
         "title": {
          "font": {
           "color": "#4D5663"
          },
          "text": ""
         },
         "zerolinecolor": "#E1E5ED"
        },
        "yaxis": {
         "gridcolor": "#E1E5ED",
         "showgrid": true,
         "tickfont": {
          "color": "#4D5663"
         },
         "title": {
          "font": {
           "color": "#4D5663"
          },
          "text": ""
         },
         "zerolinecolor": "#E1E5ED"
        }
       }
      },
      "text/html": [
       "<div>                            <div id=\"1f212be2-7781-41d6-91a3-065613cd7164\" class=\"plotly-graph-div\" style=\"height:525px; width:100%;\"></div>            <script type=\"text/javascript\">                require([\"plotly\"], function(Plotly) {                    window.PLOTLYENV=window.PLOTLYENV || {};\n",
       "                    window.PLOTLYENV.BASE_URL='https://plot.ly';                                    if (document.getElementById(\"1f212be2-7781-41d6-91a3-065613cd7164\")) {                    Plotly.newPlot(                        \"1f212be2-7781-41d6-91a3-065613cd7164\",                        [{\"line\":{\"color\":\"rgba(255, 153, 51, 1.0)\",\"dash\":\"solid\",\"shape\":\"linear\",\"width\":1.3},\"mode\":\"lines\",\"name\":\"AAPL\",\"text\":\"\",\"x\":[\"2023-01-03 00:00:00-05:00\",\"2023-01-04 00:00:00-05:00\",\"2023-01-05 00:00:00-05:00\",\"2023-01-06 00:00:00-05:00\",\"2023-01-09 00:00:00-05:00\",\"2023-01-10 00:00:00-05:00\",\"2023-01-11 00:00:00-05:00\",\"2023-01-12 00:00:00-05:00\",\"2023-01-13 00:00:00-05:00\",\"2023-01-17 00:00:00-05:00\",\"2023-01-18 00:00:00-05:00\",\"2023-01-19 00:00:00-05:00\",\"2023-01-20 00:00:00-05:00\",\"2023-01-23 00:00:00-05:00\",\"2023-01-24 00:00:00-05:00\",\"2023-01-25 00:00:00-05:00\",\"2023-01-26 00:00:00-05:00\",\"2023-01-27 00:00:00-05:00\",\"2023-01-30 00:00:00-05:00\",\"2023-01-31 00:00:00-05:00\",\"2023-02-01 00:00:00-05:00\",\"2023-02-02 00:00:00-05:00\",\"2023-02-03 00:00:00-05:00\",\"2023-02-06 00:00:00-05:00\",\"2023-02-07 00:00:00-05:00\",\"2023-02-08 00:00:00-05:00\",\"2023-02-09 00:00:00-05:00\",\"2023-02-10 00:00:00-05:00\",\"2023-02-13 00:00:00-05:00\",\"2023-02-14 00:00:00-05:00\",\"2023-02-15 00:00:00-05:00\",\"2023-02-16 00:00:00-05:00\",\"2023-02-17 00:00:00-05:00\"],\"y\":[100.0,101.03142786221294,99.96001999733262,103.63796641325429,104.06172756010854,104.52546870963013,106.73223778106586,106.66827222056352,107.74765897961917,108.69113572349478,108.10746678479828,108.15543790046824,110.23426363207204,112.82482606652187,113.96018727307728,113.42448945005074,115.10355181146252,116.67865639087735,114.33597730426158,115.36739294764729,116.2788808018581,120.58848560038705,123.53082807053171,121.31606788609342,123.65075585970659,121.46798456493309,120.62845338422719,120.92473550668392,123.19894028555277,122.67843046476203,124.38408099420688,123.08683254579937,122.15793286279852],\"type\":\"scatter\"},{\"line\":{\"color\":\"rgba(55, 128, 191, 1.0)\",\"dash\":\"solid\",\"shape\":\"linear\",\"width\":1.3},\"mode\":\"lines\",\"name\":\"AMZN\",\"text\":\"\",\"x\":[\"2023-01-03 00:00:00-05:00\",\"2023-01-04 00:00:00-05:00\",\"2023-01-05 00:00:00-05:00\",\"2023-01-06 00:00:00-05:00\",\"2023-01-09 00:00:00-05:00\",\"2023-01-10 00:00:00-05:00\",\"2023-01-11 00:00:00-05:00\",\"2023-01-12 00:00:00-05:00\",\"2023-01-13 00:00:00-05:00\",\"2023-01-17 00:00:00-05:00\",\"2023-01-18 00:00:00-05:00\",\"2023-01-19 00:00:00-05:00\",\"2023-01-20 00:00:00-05:00\",\"2023-01-23 00:00:00-05:00\",\"2023-01-24 00:00:00-05:00\",\"2023-01-25 00:00:00-05:00\",\"2023-01-26 00:00:00-05:00\",\"2023-01-27 00:00:00-05:00\",\"2023-01-30 00:00:00-05:00\",\"2023-01-31 00:00:00-05:00\",\"2023-02-01 00:00:00-05:00\",\"2023-02-02 00:00:00-05:00\",\"2023-02-03 00:00:00-05:00\",\"2023-02-06 00:00:00-05:00\",\"2023-02-07 00:00:00-05:00\",\"2023-02-08 00:00:00-05:00\",\"2023-02-09 00:00:00-05:00\",\"2023-02-10 00:00:00-05:00\",\"2023-02-13 00:00:00-05:00\",\"2023-02-14 00:00:00-05:00\",\"2023-02-15 00:00:00-05:00\",\"2023-02-16 00:00:00-05:00\",\"2023-02-17 00:00:00-05:00\"],\"y\":[100.0,99.207643547432,96.85388375921303,100.30296217333377,101.79445458052155,104.71918325117645,110.80167405736483,111.01141573275038,114.33232707468726,111.92030225275164,111.23281219287841,109.15870500850818,113.31857416199121,113.63318223007151,112.23491032083194,113.23700844878547,115.61407780648952,119.13306714907341,117.1638352473939,120.17012074125853,122.52388941947348,131.56607325054435,120.47308291459228,119.06315622061024,118.9815905074045,116.58122047021145,114.47214893161362,113.73805751276225,115.98695090828643,116.17338301418691,117.87462598675621,114.36728253891886,113.26030912827456],\"type\":\"scatter\"},{\"line\":{\"color\":\"rgba(50, 171, 96, 1.0)\",\"dash\":\"solid\",\"shape\":\"linear\",\"width\":1.3},\"mode\":\"lines\",\"name\":\"GOOG\",\"text\":\"\",\"x\":[\"2023-01-03 00:00:00-05:00\",\"2023-01-04 00:00:00-05:00\",\"2023-01-05 00:00:00-05:00\",\"2023-01-06 00:00:00-05:00\",\"2023-01-09 00:00:00-05:00\",\"2023-01-10 00:00:00-05:00\",\"2023-01-11 00:00:00-05:00\",\"2023-01-12 00:00:00-05:00\",\"2023-01-13 00:00:00-05:00\",\"2023-01-17 00:00:00-05:00\",\"2023-01-18 00:00:00-05:00\",\"2023-01-19 00:00:00-05:00\",\"2023-01-20 00:00:00-05:00\",\"2023-01-23 00:00:00-05:00\",\"2023-01-24 00:00:00-05:00\",\"2023-01-25 00:00:00-05:00\",\"2023-01-26 00:00:00-05:00\",\"2023-01-27 00:00:00-05:00\",\"2023-01-30 00:00:00-05:00\",\"2023-01-31 00:00:00-05:00\",\"2023-02-01 00:00:00-05:00\",\"2023-02-02 00:00:00-05:00\",\"2023-02-03 00:00:00-05:00\",\"2023-02-06 00:00:00-05:00\",\"2023-02-07 00:00:00-05:00\",\"2023-02-08 00:00:00-05:00\",\"2023-02-09 00:00:00-05:00\",\"2023-02-10 00:00:00-05:00\",\"2023-02-13 00:00:00-05:00\",\"2023-02-14 00:00:00-05:00\",\"2023-02-15 00:00:00-05:00\",\"2023-02-16 00:00:00-05:00\",\"2023-02-17 00:00:00-05:00\"],\"y\":[100.0,98.89632341421286,96.73355584742504,98.28317353564526,98.99666228862452,99.48718049038722,102.85396351737384,102.46377568456595,103.45597124747323,102.742482494494,102.31884269991099,104.69343016399031,110.68004699775236,112.83166391061515,110.60200943119077,107.8372426397604,110.54627317247927,112.27425029075904,109.19732472762551,111.3377994920201,113.0769272642249,121.29320708286815,117.30212352338889,115.35117585389258,120.44593599915898,111.4827239712182,106.42140728227008,105.75251263953413,105.9085877726573,105.85284300848896,108.24972327496153,106.7781516587597,105.45150452175602],\"type\":\"scatter\"},{\"line\":{\"color\":\"rgba(128, 0, 128, 1.0)\",\"dash\":\"solid\",\"shape\":\"linear\",\"width\":1.3},\"mode\":\"lines\",\"name\":\"MSFT\",\"text\":\"\",\"x\":[\"2023-01-03 00:00:00-05:00\",\"2023-01-04 00:00:00-05:00\",\"2023-01-05 00:00:00-05:00\",\"2023-01-06 00:00:00-05:00\",\"2023-01-09 00:00:00-05:00\",\"2023-01-10 00:00:00-05:00\",\"2023-01-11 00:00:00-05:00\",\"2023-01-12 00:00:00-05:00\",\"2023-01-13 00:00:00-05:00\",\"2023-01-17 00:00:00-05:00\",\"2023-01-18 00:00:00-05:00\",\"2023-01-19 00:00:00-05:00\",\"2023-01-20 00:00:00-05:00\",\"2023-01-23 00:00:00-05:00\",\"2023-01-24 00:00:00-05:00\",\"2023-01-25 00:00:00-05:00\",\"2023-01-26 00:00:00-05:00\",\"2023-01-27 00:00:00-05:00\",\"2023-01-30 00:00:00-05:00\",\"2023-01-31 00:00:00-05:00\",\"2023-02-01 00:00:00-05:00\",\"2023-02-02 00:00:00-05:00\",\"2023-02-03 00:00:00-05:00\",\"2023-02-06 00:00:00-05:00\",\"2023-02-07 00:00:00-05:00\",\"2023-02-08 00:00:00-05:00\",\"2023-02-09 00:00:00-05:00\",\"2023-02-10 00:00:00-05:00\",\"2023-02-13 00:00:00-05:00\",\"2023-02-14 00:00:00-05:00\",\"2023-02-15 00:00:00-05:00\",\"2023-02-16 00:00:00-05:00\",\"2023-02-17 00:00:00-05:00\"],\"y\":[100.0,95.62568035384243,92.79154548873963,93.88512380404737,94.7992282156039,95.52132511235715,98.40971269937013,99.55338076439959,99.85390649287662,100.32139805375941,98.4264092826107,96.8069045575415,100.26713256199588,101.2521862787032,101.02679198234543,100.42991626743316,103.51448072636458,103.58126705932689,101.30645177046674,103.43517355220351,105.49711538590465,110.44326906457695,107.83454126568527,107.1750421899992,111.67876514496623,111.33233179373596,110.03422512242618,109.81717592522536,113.24818012031372,113.60297772548098,112.69495176411372,109.69471303170558,107.98328451737649],\"type\":\"scatter\"},{\"line\":{\"color\":\"rgba(219, 64, 82, 1.0)\",\"dash\":\"solid\",\"shape\":\"linear\",\"width\":1.3},\"mode\":\"lines\",\"name\":\"NFLX\",\"text\":\"\",\"x\":[\"2023-01-03 00:00:00-05:00\",\"2023-01-04 00:00:00-05:00\",\"2023-01-05 00:00:00-05:00\",\"2023-01-06 00:00:00-05:00\",\"2023-01-09 00:00:00-05:00\",\"2023-01-10 00:00:00-05:00\",\"2023-01-11 00:00:00-05:00\",\"2023-01-12 00:00:00-05:00\",\"2023-01-13 00:00:00-05:00\",\"2023-01-17 00:00:00-05:00\",\"2023-01-18 00:00:00-05:00\",\"2023-01-19 00:00:00-05:00\",\"2023-01-20 00:00:00-05:00\",\"2023-01-23 00:00:00-05:00\",\"2023-01-24 00:00:00-05:00\",\"2023-01-25 00:00:00-05:00\",\"2023-01-26 00:00:00-05:00\",\"2023-01-27 00:00:00-05:00\",\"2023-01-30 00:00:00-05:00\",\"2023-01-31 00:00:00-05:00\",\"2023-02-01 00:00:00-05:00\",\"2023-02-02 00:00:00-05:00\",\"2023-02-03 00:00:00-05:00\",\"2023-02-06 00:00:00-05:00\",\"2023-02-07 00:00:00-05:00\",\"2023-02-08 00:00:00-05:00\",\"2023-02-09 00:00:00-05:00\",\"2023-02-10 00:00:00-05:00\",\"2023-02-13 00:00:00-05:00\",\"2023-02-14 00:00:00-05:00\",\"2023-02-15 00:00:00-05:00\",\"2023-02-16 00:00:00-05:00\",\"2023-02-17 00:00:00-05:00\"],\"y\":[100.0,104.90252275186494,105.00084739431938,106.98422604962565,106.8553993503517,111.0493286960826,110.95439776958365,111.92744235287155,112.83946212913048,110.60179275114687,110.63908223987737,107.0622090897371,116.12137169860245,121.17986053069025,123.35310103899442,124.75333996487504,123.70570605743119,122.31563793272207,119.71858645108568,119.97286682706803,122.7292677581878,124.39057449196176,124.05491735991248,122.5563641382724,123.05475408906558,124.37022254292378,122.90218172479818,117.76910356855441,121.56975503785752,122.04101595439674,122.53602253592942,118.9048913172812,117.97252993867929],\"type\":\"scatter\"}],                        {\"legend\":{\"bgcolor\":\"#F5F6F9\",\"font\":{\"color\":\"#4D5663\"}},\"paper_bgcolor\":\"#F5F6F9\",\"plot_bgcolor\":\"#F5F6F9\",\"template\":{\"data\":{\"barpolar\":[{\"marker\":{\"line\":{\"color\":\"#E5ECF6\",\"width\":0.5},\"pattern\":{\"fillmode\":\"overlay\",\"size\":10,\"solidity\":0.2}},\"type\":\"barpolar\"}],\"bar\":[{\"error_x\":{\"color\":\"#2a3f5f\"},\"error_y\":{\"color\":\"#2a3f5f\"},\"marker\":{\"line\":{\"color\":\"#E5ECF6\",\"width\":0.5},\"pattern\":{\"fillmode\":\"overlay\",\"size\":10,\"solidity\":0.2}},\"type\":\"bar\"}],\"carpet\":[{\"aaxis\":{\"endlinecolor\":\"#2a3f5f\",\"gridcolor\":\"white\",\"linecolor\":\"white\",\"minorgridcolor\":\"white\",\"startlinecolor\":\"#2a3f5f\"},\"baxis\":{\"endlinecolor\":\"#2a3f5f\",\"gridcolor\":\"white\",\"linecolor\":\"white\",\"minorgridcolor\":\"white\",\"startlinecolor\":\"#2a3f5f\"},\"type\":\"carpet\"}],\"choropleth\":[{\"colorbar\":{\"outlinewidth\":0,\"ticks\":\"\"},\"type\":\"choropleth\"}],\"contourcarpet\":[{\"colorbar\":{\"outlinewidth\":0,\"ticks\":\"\"},\"type\":\"contourcarpet\"}],\"contour\":[{\"colorbar\":{\"outlinewidth\":0,\"ticks\":\"\"},\"colorscale\":[[0.0,\"#0d0887\"],[0.1111111111111111,\"#46039f\"],[0.2222222222222222,\"#7201a8\"],[0.3333333333333333,\"#9c179e\"],[0.4444444444444444,\"#bd3786\"],[0.5555555555555556,\"#d8576b\"],[0.6666666666666666,\"#ed7953\"],[0.7777777777777778,\"#fb9f3a\"],[0.8888888888888888,\"#fdca26\"],[1.0,\"#f0f921\"]],\"type\":\"contour\"}],\"heatmapgl\":[{\"colorbar\":{\"outlinewidth\":0,\"ticks\":\"\"},\"colorscale\":[[0.0,\"#0d0887\"],[0.1111111111111111,\"#46039f\"],[0.2222222222222222,\"#7201a8\"],[0.3333333333333333,\"#9c179e\"],[0.4444444444444444,\"#bd3786\"],[0.5555555555555556,\"#d8576b\"],[0.6666666666666666,\"#ed7953\"],[0.7777777777777778,\"#fb9f3a\"],[0.8888888888888888,\"#fdca26\"],[1.0,\"#f0f921\"]],\"type\":\"heatmapgl\"}],\"heatmap\":[{\"colorbar\":{\"outlinewidth\":0,\"ticks\":\"\"},\"colorscale\":[[0.0,\"#0d0887\"],[0.1111111111111111,\"#46039f\"],[0.2222222222222222,\"#7201a8\"],[0.3333333333333333,\"#9c179e\"],[0.4444444444444444,\"#bd3786\"],[0.5555555555555556,\"#d8576b\"],[0.6666666666666666,\"#ed7953\"],[0.7777777777777778,\"#fb9f3a\"],[0.8888888888888888,\"#fdca26\"],[1.0,\"#f0f921\"]],\"type\":\"heatmap\"}],\"histogram2dcontour\":[{\"colorbar\":{\"outlinewidth\":0,\"ticks\":\"\"},\"colorscale\":[[0.0,\"#0d0887\"],[0.1111111111111111,\"#46039f\"],[0.2222222222222222,\"#7201a8\"],[0.3333333333333333,\"#9c179e\"],[0.4444444444444444,\"#bd3786\"],[0.5555555555555556,\"#d8576b\"],[0.6666666666666666,\"#ed7953\"],[0.7777777777777778,\"#fb9f3a\"],[0.8888888888888888,\"#fdca26\"],[1.0,\"#f0f921\"]],\"type\":\"histogram2dcontour\"}],\"histogram2d\":[{\"colorbar\":{\"outlinewidth\":0,\"ticks\":\"\"},\"colorscale\":[[0.0,\"#0d0887\"],[0.1111111111111111,\"#46039f\"],[0.2222222222222222,\"#7201a8\"],[0.3333333333333333,\"#9c179e\"],[0.4444444444444444,\"#bd3786\"],[0.5555555555555556,\"#d8576b\"],[0.6666666666666666,\"#ed7953\"],[0.7777777777777778,\"#fb9f3a\"],[0.8888888888888888,\"#fdca26\"],[1.0,\"#f0f921\"]],\"type\":\"histogram2d\"}],\"histogram\":[{\"marker\":{\"pattern\":{\"fillmode\":\"overlay\",\"size\":10,\"solidity\":0.2}},\"type\":\"histogram\"}],\"mesh3d\":[{\"colorbar\":{\"outlinewidth\":0,\"ticks\":\"\"},\"type\":\"mesh3d\"}],\"parcoords\":[{\"line\":{\"colorbar\":{\"outlinewidth\":0,\"ticks\":\"\"}},\"type\":\"parcoords\"}],\"pie\":[{\"automargin\":true,\"type\":\"pie\"}],\"scatter3d\":[{\"line\":{\"colorbar\":{\"outlinewidth\":0,\"ticks\":\"\"}},\"marker\":{\"colorbar\":{\"outlinewidth\":0,\"ticks\":\"\"}},\"type\":\"scatter3d\"}],\"scattercarpet\":[{\"marker\":{\"colorbar\":{\"outlinewidth\":0,\"ticks\":\"\"}},\"type\":\"scattercarpet\"}],\"scattergeo\":[{\"marker\":{\"colorbar\":{\"outlinewidth\":0,\"ticks\":\"\"}},\"type\":\"scattergeo\"}],\"scattergl\":[{\"marker\":{\"colorbar\":{\"outlinewidth\":0,\"ticks\":\"\"}},\"type\":\"scattergl\"}],\"scattermapbox\":[{\"marker\":{\"colorbar\":{\"outlinewidth\":0,\"ticks\":\"\"}},\"type\":\"scattermapbox\"}],\"scatterpolargl\":[{\"marker\":{\"colorbar\":{\"outlinewidth\":0,\"ticks\":\"\"}},\"type\":\"scatterpolargl\"}],\"scatterpolar\":[{\"marker\":{\"colorbar\":{\"outlinewidth\":0,\"ticks\":\"\"}},\"type\":\"scatterpolar\"}],\"scatter\":[{\"fillpattern\":{\"fillmode\":\"overlay\",\"size\":10,\"solidity\":0.2},\"type\":\"scatter\"}],\"scatterternary\":[{\"marker\":{\"colorbar\":{\"outlinewidth\":0,\"ticks\":\"\"}},\"type\":\"scatterternary\"}],\"surface\":[{\"colorbar\":{\"outlinewidth\":0,\"ticks\":\"\"},\"colorscale\":[[0.0,\"#0d0887\"],[0.1111111111111111,\"#46039f\"],[0.2222222222222222,\"#7201a8\"],[0.3333333333333333,\"#9c179e\"],[0.4444444444444444,\"#bd3786\"],[0.5555555555555556,\"#d8576b\"],[0.6666666666666666,\"#ed7953\"],[0.7777777777777778,\"#fb9f3a\"],[0.8888888888888888,\"#fdca26\"],[1.0,\"#f0f921\"]],\"type\":\"surface\"}],\"table\":[{\"cells\":{\"fill\":{\"color\":\"#EBF0F8\"},\"line\":{\"color\":\"white\"}},\"header\":{\"fill\":{\"color\":\"#C8D4E3\"},\"line\":{\"color\":\"white\"}},\"type\":\"table\"}]},\"layout\":{\"annotationdefaults\":{\"arrowcolor\":\"#2a3f5f\",\"arrowhead\":0,\"arrowwidth\":1},\"autotypenumbers\":\"strict\",\"coloraxis\":{\"colorbar\":{\"outlinewidth\":0,\"ticks\":\"\"}},\"colorscale\":{\"diverging\":[[0,\"#8e0152\"],[0.1,\"#c51b7d\"],[0.2,\"#de77ae\"],[0.3,\"#f1b6da\"],[0.4,\"#fde0ef\"],[0.5,\"#f7f7f7\"],[0.6,\"#e6f5d0\"],[0.7,\"#b8e186\"],[0.8,\"#7fbc41\"],[0.9,\"#4d9221\"],[1,\"#276419\"]],\"sequential\":[[0.0,\"#0d0887\"],[0.1111111111111111,\"#46039f\"],[0.2222222222222222,\"#7201a8\"],[0.3333333333333333,\"#9c179e\"],[0.4444444444444444,\"#bd3786\"],[0.5555555555555556,\"#d8576b\"],[0.6666666666666666,\"#ed7953\"],[0.7777777777777778,\"#fb9f3a\"],[0.8888888888888888,\"#fdca26\"],[1.0,\"#f0f921\"]],\"sequentialminus\":[[0.0,\"#0d0887\"],[0.1111111111111111,\"#46039f\"],[0.2222222222222222,\"#7201a8\"],[0.3333333333333333,\"#9c179e\"],[0.4444444444444444,\"#bd3786\"],[0.5555555555555556,\"#d8576b\"],[0.6666666666666666,\"#ed7953\"],[0.7777777777777778,\"#fb9f3a\"],[0.8888888888888888,\"#fdca26\"],[1.0,\"#f0f921\"]]},\"colorway\":[\"#636efa\",\"#EF553B\",\"#00cc96\",\"#ab63fa\",\"#FFA15A\",\"#19d3f3\",\"#FF6692\",\"#B6E880\",\"#FF97FF\",\"#FECB52\"],\"font\":{\"color\":\"#2a3f5f\"},\"geo\":{\"bgcolor\":\"white\",\"lakecolor\":\"white\",\"landcolor\":\"#E5ECF6\",\"showlakes\":true,\"showland\":true,\"subunitcolor\":\"white\"},\"hoverlabel\":{\"align\":\"left\"},\"hovermode\":\"closest\",\"mapbox\":{\"style\":\"light\"},\"paper_bgcolor\":\"white\",\"plot_bgcolor\":\"#E5ECF6\",\"polar\":{\"angularaxis\":{\"gridcolor\":\"white\",\"linecolor\":\"white\",\"ticks\":\"\"},\"bgcolor\":\"#E5ECF6\",\"radialaxis\":{\"gridcolor\":\"white\",\"linecolor\":\"white\",\"ticks\":\"\"}},\"scene\":{\"xaxis\":{\"backgroundcolor\":\"#E5ECF6\",\"gridcolor\":\"white\",\"gridwidth\":2,\"linecolor\":\"white\",\"showbackground\":true,\"ticks\":\"\",\"zerolinecolor\":\"white\"},\"yaxis\":{\"backgroundcolor\":\"#E5ECF6\",\"gridcolor\":\"white\",\"gridwidth\":2,\"linecolor\":\"white\",\"showbackground\":true,\"ticks\":\"\",\"zerolinecolor\":\"white\"},\"zaxis\":{\"backgroundcolor\":\"#E5ECF6\",\"gridcolor\":\"white\",\"gridwidth\":2,\"linecolor\":\"white\",\"showbackground\":true,\"ticks\":\"\",\"zerolinecolor\":\"white\"}},\"shapedefaults\":{\"line\":{\"color\":\"#2a3f5f\"}},\"ternary\":{\"aaxis\":{\"gridcolor\":\"white\",\"linecolor\":\"white\",\"ticks\":\"\"},\"baxis\":{\"gridcolor\":\"white\",\"linecolor\":\"white\",\"ticks\":\"\"},\"bgcolor\":\"#E5ECF6\",\"caxis\":{\"gridcolor\":\"white\",\"linecolor\":\"white\",\"ticks\":\"\"}},\"title\":{\"x\":0.05},\"xaxis\":{\"automargin\":true,\"gridcolor\":\"white\",\"linecolor\":\"white\",\"ticks\":\"\",\"title\":{\"standoff\":15},\"zerolinecolor\":\"white\",\"zerolinewidth\":2},\"yaxis\":{\"automargin\":true,\"gridcolor\":\"white\",\"linecolor\":\"white\",\"ticks\":\"\",\"title\":{\"standoff\":15},\"zerolinecolor\":\"white\",\"zerolinewidth\":2}}},\"title\":{\"font\":{\"color\":\"#4D5663\"},\"text\":\"The FAANG Stocks\"},\"xaxis\":{\"gridcolor\":\"#E1E5ED\",\"showgrid\":true,\"tickfont\":{\"color\":\"#4D5663\"},\"title\":{\"font\":{\"color\":\"#4D5663\"},\"text\":\"\"},\"zerolinecolor\":\"#E1E5ED\"},\"yaxis\":{\"gridcolor\":\"#E1E5ED\",\"showgrid\":true,\"tickfont\":{\"color\":\"#4D5663\"},\"title\":{\"font\":{\"color\":\"#4D5663\"},\"text\":\"\"},\"zerolinecolor\":\"#E1E5ED\"}},                        {\"showLink\": true, \"linkText\": \"Export to plot.ly\", \"plotlyServerURL\": \"https://plot.ly\", \"responsive\": true}                    ).then(function(){\n",
       "                            \n",
       "var gd = document.getElementById('1f212be2-7781-41d6-91a3-065613cd7164');\n",
       "var x = new MutationObserver(function (mutations, observer) {{\n",
       "        var display = window.getComputedStyle(gd).display;\n",
       "        if (!display || display === 'none') {{\n",
       "            console.log([gd, 'removed!']);\n",
       "            Plotly.purge(gd);\n",
       "            observer.disconnect();\n",
       "        }}\n",
       "}});\n",
       "\n",
       "// Listen for the removal of the full notebook cells\n",
       "var notebookContainer = gd.closest('#notebook-container');\n",
       "if (notebookContainer) {{\n",
       "    x.observe(notebookContainer, {childList: true});\n",
       "}}\n",
       "\n",
       "// Listen for the clearing of the current output cell\n",
       "var outputEl = gd.closest('.output');\n",
       "if (outputEl) {{\n",
       "    x.observe(outputEl, {childList: true});\n",
       "}}\n",
       "\n",
       "                        })                };                });            </script>        </div>"
      ]
     },
     "metadata": {},
     "output_type": "display_data"
    }
   ],
   "source": [
    "df4.normalize().iplot(title='The FAANG Stocks')"
   ]
  },
  {
   "cell_type": "code",
   "execution_count": 52,
   "metadata": {},
   "outputs": [
    {
     "data": {
      "text/html": [
       "<div>\n",
       "<style scoped>\n",
       "    .dataframe tbody tr th:only-of-type {\n",
       "        vertical-align: middle;\n",
       "    }\n",
       "\n",
       "    .dataframe tbody tr th {\n",
       "        vertical-align: top;\n",
       "    }\n",
       "\n",
       "    .dataframe thead th {\n",
       "        text-align: right;\n",
       "    }\n",
       "</style>\n",
       "<table border=\"1\" class=\"dataframe\">\n",
       "  <thead>\n",
       "    <tr style=\"text-align: right;\">\n",
       "      <th></th>\n",
       "      <th>AAPL</th>\n",
       "      <th>AMZN</th>\n",
       "      <th>GOOG</th>\n",
       "      <th>MSFT</th>\n",
       "      <th>NFLX</th>\n",
       "    </tr>\n",
       "    <tr>\n",
       "      <th>Date</th>\n",
       "      <th></th>\n",
       "      <th></th>\n",
       "      <th></th>\n",
       "      <th></th>\n",
       "      <th></th>\n",
       "    </tr>\n",
       "  </thead>\n",
       "  <tbody>\n",
       "    <tr>\n",
       "      <th>2023-01-03 00:00:00-05:00</th>\n",
       "      <td>0.000000</td>\n",
       "      <td>0.000000</td>\n",
       "      <td>0.000000</td>\n",
       "      <td>0.000000</td>\n",
       "      <td>0.000000</td>\n",
       "    </tr>\n",
       "    <tr>\n",
       "      <th>2023-01-04 00:00:00-05:00</th>\n",
       "      <td>0.010261</td>\n",
       "      <td>-0.007955</td>\n",
       "      <td>-0.011098</td>\n",
       "      <td>-0.044729</td>\n",
       "      <td>0.047861</td>\n",
       "    </tr>\n",
       "    <tr>\n",
       "      <th>2023-01-05 00:00:00-05:00</th>\n",
       "      <td>-0.010661</td>\n",
       "      <td>-0.024012</td>\n",
       "      <td>-0.022112</td>\n",
       "      <td>-0.030086</td>\n",
       "      <td>0.000937</td>\n",
       "    </tr>\n",
       "    <tr>\n",
       "      <th>2023-01-06 00:00:00-05:00</th>\n",
       "      <td>0.036133</td>\n",
       "      <td>0.034992</td>\n",
       "      <td>0.015892</td>\n",
       "      <td>0.011716</td>\n",
       "      <td>0.018713</td>\n",
       "    </tr>\n",
       "    <tr>\n",
       "      <th>2023-01-09 00:00:00-05:00</th>\n",
       "      <td>0.004081</td>\n",
       "      <td>0.014760</td>\n",
       "      <td>0.007233</td>\n",
       "      <td>0.009689</td>\n",
       "      <td>-0.001205</td>\n",
       "    </tr>\n",
       "  </tbody>\n",
       "</table>\n",
       "</div>"
      ],
      "text/plain": [
       "                               AAPL      AMZN      GOOG      MSFT      NFLX\n",
       "Date                                                                       \n",
       "2023-01-03 00:00:00-05:00  0.000000  0.000000  0.000000  0.000000  0.000000\n",
       "2023-01-04 00:00:00-05:00  0.010261 -0.007955 -0.011098 -0.044729  0.047861\n",
       "2023-01-05 00:00:00-05:00 -0.010661 -0.024012 -0.022112 -0.030086  0.000937\n",
       "2023-01-06 00:00:00-05:00  0.036133  0.034992  0.015892  0.011716  0.018713\n",
       "2023-01-09 00:00:00-05:00  0.004081  0.014760  0.007233  0.009689 -0.001205"
      ]
     },
     "execution_count": 52,
     "metadata": {},
     "output_type": "execute_result"
    }
   ],
   "source": [
    "# Use numpy log function to derive log normal returns\n",
    "daily_returns = np.log(df4).diff().fillna(0)\n",
    "\n",
    "# Display the last five rows of the data frame to check the output\n",
    "daily_returns.head(5)"
   ]
  },
  {
   "attachments": {},
   "cell_type": "markdown",
   "metadata": {},
   "source": [
    "## Visualising Return Series\n",
    "We'll now plot historical daily log normal return series of NIFTY Index using just one line of code."
   ]
  },
  {
   "cell_type": "code",
   "execution_count": 53,
   "metadata": {},
   "outputs": [
    {
     "data": {
      "application/vnd.plotly.v1+json": {
       "config": {
        "linkText": "Export to plot.ly",
        "plotlyServerURL": "https://plot.ly",
        "showLink": true
       },
       "data": [
        {
         "line": {
          "color": "rgba(255, 153, 51, 1.0)",
          "dash": "solid",
          "shape": "linear",
          "width": 1.3
         },
         "mode": "lines",
         "name": "AAPL",
         "text": "",
         "type": "scatter",
         "x": [
          "2023-01-03 00:00:00-05:00",
          "2023-01-04 00:00:00-05:00",
          "2023-01-05 00:00:00-05:00",
          "2023-01-06 00:00:00-05:00",
          "2023-01-09 00:00:00-05:00",
          "2023-01-10 00:00:00-05:00",
          "2023-01-11 00:00:00-05:00",
          "2023-01-12 00:00:00-05:00",
          "2023-01-13 00:00:00-05:00",
          "2023-01-17 00:00:00-05:00",
          "2023-01-18 00:00:00-05:00",
          "2023-01-19 00:00:00-05:00",
          "2023-01-20 00:00:00-05:00",
          "2023-01-23 00:00:00-05:00",
          "2023-01-24 00:00:00-05:00",
          "2023-01-25 00:00:00-05:00",
          "2023-01-26 00:00:00-05:00",
          "2023-01-27 00:00:00-05:00",
          "2023-01-30 00:00:00-05:00",
          "2023-01-31 00:00:00-05:00",
          "2023-02-01 00:00:00-05:00",
          "2023-02-02 00:00:00-05:00",
          "2023-02-03 00:00:00-05:00",
          "2023-02-06 00:00:00-05:00",
          "2023-02-07 00:00:00-05:00",
          "2023-02-08 00:00:00-05:00",
          "2023-02-09 00:00:00-05:00",
          "2023-02-10 00:00:00-05:00",
          "2023-02-13 00:00:00-05:00",
          "2023-02-14 00:00:00-05:00",
          "2023-02-15 00:00:00-05:00",
          "2023-02-16 00:00:00-05:00",
          "2023-02-17 00:00:00-05:00"
         ],
         "y": [
          0,
          0.0102614494033757,
          -0.010661329371387751,
          0.03613342784155371,
          0.00408052343977694,
          0.004446504118011951,
          0.02089248603513827,
          -0.0005994883743953849,
          0.01006824326042377,
          0.008718240379424813,
          -0.005384447520421887,
          0.0004436370308313897,
          0.01903833841319269,
          0.02322863344647441,
          0.010012748861163878,
          -0.004711828623164216,
          0.014694849407235644,
          0.013591455864308877,
          -0.020282346259025807,
          0.0089804740272168,
          0.007869693249508813,
          0.03639235316727607,
          0.024106941137837623,
          -0.01809147372117348,
          0.019061835644407665,
          -0.01781038031088933,
          -0.006935538193408419,
          0.0024531431143630655,
          0.018632118028373057,
          -0.0042339040535086525,
          0.01380766040157333,
          -0.010484143872342422,
          -0.00757532274798578
         ]
        },
        {
         "line": {
          "color": "rgba(55, 128, 191, 1.0)",
          "dash": "solid",
          "shape": "linear",
          "width": 1.3
         },
         "mode": "lines",
         "name": "GOOG",
         "text": "",
         "type": "scatter",
         "x": [
          "2023-01-03 00:00:00-05:00",
          "2023-01-04 00:00:00-05:00",
          "2023-01-05 00:00:00-05:00",
          "2023-01-06 00:00:00-05:00",
          "2023-01-09 00:00:00-05:00",
          "2023-01-10 00:00:00-05:00",
          "2023-01-11 00:00:00-05:00",
          "2023-01-12 00:00:00-05:00",
          "2023-01-13 00:00:00-05:00",
          "2023-01-17 00:00:00-05:00",
          "2023-01-18 00:00:00-05:00",
          "2023-01-19 00:00:00-05:00",
          "2023-01-20 00:00:00-05:00",
          "2023-01-23 00:00:00-05:00",
          "2023-01-24 00:00:00-05:00",
          "2023-01-25 00:00:00-05:00",
          "2023-01-26 00:00:00-05:00",
          "2023-01-27 00:00:00-05:00",
          "2023-01-30 00:00:00-05:00",
          "2023-01-31 00:00:00-05:00",
          "2023-02-01 00:00:00-05:00",
          "2023-02-02 00:00:00-05:00",
          "2023-02-03 00:00:00-05:00",
          "2023-02-06 00:00:00-05:00",
          "2023-02-07 00:00:00-05:00",
          "2023-02-08 00:00:00-05:00",
          "2023-02-09 00:00:00-05:00",
          "2023-02-10 00:00:00-05:00",
          "2023-02-13 00:00:00-05:00",
          "2023-02-14 00:00:00-05:00",
          "2023-02-15 00:00:00-05:00",
          "2023-02-16 00:00:00-05:00",
          "2023-02-17 00:00:00-05:00"
         ],
         "y": [
          0,
          -0.011098122830881074,
          -0.02211171109436627,
          0.015892485826280556,
          0.007233297420809137,
          0.004942661261527981,
          0.03328135565783974,
          -0.0038008240696019158,
          0.009636795462943937,
          -0.006920435993465368,
          -0.004131841017640525,
          0.02294252014609821,
          0.055607212788324034,
          0.019253428554198315,
          -0.019958750721355223,
          -0.02531517953501794,
          0.02481111719968876,
          0.01551034647101801,
          -0.027787977335056446,
          0.019412254522347183,
          0.01549954064002268,
          0.07014245407444886,
          -0.0334579545669893,
          -0.016771680489584995,
          0.043219809983868984,
          -0.07733135141028935,
          -0.04646288400103238,
          -0.006305175103388905,
          0.0014747647168702471,
          -0.0005264864829293003,
          0.022390954465158153,
          -0.013687477413171223,
          -0.01250215866012816
         ]
        }
       ],
       "layout": {
        "legend": {
         "bgcolor": "#F5F6F9",
         "font": {
          "color": "#4D5663"
         }
        },
        "paper_bgcolor": "#F5F6F9",
        "plot_bgcolor": "#F5F6F9",
        "template": {
         "data": {
          "bar": [
           {
            "error_x": {
             "color": "#2a3f5f"
            },
            "error_y": {
             "color": "#2a3f5f"
            },
            "marker": {
             "line": {
              "color": "#E5ECF6",
              "width": 0.5
             },
             "pattern": {
              "fillmode": "overlay",
              "size": 10,
              "solidity": 0.2
             }
            },
            "type": "bar"
           }
          ],
          "barpolar": [
           {
            "marker": {
             "line": {
              "color": "#E5ECF6",
              "width": 0.5
             },
             "pattern": {
              "fillmode": "overlay",
              "size": 10,
              "solidity": 0.2
             }
            },
            "type": "barpolar"
           }
          ],
          "carpet": [
           {
            "aaxis": {
             "endlinecolor": "#2a3f5f",
             "gridcolor": "white",
             "linecolor": "white",
             "minorgridcolor": "white",
             "startlinecolor": "#2a3f5f"
            },
            "baxis": {
             "endlinecolor": "#2a3f5f",
             "gridcolor": "white",
             "linecolor": "white",
             "minorgridcolor": "white",
             "startlinecolor": "#2a3f5f"
            },
            "type": "carpet"
           }
          ],
          "choropleth": [
           {
            "colorbar": {
             "outlinewidth": 0,
             "ticks": ""
            },
            "type": "choropleth"
           }
          ],
          "contour": [
           {
            "colorbar": {
             "outlinewidth": 0,
             "ticks": ""
            },
            "colorscale": [
             [
              0,
              "#0d0887"
             ],
             [
              0.1111111111111111,
              "#46039f"
             ],
             [
              0.2222222222222222,
              "#7201a8"
             ],
             [
              0.3333333333333333,
              "#9c179e"
             ],
             [
              0.4444444444444444,
              "#bd3786"
             ],
             [
              0.5555555555555556,
              "#d8576b"
             ],
             [
              0.6666666666666666,
              "#ed7953"
             ],
             [
              0.7777777777777778,
              "#fb9f3a"
             ],
             [
              0.8888888888888888,
              "#fdca26"
             ],
             [
              1,
              "#f0f921"
             ]
            ],
            "type": "contour"
           }
          ],
          "contourcarpet": [
           {
            "colorbar": {
             "outlinewidth": 0,
             "ticks": ""
            },
            "type": "contourcarpet"
           }
          ],
          "heatmap": [
           {
            "colorbar": {
             "outlinewidth": 0,
             "ticks": ""
            },
            "colorscale": [
             [
              0,
              "#0d0887"
             ],
             [
              0.1111111111111111,
              "#46039f"
             ],
             [
              0.2222222222222222,
              "#7201a8"
             ],
             [
              0.3333333333333333,
              "#9c179e"
             ],
             [
              0.4444444444444444,
              "#bd3786"
             ],
             [
              0.5555555555555556,
              "#d8576b"
             ],
             [
              0.6666666666666666,
              "#ed7953"
             ],
             [
              0.7777777777777778,
              "#fb9f3a"
             ],
             [
              0.8888888888888888,
              "#fdca26"
             ],
             [
              1,
              "#f0f921"
             ]
            ],
            "type": "heatmap"
           }
          ],
          "heatmapgl": [
           {
            "colorbar": {
             "outlinewidth": 0,
             "ticks": ""
            },
            "colorscale": [
             [
              0,
              "#0d0887"
             ],
             [
              0.1111111111111111,
              "#46039f"
             ],
             [
              0.2222222222222222,
              "#7201a8"
             ],
             [
              0.3333333333333333,
              "#9c179e"
             ],
             [
              0.4444444444444444,
              "#bd3786"
             ],
             [
              0.5555555555555556,
              "#d8576b"
             ],
             [
              0.6666666666666666,
              "#ed7953"
             ],
             [
              0.7777777777777778,
              "#fb9f3a"
             ],
             [
              0.8888888888888888,
              "#fdca26"
             ],
             [
              1,
              "#f0f921"
             ]
            ],
            "type": "heatmapgl"
           }
          ],
          "histogram": [
           {
            "marker": {
             "pattern": {
              "fillmode": "overlay",
              "size": 10,
              "solidity": 0.2
             }
            },
            "type": "histogram"
           }
          ],
          "histogram2d": [
           {
            "colorbar": {
             "outlinewidth": 0,
             "ticks": ""
            },
            "colorscale": [
             [
              0,
              "#0d0887"
             ],
             [
              0.1111111111111111,
              "#46039f"
             ],
             [
              0.2222222222222222,
              "#7201a8"
             ],
             [
              0.3333333333333333,
              "#9c179e"
             ],
             [
              0.4444444444444444,
              "#bd3786"
             ],
             [
              0.5555555555555556,
              "#d8576b"
             ],
             [
              0.6666666666666666,
              "#ed7953"
             ],
             [
              0.7777777777777778,
              "#fb9f3a"
             ],
             [
              0.8888888888888888,
              "#fdca26"
             ],
             [
              1,
              "#f0f921"
             ]
            ],
            "type": "histogram2d"
           }
          ],
          "histogram2dcontour": [
           {
            "colorbar": {
             "outlinewidth": 0,
             "ticks": ""
            },
            "colorscale": [
             [
              0,
              "#0d0887"
             ],
             [
              0.1111111111111111,
              "#46039f"
             ],
             [
              0.2222222222222222,
              "#7201a8"
             ],
             [
              0.3333333333333333,
              "#9c179e"
             ],
             [
              0.4444444444444444,
              "#bd3786"
             ],
             [
              0.5555555555555556,
              "#d8576b"
             ],
             [
              0.6666666666666666,
              "#ed7953"
             ],
             [
              0.7777777777777778,
              "#fb9f3a"
             ],
             [
              0.8888888888888888,
              "#fdca26"
             ],
             [
              1,
              "#f0f921"
             ]
            ],
            "type": "histogram2dcontour"
           }
          ],
          "mesh3d": [
           {
            "colorbar": {
             "outlinewidth": 0,
             "ticks": ""
            },
            "type": "mesh3d"
           }
          ],
          "parcoords": [
           {
            "line": {
             "colorbar": {
              "outlinewidth": 0,
              "ticks": ""
             }
            },
            "type": "parcoords"
           }
          ],
          "pie": [
           {
            "automargin": true,
            "type": "pie"
           }
          ],
          "scatter": [
           {
            "fillpattern": {
             "fillmode": "overlay",
             "size": 10,
             "solidity": 0.2
            },
            "type": "scatter"
           }
          ],
          "scatter3d": [
           {
            "line": {
             "colorbar": {
              "outlinewidth": 0,
              "ticks": ""
             }
            },
            "marker": {
             "colorbar": {
              "outlinewidth": 0,
              "ticks": ""
             }
            },
            "type": "scatter3d"
           }
          ],
          "scattercarpet": [
           {
            "marker": {
             "colorbar": {
              "outlinewidth": 0,
              "ticks": ""
             }
            },
            "type": "scattercarpet"
           }
          ],
          "scattergeo": [
           {
            "marker": {
             "colorbar": {
              "outlinewidth": 0,
              "ticks": ""
             }
            },
            "type": "scattergeo"
           }
          ],
          "scattergl": [
           {
            "marker": {
             "colorbar": {
              "outlinewidth": 0,
              "ticks": ""
             }
            },
            "type": "scattergl"
           }
          ],
          "scattermapbox": [
           {
            "marker": {
             "colorbar": {
              "outlinewidth": 0,
              "ticks": ""
             }
            },
            "type": "scattermapbox"
           }
          ],
          "scatterpolar": [
           {
            "marker": {
             "colorbar": {
              "outlinewidth": 0,
              "ticks": ""
             }
            },
            "type": "scatterpolar"
           }
          ],
          "scatterpolargl": [
           {
            "marker": {
             "colorbar": {
              "outlinewidth": 0,
              "ticks": ""
             }
            },
            "type": "scatterpolargl"
           }
          ],
          "scatterternary": [
           {
            "marker": {
             "colorbar": {
              "outlinewidth": 0,
              "ticks": ""
             }
            },
            "type": "scatterternary"
           }
          ],
          "surface": [
           {
            "colorbar": {
             "outlinewidth": 0,
             "ticks": ""
            },
            "colorscale": [
             [
              0,
              "#0d0887"
             ],
             [
              0.1111111111111111,
              "#46039f"
             ],
             [
              0.2222222222222222,
              "#7201a8"
             ],
             [
              0.3333333333333333,
              "#9c179e"
             ],
             [
              0.4444444444444444,
              "#bd3786"
             ],
             [
              0.5555555555555556,
              "#d8576b"
             ],
             [
              0.6666666666666666,
              "#ed7953"
             ],
             [
              0.7777777777777778,
              "#fb9f3a"
             ],
             [
              0.8888888888888888,
              "#fdca26"
             ],
             [
              1,
              "#f0f921"
             ]
            ],
            "type": "surface"
           }
          ],
          "table": [
           {
            "cells": {
             "fill": {
              "color": "#EBF0F8"
             },
             "line": {
              "color": "white"
             }
            },
            "header": {
             "fill": {
              "color": "#C8D4E3"
             },
             "line": {
              "color": "white"
             }
            },
            "type": "table"
           }
          ]
         },
         "layout": {
          "annotationdefaults": {
           "arrowcolor": "#2a3f5f",
           "arrowhead": 0,
           "arrowwidth": 1
          },
          "autotypenumbers": "strict",
          "coloraxis": {
           "colorbar": {
            "outlinewidth": 0,
            "ticks": ""
           }
          },
          "colorscale": {
           "diverging": [
            [
             0,
             "#8e0152"
            ],
            [
             0.1,
             "#c51b7d"
            ],
            [
             0.2,
             "#de77ae"
            ],
            [
             0.3,
             "#f1b6da"
            ],
            [
             0.4,
             "#fde0ef"
            ],
            [
             0.5,
             "#f7f7f7"
            ],
            [
             0.6,
             "#e6f5d0"
            ],
            [
             0.7,
             "#b8e186"
            ],
            [
             0.8,
             "#7fbc41"
            ],
            [
             0.9,
             "#4d9221"
            ],
            [
             1,
             "#276419"
            ]
           ],
           "sequential": [
            [
             0,
             "#0d0887"
            ],
            [
             0.1111111111111111,
             "#46039f"
            ],
            [
             0.2222222222222222,
             "#7201a8"
            ],
            [
             0.3333333333333333,
             "#9c179e"
            ],
            [
             0.4444444444444444,
             "#bd3786"
            ],
            [
             0.5555555555555556,
             "#d8576b"
            ],
            [
             0.6666666666666666,
             "#ed7953"
            ],
            [
             0.7777777777777778,
             "#fb9f3a"
            ],
            [
             0.8888888888888888,
             "#fdca26"
            ],
            [
             1,
             "#f0f921"
            ]
           ],
           "sequentialminus": [
            [
             0,
             "#0d0887"
            ],
            [
             0.1111111111111111,
             "#46039f"
            ],
            [
             0.2222222222222222,
             "#7201a8"
            ],
            [
             0.3333333333333333,
             "#9c179e"
            ],
            [
             0.4444444444444444,
             "#bd3786"
            ],
            [
             0.5555555555555556,
             "#d8576b"
            ],
            [
             0.6666666666666666,
             "#ed7953"
            ],
            [
             0.7777777777777778,
             "#fb9f3a"
            ],
            [
             0.8888888888888888,
             "#fdca26"
            ],
            [
             1,
             "#f0f921"
            ]
           ]
          },
          "colorway": [
           "#636efa",
           "#EF553B",
           "#00cc96",
           "#ab63fa",
           "#FFA15A",
           "#19d3f3",
           "#FF6692",
           "#B6E880",
           "#FF97FF",
           "#FECB52"
          ],
          "font": {
           "color": "#2a3f5f"
          },
          "geo": {
           "bgcolor": "white",
           "lakecolor": "white",
           "landcolor": "#E5ECF6",
           "showlakes": true,
           "showland": true,
           "subunitcolor": "white"
          },
          "hoverlabel": {
           "align": "left"
          },
          "hovermode": "closest",
          "mapbox": {
           "style": "light"
          },
          "paper_bgcolor": "white",
          "plot_bgcolor": "#E5ECF6",
          "polar": {
           "angularaxis": {
            "gridcolor": "white",
            "linecolor": "white",
            "ticks": ""
           },
           "bgcolor": "#E5ECF6",
           "radialaxis": {
            "gridcolor": "white",
            "linecolor": "white",
            "ticks": ""
           }
          },
          "scene": {
           "xaxis": {
            "backgroundcolor": "#E5ECF6",
            "gridcolor": "white",
            "gridwidth": 2,
            "linecolor": "white",
            "showbackground": true,
            "ticks": "",
            "zerolinecolor": "white"
           },
           "yaxis": {
            "backgroundcolor": "#E5ECF6",
            "gridcolor": "white",
            "gridwidth": 2,
            "linecolor": "white",
            "showbackground": true,
            "ticks": "",
            "zerolinecolor": "white"
           },
           "zaxis": {
            "backgroundcolor": "#E5ECF6",
            "gridcolor": "white",
            "gridwidth": 2,
            "linecolor": "white",
            "showbackground": true,
            "ticks": "",
            "zerolinecolor": "white"
           }
          },
          "shapedefaults": {
           "line": {
            "color": "#2a3f5f"
           }
          },
          "ternary": {
           "aaxis": {
            "gridcolor": "white",
            "linecolor": "white",
            "ticks": ""
           },
           "baxis": {
            "gridcolor": "white",
            "linecolor": "white",
            "ticks": ""
           },
           "bgcolor": "#E5ECF6",
           "caxis": {
            "gridcolor": "white",
            "linecolor": "white",
            "ticks": ""
           }
          },
          "title": {
           "x": 0.05
          },
          "xaxis": {
           "automargin": true,
           "gridcolor": "white",
           "linecolor": "white",
           "ticks": "",
           "title": {
            "standoff": 15
           },
           "zerolinecolor": "white",
           "zerolinewidth": 2
          },
          "yaxis": {
           "automargin": true,
           "gridcolor": "white",
           "linecolor": "white",
           "ticks": "",
           "title": {
            "standoff": 15
           },
           "zerolinecolor": "white",
           "zerolinewidth": 2
          }
         }
        },
        "title": {
         "font": {
          "color": "#4D5663"
         },
         "text": "Daily Log Returns"
        },
        "xaxis": {
         "gridcolor": "#E1E5ED",
         "showgrid": true,
         "tickfont": {
          "color": "#4D5663"
         },
         "title": {
          "font": {
           "color": "#4D5663"
          },
          "text": ""
         },
         "zerolinecolor": "#E1E5ED"
        },
        "yaxis": {
         "gridcolor": "#E1E5ED",
         "showgrid": true,
         "tickfont": {
          "color": "#4D5663"
         },
         "title": {
          "font": {
           "color": "#4D5663"
          },
          "text": ""
         },
         "zerolinecolor": "#E1E5ED"
        }
       }
      },
      "text/html": [
       "<div>                            <div id=\"ff68409a-198e-47b8-a8b9-f009af8d8dd3\" class=\"plotly-graph-div\" style=\"height:525px; width:100%;\"></div>            <script type=\"text/javascript\">                require([\"plotly\"], function(Plotly) {                    window.PLOTLYENV=window.PLOTLYENV || {};\n",
       "                    window.PLOTLYENV.BASE_URL='https://plot.ly';                                    if (document.getElementById(\"ff68409a-198e-47b8-a8b9-f009af8d8dd3\")) {                    Plotly.newPlot(                        \"ff68409a-198e-47b8-a8b9-f009af8d8dd3\",                        [{\"line\":{\"color\":\"rgba(255, 153, 51, 1.0)\",\"dash\":\"solid\",\"shape\":\"linear\",\"width\":1.3},\"mode\":\"lines\",\"name\":\"AAPL\",\"text\":\"\",\"x\":[\"2023-01-03 00:00:00-05:00\",\"2023-01-04 00:00:00-05:00\",\"2023-01-05 00:00:00-05:00\",\"2023-01-06 00:00:00-05:00\",\"2023-01-09 00:00:00-05:00\",\"2023-01-10 00:00:00-05:00\",\"2023-01-11 00:00:00-05:00\",\"2023-01-12 00:00:00-05:00\",\"2023-01-13 00:00:00-05:00\",\"2023-01-17 00:00:00-05:00\",\"2023-01-18 00:00:00-05:00\",\"2023-01-19 00:00:00-05:00\",\"2023-01-20 00:00:00-05:00\",\"2023-01-23 00:00:00-05:00\",\"2023-01-24 00:00:00-05:00\",\"2023-01-25 00:00:00-05:00\",\"2023-01-26 00:00:00-05:00\",\"2023-01-27 00:00:00-05:00\",\"2023-01-30 00:00:00-05:00\",\"2023-01-31 00:00:00-05:00\",\"2023-02-01 00:00:00-05:00\",\"2023-02-02 00:00:00-05:00\",\"2023-02-03 00:00:00-05:00\",\"2023-02-06 00:00:00-05:00\",\"2023-02-07 00:00:00-05:00\",\"2023-02-08 00:00:00-05:00\",\"2023-02-09 00:00:00-05:00\",\"2023-02-10 00:00:00-05:00\",\"2023-02-13 00:00:00-05:00\",\"2023-02-14 00:00:00-05:00\",\"2023-02-15 00:00:00-05:00\",\"2023-02-16 00:00:00-05:00\",\"2023-02-17 00:00:00-05:00\"],\"y\":[0.0,0.0102614494033757,-0.010661329371387751,0.03613342784155371,0.00408052343977694,0.004446504118011951,0.02089248603513827,-0.0005994883743953849,0.01006824326042377,0.008718240379424813,-0.005384447520421887,0.0004436370308313897,0.01903833841319269,0.02322863344647441,0.010012748861163878,-0.004711828623164216,0.014694849407235644,0.013591455864308877,-0.020282346259025807,0.0089804740272168,0.007869693249508813,0.03639235316727607,0.024106941137837623,-0.01809147372117348,0.019061835644407665,-0.01781038031088933,-0.006935538193408419,0.0024531431143630655,0.018632118028373057,-0.0042339040535086525,0.01380766040157333,-0.010484143872342422,-0.00757532274798578],\"type\":\"scatter\"},{\"line\":{\"color\":\"rgba(55, 128, 191, 1.0)\",\"dash\":\"solid\",\"shape\":\"linear\",\"width\":1.3},\"mode\":\"lines\",\"name\":\"GOOG\",\"text\":\"\",\"x\":[\"2023-01-03 00:00:00-05:00\",\"2023-01-04 00:00:00-05:00\",\"2023-01-05 00:00:00-05:00\",\"2023-01-06 00:00:00-05:00\",\"2023-01-09 00:00:00-05:00\",\"2023-01-10 00:00:00-05:00\",\"2023-01-11 00:00:00-05:00\",\"2023-01-12 00:00:00-05:00\",\"2023-01-13 00:00:00-05:00\",\"2023-01-17 00:00:00-05:00\",\"2023-01-18 00:00:00-05:00\",\"2023-01-19 00:00:00-05:00\",\"2023-01-20 00:00:00-05:00\",\"2023-01-23 00:00:00-05:00\",\"2023-01-24 00:00:00-05:00\",\"2023-01-25 00:00:00-05:00\",\"2023-01-26 00:00:00-05:00\",\"2023-01-27 00:00:00-05:00\",\"2023-01-30 00:00:00-05:00\",\"2023-01-31 00:00:00-05:00\",\"2023-02-01 00:00:00-05:00\",\"2023-02-02 00:00:00-05:00\",\"2023-02-03 00:00:00-05:00\",\"2023-02-06 00:00:00-05:00\",\"2023-02-07 00:00:00-05:00\",\"2023-02-08 00:00:00-05:00\",\"2023-02-09 00:00:00-05:00\",\"2023-02-10 00:00:00-05:00\",\"2023-02-13 00:00:00-05:00\",\"2023-02-14 00:00:00-05:00\",\"2023-02-15 00:00:00-05:00\",\"2023-02-16 00:00:00-05:00\",\"2023-02-17 00:00:00-05:00\"],\"y\":[0.0,-0.011098122830881074,-0.02211171109436627,0.015892485826280556,0.007233297420809137,0.004942661261527981,0.03328135565783974,-0.0038008240696019158,0.009636795462943937,-0.006920435993465368,-0.004131841017640525,0.02294252014609821,0.055607212788324034,0.019253428554198315,-0.019958750721355223,-0.02531517953501794,0.02481111719968876,0.01551034647101801,-0.027787977335056446,0.019412254522347183,0.01549954064002268,0.07014245407444886,-0.0334579545669893,-0.016771680489584995,0.043219809983868984,-0.07733135141028935,-0.04646288400103238,-0.006305175103388905,0.0014747647168702471,-0.0005264864829293003,0.022390954465158153,-0.013687477413171223,-0.01250215866012816],\"type\":\"scatter\"}],                        {\"legend\":{\"bgcolor\":\"#F5F6F9\",\"font\":{\"color\":\"#4D5663\"}},\"paper_bgcolor\":\"#F5F6F9\",\"plot_bgcolor\":\"#F5F6F9\",\"template\":{\"data\":{\"barpolar\":[{\"marker\":{\"line\":{\"color\":\"#E5ECF6\",\"width\":0.5},\"pattern\":{\"fillmode\":\"overlay\",\"size\":10,\"solidity\":0.2}},\"type\":\"barpolar\"}],\"bar\":[{\"error_x\":{\"color\":\"#2a3f5f\"},\"error_y\":{\"color\":\"#2a3f5f\"},\"marker\":{\"line\":{\"color\":\"#E5ECF6\",\"width\":0.5},\"pattern\":{\"fillmode\":\"overlay\",\"size\":10,\"solidity\":0.2}},\"type\":\"bar\"}],\"carpet\":[{\"aaxis\":{\"endlinecolor\":\"#2a3f5f\",\"gridcolor\":\"white\",\"linecolor\":\"white\",\"minorgridcolor\":\"white\",\"startlinecolor\":\"#2a3f5f\"},\"baxis\":{\"endlinecolor\":\"#2a3f5f\",\"gridcolor\":\"white\",\"linecolor\":\"white\",\"minorgridcolor\":\"white\",\"startlinecolor\":\"#2a3f5f\"},\"type\":\"carpet\"}],\"choropleth\":[{\"colorbar\":{\"outlinewidth\":0,\"ticks\":\"\"},\"type\":\"choropleth\"}],\"contourcarpet\":[{\"colorbar\":{\"outlinewidth\":0,\"ticks\":\"\"},\"type\":\"contourcarpet\"}],\"contour\":[{\"colorbar\":{\"outlinewidth\":0,\"ticks\":\"\"},\"colorscale\":[[0.0,\"#0d0887\"],[0.1111111111111111,\"#46039f\"],[0.2222222222222222,\"#7201a8\"],[0.3333333333333333,\"#9c179e\"],[0.4444444444444444,\"#bd3786\"],[0.5555555555555556,\"#d8576b\"],[0.6666666666666666,\"#ed7953\"],[0.7777777777777778,\"#fb9f3a\"],[0.8888888888888888,\"#fdca26\"],[1.0,\"#f0f921\"]],\"type\":\"contour\"}],\"heatmapgl\":[{\"colorbar\":{\"outlinewidth\":0,\"ticks\":\"\"},\"colorscale\":[[0.0,\"#0d0887\"],[0.1111111111111111,\"#46039f\"],[0.2222222222222222,\"#7201a8\"],[0.3333333333333333,\"#9c179e\"],[0.4444444444444444,\"#bd3786\"],[0.5555555555555556,\"#d8576b\"],[0.6666666666666666,\"#ed7953\"],[0.7777777777777778,\"#fb9f3a\"],[0.8888888888888888,\"#fdca26\"],[1.0,\"#f0f921\"]],\"type\":\"heatmapgl\"}],\"heatmap\":[{\"colorbar\":{\"outlinewidth\":0,\"ticks\":\"\"},\"colorscale\":[[0.0,\"#0d0887\"],[0.1111111111111111,\"#46039f\"],[0.2222222222222222,\"#7201a8\"],[0.3333333333333333,\"#9c179e\"],[0.4444444444444444,\"#bd3786\"],[0.5555555555555556,\"#d8576b\"],[0.6666666666666666,\"#ed7953\"],[0.7777777777777778,\"#fb9f3a\"],[0.8888888888888888,\"#fdca26\"],[1.0,\"#f0f921\"]],\"type\":\"heatmap\"}],\"histogram2dcontour\":[{\"colorbar\":{\"outlinewidth\":0,\"ticks\":\"\"},\"colorscale\":[[0.0,\"#0d0887\"],[0.1111111111111111,\"#46039f\"],[0.2222222222222222,\"#7201a8\"],[0.3333333333333333,\"#9c179e\"],[0.4444444444444444,\"#bd3786\"],[0.5555555555555556,\"#d8576b\"],[0.6666666666666666,\"#ed7953\"],[0.7777777777777778,\"#fb9f3a\"],[0.8888888888888888,\"#fdca26\"],[1.0,\"#f0f921\"]],\"type\":\"histogram2dcontour\"}],\"histogram2d\":[{\"colorbar\":{\"outlinewidth\":0,\"ticks\":\"\"},\"colorscale\":[[0.0,\"#0d0887\"],[0.1111111111111111,\"#46039f\"],[0.2222222222222222,\"#7201a8\"],[0.3333333333333333,\"#9c179e\"],[0.4444444444444444,\"#bd3786\"],[0.5555555555555556,\"#d8576b\"],[0.6666666666666666,\"#ed7953\"],[0.7777777777777778,\"#fb9f3a\"],[0.8888888888888888,\"#fdca26\"],[1.0,\"#f0f921\"]],\"type\":\"histogram2d\"}],\"histogram\":[{\"marker\":{\"pattern\":{\"fillmode\":\"overlay\",\"size\":10,\"solidity\":0.2}},\"type\":\"histogram\"}],\"mesh3d\":[{\"colorbar\":{\"outlinewidth\":0,\"ticks\":\"\"},\"type\":\"mesh3d\"}],\"parcoords\":[{\"line\":{\"colorbar\":{\"outlinewidth\":0,\"ticks\":\"\"}},\"type\":\"parcoords\"}],\"pie\":[{\"automargin\":true,\"type\":\"pie\"}],\"scatter3d\":[{\"line\":{\"colorbar\":{\"outlinewidth\":0,\"ticks\":\"\"}},\"marker\":{\"colorbar\":{\"outlinewidth\":0,\"ticks\":\"\"}},\"type\":\"scatter3d\"}],\"scattercarpet\":[{\"marker\":{\"colorbar\":{\"outlinewidth\":0,\"ticks\":\"\"}},\"type\":\"scattercarpet\"}],\"scattergeo\":[{\"marker\":{\"colorbar\":{\"outlinewidth\":0,\"ticks\":\"\"}},\"type\":\"scattergeo\"}],\"scattergl\":[{\"marker\":{\"colorbar\":{\"outlinewidth\":0,\"ticks\":\"\"}},\"type\":\"scattergl\"}],\"scattermapbox\":[{\"marker\":{\"colorbar\":{\"outlinewidth\":0,\"ticks\":\"\"}},\"type\":\"scattermapbox\"}],\"scatterpolargl\":[{\"marker\":{\"colorbar\":{\"outlinewidth\":0,\"ticks\":\"\"}},\"type\":\"scatterpolargl\"}],\"scatterpolar\":[{\"marker\":{\"colorbar\":{\"outlinewidth\":0,\"ticks\":\"\"}},\"type\":\"scatterpolar\"}],\"scatter\":[{\"fillpattern\":{\"fillmode\":\"overlay\",\"size\":10,\"solidity\":0.2},\"type\":\"scatter\"}],\"scatterternary\":[{\"marker\":{\"colorbar\":{\"outlinewidth\":0,\"ticks\":\"\"}},\"type\":\"scatterternary\"}],\"surface\":[{\"colorbar\":{\"outlinewidth\":0,\"ticks\":\"\"},\"colorscale\":[[0.0,\"#0d0887\"],[0.1111111111111111,\"#46039f\"],[0.2222222222222222,\"#7201a8\"],[0.3333333333333333,\"#9c179e\"],[0.4444444444444444,\"#bd3786\"],[0.5555555555555556,\"#d8576b\"],[0.6666666666666666,\"#ed7953\"],[0.7777777777777778,\"#fb9f3a\"],[0.8888888888888888,\"#fdca26\"],[1.0,\"#f0f921\"]],\"type\":\"surface\"}],\"table\":[{\"cells\":{\"fill\":{\"color\":\"#EBF0F8\"},\"line\":{\"color\":\"white\"}},\"header\":{\"fill\":{\"color\":\"#C8D4E3\"},\"line\":{\"color\":\"white\"}},\"type\":\"table\"}]},\"layout\":{\"annotationdefaults\":{\"arrowcolor\":\"#2a3f5f\",\"arrowhead\":0,\"arrowwidth\":1},\"autotypenumbers\":\"strict\",\"coloraxis\":{\"colorbar\":{\"outlinewidth\":0,\"ticks\":\"\"}},\"colorscale\":{\"diverging\":[[0,\"#8e0152\"],[0.1,\"#c51b7d\"],[0.2,\"#de77ae\"],[0.3,\"#f1b6da\"],[0.4,\"#fde0ef\"],[0.5,\"#f7f7f7\"],[0.6,\"#e6f5d0\"],[0.7,\"#b8e186\"],[0.8,\"#7fbc41\"],[0.9,\"#4d9221\"],[1,\"#276419\"]],\"sequential\":[[0.0,\"#0d0887\"],[0.1111111111111111,\"#46039f\"],[0.2222222222222222,\"#7201a8\"],[0.3333333333333333,\"#9c179e\"],[0.4444444444444444,\"#bd3786\"],[0.5555555555555556,\"#d8576b\"],[0.6666666666666666,\"#ed7953\"],[0.7777777777777778,\"#fb9f3a\"],[0.8888888888888888,\"#fdca26\"],[1.0,\"#f0f921\"]],\"sequentialminus\":[[0.0,\"#0d0887\"],[0.1111111111111111,\"#46039f\"],[0.2222222222222222,\"#7201a8\"],[0.3333333333333333,\"#9c179e\"],[0.4444444444444444,\"#bd3786\"],[0.5555555555555556,\"#d8576b\"],[0.6666666666666666,\"#ed7953\"],[0.7777777777777778,\"#fb9f3a\"],[0.8888888888888888,\"#fdca26\"],[1.0,\"#f0f921\"]]},\"colorway\":[\"#636efa\",\"#EF553B\",\"#00cc96\",\"#ab63fa\",\"#FFA15A\",\"#19d3f3\",\"#FF6692\",\"#B6E880\",\"#FF97FF\",\"#FECB52\"],\"font\":{\"color\":\"#2a3f5f\"},\"geo\":{\"bgcolor\":\"white\",\"lakecolor\":\"white\",\"landcolor\":\"#E5ECF6\",\"showlakes\":true,\"showland\":true,\"subunitcolor\":\"white\"},\"hoverlabel\":{\"align\":\"left\"},\"hovermode\":\"closest\",\"mapbox\":{\"style\":\"light\"},\"paper_bgcolor\":\"white\",\"plot_bgcolor\":\"#E5ECF6\",\"polar\":{\"angularaxis\":{\"gridcolor\":\"white\",\"linecolor\":\"white\",\"ticks\":\"\"},\"bgcolor\":\"#E5ECF6\",\"radialaxis\":{\"gridcolor\":\"white\",\"linecolor\":\"white\",\"ticks\":\"\"}},\"scene\":{\"xaxis\":{\"backgroundcolor\":\"#E5ECF6\",\"gridcolor\":\"white\",\"gridwidth\":2,\"linecolor\":\"white\",\"showbackground\":true,\"ticks\":\"\",\"zerolinecolor\":\"white\"},\"yaxis\":{\"backgroundcolor\":\"#E5ECF6\",\"gridcolor\":\"white\",\"gridwidth\":2,\"linecolor\":\"white\",\"showbackground\":true,\"ticks\":\"\",\"zerolinecolor\":\"white\"},\"zaxis\":{\"backgroundcolor\":\"#E5ECF6\",\"gridcolor\":\"white\",\"gridwidth\":2,\"linecolor\":\"white\",\"showbackground\":true,\"ticks\":\"\",\"zerolinecolor\":\"white\"}},\"shapedefaults\":{\"line\":{\"color\":\"#2a3f5f\"}},\"ternary\":{\"aaxis\":{\"gridcolor\":\"white\",\"linecolor\":\"white\",\"ticks\":\"\"},\"baxis\":{\"gridcolor\":\"white\",\"linecolor\":\"white\",\"ticks\":\"\"},\"bgcolor\":\"#E5ECF6\",\"caxis\":{\"gridcolor\":\"white\",\"linecolor\":\"white\",\"ticks\":\"\"}},\"title\":{\"x\":0.05},\"xaxis\":{\"automargin\":true,\"gridcolor\":\"white\",\"linecolor\":\"white\",\"ticks\":\"\",\"title\":{\"standoff\":15},\"zerolinecolor\":\"white\",\"zerolinewidth\":2},\"yaxis\":{\"automargin\":true,\"gridcolor\":\"white\",\"linecolor\":\"white\",\"ticks\":\"\",\"title\":{\"standoff\":15},\"zerolinecolor\":\"white\",\"zerolinewidth\":2}}},\"title\":{\"font\":{\"color\":\"#4D5663\"},\"text\":\"Daily Log Returns\"},\"xaxis\":{\"gridcolor\":\"#E1E5ED\",\"showgrid\":true,\"tickfont\":{\"color\":\"#4D5663\"},\"title\":{\"font\":{\"color\":\"#4D5663\"},\"text\":\"\"},\"zerolinecolor\":\"#E1E5ED\"},\"yaxis\":{\"gridcolor\":\"#E1E5ED\",\"showgrid\":true,\"tickfont\":{\"color\":\"#4D5663\"},\"title\":{\"font\":{\"color\":\"#4D5663\"},\"text\":\"\"},\"zerolinecolor\":\"#E1E5ED\"}},                        {\"showLink\": true, \"linkText\": \"Export to plot.ly\", \"plotlyServerURL\": \"https://plot.ly\", \"responsive\": true}                    ).then(function(){\n",
       "                            \n",
       "var gd = document.getElementById('ff68409a-198e-47b8-a8b9-f009af8d8dd3');\n",
       "var x = new MutationObserver(function (mutations, observer) {{\n",
       "        var display = window.getComputedStyle(gd).display;\n",
       "        if (!display || display === 'none') {{\n",
       "            console.log([gd, 'removed!']);\n",
       "            Plotly.purge(gd);\n",
       "            observer.disconnect();\n",
       "        }}\n",
       "}});\n",
       "\n",
       "// Listen for the removal of the full notebook cells\n",
       "var notebookContainer = gd.closest('#notebook-container');\n",
       "if (notebookContainer) {{\n",
       "    x.observe(notebookContainer, {childList: true});\n",
       "}}\n",
       "\n",
       "// Listen for the clearing of the current output cell\n",
       "var outputEl = gd.closest('.output');\n",
       "if (outputEl) {{\n",
       "    x.observe(outputEl, {childList: true});\n",
       "}}\n",
       "\n",
       "                        })                };                });            </script>        </div>"
      ]
     },
     "metadata": {},
     "output_type": "display_data"
    }
   ],
   "source": [
    "daily_returns[['AAPL','GOOG']].iplot(title='Daily Log Returns')"
   ]
  },
  {
   "cell_type": "code",
   "execution_count": 54,
   "metadata": {},
   "outputs": [
    {
     "data": {
      "application/vnd.plotly.v1+json": {
       "config": {
        "linkText": "Export to plot.ly",
        "plotlyServerURL": "https://plot.ly",
        "showLink": true
       },
       "data": [
        {
         "marker": {
          "color": "rgba(255, 153, 51, 0.6)",
          "line": {
           "color": "rgba(255, 153, 51, 1.0)",
           "width": 1
          }
         },
         "name": "None",
         "orientation": "v",
         "text": "",
         "type": "bar",
         "x": [
          "AAPL",
          "AMZN",
          "GOOG",
          "MSFT",
          "NFLX"
         ],
         "y": [
          1.528376588254208,
          0.9508693401123184,
          0.4053457301081726,
          0.5865205016640991,
          1.2621505087897666
         ]
        }
       ],
       "layout": {
        "legend": {
         "bgcolor": "#F5F6F9",
         "font": {
          "color": "#4D5663"
         }
        },
        "paper_bgcolor": "#F5F6F9",
        "plot_bgcolor": "#F5F6F9",
        "template": {
         "data": {
          "bar": [
           {
            "error_x": {
             "color": "#2a3f5f"
            },
            "error_y": {
             "color": "#2a3f5f"
            },
            "marker": {
             "line": {
              "color": "#E5ECF6",
              "width": 0.5
             },
             "pattern": {
              "fillmode": "overlay",
              "size": 10,
              "solidity": 0.2
             }
            },
            "type": "bar"
           }
          ],
          "barpolar": [
           {
            "marker": {
             "line": {
              "color": "#E5ECF6",
              "width": 0.5
             },
             "pattern": {
              "fillmode": "overlay",
              "size": 10,
              "solidity": 0.2
             }
            },
            "type": "barpolar"
           }
          ],
          "carpet": [
           {
            "aaxis": {
             "endlinecolor": "#2a3f5f",
             "gridcolor": "white",
             "linecolor": "white",
             "minorgridcolor": "white",
             "startlinecolor": "#2a3f5f"
            },
            "baxis": {
             "endlinecolor": "#2a3f5f",
             "gridcolor": "white",
             "linecolor": "white",
             "minorgridcolor": "white",
             "startlinecolor": "#2a3f5f"
            },
            "type": "carpet"
           }
          ],
          "choropleth": [
           {
            "colorbar": {
             "outlinewidth": 0,
             "ticks": ""
            },
            "type": "choropleth"
           }
          ],
          "contour": [
           {
            "colorbar": {
             "outlinewidth": 0,
             "ticks": ""
            },
            "colorscale": [
             [
              0,
              "#0d0887"
             ],
             [
              0.1111111111111111,
              "#46039f"
             ],
             [
              0.2222222222222222,
              "#7201a8"
             ],
             [
              0.3333333333333333,
              "#9c179e"
             ],
             [
              0.4444444444444444,
              "#bd3786"
             ],
             [
              0.5555555555555556,
              "#d8576b"
             ],
             [
              0.6666666666666666,
              "#ed7953"
             ],
             [
              0.7777777777777778,
              "#fb9f3a"
             ],
             [
              0.8888888888888888,
              "#fdca26"
             ],
             [
              1,
              "#f0f921"
             ]
            ],
            "type": "contour"
           }
          ],
          "contourcarpet": [
           {
            "colorbar": {
             "outlinewidth": 0,
             "ticks": ""
            },
            "type": "contourcarpet"
           }
          ],
          "heatmap": [
           {
            "colorbar": {
             "outlinewidth": 0,
             "ticks": ""
            },
            "colorscale": [
             [
              0,
              "#0d0887"
             ],
             [
              0.1111111111111111,
              "#46039f"
             ],
             [
              0.2222222222222222,
              "#7201a8"
             ],
             [
              0.3333333333333333,
              "#9c179e"
             ],
             [
              0.4444444444444444,
              "#bd3786"
             ],
             [
              0.5555555555555556,
              "#d8576b"
             ],
             [
              0.6666666666666666,
              "#ed7953"
             ],
             [
              0.7777777777777778,
              "#fb9f3a"
             ],
             [
              0.8888888888888888,
              "#fdca26"
             ],
             [
              1,
              "#f0f921"
             ]
            ],
            "type": "heatmap"
           }
          ],
          "heatmapgl": [
           {
            "colorbar": {
             "outlinewidth": 0,
             "ticks": ""
            },
            "colorscale": [
             [
              0,
              "#0d0887"
             ],
             [
              0.1111111111111111,
              "#46039f"
             ],
             [
              0.2222222222222222,
              "#7201a8"
             ],
             [
              0.3333333333333333,
              "#9c179e"
             ],
             [
              0.4444444444444444,
              "#bd3786"
             ],
             [
              0.5555555555555556,
              "#d8576b"
             ],
             [
              0.6666666666666666,
              "#ed7953"
             ],
             [
              0.7777777777777778,
              "#fb9f3a"
             ],
             [
              0.8888888888888888,
              "#fdca26"
             ],
             [
              1,
              "#f0f921"
             ]
            ],
            "type": "heatmapgl"
           }
          ],
          "histogram": [
           {
            "marker": {
             "pattern": {
              "fillmode": "overlay",
              "size": 10,
              "solidity": 0.2
             }
            },
            "type": "histogram"
           }
          ],
          "histogram2d": [
           {
            "colorbar": {
             "outlinewidth": 0,
             "ticks": ""
            },
            "colorscale": [
             [
              0,
              "#0d0887"
             ],
             [
              0.1111111111111111,
              "#46039f"
             ],
             [
              0.2222222222222222,
              "#7201a8"
             ],
             [
              0.3333333333333333,
              "#9c179e"
             ],
             [
              0.4444444444444444,
              "#bd3786"
             ],
             [
              0.5555555555555556,
              "#d8576b"
             ],
             [
              0.6666666666666666,
              "#ed7953"
             ],
             [
              0.7777777777777778,
              "#fb9f3a"
             ],
             [
              0.8888888888888888,
              "#fdca26"
             ],
             [
              1,
              "#f0f921"
             ]
            ],
            "type": "histogram2d"
           }
          ],
          "histogram2dcontour": [
           {
            "colorbar": {
             "outlinewidth": 0,
             "ticks": ""
            },
            "colorscale": [
             [
              0,
              "#0d0887"
             ],
             [
              0.1111111111111111,
              "#46039f"
             ],
             [
              0.2222222222222222,
              "#7201a8"
             ],
             [
              0.3333333333333333,
              "#9c179e"
             ],
             [
              0.4444444444444444,
              "#bd3786"
             ],
             [
              0.5555555555555556,
              "#d8576b"
             ],
             [
              0.6666666666666666,
              "#ed7953"
             ],
             [
              0.7777777777777778,
              "#fb9f3a"
             ],
             [
              0.8888888888888888,
              "#fdca26"
             ],
             [
              1,
              "#f0f921"
             ]
            ],
            "type": "histogram2dcontour"
           }
          ],
          "mesh3d": [
           {
            "colorbar": {
             "outlinewidth": 0,
             "ticks": ""
            },
            "type": "mesh3d"
           }
          ],
          "parcoords": [
           {
            "line": {
             "colorbar": {
              "outlinewidth": 0,
              "ticks": ""
             }
            },
            "type": "parcoords"
           }
          ],
          "pie": [
           {
            "automargin": true,
            "type": "pie"
           }
          ],
          "scatter": [
           {
            "fillpattern": {
             "fillmode": "overlay",
             "size": 10,
             "solidity": 0.2
            },
            "type": "scatter"
           }
          ],
          "scatter3d": [
           {
            "line": {
             "colorbar": {
              "outlinewidth": 0,
              "ticks": ""
             }
            },
            "marker": {
             "colorbar": {
              "outlinewidth": 0,
              "ticks": ""
             }
            },
            "type": "scatter3d"
           }
          ],
          "scattercarpet": [
           {
            "marker": {
             "colorbar": {
              "outlinewidth": 0,
              "ticks": ""
             }
            },
            "type": "scattercarpet"
           }
          ],
          "scattergeo": [
           {
            "marker": {
             "colorbar": {
              "outlinewidth": 0,
              "ticks": ""
             }
            },
            "type": "scattergeo"
           }
          ],
          "scattergl": [
           {
            "marker": {
             "colorbar": {
              "outlinewidth": 0,
              "ticks": ""
             }
            },
            "type": "scattergl"
           }
          ],
          "scattermapbox": [
           {
            "marker": {
             "colorbar": {
              "outlinewidth": 0,
              "ticks": ""
             }
            },
            "type": "scattermapbox"
           }
          ],
          "scatterpolar": [
           {
            "marker": {
             "colorbar": {
              "outlinewidth": 0,
              "ticks": ""
             }
            },
            "type": "scatterpolar"
           }
          ],
          "scatterpolargl": [
           {
            "marker": {
             "colorbar": {
              "outlinewidth": 0,
              "ticks": ""
             }
            },
            "type": "scatterpolargl"
           }
          ],
          "scatterternary": [
           {
            "marker": {
             "colorbar": {
              "outlinewidth": 0,
              "ticks": ""
             }
            },
            "type": "scatterternary"
           }
          ],
          "surface": [
           {
            "colorbar": {
             "outlinewidth": 0,
             "ticks": ""
            },
            "colorscale": [
             [
              0,
              "#0d0887"
             ],
             [
              0.1111111111111111,
              "#46039f"
             ],
             [
              0.2222222222222222,
              "#7201a8"
             ],
             [
              0.3333333333333333,
              "#9c179e"
             ],
             [
              0.4444444444444444,
              "#bd3786"
             ],
             [
              0.5555555555555556,
              "#d8576b"
             ],
             [
              0.6666666666666666,
              "#ed7953"
             ],
             [
              0.7777777777777778,
              "#fb9f3a"
             ],
             [
              0.8888888888888888,
              "#fdca26"
             ],
             [
              1,
              "#f0f921"
             ]
            ],
            "type": "surface"
           }
          ],
          "table": [
           {
            "cells": {
             "fill": {
              "color": "#EBF0F8"
             },
             "line": {
              "color": "white"
             }
            },
            "header": {
             "fill": {
              "color": "#C8D4E3"
             },
             "line": {
              "color": "white"
             }
            },
            "type": "table"
           }
          ]
         },
         "layout": {
          "annotationdefaults": {
           "arrowcolor": "#2a3f5f",
           "arrowhead": 0,
           "arrowwidth": 1
          },
          "autotypenumbers": "strict",
          "coloraxis": {
           "colorbar": {
            "outlinewidth": 0,
            "ticks": ""
           }
          },
          "colorscale": {
           "diverging": [
            [
             0,
             "#8e0152"
            ],
            [
             0.1,
             "#c51b7d"
            ],
            [
             0.2,
             "#de77ae"
            ],
            [
             0.3,
             "#f1b6da"
            ],
            [
             0.4,
             "#fde0ef"
            ],
            [
             0.5,
             "#f7f7f7"
            ],
            [
             0.6,
             "#e6f5d0"
            ],
            [
             0.7,
             "#b8e186"
            ],
            [
             0.8,
             "#7fbc41"
            ],
            [
             0.9,
             "#4d9221"
            ],
            [
             1,
             "#276419"
            ]
           ],
           "sequential": [
            [
             0,
             "#0d0887"
            ],
            [
             0.1111111111111111,
             "#46039f"
            ],
            [
             0.2222222222222222,
             "#7201a8"
            ],
            [
             0.3333333333333333,
             "#9c179e"
            ],
            [
             0.4444444444444444,
             "#bd3786"
            ],
            [
             0.5555555555555556,
             "#d8576b"
            ],
            [
             0.6666666666666666,
             "#ed7953"
            ],
            [
             0.7777777777777778,
             "#fb9f3a"
            ],
            [
             0.8888888888888888,
             "#fdca26"
            ],
            [
             1,
             "#f0f921"
            ]
           ],
           "sequentialminus": [
            [
             0,
             "#0d0887"
            ],
            [
             0.1111111111111111,
             "#46039f"
            ],
            [
             0.2222222222222222,
             "#7201a8"
            ],
            [
             0.3333333333333333,
             "#9c179e"
            ],
            [
             0.4444444444444444,
             "#bd3786"
            ],
            [
             0.5555555555555556,
             "#d8576b"
            ],
            [
             0.6666666666666666,
             "#ed7953"
            ],
            [
             0.7777777777777778,
             "#fb9f3a"
            ],
            [
             0.8888888888888888,
             "#fdca26"
            ],
            [
             1,
             "#f0f921"
            ]
           ]
          },
          "colorway": [
           "#636efa",
           "#EF553B",
           "#00cc96",
           "#ab63fa",
           "#FFA15A",
           "#19d3f3",
           "#FF6692",
           "#B6E880",
           "#FF97FF",
           "#FECB52"
          ],
          "font": {
           "color": "#2a3f5f"
          },
          "geo": {
           "bgcolor": "white",
           "lakecolor": "white",
           "landcolor": "#E5ECF6",
           "showlakes": true,
           "showland": true,
           "subunitcolor": "white"
          },
          "hoverlabel": {
           "align": "left"
          },
          "hovermode": "closest",
          "mapbox": {
           "style": "light"
          },
          "paper_bgcolor": "white",
          "plot_bgcolor": "#E5ECF6",
          "polar": {
           "angularaxis": {
            "gridcolor": "white",
            "linecolor": "white",
            "ticks": ""
           },
           "bgcolor": "#E5ECF6",
           "radialaxis": {
            "gridcolor": "white",
            "linecolor": "white",
            "ticks": ""
           }
          },
          "scene": {
           "xaxis": {
            "backgroundcolor": "#E5ECF6",
            "gridcolor": "white",
            "gridwidth": 2,
            "linecolor": "white",
            "showbackground": true,
            "ticks": "",
            "zerolinecolor": "white"
           },
           "yaxis": {
            "backgroundcolor": "#E5ECF6",
            "gridcolor": "white",
            "gridwidth": 2,
            "linecolor": "white",
            "showbackground": true,
            "ticks": "",
            "zerolinecolor": "white"
           },
           "zaxis": {
            "backgroundcolor": "#E5ECF6",
            "gridcolor": "white",
            "gridwidth": 2,
            "linecolor": "white",
            "showbackground": true,
            "ticks": "",
            "zerolinecolor": "white"
           }
          },
          "shapedefaults": {
           "line": {
            "color": "#2a3f5f"
           }
          },
          "ternary": {
           "aaxis": {
            "gridcolor": "white",
            "linecolor": "white",
            "ticks": ""
           },
           "baxis": {
            "gridcolor": "white",
            "linecolor": "white",
            "ticks": ""
           },
           "bgcolor": "#E5ECF6",
           "caxis": {
            "gridcolor": "white",
            "linecolor": "white",
            "ticks": ""
           }
          },
          "title": {
           "x": 0.05
          },
          "xaxis": {
           "automargin": true,
           "gridcolor": "white",
           "linecolor": "white",
           "ticks": "",
           "title": {
            "standoff": 15
           },
           "zerolinecolor": "white",
           "zerolinewidth": 2
          },
          "yaxis": {
           "automargin": true,
           "gridcolor": "white",
           "linecolor": "white",
           "ticks": "",
           "title": {
            "standoff": 15
           },
           "zerolinecolor": "white",
           "zerolinewidth": 2
          }
         }
        },
        "title": {
         "font": {
          "color": "#4D5663"
         }
        },
        "xaxis": {
         "gridcolor": "#E1E5ED",
         "showgrid": true,
         "tickfont": {
          "color": "#4D5663"
         },
         "title": {
          "font": {
           "color": "#4D5663"
          },
          "text": ""
         },
         "zerolinecolor": "#E1E5ED"
        },
        "yaxis": {
         "gridcolor": "#E1E5ED",
         "showgrid": true,
         "tickfont": {
          "color": "#4D5663"
         },
         "title": {
          "font": {
           "color": "#4D5663"
          },
          "text": ""
         },
         "zerolinecolor": "#E1E5ED"
        }
       }
      },
      "text/html": [
       "<div>                            <div id=\"4f69afd2-b9d1-4aef-87b4-e2a283112cd4\" class=\"plotly-graph-div\" style=\"height:525px; width:100%;\"></div>            <script type=\"text/javascript\">                require([\"plotly\"], function(Plotly) {                    window.PLOTLYENV=window.PLOTLYENV || {};\n",
       "                    window.PLOTLYENV.BASE_URL='https://plot.ly';                                    if (document.getElementById(\"4f69afd2-b9d1-4aef-87b4-e2a283112cd4\")) {                    Plotly.newPlot(                        \"4f69afd2-b9d1-4aef-87b4-e2a283112cd4\",                        [{\"marker\":{\"color\":\"rgba(255, 153, 51, 0.6)\",\"line\":{\"color\":\"rgba(255, 153, 51, 1.0)\",\"width\":1}},\"name\":\"None\",\"orientation\":\"v\",\"text\":\"\",\"x\":[\"AAPL\",\"AMZN\",\"GOOG\",\"MSFT\",\"NFLX\"],\"y\":[1.528376588254208,0.9508693401123184,0.4053457301081726,0.5865205016640991,1.2621505087897666],\"type\":\"bar\"}],                        {\"legend\":{\"bgcolor\":\"#F5F6F9\",\"font\":{\"color\":\"#4D5663\"}},\"paper_bgcolor\":\"#F5F6F9\",\"plot_bgcolor\":\"#F5F6F9\",\"template\":{\"data\":{\"barpolar\":[{\"marker\":{\"line\":{\"color\":\"#E5ECF6\",\"width\":0.5},\"pattern\":{\"fillmode\":\"overlay\",\"size\":10,\"solidity\":0.2}},\"type\":\"barpolar\"}],\"bar\":[{\"error_x\":{\"color\":\"#2a3f5f\"},\"error_y\":{\"color\":\"#2a3f5f\"},\"marker\":{\"line\":{\"color\":\"#E5ECF6\",\"width\":0.5},\"pattern\":{\"fillmode\":\"overlay\",\"size\":10,\"solidity\":0.2}},\"type\":\"bar\"}],\"carpet\":[{\"aaxis\":{\"endlinecolor\":\"#2a3f5f\",\"gridcolor\":\"white\",\"linecolor\":\"white\",\"minorgridcolor\":\"white\",\"startlinecolor\":\"#2a3f5f\"},\"baxis\":{\"endlinecolor\":\"#2a3f5f\",\"gridcolor\":\"white\",\"linecolor\":\"white\",\"minorgridcolor\":\"white\",\"startlinecolor\":\"#2a3f5f\"},\"type\":\"carpet\"}],\"choropleth\":[{\"colorbar\":{\"outlinewidth\":0,\"ticks\":\"\"},\"type\":\"choropleth\"}],\"contourcarpet\":[{\"colorbar\":{\"outlinewidth\":0,\"ticks\":\"\"},\"type\":\"contourcarpet\"}],\"contour\":[{\"colorbar\":{\"outlinewidth\":0,\"ticks\":\"\"},\"colorscale\":[[0.0,\"#0d0887\"],[0.1111111111111111,\"#46039f\"],[0.2222222222222222,\"#7201a8\"],[0.3333333333333333,\"#9c179e\"],[0.4444444444444444,\"#bd3786\"],[0.5555555555555556,\"#d8576b\"],[0.6666666666666666,\"#ed7953\"],[0.7777777777777778,\"#fb9f3a\"],[0.8888888888888888,\"#fdca26\"],[1.0,\"#f0f921\"]],\"type\":\"contour\"}],\"heatmapgl\":[{\"colorbar\":{\"outlinewidth\":0,\"ticks\":\"\"},\"colorscale\":[[0.0,\"#0d0887\"],[0.1111111111111111,\"#46039f\"],[0.2222222222222222,\"#7201a8\"],[0.3333333333333333,\"#9c179e\"],[0.4444444444444444,\"#bd3786\"],[0.5555555555555556,\"#d8576b\"],[0.6666666666666666,\"#ed7953\"],[0.7777777777777778,\"#fb9f3a\"],[0.8888888888888888,\"#fdca26\"],[1.0,\"#f0f921\"]],\"type\":\"heatmapgl\"}],\"heatmap\":[{\"colorbar\":{\"outlinewidth\":0,\"ticks\":\"\"},\"colorscale\":[[0.0,\"#0d0887\"],[0.1111111111111111,\"#46039f\"],[0.2222222222222222,\"#7201a8\"],[0.3333333333333333,\"#9c179e\"],[0.4444444444444444,\"#bd3786\"],[0.5555555555555556,\"#d8576b\"],[0.6666666666666666,\"#ed7953\"],[0.7777777777777778,\"#fb9f3a\"],[0.8888888888888888,\"#fdca26\"],[1.0,\"#f0f921\"]],\"type\":\"heatmap\"}],\"histogram2dcontour\":[{\"colorbar\":{\"outlinewidth\":0,\"ticks\":\"\"},\"colorscale\":[[0.0,\"#0d0887\"],[0.1111111111111111,\"#46039f\"],[0.2222222222222222,\"#7201a8\"],[0.3333333333333333,\"#9c179e\"],[0.4444444444444444,\"#bd3786\"],[0.5555555555555556,\"#d8576b\"],[0.6666666666666666,\"#ed7953\"],[0.7777777777777778,\"#fb9f3a\"],[0.8888888888888888,\"#fdca26\"],[1.0,\"#f0f921\"]],\"type\":\"histogram2dcontour\"}],\"histogram2d\":[{\"colorbar\":{\"outlinewidth\":0,\"ticks\":\"\"},\"colorscale\":[[0.0,\"#0d0887\"],[0.1111111111111111,\"#46039f\"],[0.2222222222222222,\"#7201a8\"],[0.3333333333333333,\"#9c179e\"],[0.4444444444444444,\"#bd3786\"],[0.5555555555555556,\"#d8576b\"],[0.6666666666666666,\"#ed7953\"],[0.7777777777777778,\"#fb9f3a\"],[0.8888888888888888,\"#fdca26\"],[1.0,\"#f0f921\"]],\"type\":\"histogram2d\"}],\"histogram\":[{\"marker\":{\"pattern\":{\"fillmode\":\"overlay\",\"size\":10,\"solidity\":0.2}},\"type\":\"histogram\"}],\"mesh3d\":[{\"colorbar\":{\"outlinewidth\":0,\"ticks\":\"\"},\"type\":\"mesh3d\"}],\"parcoords\":[{\"line\":{\"colorbar\":{\"outlinewidth\":0,\"ticks\":\"\"}},\"type\":\"parcoords\"}],\"pie\":[{\"automargin\":true,\"type\":\"pie\"}],\"scatter3d\":[{\"line\":{\"colorbar\":{\"outlinewidth\":0,\"ticks\":\"\"}},\"marker\":{\"colorbar\":{\"outlinewidth\":0,\"ticks\":\"\"}},\"type\":\"scatter3d\"}],\"scattercarpet\":[{\"marker\":{\"colorbar\":{\"outlinewidth\":0,\"ticks\":\"\"}},\"type\":\"scattercarpet\"}],\"scattergeo\":[{\"marker\":{\"colorbar\":{\"outlinewidth\":0,\"ticks\":\"\"}},\"type\":\"scattergeo\"}],\"scattergl\":[{\"marker\":{\"colorbar\":{\"outlinewidth\":0,\"ticks\":\"\"}},\"type\":\"scattergl\"}],\"scattermapbox\":[{\"marker\":{\"colorbar\":{\"outlinewidth\":0,\"ticks\":\"\"}},\"type\":\"scattermapbox\"}],\"scatterpolargl\":[{\"marker\":{\"colorbar\":{\"outlinewidth\":0,\"ticks\":\"\"}},\"type\":\"scatterpolargl\"}],\"scatterpolar\":[{\"marker\":{\"colorbar\":{\"outlinewidth\":0,\"ticks\":\"\"}},\"type\":\"scatterpolar\"}],\"scatter\":[{\"fillpattern\":{\"fillmode\":\"overlay\",\"size\":10,\"solidity\":0.2},\"type\":\"scatter\"}],\"scatterternary\":[{\"marker\":{\"colorbar\":{\"outlinewidth\":0,\"ticks\":\"\"}},\"type\":\"scatterternary\"}],\"surface\":[{\"colorbar\":{\"outlinewidth\":0,\"ticks\":\"\"},\"colorscale\":[[0.0,\"#0d0887\"],[0.1111111111111111,\"#46039f\"],[0.2222222222222222,\"#7201a8\"],[0.3333333333333333,\"#9c179e\"],[0.4444444444444444,\"#bd3786\"],[0.5555555555555556,\"#d8576b\"],[0.6666666666666666,\"#ed7953\"],[0.7777777777777778,\"#fb9f3a\"],[0.8888888888888888,\"#fdca26\"],[1.0,\"#f0f921\"]],\"type\":\"surface\"}],\"table\":[{\"cells\":{\"fill\":{\"color\":\"#EBF0F8\"},\"line\":{\"color\":\"white\"}},\"header\":{\"fill\":{\"color\":\"#C8D4E3\"},\"line\":{\"color\":\"white\"}},\"type\":\"table\"}]},\"layout\":{\"annotationdefaults\":{\"arrowcolor\":\"#2a3f5f\",\"arrowhead\":0,\"arrowwidth\":1},\"autotypenumbers\":\"strict\",\"coloraxis\":{\"colorbar\":{\"outlinewidth\":0,\"ticks\":\"\"}},\"colorscale\":{\"diverging\":[[0,\"#8e0152\"],[0.1,\"#c51b7d\"],[0.2,\"#de77ae\"],[0.3,\"#f1b6da\"],[0.4,\"#fde0ef\"],[0.5,\"#f7f7f7\"],[0.6,\"#e6f5d0\"],[0.7,\"#b8e186\"],[0.8,\"#7fbc41\"],[0.9,\"#4d9221\"],[1,\"#276419\"]],\"sequential\":[[0.0,\"#0d0887\"],[0.1111111111111111,\"#46039f\"],[0.2222222222222222,\"#7201a8\"],[0.3333333333333333,\"#9c179e\"],[0.4444444444444444,\"#bd3786\"],[0.5555555555555556,\"#d8576b\"],[0.6666666666666666,\"#ed7953\"],[0.7777777777777778,\"#fb9f3a\"],[0.8888888888888888,\"#fdca26\"],[1.0,\"#f0f921\"]],\"sequentialminus\":[[0.0,\"#0d0887\"],[0.1111111111111111,\"#46039f\"],[0.2222222222222222,\"#7201a8\"],[0.3333333333333333,\"#9c179e\"],[0.4444444444444444,\"#bd3786\"],[0.5555555555555556,\"#d8576b\"],[0.6666666666666666,\"#ed7953\"],[0.7777777777777778,\"#fb9f3a\"],[0.8888888888888888,\"#fdca26\"],[1.0,\"#f0f921\"]]},\"colorway\":[\"#636efa\",\"#EF553B\",\"#00cc96\",\"#ab63fa\",\"#FFA15A\",\"#19d3f3\",\"#FF6692\",\"#B6E880\",\"#FF97FF\",\"#FECB52\"],\"font\":{\"color\":\"#2a3f5f\"},\"geo\":{\"bgcolor\":\"white\",\"lakecolor\":\"white\",\"landcolor\":\"#E5ECF6\",\"showlakes\":true,\"showland\":true,\"subunitcolor\":\"white\"},\"hoverlabel\":{\"align\":\"left\"},\"hovermode\":\"closest\",\"mapbox\":{\"style\":\"light\"},\"paper_bgcolor\":\"white\",\"plot_bgcolor\":\"#E5ECF6\",\"polar\":{\"angularaxis\":{\"gridcolor\":\"white\",\"linecolor\":\"white\",\"ticks\":\"\"},\"bgcolor\":\"#E5ECF6\",\"radialaxis\":{\"gridcolor\":\"white\",\"linecolor\":\"white\",\"ticks\":\"\"}},\"scene\":{\"xaxis\":{\"backgroundcolor\":\"#E5ECF6\",\"gridcolor\":\"white\",\"gridwidth\":2,\"linecolor\":\"white\",\"showbackground\":true,\"ticks\":\"\",\"zerolinecolor\":\"white\"},\"yaxis\":{\"backgroundcolor\":\"#E5ECF6\",\"gridcolor\":\"white\",\"gridwidth\":2,\"linecolor\":\"white\",\"showbackground\":true,\"ticks\":\"\",\"zerolinecolor\":\"white\"},\"zaxis\":{\"backgroundcolor\":\"#E5ECF6\",\"gridcolor\":\"white\",\"gridwidth\":2,\"linecolor\":\"white\",\"showbackground\":true,\"ticks\":\"\",\"zerolinecolor\":\"white\"}},\"shapedefaults\":{\"line\":{\"color\":\"#2a3f5f\"}},\"ternary\":{\"aaxis\":{\"gridcolor\":\"white\",\"linecolor\":\"white\",\"ticks\":\"\"},\"baxis\":{\"gridcolor\":\"white\",\"linecolor\":\"white\",\"ticks\":\"\"},\"bgcolor\":\"#E5ECF6\",\"caxis\":{\"gridcolor\":\"white\",\"linecolor\":\"white\",\"ticks\":\"\"}},\"title\":{\"x\":0.05},\"xaxis\":{\"automargin\":true,\"gridcolor\":\"white\",\"linecolor\":\"white\",\"ticks\":\"\",\"title\":{\"standoff\":15},\"zerolinecolor\":\"white\",\"zerolinewidth\":2},\"yaxis\":{\"automargin\":true,\"gridcolor\":\"white\",\"linecolor\":\"white\",\"ticks\":\"\",\"title\":{\"standoff\":15},\"zerolinecolor\":\"white\",\"zerolinewidth\":2}}},\"title\":{\"font\":{\"color\":\"#4D5663\"}},\"xaxis\":{\"gridcolor\":\"#E1E5ED\",\"showgrid\":true,\"tickfont\":{\"color\":\"#4D5663\"},\"title\":{\"font\":{\"color\":\"#4D5663\"},\"text\":\"\"},\"zerolinecolor\":\"#E1E5ED\"},\"yaxis\":{\"gridcolor\":\"#E1E5ED\",\"showgrid\":true,\"tickfont\":{\"color\":\"#4D5663\"},\"title\":{\"font\":{\"color\":\"#4D5663\"},\"text\":\"\"},\"zerolinecolor\":\"#E1E5ED\"}},                        {\"showLink\": true, \"linkText\": \"Export to plot.ly\", \"plotlyServerURL\": \"https://plot.ly\", \"responsive\": true}                    ).then(function(){\n",
       "                            \n",
       "var gd = document.getElementById('4f69afd2-b9d1-4aef-87b4-e2a283112cd4');\n",
       "var x = new MutationObserver(function (mutations, observer) {{\n",
       "        var display = window.getComputedStyle(gd).display;\n",
       "        if (!display || display === 'none') {{\n",
       "            console.log([gd, 'removed!']);\n",
       "            Plotly.purge(gd);\n",
       "            observer.disconnect();\n",
       "        }}\n",
       "}});\n",
       "\n",
       "// Listen for the removal of the full notebook cells\n",
       "var notebookContainer = gd.closest('#notebook-container');\n",
       "if (notebookContainer) {{\n",
       "    x.observe(notebookContainer, {childList: true});\n",
       "}}\n",
       "\n",
       "// Listen for the clearing of the current output cell\n",
       "var outputEl = gd.closest('.output');\n",
       "if (outputEl) {{\n",
       "    x.observe(outputEl, {childList: true});\n",
       "}}\n",
       "\n",
       "                        })                };                });            </script>        </div>"
      ]
     },
     "metadata": {},
     "output_type": "display_data"
    }
   ],
   "source": [
    "# Mean Annual Returns\n",
    "(daily_returns.mean()*252).iplot(kind='bar')"
   ]
  },
  {
   "cell_type": "code",
   "execution_count": 55,
   "metadata": {},
   "outputs": [
    {
     "data": {
      "text/html": [
       "<div>\n",
       "<style scoped>\n",
       "    .dataframe tbody tr th:only-of-type {\n",
       "        vertical-align: middle;\n",
       "    }\n",
       "\n",
       "    .dataframe tbody tr th {\n",
       "        vertical-align: top;\n",
       "    }\n",
       "\n",
       "    .dataframe thead th {\n",
       "        text-align: right;\n",
       "    }\n",
       "</style>\n",
       "<table border=\"1\" class=\"dataframe\">\n",
       "  <thead>\n",
       "    <tr style=\"text-align: right;\">\n",
       "      <th></th>\n",
       "      <th>AAPL</th>\n",
       "      <th>AMZN</th>\n",
       "      <th>GOOG</th>\n",
       "      <th>MSFT</th>\n",
       "      <th>NFLX</th>\n",
       "    </tr>\n",
       "    <tr>\n",
       "      <th>Date</th>\n",
       "      <th></th>\n",
       "      <th></th>\n",
       "      <th></th>\n",
       "      <th></th>\n",
       "      <th></th>\n",
       "    </tr>\n",
       "  </thead>\n",
       "  <tbody>\n",
       "    <tr>\n",
       "      <th>2023-01-09 00:00:00-05:00</th>\n",
       "      <td>0.039814</td>\n",
       "      <td>0.017785</td>\n",
       "      <td>-0.010084</td>\n",
       "      <td>-0.053409</td>\n",
       "      <td>0.066306</td>\n",
       "    </tr>\n",
       "    <tr>\n",
       "      <th>2023-01-10 00:00:00-05:00</th>\n",
       "      <td>0.044261</td>\n",
       "      <td>0.046112</td>\n",
       "      <td>-0.005141</td>\n",
       "      <td>-0.045821</td>\n",
       "      <td>0.104804</td>\n",
       "    </tr>\n",
       "    <tr>\n",
       "      <th>2023-01-11 00:00:00-05:00</th>\n",
       "      <td>0.054892</td>\n",
       "      <td>0.110527</td>\n",
       "      <td>0.039238</td>\n",
       "      <td>0.028698</td>\n",
       "      <td>0.056088</td>\n",
       "    </tr>\n",
       "    <tr>\n",
       "      <th>2023-01-12 00:00:00-05:00</th>\n",
       "      <td>0.064953</td>\n",
       "      <td>0.136430</td>\n",
       "      <td>0.057549</td>\n",
       "      <td>0.070338</td>\n",
       "      <td>0.063882</td>\n",
       "    </tr>\n",
       "    <tr>\n",
       "      <th>2023-01-13 00:00:00-05:00</th>\n",
       "      <td>0.038888</td>\n",
       "      <td>0.130914</td>\n",
       "      <td>0.051293</td>\n",
       "      <td>0.061636</td>\n",
       "      <td>0.053285</td>\n",
       "    </tr>\n",
       "  </tbody>\n",
       "</table>\n",
       "</div>"
      ],
      "text/plain": [
       "                               AAPL      AMZN      GOOG      MSFT      NFLX\n",
       "Date                                                                       \n",
       "2023-01-09 00:00:00-05:00  0.039814  0.017785 -0.010084 -0.053409  0.066306\n",
       "2023-01-10 00:00:00-05:00  0.044261  0.046112 -0.005141 -0.045821  0.104804\n",
       "2023-01-11 00:00:00-05:00  0.054892  0.110527  0.039238  0.028698  0.056088\n",
       "2023-01-12 00:00:00-05:00  0.064953  0.136430  0.057549  0.070338  0.063882\n",
       "2023-01-13 00:00:00-05:00  0.038888  0.130914  0.051293  0.061636  0.053285"
      ]
     },
     "execution_count": 55,
     "metadata": {},
     "output_type": "execute_result"
    }
   ],
   "source": [
    "# To calculate 5 days rolling returns, simply sum daily returns for 22 days as log returns are additive\n",
    "rolling_return = daily_returns.rolling(5).sum().dropna()\n",
    "\n",
    "# Display the last five rows of the data frame to check the output\n",
    "rolling_return.head(5)"
   ]
  },
  {
   "cell_type": "code",
   "execution_count": 57,
   "metadata": {},
   "outputs": [
    {
     "data": {
      "application/vnd.plotly.v1+json": {
       "config": {
        "linkText": "Export to plot.ly",
        "plotlyServerURL": "https://plot.ly",
        "showLink": true
       },
       "data": [
        {
         "line": {
          "color": "rgba(255, 153, 51, 1.0)",
          "dash": "solid",
          "shape": "linear",
          "width": 1.3
         },
         "mode": "lines",
         "name": "NFLX",
         "text": "",
         "type": "scatter",
         "x": [
          "2023-01-09 00:00:00-05:00",
          "2023-01-10 00:00:00-05:00",
          "2023-01-11 00:00:00-05:00",
          "2023-01-12 00:00:00-05:00",
          "2023-01-13 00:00:00-05:00",
          "2023-01-17 00:00:00-05:00",
          "2023-01-18 00:00:00-05:00",
          "2023-01-19 00:00:00-05:00",
          "2023-01-20 00:00:00-05:00",
          "2023-01-23 00:00:00-05:00",
          "2023-01-24 00:00:00-05:00",
          "2023-01-25 00:00:00-05:00",
          "2023-01-26 00:00:00-05:00",
          "2023-01-27 00:00:00-05:00",
          "2023-01-30 00:00:00-05:00",
          "2023-01-31 00:00:00-05:00",
          "2023-02-01 00:00:00-05:00",
          "2023-02-02 00:00:00-05:00",
          "2023-02-03 00:00:00-05:00",
          "2023-02-06 00:00:00-05:00",
          "2023-02-07 00:00:00-05:00",
          "2023-02-08 00:00:00-05:00",
          "2023-02-09 00:00:00-05:00",
          "2023-02-10 00:00:00-05:00",
          "2023-02-13 00:00:00-05:00",
          "2023-02-14 00:00:00-05:00",
          "2023-02-15 00:00:00-05:00",
          "2023-02-16 00:00:00-05:00",
          "2023-02-17 00:00:00-05:00"
         ],
         "y": [
          0.06630632655793711,
          0.10480431927403355,
          0.05608772176831511,
          0.06388240467646877,
          0.05328471595643158,
          0.034459785734044956,
          -0.003701112951980612,
          -0.03570922711325242,
          0.036785126630991094,
          0.07130977313540932,
          0.10911468454137818,
          0.12006511522861718,
          0.14449534764692995,
          0.0519689480179526,
          -0.012132016798829248,
          -0.027785375380507737,
          -0.01635765322932503,
          0.005521003157832105,
          0.014119449624098834,
          0.0234271637880612,
          0.025363804074949314,
          0.013281928716385671,
          -0.012037641238099361,
          -0.051998391385117415,
          -0.008082826001361454,
          -0.008272226936451688,
          -0.014857734750863827,
          -0.03306482751998985,
          0.0017258421229300325
         ]
        }
       ],
       "layout": {
        "legend": {
         "bgcolor": "#F5F6F9",
         "font": {
          "color": "#4D5663"
         }
        },
        "paper_bgcolor": "#F5F6F9",
        "plot_bgcolor": "#F5F6F9",
        "template": {
         "data": {
          "bar": [
           {
            "error_x": {
             "color": "#2a3f5f"
            },
            "error_y": {
             "color": "#2a3f5f"
            },
            "marker": {
             "line": {
              "color": "#E5ECF6",
              "width": 0.5
             },
             "pattern": {
              "fillmode": "overlay",
              "size": 10,
              "solidity": 0.2
             }
            },
            "type": "bar"
           }
          ],
          "barpolar": [
           {
            "marker": {
             "line": {
              "color": "#E5ECF6",
              "width": 0.5
             },
             "pattern": {
              "fillmode": "overlay",
              "size": 10,
              "solidity": 0.2
             }
            },
            "type": "barpolar"
           }
          ],
          "carpet": [
           {
            "aaxis": {
             "endlinecolor": "#2a3f5f",
             "gridcolor": "white",
             "linecolor": "white",
             "minorgridcolor": "white",
             "startlinecolor": "#2a3f5f"
            },
            "baxis": {
             "endlinecolor": "#2a3f5f",
             "gridcolor": "white",
             "linecolor": "white",
             "minorgridcolor": "white",
             "startlinecolor": "#2a3f5f"
            },
            "type": "carpet"
           }
          ],
          "choropleth": [
           {
            "colorbar": {
             "outlinewidth": 0,
             "ticks": ""
            },
            "type": "choropleth"
           }
          ],
          "contour": [
           {
            "colorbar": {
             "outlinewidth": 0,
             "ticks": ""
            },
            "colorscale": [
             [
              0,
              "#0d0887"
             ],
             [
              0.1111111111111111,
              "#46039f"
             ],
             [
              0.2222222222222222,
              "#7201a8"
             ],
             [
              0.3333333333333333,
              "#9c179e"
             ],
             [
              0.4444444444444444,
              "#bd3786"
             ],
             [
              0.5555555555555556,
              "#d8576b"
             ],
             [
              0.6666666666666666,
              "#ed7953"
             ],
             [
              0.7777777777777778,
              "#fb9f3a"
             ],
             [
              0.8888888888888888,
              "#fdca26"
             ],
             [
              1,
              "#f0f921"
             ]
            ],
            "type": "contour"
           }
          ],
          "contourcarpet": [
           {
            "colorbar": {
             "outlinewidth": 0,
             "ticks": ""
            },
            "type": "contourcarpet"
           }
          ],
          "heatmap": [
           {
            "colorbar": {
             "outlinewidth": 0,
             "ticks": ""
            },
            "colorscale": [
             [
              0,
              "#0d0887"
             ],
             [
              0.1111111111111111,
              "#46039f"
             ],
             [
              0.2222222222222222,
              "#7201a8"
             ],
             [
              0.3333333333333333,
              "#9c179e"
             ],
             [
              0.4444444444444444,
              "#bd3786"
             ],
             [
              0.5555555555555556,
              "#d8576b"
             ],
             [
              0.6666666666666666,
              "#ed7953"
             ],
             [
              0.7777777777777778,
              "#fb9f3a"
             ],
             [
              0.8888888888888888,
              "#fdca26"
             ],
             [
              1,
              "#f0f921"
             ]
            ],
            "type": "heatmap"
           }
          ],
          "heatmapgl": [
           {
            "colorbar": {
             "outlinewidth": 0,
             "ticks": ""
            },
            "colorscale": [
             [
              0,
              "#0d0887"
             ],
             [
              0.1111111111111111,
              "#46039f"
             ],
             [
              0.2222222222222222,
              "#7201a8"
             ],
             [
              0.3333333333333333,
              "#9c179e"
             ],
             [
              0.4444444444444444,
              "#bd3786"
             ],
             [
              0.5555555555555556,
              "#d8576b"
             ],
             [
              0.6666666666666666,
              "#ed7953"
             ],
             [
              0.7777777777777778,
              "#fb9f3a"
             ],
             [
              0.8888888888888888,
              "#fdca26"
             ],
             [
              1,
              "#f0f921"
             ]
            ],
            "type": "heatmapgl"
           }
          ],
          "histogram": [
           {
            "marker": {
             "pattern": {
              "fillmode": "overlay",
              "size": 10,
              "solidity": 0.2
             }
            },
            "type": "histogram"
           }
          ],
          "histogram2d": [
           {
            "colorbar": {
             "outlinewidth": 0,
             "ticks": ""
            },
            "colorscale": [
             [
              0,
              "#0d0887"
             ],
             [
              0.1111111111111111,
              "#46039f"
             ],
             [
              0.2222222222222222,
              "#7201a8"
             ],
             [
              0.3333333333333333,
              "#9c179e"
             ],
             [
              0.4444444444444444,
              "#bd3786"
             ],
             [
              0.5555555555555556,
              "#d8576b"
             ],
             [
              0.6666666666666666,
              "#ed7953"
             ],
             [
              0.7777777777777778,
              "#fb9f3a"
             ],
             [
              0.8888888888888888,
              "#fdca26"
             ],
             [
              1,
              "#f0f921"
             ]
            ],
            "type": "histogram2d"
           }
          ],
          "histogram2dcontour": [
           {
            "colorbar": {
             "outlinewidth": 0,
             "ticks": ""
            },
            "colorscale": [
             [
              0,
              "#0d0887"
             ],
             [
              0.1111111111111111,
              "#46039f"
             ],
             [
              0.2222222222222222,
              "#7201a8"
             ],
             [
              0.3333333333333333,
              "#9c179e"
             ],
             [
              0.4444444444444444,
              "#bd3786"
             ],
             [
              0.5555555555555556,
              "#d8576b"
             ],
             [
              0.6666666666666666,
              "#ed7953"
             ],
             [
              0.7777777777777778,
              "#fb9f3a"
             ],
             [
              0.8888888888888888,
              "#fdca26"
             ],
             [
              1,
              "#f0f921"
             ]
            ],
            "type": "histogram2dcontour"
           }
          ],
          "mesh3d": [
           {
            "colorbar": {
             "outlinewidth": 0,
             "ticks": ""
            },
            "type": "mesh3d"
           }
          ],
          "parcoords": [
           {
            "line": {
             "colorbar": {
              "outlinewidth": 0,
              "ticks": ""
             }
            },
            "type": "parcoords"
           }
          ],
          "pie": [
           {
            "automargin": true,
            "type": "pie"
           }
          ],
          "scatter": [
           {
            "fillpattern": {
             "fillmode": "overlay",
             "size": 10,
             "solidity": 0.2
            },
            "type": "scatter"
           }
          ],
          "scatter3d": [
           {
            "line": {
             "colorbar": {
              "outlinewidth": 0,
              "ticks": ""
             }
            },
            "marker": {
             "colorbar": {
              "outlinewidth": 0,
              "ticks": ""
             }
            },
            "type": "scatter3d"
           }
          ],
          "scattercarpet": [
           {
            "marker": {
             "colorbar": {
              "outlinewidth": 0,
              "ticks": ""
             }
            },
            "type": "scattercarpet"
           }
          ],
          "scattergeo": [
           {
            "marker": {
             "colorbar": {
              "outlinewidth": 0,
              "ticks": ""
             }
            },
            "type": "scattergeo"
           }
          ],
          "scattergl": [
           {
            "marker": {
             "colorbar": {
              "outlinewidth": 0,
              "ticks": ""
             }
            },
            "type": "scattergl"
           }
          ],
          "scattermapbox": [
           {
            "marker": {
             "colorbar": {
              "outlinewidth": 0,
              "ticks": ""
             }
            },
            "type": "scattermapbox"
           }
          ],
          "scatterpolar": [
           {
            "marker": {
             "colorbar": {
              "outlinewidth": 0,
              "ticks": ""
             }
            },
            "type": "scatterpolar"
           }
          ],
          "scatterpolargl": [
           {
            "marker": {
             "colorbar": {
              "outlinewidth": 0,
              "ticks": ""
             }
            },
            "type": "scatterpolargl"
           }
          ],
          "scatterternary": [
           {
            "marker": {
             "colorbar": {
              "outlinewidth": 0,
              "ticks": ""
             }
            },
            "type": "scatterternary"
           }
          ],
          "surface": [
           {
            "colorbar": {
             "outlinewidth": 0,
             "ticks": ""
            },
            "colorscale": [
             [
              0,
              "#0d0887"
             ],
             [
              0.1111111111111111,
              "#46039f"
             ],
             [
              0.2222222222222222,
              "#7201a8"
             ],
             [
              0.3333333333333333,
              "#9c179e"
             ],
             [
              0.4444444444444444,
              "#bd3786"
             ],
             [
              0.5555555555555556,
              "#d8576b"
             ],
             [
              0.6666666666666666,
              "#ed7953"
             ],
             [
              0.7777777777777778,
              "#fb9f3a"
             ],
             [
              0.8888888888888888,
              "#fdca26"
             ],
             [
              1,
              "#f0f921"
             ]
            ],
            "type": "surface"
           }
          ],
          "table": [
           {
            "cells": {
             "fill": {
              "color": "#EBF0F8"
             },
             "line": {
              "color": "white"
             }
            },
            "header": {
             "fill": {
              "color": "#C8D4E3"
             },
             "line": {
              "color": "white"
             }
            },
            "type": "table"
           }
          ]
         },
         "layout": {
          "annotationdefaults": {
           "arrowcolor": "#2a3f5f",
           "arrowhead": 0,
           "arrowwidth": 1
          },
          "autotypenumbers": "strict",
          "coloraxis": {
           "colorbar": {
            "outlinewidth": 0,
            "ticks": ""
           }
          },
          "colorscale": {
           "diverging": [
            [
             0,
             "#8e0152"
            ],
            [
             0.1,
             "#c51b7d"
            ],
            [
             0.2,
             "#de77ae"
            ],
            [
             0.3,
             "#f1b6da"
            ],
            [
             0.4,
             "#fde0ef"
            ],
            [
             0.5,
             "#f7f7f7"
            ],
            [
             0.6,
             "#e6f5d0"
            ],
            [
             0.7,
             "#b8e186"
            ],
            [
             0.8,
             "#7fbc41"
            ],
            [
             0.9,
             "#4d9221"
            ],
            [
             1,
             "#276419"
            ]
           ],
           "sequential": [
            [
             0,
             "#0d0887"
            ],
            [
             0.1111111111111111,
             "#46039f"
            ],
            [
             0.2222222222222222,
             "#7201a8"
            ],
            [
             0.3333333333333333,
             "#9c179e"
            ],
            [
             0.4444444444444444,
             "#bd3786"
            ],
            [
             0.5555555555555556,
             "#d8576b"
            ],
            [
             0.6666666666666666,
             "#ed7953"
            ],
            [
             0.7777777777777778,
             "#fb9f3a"
            ],
            [
             0.8888888888888888,
             "#fdca26"
            ],
            [
             1,
             "#f0f921"
            ]
           ],
           "sequentialminus": [
            [
             0,
             "#0d0887"
            ],
            [
             0.1111111111111111,
             "#46039f"
            ],
            [
             0.2222222222222222,
             "#7201a8"
            ],
            [
             0.3333333333333333,
             "#9c179e"
            ],
            [
             0.4444444444444444,
             "#bd3786"
            ],
            [
             0.5555555555555556,
             "#d8576b"
            ],
            [
             0.6666666666666666,
             "#ed7953"
            ],
            [
             0.7777777777777778,
             "#fb9f3a"
            ],
            [
             0.8888888888888888,
             "#fdca26"
            ],
            [
             1,
             "#f0f921"
            ]
           ]
          },
          "colorway": [
           "#636efa",
           "#EF553B",
           "#00cc96",
           "#ab63fa",
           "#FFA15A",
           "#19d3f3",
           "#FF6692",
           "#B6E880",
           "#FF97FF",
           "#FECB52"
          ],
          "font": {
           "color": "#2a3f5f"
          },
          "geo": {
           "bgcolor": "white",
           "lakecolor": "white",
           "landcolor": "#E5ECF6",
           "showlakes": true,
           "showland": true,
           "subunitcolor": "white"
          },
          "hoverlabel": {
           "align": "left"
          },
          "hovermode": "closest",
          "mapbox": {
           "style": "light"
          },
          "paper_bgcolor": "white",
          "plot_bgcolor": "#E5ECF6",
          "polar": {
           "angularaxis": {
            "gridcolor": "white",
            "linecolor": "white",
            "ticks": ""
           },
           "bgcolor": "#E5ECF6",
           "radialaxis": {
            "gridcolor": "white",
            "linecolor": "white",
            "ticks": ""
           }
          },
          "scene": {
           "xaxis": {
            "backgroundcolor": "#E5ECF6",
            "gridcolor": "white",
            "gridwidth": 2,
            "linecolor": "white",
            "showbackground": true,
            "ticks": "",
            "zerolinecolor": "white"
           },
           "yaxis": {
            "backgroundcolor": "#E5ECF6",
            "gridcolor": "white",
            "gridwidth": 2,
            "linecolor": "white",
            "showbackground": true,
            "ticks": "",
            "zerolinecolor": "white"
           },
           "zaxis": {
            "backgroundcolor": "#E5ECF6",
            "gridcolor": "white",
            "gridwidth": 2,
            "linecolor": "white",
            "showbackground": true,
            "ticks": "",
            "zerolinecolor": "white"
           }
          },
          "shapedefaults": {
           "line": {
            "color": "#2a3f5f"
           }
          },
          "ternary": {
           "aaxis": {
            "gridcolor": "white",
            "linecolor": "white",
            "ticks": ""
           },
           "baxis": {
            "gridcolor": "white",
            "linecolor": "white",
            "ticks": ""
           },
           "bgcolor": "#E5ECF6",
           "caxis": {
            "gridcolor": "white",
            "linecolor": "white",
            "ticks": ""
           }
          },
          "title": {
           "x": 0.05
          },
          "xaxis": {
           "automargin": true,
           "gridcolor": "white",
           "linecolor": "white",
           "ticks": "",
           "title": {
            "standoff": 15
           },
           "zerolinecolor": "white",
           "zerolinewidth": 2
          },
          "yaxis": {
           "automargin": true,
           "gridcolor": "white",
           "linecolor": "white",
           "ticks": "",
           "title": {
            "standoff": 15
           },
           "zerolinecolor": "white",
           "zerolinewidth": 2
          }
         }
        },
        "title": {
         "font": {
          "color": "#4D5663"
         },
         "text": "5-Days Rolling Returns of NetFlix"
        },
        "xaxis": {
         "gridcolor": "#E1E5ED",
         "showgrid": true,
         "tickfont": {
          "color": "#4D5663"
         },
         "title": {
          "font": {
           "color": "#4D5663"
          },
          "text": ""
         },
         "zerolinecolor": "#E1E5ED"
        },
        "yaxis": {
         "gridcolor": "#E1E5ED",
         "showgrid": true,
         "tickfont": {
          "color": "#4D5663"
         },
         "title": {
          "font": {
           "color": "#4D5663"
          },
          "text": ""
         },
         "zerolinecolor": "#E1E5ED"
        }
       }
      },
      "text/html": [
       "<div>                            <div id=\"ac2e571e-1222-4b83-95f8-8e0c7c8087de\" class=\"plotly-graph-div\" style=\"height:525px; width:100%;\"></div>            <script type=\"text/javascript\">                require([\"plotly\"], function(Plotly) {                    window.PLOTLYENV=window.PLOTLYENV || {};\n",
       "                    window.PLOTLYENV.BASE_URL='https://plot.ly';                                    if (document.getElementById(\"ac2e571e-1222-4b83-95f8-8e0c7c8087de\")) {                    Plotly.newPlot(                        \"ac2e571e-1222-4b83-95f8-8e0c7c8087de\",                        [{\"line\":{\"color\":\"rgba(255, 153, 51, 1.0)\",\"dash\":\"solid\",\"shape\":\"linear\",\"width\":1.3},\"mode\":\"lines\",\"name\":\"NFLX\",\"text\":\"\",\"x\":[\"2023-01-09 00:00:00-05:00\",\"2023-01-10 00:00:00-05:00\",\"2023-01-11 00:00:00-05:00\",\"2023-01-12 00:00:00-05:00\",\"2023-01-13 00:00:00-05:00\",\"2023-01-17 00:00:00-05:00\",\"2023-01-18 00:00:00-05:00\",\"2023-01-19 00:00:00-05:00\",\"2023-01-20 00:00:00-05:00\",\"2023-01-23 00:00:00-05:00\",\"2023-01-24 00:00:00-05:00\",\"2023-01-25 00:00:00-05:00\",\"2023-01-26 00:00:00-05:00\",\"2023-01-27 00:00:00-05:00\",\"2023-01-30 00:00:00-05:00\",\"2023-01-31 00:00:00-05:00\",\"2023-02-01 00:00:00-05:00\",\"2023-02-02 00:00:00-05:00\",\"2023-02-03 00:00:00-05:00\",\"2023-02-06 00:00:00-05:00\",\"2023-02-07 00:00:00-05:00\",\"2023-02-08 00:00:00-05:00\",\"2023-02-09 00:00:00-05:00\",\"2023-02-10 00:00:00-05:00\",\"2023-02-13 00:00:00-05:00\",\"2023-02-14 00:00:00-05:00\",\"2023-02-15 00:00:00-05:00\",\"2023-02-16 00:00:00-05:00\",\"2023-02-17 00:00:00-05:00\"],\"y\":[0.06630632655793711,0.10480431927403355,0.05608772176831511,0.06388240467646877,0.05328471595643158,0.034459785734044956,-0.003701112951980612,-0.03570922711325242,0.036785126630991094,0.07130977313540932,0.10911468454137818,0.12006511522861718,0.14449534764692995,0.0519689480179526,-0.012132016798829248,-0.027785375380507737,-0.01635765322932503,0.005521003157832105,0.014119449624098834,0.0234271637880612,0.025363804074949314,0.013281928716385671,-0.012037641238099361,-0.051998391385117415,-0.008082826001361454,-0.008272226936451688,-0.014857734750863827,-0.03306482751998985,0.0017258421229300325],\"type\":\"scatter\"}],                        {\"legend\":{\"bgcolor\":\"#F5F6F9\",\"font\":{\"color\":\"#4D5663\"}},\"paper_bgcolor\":\"#F5F6F9\",\"plot_bgcolor\":\"#F5F6F9\",\"template\":{\"data\":{\"barpolar\":[{\"marker\":{\"line\":{\"color\":\"#E5ECF6\",\"width\":0.5},\"pattern\":{\"fillmode\":\"overlay\",\"size\":10,\"solidity\":0.2}},\"type\":\"barpolar\"}],\"bar\":[{\"error_x\":{\"color\":\"#2a3f5f\"},\"error_y\":{\"color\":\"#2a3f5f\"},\"marker\":{\"line\":{\"color\":\"#E5ECF6\",\"width\":0.5},\"pattern\":{\"fillmode\":\"overlay\",\"size\":10,\"solidity\":0.2}},\"type\":\"bar\"}],\"carpet\":[{\"aaxis\":{\"endlinecolor\":\"#2a3f5f\",\"gridcolor\":\"white\",\"linecolor\":\"white\",\"minorgridcolor\":\"white\",\"startlinecolor\":\"#2a3f5f\"},\"baxis\":{\"endlinecolor\":\"#2a3f5f\",\"gridcolor\":\"white\",\"linecolor\":\"white\",\"minorgridcolor\":\"white\",\"startlinecolor\":\"#2a3f5f\"},\"type\":\"carpet\"}],\"choropleth\":[{\"colorbar\":{\"outlinewidth\":0,\"ticks\":\"\"},\"type\":\"choropleth\"}],\"contourcarpet\":[{\"colorbar\":{\"outlinewidth\":0,\"ticks\":\"\"},\"type\":\"contourcarpet\"}],\"contour\":[{\"colorbar\":{\"outlinewidth\":0,\"ticks\":\"\"},\"colorscale\":[[0.0,\"#0d0887\"],[0.1111111111111111,\"#46039f\"],[0.2222222222222222,\"#7201a8\"],[0.3333333333333333,\"#9c179e\"],[0.4444444444444444,\"#bd3786\"],[0.5555555555555556,\"#d8576b\"],[0.6666666666666666,\"#ed7953\"],[0.7777777777777778,\"#fb9f3a\"],[0.8888888888888888,\"#fdca26\"],[1.0,\"#f0f921\"]],\"type\":\"contour\"}],\"heatmapgl\":[{\"colorbar\":{\"outlinewidth\":0,\"ticks\":\"\"},\"colorscale\":[[0.0,\"#0d0887\"],[0.1111111111111111,\"#46039f\"],[0.2222222222222222,\"#7201a8\"],[0.3333333333333333,\"#9c179e\"],[0.4444444444444444,\"#bd3786\"],[0.5555555555555556,\"#d8576b\"],[0.6666666666666666,\"#ed7953\"],[0.7777777777777778,\"#fb9f3a\"],[0.8888888888888888,\"#fdca26\"],[1.0,\"#f0f921\"]],\"type\":\"heatmapgl\"}],\"heatmap\":[{\"colorbar\":{\"outlinewidth\":0,\"ticks\":\"\"},\"colorscale\":[[0.0,\"#0d0887\"],[0.1111111111111111,\"#46039f\"],[0.2222222222222222,\"#7201a8\"],[0.3333333333333333,\"#9c179e\"],[0.4444444444444444,\"#bd3786\"],[0.5555555555555556,\"#d8576b\"],[0.6666666666666666,\"#ed7953\"],[0.7777777777777778,\"#fb9f3a\"],[0.8888888888888888,\"#fdca26\"],[1.0,\"#f0f921\"]],\"type\":\"heatmap\"}],\"histogram2dcontour\":[{\"colorbar\":{\"outlinewidth\":0,\"ticks\":\"\"},\"colorscale\":[[0.0,\"#0d0887\"],[0.1111111111111111,\"#46039f\"],[0.2222222222222222,\"#7201a8\"],[0.3333333333333333,\"#9c179e\"],[0.4444444444444444,\"#bd3786\"],[0.5555555555555556,\"#d8576b\"],[0.6666666666666666,\"#ed7953\"],[0.7777777777777778,\"#fb9f3a\"],[0.8888888888888888,\"#fdca26\"],[1.0,\"#f0f921\"]],\"type\":\"histogram2dcontour\"}],\"histogram2d\":[{\"colorbar\":{\"outlinewidth\":0,\"ticks\":\"\"},\"colorscale\":[[0.0,\"#0d0887\"],[0.1111111111111111,\"#46039f\"],[0.2222222222222222,\"#7201a8\"],[0.3333333333333333,\"#9c179e\"],[0.4444444444444444,\"#bd3786\"],[0.5555555555555556,\"#d8576b\"],[0.6666666666666666,\"#ed7953\"],[0.7777777777777778,\"#fb9f3a\"],[0.8888888888888888,\"#fdca26\"],[1.0,\"#f0f921\"]],\"type\":\"histogram2d\"}],\"histogram\":[{\"marker\":{\"pattern\":{\"fillmode\":\"overlay\",\"size\":10,\"solidity\":0.2}},\"type\":\"histogram\"}],\"mesh3d\":[{\"colorbar\":{\"outlinewidth\":0,\"ticks\":\"\"},\"type\":\"mesh3d\"}],\"parcoords\":[{\"line\":{\"colorbar\":{\"outlinewidth\":0,\"ticks\":\"\"}},\"type\":\"parcoords\"}],\"pie\":[{\"automargin\":true,\"type\":\"pie\"}],\"scatter3d\":[{\"line\":{\"colorbar\":{\"outlinewidth\":0,\"ticks\":\"\"}},\"marker\":{\"colorbar\":{\"outlinewidth\":0,\"ticks\":\"\"}},\"type\":\"scatter3d\"}],\"scattercarpet\":[{\"marker\":{\"colorbar\":{\"outlinewidth\":0,\"ticks\":\"\"}},\"type\":\"scattercarpet\"}],\"scattergeo\":[{\"marker\":{\"colorbar\":{\"outlinewidth\":0,\"ticks\":\"\"}},\"type\":\"scattergeo\"}],\"scattergl\":[{\"marker\":{\"colorbar\":{\"outlinewidth\":0,\"ticks\":\"\"}},\"type\":\"scattergl\"}],\"scattermapbox\":[{\"marker\":{\"colorbar\":{\"outlinewidth\":0,\"ticks\":\"\"}},\"type\":\"scattermapbox\"}],\"scatterpolargl\":[{\"marker\":{\"colorbar\":{\"outlinewidth\":0,\"ticks\":\"\"}},\"type\":\"scatterpolargl\"}],\"scatterpolar\":[{\"marker\":{\"colorbar\":{\"outlinewidth\":0,\"ticks\":\"\"}},\"type\":\"scatterpolar\"}],\"scatter\":[{\"fillpattern\":{\"fillmode\":\"overlay\",\"size\":10,\"solidity\":0.2},\"type\":\"scatter\"}],\"scatterternary\":[{\"marker\":{\"colorbar\":{\"outlinewidth\":0,\"ticks\":\"\"}},\"type\":\"scatterternary\"}],\"surface\":[{\"colorbar\":{\"outlinewidth\":0,\"ticks\":\"\"},\"colorscale\":[[0.0,\"#0d0887\"],[0.1111111111111111,\"#46039f\"],[0.2222222222222222,\"#7201a8\"],[0.3333333333333333,\"#9c179e\"],[0.4444444444444444,\"#bd3786\"],[0.5555555555555556,\"#d8576b\"],[0.6666666666666666,\"#ed7953\"],[0.7777777777777778,\"#fb9f3a\"],[0.8888888888888888,\"#fdca26\"],[1.0,\"#f0f921\"]],\"type\":\"surface\"}],\"table\":[{\"cells\":{\"fill\":{\"color\":\"#EBF0F8\"},\"line\":{\"color\":\"white\"}},\"header\":{\"fill\":{\"color\":\"#C8D4E3\"},\"line\":{\"color\":\"white\"}},\"type\":\"table\"}]},\"layout\":{\"annotationdefaults\":{\"arrowcolor\":\"#2a3f5f\",\"arrowhead\":0,\"arrowwidth\":1},\"autotypenumbers\":\"strict\",\"coloraxis\":{\"colorbar\":{\"outlinewidth\":0,\"ticks\":\"\"}},\"colorscale\":{\"diverging\":[[0,\"#8e0152\"],[0.1,\"#c51b7d\"],[0.2,\"#de77ae\"],[0.3,\"#f1b6da\"],[0.4,\"#fde0ef\"],[0.5,\"#f7f7f7\"],[0.6,\"#e6f5d0\"],[0.7,\"#b8e186\"],[0.8,\"#7fbc41\"],[0.9,\"#4d9221\"],[1,\"#276419\"]],\"sequential\":[[0.0,\"#0d0887\"],[0.1111111111111111,\"#46039f\"],[0.2222222222222222,\"#7201a8\"],[0.3333333333333333,\"#9c179e\"],[0.4444444444444444,\"#bd3786\"],[0.5555555555555556,\"#d8576b\"],[0.6666666666666666,\"#ed7953\"],[0.7777777777777778,\"#fb9f3a\"],[0.8888888888888888,\"#fdca26\"],[1.0,\"#f0f921\"]],\"sequentialminus\":[[0.0,\"#0d0887\"],[0.1111111111111111,\"#46039f\"],[0.2222222222222222,\"#7201a8\"],[0.3333333333333333,\"#9c179e\"],[0.4444444444444444,\"#bd3786\"],[0.5555555555555556,\"#d8576b\"],[0.6666666666666666,\"#ed7953\"],[0.7777777777777778,\"#fb9f3a\"],[0.8888888888888888,\"#fdca26\"],[1.0,\"#f0f921\"]]},\"colorway\":[\"#636efa\",\"#EF553B\",\"#00cc96\",\"#ab63fa\",\"#FFA15A\",\"#19d3f3\",\"#FF6692\",\"#B6E880\",\"#FF97FF\",\"#FECB52\"],\"font\":{\"color\":\"#2a3f5f\"},\"geo\":{\"bgcolor\":\"white\",\"lakecolor\":\"white\",\"landcolor\":\"#E5ECF6\",\"showlakes\":true,\"showland\":true,\"subunitcolor\":\"white\"},\"hoverlabel\":{\"align\":\"left\"},\"hovermode\":\"closest\",\"mapbox\":{\"style\":\"light\"},\"paper_bgcolor\":\"white\",\"plot_bgcolor\":\"#E5ECF6\",\"polar\":{\"angularaxis\":{\"gridcolor\":\"white\",\"linecolor\":\"white\",\"ticks\":\"\"},\"bgcolor\":\"#E5ECF6\",\"radialaxis\":{\"gridcolor\":\"white\",\"linecolor\":\"white\",\"ticks\":\"\"}},\"scene\":{\"xaxis\":{\"backgroundcolor\":\"#E5ECF6\",\"gridcolor\":\"white\",\"gridwidth\":2,\"linecolor\":\"white\",\"showbackground\":true,\"ticks\":\"\",\"zerolinecolor\":\"white\"},\"yaxis\":{\"backgroundcolor\":\"#E5ECF6\",\"gridcolor\":\"white\",\"gridwidth\":2,\"linecolor\":\"white\",\"showbackground\":true,\"ticks\":\"\",\"zerolinecolor\":\"white\"},\"zaxis\":{\"backgroundcolor\":\"#E5ECF6\",\"gridcolor\":\"white\",\"gridwidth\":2,\"linecolor\":\"white\",\"showbackground\":true,\"ticks\":\"\",\"zerolinecolor\":\"white\"}},\"shapedefaults\":{\"line\":{\"color\":\"#2a3f5f\"}},\"ternary\":{\"aaxis\":{\"gridcolor\":\"white\",\"linecolor\":\"white\",\"ticks\":\"\"},\"baxis\":{\"gridcolor\":\"white\",\"linecolor\":\"white\",\"ticks\":\"\"},\"bgcolor\":\"#E5ECF6\",\"caxis\":{\"gridcolor\":\"white\",\"linecolor\":\"white\",\"ticks\":\"\"}},\"title\":{\"x\":0.05},\"xaxis\":{\"automargin\":true,\"gridcolor\":\"white\",\"linecolor\":\"white\",\"ticks\":\"\",\"title\":{\"standoff\":15},\"zerolinecolor\":\"white\",\"zerolinewidth\":2},\"yaxis\":{\"automargin\":true,\"gridcolor\":\"white\",\"linecolor\":\"white\",\"ticks\":\"\",\"title\":{\"standoff\":15},\"zerolinecolor\":\"white\",\"zerolinewidth\":2}}},\"title\":{\"font\":{\"color\":\"#4D5663\"},\"text\":\"5-Days Rolling Returns of NetFlix\"},\"xaxis\":{\"gridcolor\":\"#E1E5ED\",\"showgrid\":true,\"tickfont\":{\"color\":\"#4D5663\"},\"title\":{\"font\":{\"color\":\"#4D5663\"},\"text\":\"\"},\"zerolinecolor\":\"#E1E5ED\"},\"yaxis\":{\"gridcolor\":\"#E1E5ED\",\"showgrid\":true,\"tickfont\":{\"color\":\"#4D5663\"},\"title\":{\"font\":{\"color\":\"#4D5663\"},\"text\":\"\"},\"zerolinecolor\":\"#E1E5ED\"}},                        {\"showLink\": true, \"linkText\": \"Export to plot.ly\", \"plotlyServerURL\": \"https://plot.ly\", \"responsive\": true}                    ).then(function(){\n",
       "                            \n",
       "var gd = document.getElementById('ac2e571e-1222-4b83-95f8-8e0c7c8087de');\n",
       "var x = new MutationObserver(function (mutations, observer) {{\n",
       "        var display = window.getComputedStyle(gd).display;\n",
       "        if (!display || display === 'none') {{\n",
       "            console.log([gd, 'removed!']);\n",
       "            Plotly.purge(gd);\n",
       "            observer.disconnect();\n",
       "        }}\n",
       "}});\n",
       "\n",
       "// Listen for the removal of the full notebook cells\n",
       "var notebookContainer = gd.closest('#notebook-container');\n",
       "if (notebookContainer) {{\n",
       "    x.observe(notebookContainer, {childList: true});\n",
       "}}\n",
       "\n",
       "// Listen for the clearing of the current output cell\n",
       "var outputEl = gd.closest('.output');\n",
       "if (outputEl) {{\n",
       "    x.observe(outputEl, {childList: true});\n",
       "}}\n",
       "\n",
       "                        })                };                });            </script>        </div>"
      ]
     },
     "metadata": {},
     "output_type": "display_data"
    }
   ],
   "source": [
    "rolling_return['NFLX'].iplot(title='5-Days Rolling Returns of NetFlix')"
   ]
  },
  {
   "cell_type": "markdown",
   "metadata": {},
   "source": [
    "## Data Resampling\n",
    "Next, we'll manipulate the data retrieved by resampling the frequency of time series. This is very critical if you work on financial data or time series.\n",
    "\n",
    "Weekly Resampling"
   ]
  },
  {
   "cell_type": "code",
   "execution_count": 58,
   "metadata": {},
   "outputs": [
    {
     "data": {
      "text/html": [
       "<div>\n",
       "<style scoped>\n",
       "    .dataframe tbody tr th:only-of-type {\n",
       "        vertical-align: middle;\n",
       "    }\n",
       "\n",
       "    .dataframe tbody tr th {\n",
       "        vertical-align: top;\n",
       "    }\n",
       "\n",
       "    .dataframe thead th {\n",
       "        text-align: right;\n",
       "    }\n",
       "</style>\n",
       "<table border=\"1\" class=\"dataframe\">\n",
       "  <thead>\n",
       "    <tr style=\"text-align: right;\">\n",
       "      <th></th>\n",
       "      <th>AAPL</th>\n",
       "    </tr>\n",
       "    <tr>\n",
       "      <th>Date</th>\n",
       "      <th></th>\n",
       "    </tr>\n",
       "  </thead>\n",
       "  <tbody>\n",
       "    <tr>\n",
       "      <th>2023-01-22 00:00:00-05:00</th>\n",
       "      <td>137.659805</td>\n",
       "    </tr>\n",
       "    <tr>\n",
       "      <th>2023-01-29 00:00:00-05:00</th>\n",
       "      <td>145.707520</td>\n",
       "    </tr>\n",
       "    <tr>\n",
       "      <th>2023-02-05 00:00:00-05:00</th>\n",
       "      <td>154.264465</td>\n",
       "    </tr>\n",
       "    <tr>\n",
       "      <th>2023-02-12 00:00:00-05:00</th>\n",
       "      <td>151.009995</td>\n",
       "    </tr>\n",
       "    <tr>\n",
       "      <th>2023-02-19 00:00:00-05:00</th>\n",
       "      <td>152.550003</td>\n",
       "    </tr>\n",
       "  </tbody>\n",
       "</table>\n",
       "</div>"
      ],
      "text/plain": [
       "                                 AAPL\n",
       "Date                                 \n",
       "2023-01-22 00:00:00-05:00  137.659805\n",
       "2023-01-29 00:00:00-05:00  145.707520\n",
       "2023-02-05 00:00:00-05:00  154.264465\n",
       "2023-02-12 00:00:00-05:00  151.009995\n",
       "2023-02-19 00:00:00-05:00  152.550003"
      ]
     },
     "execution_count": 58,
     "metadata": {},
     "output_type": "execute_result"
    }
   ],
   "source": [
    "# Resampling to derive weekly values from daily time series\n",
    "df_weekly = df4[['AAPL']].resample('W').last()\n",
    "\n",
    "# Display the first five rows of the data frame to check the output\n",
    "df_weekly.tail(5)"
   ]
  },
  {
   "cell_type": "code",
   "execution_count": 59,
   "metadata": {},
   "outputs": [
    {
     "data": {
      "text/html": [
       "<div>\n",
       "<style scoped>\n",
       "    .dataframe tbody tr th:only-of-type {\n",
       "        vertical-align: middle;\n",
       "    }\n",
       "\n",
       "    .dataframe tbody tr th {\n",
       "        vertical-align: top;\n",
       "    }\n",
       "\n",
       "    .dataframe thead th {\n",
       "        text-align: right;\n",
       "    }\n",
       "</style>\n",
       "<table border=\"1\" class=\"dataframe\">\n",
       "  <thead>\n",
       "    <tr style=\"text-align: right;\">\n",
       "      <th></th>\n",
       "      <th>AAPL</th>\n",
       "    </tr>\n",
       "    <tr>\n",
       "      <th>Date</th>\n",
       "      <th></th>\n",
       "    </tr>\n",
       "  </thead>\n",
       "  <tbody>\n",
       "    <tr>\n",
       "      <th>2023-01-26 00:00:00-05:00</th>\n",
       "      <td>143.740540</td>\n",
       "    </tr>\n",
       "    <tr>\n",
       "      <th>2023-02-02 00:00:00-05:00</th>\n",
       "      <td>150.590088</td>\n",
       "    </tr>\n",
       "    <tr>\n",
       "      <th>2023-02-09 00:00:00-05:00</th>\n",
       "      <td>150.639999</td>\n",
       "    </tr>\n",
       "    <tr>\n",
       "      <th>2023-02-16 00:00:00-05:00</th>\n",
       "      <td>153.710007</td>\n",
       "    </tr>\n",
       "    <tr>\n",
       "      <th>2023-02-23 00:00:00-05:00</th>\n",
       "      <td>152.550003</td>\n",
       "    </tr>\n",
       "  </tbody>\n",
       "</table>\n",
       "</div>"
      ],
      "text/plain": [
       "                                 AAPL\n",
       "Date                                 \n",
       "2023-01-26 00:00:00-05:00  143.740540\n",
       "2023-02-02 00:00:00-05:00  150.590088\n",
       "2023-02-09 00:00:00-05:00  150.639999\n",
       "2023-02-16 00:00:00-05:00  153.710007\n",
       "2023-02-23 00:00:00-05:00  152.550003"
      ]
     },
     "execution_count": 59,
     "metadata": {},
     "output_type": "execute_result"
    }
   ],
   "source": [
    "# Resampling to a specific day of the week: Thursday\n",
    "df_weekly_thu = df4[['AAPL']].resample('W-THU').ffill()\n",
    "\n",
    "# Display the last five rows of the data frame to check the output\n",
    "df_weekly_thu.tail()"
   ]
  },
  {
   "cell_type": "code",
   "execution_count": 60,
   "metadata": {},
   "outputs": [
    {
     "data": {
      "text/html": [
       "<div>\n",
       "<style scoped>\n",
       "    .dataframe tbody tr th:only-of-type {\n",
       "        vertical-align: middle;\n",
       "    }\n",
       "\n",
       "    .dataframe tbody tr th {\n",
       "        vertical-align: top;\n",
       "    }\n",
       "\n",
       "    .dataframe thead th {\n",
       "        text-align: right;\n",
       "    }\n",
       "</style>\n",
       "<table border=\"1\" class=\"dataframe\">\n",
       "  <thead>\n",
       "    <tr style=\"text-align: right;\">\n",
       "      <th></th>\n",
       "      <th>AAPL</th>\n",
       "    </tr>\n",
       "    <tr>\n",
       "      <th>Date</th>\n",
       "      <th></th>\n",
       "    </tr>\n",
       "  </thead>\n",
       "  <tbody>\n",
       "    <tr>\n",
       "      <th>2023-01-31 00:00:00-05:00</th>\n",
       "      <td>144.070023</td>\n",
       "    </tr>\n",
       "    <tr>\n",
       "      <th>2023-02-28 00:00:00-05:00</th>\n",
       "      <td>152.550003</td>\n",
       "    </tr>\n",
       "  </tbody>\n",
       "</table>\n",
       "</div>"
      ],
      "text/plain": [
       "                                 AAPL\n",
       "Date                                 \n",
       "2023-01-31 00:00:00-05:00  144.070023\n",
       "2023-02-28 00:00:00-05:00  152.550003"
      ]
     },
     "execution_count": 60,
     "metadata": {},
     "output_type": "execute_result"
    }
   ],
   "source": [
    "# Resampling to derive monthly values from daily time series\n",
    "df_monthly = df4[['AAPL']].resample('M').last()\n",
    "\n",
    "# Display the last five rows of the data frame to check the output\n",
    "df_monthly.tail()"
   ]
  },
  {
   "cell_type": "markdown",
   "metadata": {},
   "source": [
    "## Time Series Statistics\n",
    "Statistics is a branch of mathematics that deals with collecting, interpreting, organization and interpretation of data. The two main categories of statistics are descriptive statistics and inferential statistics.\n",
    "\n",
    "Descriptive statistics help us to understand the data in a meaningful way and is an important part of data analysis. While inferential statistics allows us to infer trends and derive conclusion from it."
   ]
  },
  {
   "cell_type": "code",
   "execution_count": 62,
   "metadata": {},
   "outputs": [
    {
     "data": {
      "text/html": [
       "<div>\n",
       "<style scoped>\n",
       "    .dataframe tbody tr th:only-of-type {\n",
       "        vertical-align: middle;\n",
       "    }\n",
       "\n",
       "    .dataframe tbody tr th {\n",
       "        vertical-align: top;\n",
       "    }\n",
       "\n",
       "    .dataframe thead th {\n",
       "        text-align: right;\n",
       "    }\n",
       "</style>\n",
       "<table border=\"1\" class=\"dataframe\">\n",
       "  <thead>\n",
       "    <tr style=\"text-align: right;\">\n",
       "      <th></th>\n",
       "      <th>count</th>\n",
       "      <th>mean</th>\n",
       "      <th>std</th>\n",
       "      <th>min</th>\n",
       "      <th>25%</th>\n",
       "      <th>50%</th>\n",
       "      <th>75%</th>\n",
       "      <th>max</th>\n",
       "    </tr>\n",
       "  </thead>\n",
       "  <tbody>\n",
       "    <tr>\n",
       "      <th>AAPL</th>\n",
       "      <td>33.0</td>\n",
       "      <td>0.006065</td>\n",
       "      <td>0.014427</td>\n",
       "      <td>-0.020282</td>\n",
       "      <td>-0.004712</td>\n",
       "      <td>0.007870</td>\n",
       "      <td>0.014695</td>\n",
       "      <td>0.036392</td>\n",
       "    </tr>\n",
       "    <tr>\n",
       "      <th>AMZN</th>\n",
       "      <td>33.0</td>\n",
       "      <td>0.003773</td>\n",
       "      <td>0.029020</td>\n",
       "      <td>-0.088083</td>\n",
       "      <td>-0.012381</td>\n",
       "      <td>0.001606</td>\n",
       "      <td>0.020775</td>\n",
       "      <td>0.071203</td>\n",
       "    </tr>\n",
       "    <tr>\n",
       "      <th>GOOG</th>\n",
       "      <td>33.0</td>\n",
       "      <td>0.001609</td>\n",
       "      <td>0.028845</td>\n",
       "      <td>-0.077331</td>\n",
       "      <td>-0.013687</td>\n",
       "      <td>0.000000</td>\n",
       "      <td>0.019253</td>\n",
       "      <td>0.070142</td>\n",
       "    </tr>\n",
       "    <tr>\n",
       "      <th>MSFT</th>\n",
       "      <td>33.0</td>\n",
       "      <td>0.002327</td>\n",
       "      <td>0.021547</td>\n",
       "      <td>-0.044729</td>\n",
       "      <td>-0.011728</td>\n",
       "      <td>0.000645</td>\n",
       "      <td>0.011716</td>\n",
       "      <td>0.045818</td>\n",
       "    </tr>\n",
       "    <tr>\n",
       "      <th>NFLX</th>\n",
       "      <td>33.0</td>\n",
       "      <td>0.005009</td>\n",
       "      <td>0.024618</td>\n",
       "      <td>-0.042663</td>\n",
       "      <td>-0.008433</td>\n",
       "      <td>0.002122</td>\n",
       "      <td>0.013446</td>\n",
       "      <td>0.081226</td>\n",
       "    </tr>\n",
       "  </tbody>\n",
       "</table>\n",
       "</div>"
      ],
      "text/plain": [
       "      count      mean       std       min       25%       50%       75%  \\\n",
       "AAPL   33.0  0.006065  0.014427 -0.020282 -0.004712  0.007870  0.014695   \n",
       "AMZN   33.0  0.003773  0.029020 -0.088083 -0.012381  0.001606  0.020775   \n",
       "GOOG   33.0  0.001609  0.028845 -0.077331 -0.013687  0.000000  0.019253   \n",
       "MSFT   33.0  0.002327  0.021547 -0.044729 -0.011728  0.000645  0.011716   \n",
       "NFLX   33.0  0.005009  0.024618 -0.042663 -0.008433  0.002122  0.013446   \n",
       "\n",
       "           max  \n",
       "AAPL  0.036392  \n",
       "AMZN  0.071203  \n",
       "GOOG  0.070142  \n",
       "MSFT  0.045818  \n",
       "NFLX  0.081226  "
      ]
     },
     "execution_count": 62,
     "metadata": {},
     "output_type": "execute_result"
    }
   ],
   "source": [
    "# Analysing the daily returns data\n",
    "daily_returns.describe().T"
   ]
  },
  {
   "attachments": {},
   "cell_type": "markdown",
   "metadata": {},
   "source": [
    "## Log Normal Distribution\n",
    "A normal distribution is the most common and widely used distribution in statistics. It is popularly referred as a “bell curve” or “Gaussian curve”. Financial time series though random in short term, follows a log normal distribution on a longer time frame.\n",
    "\n",
    "Now that we have derived the daily log returns, we will plot this return distribution and check whether the stock returns follows log normality."
   ]
  },
  {
   "cell_type": "code",
   "execution_count": 63,
   "metadata": {},
   "outputs": [
    {
     "data": {
      "application/vnd.plotly.v1+json": {
       "config": {
        "linkText": "Export to plot.ly",
        "plotlyServerURL": "https://plot.ly",
        "showLink": true
       },
       "data": [
        {
         "histfunc": "count",
         "histnorm": "",
         "marker": {
          "color": "rgba(255, 153, 51, 1.0)",
          "line": {
           "color": "#4D5663",
           "width": 1.3
          }
         },
         "name": "AAPL",
         "opacity": 0.8,
         "orientation": "v",
         "type": "histogram",
         "x": [
          0,
          0.0102614494033757,
          -0.010661329371387751,
          0.03613342784155371,
          0.00408052343977694,
          0.004446504118011951,
          0.02089248603513827,
          -0.0005994883743953849,
          0.01006824326042377,
          0.008718240379424813,
          -0.005384447520421887,
          0.0004436370308313897,
          0.01903833841319269,
          0.02322863344647441,
          0.010012748861163878,
          -0.004711828623164216,
          0.014694849407235644,
          0.013591455864308877,
          -0.020282346259025807,
          0.0089804740272168,
          0.007869693249508813,
          0.03639235316727607,
          0.024106941137837623,
          -0.01809147372117348,
          0.019061835644407665,
          -0.01781038031088933,
          -0.006935538193408419,
          0.0024531431143630655,
          0.018632118028373057,
          -0.0042339040535086525,
          0.01380766040157333,
          -0.010484143872342422,
          -0.00757532274798578
         ],
         "xaxis": "x",
         "yaxis": "y"
        },
        {
         "histfunc": "count",
         "histnorm": "",
         "marker": {
          "color": "rgba(55, 128, 191, 1.0)",
          "line": {
           "color": "#4D5663",
           "width": 1.3
          }
         },
         "name": "AMZN",
         "opacity": 0.8,
         "orientation": "v",
         "type": "histogram",
         "x": [
          0,
          -0.007955122776173162,
          -0.024011573396659713,
          0.03499173785047294,
          0.014760401298199,
          0.02832669324878445,
          0.056459560807313736,
          0.0018911574433708722,
          0.029476316899670785,
          -0.021322326395198488,
          -0.0061616190001014814,
          -0.018822579439956577,
          0.03740025995145313,
          0.002772468251432514,
          -0.012381472357830603,
          0.008888953725914028,
          0.020774687057825147,
          0.029983350559054323,
          -0.016667823165641416,
          0.02533515512643625,
          0.019397614964411503,
          0.07120315696615265,
          -0.08808283393109928,
          -0.011772272805909978,
          -0.000685297344461766,
          -0.02038057801277038,
          -0.01825664887825429,
          -0.006433489213979904,
          0.019579629188156034,
          0.0016060637303949576,
          0.014537811644538046,
          -0.03020652173405658,
          -0.009726256199159344
         ],
         "xaxis": "x2",
         "yaxis": "y2"
        },
        {
         "histfunc": "count",
         "histnorm": "",
         "marker": {
          "color": "rgba(50, 171, 96, 1.0)",
          "line": {
           "color": "#4D5663",
           "width": 1.3
          }
         },
         "name": "GOOG",
         "opacity": 0.8,
         "orientation": "v",
         "type": "histogram",
         "x": [
          0,
          -0.011098122830881074,
          -0.02211171109436627,
          0.015892485826280556,
          0.007233297420809137,
          0.004942661261527981,
          0.03328135565783974,
          -0.0038008240696019158,
          0.009636795462943937,
          -0.006920435993465368,
          -0.004131841017640525,
          0.02294252014609821,
          0.055607212788324034,
          0.019253428554198315,
          -0.019958750721355223,
          -0.02531517953501794,
          0.02481111719968876,
          0.01551034647101801,
          -0.027787977335056446,
          0.019412254522347183,
          0.01549954064002268,
          0.07014245407444886,
          -0.0334579545669893,
          -0.016771680489584995,
          0.043219809983868984,
          -0.07733135141028935,
          -0.04646288400103238,
          -0.006305175103388905,
          0.0014747647168702471,
          -0.0005264864829293003,
          0.022390954465158153,
          -0.013687477413171223,
          -0.01250215866012816
         ],
         "xaxis": "x3",
         "yaxis": "y3"
        },
        {
         "histfunc": "count",
         "histnorm": "",
         "marker": {
          "color": "rgba(128, 0, 128, 1.0)",
          "line": {
           "color": "#4D5663",
           "width": 1.3
          }
         },
         "name": "MSFT",
         "opacity": 0.8,
         "orientation": "v",
         "type": "histogram",
         "x": [
          0,
          -0.04472877905527728,
          -0.03008587593814127,
          0.011716416726842205,
          0.00968932032070935,
          0.007588254122648408,
          0.029789983316601543,
          0.011554484918181451,
          0.003014192311047381,
          0.004670830019381178,
          -0.01906985766282787,
          -0.016590835254675085,
          0.03511963014665742,
          0.009776348670368584,
          -0.002228549813523273,
          -0.005925615151767261,
          0.03025137965421809,
          0.0006449802662933379,
          -0.022206394620223335,
          0.020794975015629547,
          0.01973853624837929,
          0.045818376762669644,
          -0.0239039599355646,
          -0.006134620916525613,
          0.04116317573070116,
          -0.0031068734664136954,
          -0.011728253527689247,
          -0.0019745088426432744,
          0.0307647486230751,
          0.0031280236594817268,
          -0.008025091848091748,
          -0.026983455136297962,
          -0.015724729172925223
         ],
         "xaxis": "x4",
         "yaxis": "y4"
        },
        {
         "histfunc": "count",
         "histnorm": "",
         "marker": {
          "color": "rgba(219, 64, 82, 1.0)",
          "line": {
           "color": "#4D5663",
           "width": 1.3
          }
         },
         "name": "NFLX",
         "opacity": 0.8,
         "orientation": "v",
         "type": "histogram",
         "x": [
          0,
          0.04786137823713865,
          0.0009368563218163928,
          0.018712982950492396,
          -0.001204890951510329,
          0.03849799271609644,
          -0.0008552192685797877,
          0.008731539229970053,
          0.008115294230455206,
          -0.020029821173896956,
          0.00033709403007087246,
          -0.03286333342985159,
          0.08122589297421356,
          0.04263994073487343,
          0.01777509023207191,
          0.011287524717309871,
          -0.008433101011538824,
          -0.011300506654763787,
          -0.02146102408190842,
          0.0021217316503934214,
          0.022715246868492578,
          0.013445555375618312,
          -0.0027020601884970574,
          -0.012153309917946054,
          0.004058371937281535,
          0.010633371509928935,
          -0.01187401457886672,
          -0.04266281033551511,
          0.03176225546580991,
          0.0038689710021913015,
          0.004047863695516796,
          -0.03008110734799274,
          -0.00787214069259523
         ],
         "xaxis": "x5",
         "yaxis": "y5"
        }
       ],
       "layout": {
        "barmode": "overlay",
        "legend": {
         "bgcolor": "#F5F6F9",
         "font": {
          "color": "#4D5663"
         }
        },
        "paper_bgcolor": "#F5F6F9",
        "plot_bgcolor": "#F5F6F9",
        "template": {
         "data": {
          "bar": [
           {
            "error_x": {
             "color": "#2a3f5f"
            },
            "error_y": {
             "color": "#2a3f5f"
            },
            "marker": {
             "line": {
              "color": "#E5ECF6",
              "width": 0.5
             },
             "pattern": {
              "fillmode": "overlay",
              "size": 10,
              "solidity": 0.2
             }
            },
            "type": "bar"
           }
          ],
          "barpolar": [
           {
            "marker": {
             "line": {
              "color": "#E5ECF6",
              "width": 0.5
             },
             "pattern": {
              "fillmode": "overlay",
              "size": 10,
              "solidity": 0.2
             }
            },
            "type": "barpolar"
           }
          ],
          "carpet": [
           {
            "aaxis": {
             "endlinecolor": "#2a3f5f",
             "gridcolor": "white",
             "linecolor": "white",
             "minorgridcolor": "white",
             "startlinecolor": "#2a3f5f"
            },
            "baxis": {
             "endlinecolor": "#2a3f5f",
             "gridcolor": "white",
             "linecolor": "white",
             "minorgridcolor": "white",
             "startlinecolor": "#2a3f5f"
            },
            "type": "carpet"
           }
          ],
          "choropleth": [
           {
            "colorbar": {
             "outlinewidth": 0,
             "ticks": ""
            },
            "type": "choropleth"
           }
          ],
          "contour": [
           {
            "colorbar": {
             "outlinewidth": 0,
             "ticks": ""
            },
            "colorscale": [
             [
              0,
              "#0d0887"
             ],
             [
              0.1111111111111111,
              "#46039f"
             ],
             [
              0.2222222222222222,
              "#7201a8"
             ],
             [
              0.3333333333333333,
              "#9c179e"
             ],
             [
              0.4444444444444444,
              "#bd3786"
             ],
             [
              0.5555555555555556,
              "#d8576b"
             ],
             [
              0.6666666666666666,
              "#ed7953"
             ],
             [
              0.7777777777777778,
              "#fb9f3a"
             ],
             [
              0.8888888888888888,
              "#fdca26"
             ],
             [
              1,
              "#f0f921"
             ]
            ],
            "type": "contour"
           }
          ],
          "contourcarpet": [
           {
            "colorbar": {
             "outlinewidth": 0,
             "ticks": ""
            },
            "type": "contourcarpet"
           }
          ],
          "heatmap": [
           {
            "colorbar": {
             "outlinewidth": 0,
             "ticks": ""
            },
            "colorscale": [
             [
              0,
              "#0d0887"
             ],
             [
              0.1111111111111111,
              "#46039f"
             ],
             [
              0.2222222222222222,
              "#7201a8"
             ],
             [
              0.3333333333333333,
              "#9c179e"
             ],
             [
              0.4444444444444444,
              "#bd3786"
             ],
             [
              0.5555555555555556,
              "#d8576b"
             ],
             [
              0.6666666666666666,
              "#ed7953"
             ],
             [
              0.7777777777777778,
              "#fb9f3a"
             ],
             [
              0.8888888888888888,
              "#fdca26"
             ],
             [
              1,
              "#f0f921"
             ]
            ],
            "type": "heatmap"
           }
          ],
          "heatmapgl": [
           {
            "colorbar": {
             "outlinewidth": 0,
             "ticks": ""
            },
            "colorscale": [
             [
              0,
              "#0d0887"
             ],
             [
              0.1111111111111111,
              "#46039f"
             ],
             [
              0.2222222222222222,
              "#7201a8"
             ],
             [
              0.3333333333333333,
              "#9c179e"
             ],
             [
              0.4444444444444444,
              "#bd3786"
             ],
             [
              0.5555555555555556,
              "#d8576b"
             ],
             [
              0.6666666666666666,
              "#ed7953"
             ],
             [
              0.7777777777777778,
              "#fb9f3a"
             ],
             [
              0.8888888888888888,
              "#fdca26"
             ],
             [
              1,
              "#f0f921"
             ]
            ],
            "type": "heatmapgl"
           }
          ],
          "histogram": [
           {
            "marker": {
             "pattern": {
              "fillmode": "overlay",
              "size": 10,
              "solidity": 0.2
             }
            },
            "type": "histogram"
           }
          ],
          "histogram2d": [
           {
            "colorbar": {
             "outlinewidth": 0,
             "ticks": ""
            },
            "colorscale": [
             [
              0,
              "#0d0887"
             ],
             [
              0.1111111111111111,
              "#46039f"
             ],
             [
              0.2222222222222222,
              "#7201a8"
             ],
             [
              0.3333333333333333,
              "#9c179e"
             ],
             [
              0.4444444444444444,
              "#bd3786"
             ],
             [
              0.5555555555555556,
              "#d8576b"
             ],
             [
              0.6666666666666666,
              "#ed7953"
             ],
             [
              0.7777777777777778,
              "#fb9f3a"
             ],
             [
              0.8888888888888888,
              "#fdca26"
             ],
             [
              1,
              "#f0f921"
             ]
            ],
            "type": "histogram2d"
           }
          ],
          "histogram2dcontour": [
           {
            "colorbar": {
             "outlinewidth": 0,
             "ticks": ""
            },
            "colorscale": [
             [
              0,
              "#0d0887"
             ],
             [
              0.1111111111111111,
              "#46039f"
             ],
             [
              0.2222222222222222,
              "#7201a8"
             ],
             [
              0.3333333333333333,
              "#9c179e"
             ],
             [
              0.4444444444444444,
              "#bd3786"
             ],
             [
              0.5555555555555556,
              "#d8576b"
             ],
             [
              0.6666666666666666,
              "#ed7953"
             ],
             [
              0.7777777777777778,
              "#fb9f3a"
             ],
             [
              0.8888888888888888,
              "#fdca26"
             ],
             [
              1,
              "#f0f921"
             ]
            ],
            "type": "histogram2dcontour"
           }
          ],
          "mesh3d": [
           {
            "colorbar": {
             "outlinewidth": 0,
             "ticks": ""
            },
            "type": "mesh3d"
           }
          ],
          "parcoords": [
           {
            "line": {
             "colorbar": {
              "outlinewidth": 0,
              "ticks": ""
             }
            },
            "type": "parcoords"
           }
          ],
          "pie": [
           {
            "automargin": true,
            "type": "pie"
           }
          ],
          "scatter": [
           {
            "fillpattern": {
             "fillmode": "overlay",
             "size": 10,
             "solidity": 0.2
            },
            "type": "scatter"
           }
          ],
          "scatter3d": [
           {
            "line": {
             "colorbar": {
              "outlinewidth": 0,
              "ticks": ""
             }
            },
            "marker": {
             "colorbar": {
              "outlinewidth": 0,
              "ticks": ""
             }
            },
            "type": "scatter3d"
           }
          ],
          "scattercarpet": [
           {
            "marker": {
             "colorbar": {
              "outlinewidth": 0,
              "ticks": ""
             }
            },
            "type": "scattercarpet"
           }
          ],
          "scattergeo": [
           {
            "marker": {
             "colorbar": {
              "outlinewidth": 0,
              "ticks": ""
             }
            },
            "type": "scattergeo"
           }
          ],
          "scattergl": [
           {
            "marker": {
             "colorbar": {
              "outlinewidth": 0,
              "ticks": ""
             }
            },
            "type": "scattergl"
           }
          ],
          "scattermapbox": [
           {
            "marker": {
             "colorbar": {
              "outlinewidth": 0,
              "ticks": ""
             }
            },
            "type": "scattermapbox"
           }
          ],
          "scatterpolar": [
           {
            "marker": {
             "colorbar": {
              "outlinewidth": 0,
              "ticks": ""
             }
            },
            "type": "scatterpolar"
           }
          ],
          "scatterpolargl": [
           {
            "marker": {
             "colorbar": {
              "outlinewidth": 0,
              "ticks": ""
             }
            },
            "type": "scatterpolargl"
           }
          ],
          "scatterternary": [
           {
            "marker": {
             "colorbar": {
              "outlinewidth": 0,
              "ticks": ""
             }
            },
            "type": "scatterternary"
           }
          ],
          "surface": [
           {
            "colorbar": {
             "outlinewidth": 0,
             "ticks": ""
            },
            "colorscale": [
             [
              0,
              "#0d0887"
             ],
             [
              0.1111111111111111,
              "#46039f"
             ],
             [
              0.2222222222222222,
              "#7201a8"
             ],
             [
              0.3333333333333333,
              "#9c179e"
             ],
             [
              0.4444444444444444,
              "#bd3786"
             ],
             [
              0.5555555555555556,
              "#d8576b"
             ],
             [
              0.6666666666666666,
              "#ed7953"
             ],
             [
              0.7777777777777778,
              "#fb9f3a"
             ],
             [
              0.8888888888888888,
              "#fdca26"
             ],
             [
              1,
              "#f0f921"
             ]
            ],
            "type": "surface"
           }
          ],
          "table": [
           {
            "cells": {
             "fill": {
              "color": "#EBF0F8"
             },
             "line": {
              "color": "white"
             }
            },
            "header": {
             "fill": {
              "color": "#C8D4E3"
             },
             "line": {
              "color": "white"
             }
            },
            "type": "table"
           }
          ]
         },
         "layout": {
          "annotationdefaults": {
           "arrowcolor": "#2a3f5f",
           "arrowhead": 0,
           "arrowwidth": 1
          },
          "autotypenumbers": "strict",
          "coloraxis": {
           "colorbar": {
            "outlinewidth": 0,
            "ticks": ""
           }
          },
          "colorscale": {
           "diverging": [
            [
             0,
             "#8e0152"
            ],
            [
             0.1,
             "#c51b7d"
            ],
            [
             0.2,
             "#de77ae"
            ],
            [
             0.3,
             "#f1b6da"
            ],
            [
             0.4,
             "#fde0ef"
            ],
            [
             0.5,
             "#f7f7f7"
            ],
            [
             0.6,
             "#e6f5d0"
            ],
            [
             0.7,
             "#b8e186"
            ],
            [
             0.8,
             "#7fbc41"
            ],
            [
             0.9,
             "#4d9221"
            ],
            [
             1,
             "#276419"
            ]
           ],
           "sequential": [
            [
             0,
             "#0d0887"
            ],
            [
             0.1111111111111111,
             "#46039f"
            ],
            [
             0.2222222222222222,
             "#7201a8"
            ],
            [
             0.3333333333333333,
             "#9c179e"
            ],
            [
             0.4444444444444444,
             "#bd3786"
            ],
            [
             0.5555555555555556,
             "#d8576b"
            ],
            [
             0.6666666666666666,
             "#ed7953"
            ],
            [
             0.7777777777777778,
             "#fb9f3a"
            ],
            [
             0.8888888888888888,
             "#fdca26"
            ],
            [
             1,
             "#f0f921"
            ]
           ],
           "sequentialminus": [
            [
             0,
             "#0d0887"
            ],
            [
             0.1111111111111111,
             "#46039f"
            ],
            [
             0.2222222222222222,
             "#7201a8"
            ],
            [
             0.3333333333333333,
             "#9c179e"
            ],
            [
             0.4444444444444444,
             "#bd3786"
            ],
            [
             0.5555555555555556,
             "#d8576b"
            ],
            [
             0.6666666666666666,
             "#ed7953"
            ],
            [
             0.7777777777777778,
             "#fb9f3a"
            ],
            [
             0.8888888888888888,
             "#fdca26"
            ],
            [
             1,
             "#f0f921"
            ]
           ]
          },
          "colorway": [
           "#636efa",
           "#EF553B",
           "#00cc96",
           "#ab63fa",
           "#FFA15A",
           "#19d3f3",
           "#FF6692",
           "#B6E880",
           "#FF97FF",
           "#FECB52"
          ],
          "font": {
           "color": "#2a3f5f"
          },
          "geo": {
           "bgcolor": "white",
           "lakecolor": "white",
           "landcolor": "#E5ECF6",
           "showlakes": true,
           "showland": true,
           "subunitcolor": "white"
          },
          "hoverlabel": {
           "align": "left"
          },
          "hovermode": "closest",
          "mapbox": {
           "style": "light"
          },
          "paper_bgcolor": "white",
          "plot_bgcolor": "#E5ECF6",
          "polar": {
           "angularaxis": {
            "gridcolor": "white",
            "linecolor": "white",
            "ticks": ""
           },
           "bgcolor": "#E5ECF6",
           "radialaxis": {
            "gridcolor": "white",
            "linecolor": "white",
            "ticks": ""
           }
          },
          "scene": {
           "xaxis": {
            "backgroundcolor": "#E5ECF6",
            "gridcolor": "white",
            "gridwidth": 2,
            "linecolor": "white",
            "showbackground": true,
            "ticks": "",
            "zerolinecolor": "white"
           },
           "yaxis": {
            "backgroundcolor": "#E5ECF6",
            "gridcolor": "white",
            "gridwidth": 2,
            "linecolor": "white",
            "showbackground": true,
            "ticks": "",
            "zerolinecolor": "white"
           },
           "zaxis": {
            "backgroundcolor": "#E5ECF6",
            "gridcolor": "white",
            "gridwidth": 2,
            "linecolor": "white",
            "showbackground": true,
            "ticks": "",
            "zerolinecolor": "white"
           }
          },
          "shapedefaults": {
           "line": {
            "color": "#2a3f5f"
           }
          },
          "ternary": {
           "aaxis": {
            "gridcolor": "white",
            "linecolor": "white",
            "ticks": ""
           },
           "baxis": {
            "gridcolor": "white",
            "linecolor": "white",
            "ticks": ""
           },
           "bgcolor": "#E5ECF6",
           "caxis": {
            "gridcolor": "white",
            "linecolor": "white",
            "ticks": ""
           }
          },
          "title": {
           "x": 0.05
          },
          "xaxis": {
           "automargin": true,
           "gridcolor": "white",
           "linecolor": "white",
           "ticks": "",
           "title": {
            "standoff": 15
           },
           "zerolinecolor": "white",
           "zerolinewidth": 2
          },
          "yaxis": {
           "automargin": true,
           "gridcolor": "white",
           "linecolor": "white",
           "ticks": "",
           "title": {
            "standoff": 15
           },
           "zerolinecolor": "white",
           "zerolinewidth": 2
          }
         }
        },
        "title": {
         "font": {
          "color": "#4D5663"
         },
         "text": "Histogram of Daily Returns"
        },
        "xaxis": {
         "anchor": "y",
         "domain": [
          0,
          0.45
         ],
         "gridcolor": "#E1E5ED",
         "showgrid": true,
         "tickfont": {
          "color": "#4D5663"
         },
         "title": {
          "font": {
           "color": "#4D5663"
          },
          "text": ""
         },
         "zerolinecolor": "#E1E5ED"
        },
        "xaxis2": {
         "anchor": "y2",
         "domain": [
          0.55,
          1
         ],
         "gridcolor": "#E1E5ED",
         "showgrid": true,
         "tickfont": {
          "color": "#4D5663"
         },
         "title": {
          "font": {
           "color": "#4D5663"
          },
          "text": ""
         },
         "zerolinecolor": "#E1E5ED"
        },
        "xaxis3": {
         "anchor": "y3",
         "domain": [
          0,
          0.45
         ],
         "gridcolor": "#E1E5ED",
         "showgrid": true,
         "tickfont": {
          "color": "#4D5663"
         },
         "title": {
          "font": {
           "color": "#4D5663"
          },
          "text": ""
         },
         "zerolinecolor": "#E1E5ED"
        },
        "xaxis4": {
         "anchor": "y4",
         "domain": [
          0.55,
          1
         ],
         "gridcolor": "#E1E5ED",
         "showgrid": true,
         "tickfont": {
          "color": "#4D5663"
         },
         "title": {
          "font": {
           "color": "#4D5663"
          },
          "text": ""
         },
         "zerolinecolor": "#E1E5ED"
        },
        "xaxis5": {
         "anchor": "y5",
         "domain": [
          0,
          0.45
         ],
         "gridcolor": "#E1E5ED",
         "showgrid": true,
         "tickfont": {
          "color": "#4D5663"
         },
         "title": {
          "font": {
           "color": "#4D5663"
          },
          "text": ""
         },
         "zerolinecolor": "#E1E5ED"
        },
        "yaxis": {
         "anchor": "x",
         "domain": [
          0.7333333333333333,
          1
         ],
         "gridcolor": "#E1E5ED",
         "showgrid": true,
         "tickfont": {
          "color": "#4D5663"
         },
         "title": {
          "font": {
           "color": "#4D5663"
          },
          "text": ""
         },
         "zerolinecolor": "#E1E5ED"
        },
        "yaxis2": {
         "anchor": "x2",
         "domain": [
          0.7333333333333333,
          1
         ],
         "gridcolor": "#E1E5ED",
         "showgrid": true,
         "tickfont": {
          "color": "#4D5663"
         },
         "title": {
          "font": {
           "color": "#4D5663"
          },
          "text": ""
         },
         "zerolinecolor": "#E1E5ED"
        },
        "yaxis3": {
         "anchor": "x3",
         "domain": [
          0.36666666666666664,
          0.6333333333333333
         ],
         "gridcolor": "#E1E5ED",
         "showgrid": true,
         "tickfont": {
          "color": "#4D5663"
         },
         "title": {
          "font": {
           "color": "#4D5663"
          },
          "text": ""
         },
         "zerolinecolor": "#E1E5ED"
        },
        "yaxis4": {
         "anchor": "x4",
         "domain": [
          0.36666666666666664,
          0.6333333333333333
         ],
         "gridcolor": "#E1E5ED",
         "showgrid": true,
         "tickfont": {
          "color": "#4D5663"
         },
         "title": {
          "font": {
           "color": "#4D5663"
          },
          "text": ""
         },
         "zerolinecolor": "#E1E5ED"
        },
        "yaxis5": {
         "anchor": "x5",
         "domain": [
          0,
          0.26666666666666666
         ],
         "gridcolor": "#E1E5ED",
         "showgrid": true,
         "tickfont": {
          "color": "#4D5663"
         },
         "title": {
          "font": {
           "color": "#4D5663"
          },
          "text": ""
         },
         "zerolinecolor": "#E1E5ED"
        }
       }
      },
      "text/html": [
       "<div>                            <div id=\"99de3968-dcc4-473d-9746-75127a8cbcba\" class=\"plotly-graph-div\" style=\"height:525px; width:100%;\"></div>            <script type=\"text/javascript\">                require([\"plotly\"], function(Plotly) {                    window.PLOTLYENV=window.PLOTLYENV || {};\n",
       "                    window.PLOTLYENV.BASE_URL='https://plot.ly';                                    if (document.getElementById(\"99de3968-dcc4-473d-9746-75127a8cbcba\")) {                    Plotly.newPlot(                        \"99de3968-dcc4-473d-9746-75127a8cbcba\",                        [{\"histfunc\":\"count\",\"histnorm\":\"\",\"marker\":{\"color\":\"rgba(255, 153, 51, 1.0)\",\"line\":{\"color\":\"#4D5663\",\"width\":1.3}},\"name\":\"AAPL\",\"opacity\":0.8,\"orientation\":\"v\",\"x\":[0.0,0.0102614494033757,-0.010661329371387751,0.03613342784155371,0.00408052343977694,0.004446504118011951,0.02089248603513827,-0.0005994883743953849,0.01006824326042377,0.008718240379424813,-0.005384447520421887,0.0004436370308313897,0.01903833841319269,0.02322863344647441,0.010012748861163878,-0.004711828623164216,0.014694849407235644,0.013591455864308877,-0.020282346259025807,0.0089804740272168,0.007869693249508813,0.03639235316727607,0.024106941137837623,-0.01809147372117348,0.019061835644407665,-0.01781038031088933,-0.006935538193408419,0.0024531431143630655,0.018632118028373057,-0.0042339040535086525,0.01380766040157333,-0.010484143872342422,-0.00757532274798578],\"xaxis\":\"x\",\"yaxis\":\"y\",\"type\":\"histogram\"},{\"histfunc\":\"count\",\"histnorm\":\"\",\"marker\":{\"color\":\"rgba(55, 128, 191, 1.0)\",\"line\":{\"color\":\"#4D5663\",\"width\":1.3}},\"name\":\"AMZN\",\"opacity\":0.8,\"orientation\":\"v\",\"x\":[0.0,-0.007955122776173162,-0.024011573396659713,0.03499173785047294,0.014760401298199,0.02832669324878445,0.056459560807313736,0.0018911574433708722,0.029476316899670785,-0.021322326395198488,-0.0061616190001014814,-0.018822579439956577,0.03740025995145313,0.002772468251432514,-0.012381472357830603,0.008888953725914028,0.020774687057825147,0.029983350559054323,-0.016667823165641416,0.02533515512643625,0.019397614964411503,0.07120315696615265,-0.08808283393109928,-0.011772272805909978,-0.000685297344461766,-0.02038057801277038,-0.01825664887825429,-0.006433489213979904,0.019579629188156034,0.0016060637303949576,0.014537811644538046,-0.03020652173405658,-0.009726256199159344],\"xaxis\":\"x2\",\"yaxis\":\"y2\",\"type\":\"histogram\"},{\"histfunc\":\"count\",\"histnorm\":\"\",\"marker\":{\"color\":\"rgba(50, 171, 96, 1.0)\",\"line\":{\"color\":\"#4D5663\",\"width\":1.3}},\"name\":\"GOOG\",\"opacity\":0.8,\"orientation\":\"v\",\"x\":[0.0,-0.011098122830881074,-0.02211171109436627,0.015892485826280556,0.007233297420809137,0.004942661261527981,0.03328135565783974,-0.0038008240696019158,0.009636795462943937,-0.006920435993465368,-0.004131841017640525,0.02294252014609821,0.055607212788324034,0.019253428554198315,-0.019958750721355223,-0.02531517953501794,0.02481111719968876,0.01551034647101801,-0.027787977335056446,0.019412254522347183,0.01549954064002268,0.07014245407444886,-0.0334579545669893,-0.016771680489584995,0.043219809983868984,-0.07733135141028935,-0.04646288400103238,-0.006305175103388905,0.0014747647168702471,-0.0005264864829293003,0.022390954465158153,-0.013687477413171223,-0.01250215866012816],\"xaxis\":\"x3\",\"yaxis\":\"y3\",\"type\":\"histogram\"},{\"histfunc\":\"count\",\"histnorm\":\"\",\"marker\":{\"color\":\"rgba(128, 0, 128, 1.0)\",\"line\":{\"color\":\"#4D5663\",\"width\":1.3}},\"name\":\"MSFT\",\"opacity\":0.8,\"orientation\":\"v\",\"x\":[0.0,-0.04472877905527728,-0.03008587593814127,0.011716416726842205,0.00968932032070935,0.007588254122648408,0.029789983316601543,0.011554484918181451,0.003014192311047381,0.004670830019381178,-0.01906985766282787,-0.016590835254675085,0.03511963014665742,0.009776348670368584,-0.002228549813523273,-0.005925615151767261,0.03025137965421809,0.0006449802662933379,-0.022206394620223335,0.020794975015629547,0.01973853624837929,0.045818376762669644,-0.0239039599355646,-0.006134620916525613,0.04116317573070116,-0.0031068734664136954,-0.011728253527689247,-0.0019745088426432744,0.0307647486230751,0.0031280236594817268,-0.008025091848091748,-0.026983455136297962,-0.015724729172925223],\"xaxis\":\"x4\",\"yaxis\":\"y4\",\"type\":\"histogram\"},{\"histfunc\":\"count\",\"histnorm\":\"\",\"marker\":{\"color\":\"rgba(219, 64, 82, 1.0)\",\"line\":{\"color\":\"#4D5663\",\"width\":1.3}},\"name\":\"NFLX\",\"opacity\":0.8,\"orientation\":\"v\",\"x\":[0.0,0.04786137823713865,0.0009368563218163928,0.018712982950492396,-0.001204890951510329,0.03849799271609644,-0.0008552192685797877,0.008731539229970053,0.008115294230455206,-0.020029821173896956,0.00033709403007087246,-0.03286333342985159,0.08122589297421356,0.04263994073487343,0.01777509023207191,0.011287524717309871,-0.008433101011538824,-0.011300506654763787,-0.02146102408190842,0.0021217316503934214,0.022715246868492578,0.013445555375618312,-0.0027020601884970574,-0.012153309917946054,0.004058371937281535,0.010633371509928935,-0.01187401457886672,-0.04266281033551511,0.03176225546580991,0.0038689710021913015,0.004047863695516796,-0.03008110734799274,-0.00787214069259523],\"xaxis\":\"x5\",\"yaxis\":\"y5\",\"type\":\"histogram\"}],                        {\"barmode\":\"overlay\",\"legend\":{\"bgcolor\":\"#F5F6F9\",\"font\":{\"color\":\"#4D5663\"}},\"paper_bgcolor\":\"#F5F6F9\",\"plot_bgcolor\":\"#F5F6F9\",\"template\":{\"data\":{\"barpolar\":[{\"marker\":{\"line\":{\"color\":\"#E5ECF6\",\"width\":0.5},\"pattern\":{\"fillmode\":\"overlay\",\"size\":10,\"solidity\":0.2}},\"type\":\"barpolar\"}],\"bar\":[{\"error_x\":{\"color\":\"#2a3f5f\"},\"error_y\":{\"color\":\"#2a3f5f\"},\"marker\":{\"line\":{\"color\":\"#E5ECF6\",\"width\":0.5},\"pattern\":{\"fillmode\":\"overlay\",\"size\":10,\"solidity\":0.2}},\"type\":\"bar\"}],\"carpet\":[{\"aaxis\":{\"endlinecolor\":\"#2a3f5f\",\"gridcolor\":\"white\",\"linecolor\":\"white\",\"minorgridcolor\":\"white\",\"startlinecolor\":\"#2a3f5f\"},\"baxis\":{\"endlinecolor\":\"#2a3f5f\",\"gridcolor\":\"white\",\"linecolor\":\"white\",\"minorgridcolor\":\"white\",\"startlinecolor\":\"#2a3f5f\"},\"type\":\"carpet\"}],\"choropleth\":[{\"colorbar\":{\"outlinewidth\":0,\"ticks\":\"\"},\"type\":\"choropleth\"}],\"contourcarpet\":[{\"colorbar\":{\"outlinewidth\":0,\"ticks\":\"\"},\"type\":\"contourcarpet\"}],\"contour\":[{\"colorbar\":{\"outlinewidth\":0,\"ticks\":\"\"},\"colorscale\":[[0.0,\"#0d0887\"],[0.1111111111111111,\"#46039f\"],[0.2222222222222222,\"#7201a8\"],[0.3333333333333333,\"#9c179e\"],[0.4444444444444444,\"#bd3786\"],[0.5555555555555556,\"#d8576b\"],[0.6666666666666666,\"#ed7953\"],[0.7777777777777778,\"#fb9f3a\"],[0.8888888888888888,\"#fdca26\"],[1.0,\"#f0f921\"]],\"type\":\"contour\"}],\"heatmapgl\":[{\"colorbar\":{\"outlinewidth\":0,\"ticks\":\"\"},\"colorscale\":[[0.0,\"#0d0887\"],[0.1111111111111111,\"#46039f\"],[0.2222222222222222,\"#7201a8\"],[0.3333333333333333,\"#9c179e\"],[0.4444444444444444,\"#bd3786\"],[0.5555555555555556,\"#d8576b\"],[0.6666666666666666,\"#ed7953\"],[0.7777777777777778,\"#fb9f3a\"],[0.8888888888888888,\"#fdca26\"],[1.0,\"#f0f921\"]],\"type\":\"heatmapgl\"}],\"heatmap\":[{\"colorbar\":{\"outlinewidth\":0,\"ticks\":\"\"},\"colorscale\":[[0.0,\"#0d0887\"],[0.1111111111111111,\"#46039f\"],[0.2222222222222222,\"#7201a8\"],[0.3333333333333333,\"#9c179e\"],[0.4444444444444444,\"#bd3786\"],[0.5555555555555556,\"#d8576b\"],[0.6666666666666666,\"#ed7953\"],[0.7777777777777778,\"#fb9f3a\"],[0.8888888888888888,\"#fdca26\"],[1.0,\"#f0f921\"]],\"type\":\"heatmap\"}],\"histogram2dcontour\":[{\"colorbar\":{\"outlinewidth\":0,\"ticks\":\"\"},\"colorscale\":[[0.0,\"#0d0887\"],[0.1111111111111111,\"#46039f\"],[0.2222222222222222,\"#7201a8\"],[0.3333333333333333,\"#9c179e\"],[0.4444444444444444,\"#bd3786\"],[0.5555555555555556,\"#d8576b\"],[0.6666666666666666,\"#ed7953\"],[0.7777777777777778,\"#fb9f3a\"],[0.8888888888888888,\"#fdca26\"],[1.0,\"#f0f921\"]],\"type\":\"histogram2dcontour\"}],\"histogram2d\":[{\"colorbar\":{\"outlinewidth\":0,\"ticks\":\"\"},\"colorscale\":[[0.0,\"#0d0887\"],[0.1111111111111111,\"#46039f\"],[0.2222222222222222,\"#7201a8\"],[0.3333333333333333,\"#9c179e\"],[0.4444444444444444,\"#bd3786\"],[0.5555555555555556,\"#d8576b\"],[0.6666666666666666,\"#ed7953\"],[0.7777777777777778,\"#fb9f3a\"],[0.8888888888888888,\"#fdca26\"],[1.0,\"#f0f921\"]],\"type\":\"histogram2d\"}],\"histogram\":[{\"marker\":{\"pattern\":{\"fillmode\":\"overlay\",\"size\":10,\"solidity\":0.2}},\"type\":\"histogram\"}],\"mesh3d\":[{\"colorbar\":{\"outlinewidth\":0,\"ticks\":\"\"},\"type\":\"mesh3d\"}],\"parcoords\":[{\"line\":{\"colorbar\":{\"outlinewidth\":0,\"ticks\":\"\"}},\"type\":\"parcoords\"}],\"pie\":[{\"automargin\":true,\"type\":\"pie\"}],\"scatter3d\":[{\"line\":{\"colorbar\":{\"outlinewidth\":0,\"ticks\":\"\"}},\"marker\":{\"colorbar\":{\"outlinewidth\":0,\"ticks\":\"\"}},\"type\":\"scatter3d\"}],\"scattercarpet\":[{\"marker\":{\"colorbar\":{\"outlinewidth\":0,\"ticks\":\"\"}},\"type\":\"scattercarpet\"}],\"scattergeo\":[{\"marker\":{\"colorbar\":{\"outlinewidth\":0,\"ticks\":\"\"}},\"type\":\"scattergeo\"}],\"scattergl\":[{\"marker\":{\"colorbar\":{\"outlinewidth\":0,\"ticks\":\"\"}},\"type\":\"scattergl\"}],\"scattermapbox\":[{\"marker\":{\"colorbar\":{\"outlinewidth\":0,\"ticks\":\"\"}},\"type\":\"scattermapbox\"}],\"scatterpolargl\":[{\"marker\":{\"colorbar\":{\"outlinewidth\":0,\"ticks\":\"\"}},\"type\":\"scatterpolargl\"}],\"scatterpolar\":[{\"marker\":{\"colorbar\":{\"outlinewidth\":0,\"ticks\":\"\"}},\"type\":\"scatterpolar\"}],\"scatter\":[{\"fillpattern\":{\"fillmode\":\"overlay\",\"size\":10,\"solidity\":0.2},\"type\":\"scatter\"}],\"scatterternary\":[{\"marker\":{\"colorbar\":{\"outlinewidth\":0,\"ticks\":\"\"}},\"type\":\"scatterternary\"}],\"surface\":[{\"colorbar\":{\"outlinewidth\":0,\"ticks\":\"\"},\"colorscale\":[[0.0,\"#0d0887\"],[0.1111111111111111,\"#46039f\"],[0.2222222222222222,\"#7201a8\"],[0.3333333333333333,\"#9c179e\"],[0.4444444444444444,\"#bd3786\"],[0.5555555555555556,\"#d8576b\"],[0.6666666666666666,\"#ed7953\"],[0.7777777777777778,\"#fb9f3a\"],[0.8888888888888888,\"#fdca26\"],[1.0,\"#f0f921\"]],\"type\":\"surface\"}],\"table\":[{\"cells\":{\"fill\":{\"color\":\"#EBF0F8\"},\"line\":{\"color\":\"white\"}},\"header\":{\"fill\":{\"color\":\"#C8D4E3\"},\"line\":{\"color\":\"white\"}},\"type\":\"table\"}]},\"layout\":{\"annotationdefaults\":{\"arrowcolor\":\"#2a3f5f\",\"arrowhead\":0,\"arrowwidth\":1},\"autotypenumbers\":\"strict\",\"coloraxis\":{\"colorbar\":{\"outlinewidth\":0,\"ticks\":\"\"}},\"colorscale\":{\"diverging\":[[0,\"#8e0152\"],[0.1,\"#c51b7d\"],[0.2,\"#de77ae\"],[0.3,\"#f1b6da\"],[0.4,\"#fde0ef\"],[0.5,\"#f7f7f7\"],[0.6,\"#e6f5d0\"],[0.7,\"#b8e186\"],[0.8,\"#7fbc41\"],[0.9,\"#4d9221\"],[1,\"#276419\"]],\"sequential\":[[0.0,\"#0d0887\"],[0.1111111111111111,\"#46039f\"],[0.2222222222222222,\"#7201a8\"],[0.3333333333333333,\"#9c179e\"],[0.4444444444444444,\"#bd3786\"],[0.5555555555555556,\"#d8576b\"],[0.6666666666666666,\"#ed7953\"],[0.7777777777777778,\"#fb9f3a\"],[0.8888888888888888,\"#fdca26\"],[1.0,\"#f0f921\"]],\"sequentialminus\":[[0.0,\"#0d0887\"],[0.1111111111111111,\"#46039f\"],[0.2222222222222222,\"#7201a8\"],[0.3333333333333333,\"#9c179e\"],[0.4444444444444444,\"#bd3786\"],[0.5555555555555556,\"#d8576b\"],[0.6666666666666666,\"#ed7953\"],[0.7777777777777778,\"#fb9f3a\"],[0.8888888888888888,\"#fdca26\"],[1.0,\"#f0f921\"]]},\"colorway\":[\"#636efa\",\"#EF553B\",\"#00cc96\",\"#ab63fa\",\"#FFA15A\",\"#19d3f3\",\"#FF6692\",\"#B6E880\",\"#FF97FF\",\"#FECB52\"],\"font\":{\"color\":\"#2a3f5f\"},\"geo\":{\"bgcolor\":\"white\",\"lakecolor\":\"white\",\"landcolor\":\"#E5ECF6\",\"showlakes\":true,\"showland\":true,\"subunitcolor\":\"white\"},\"hoverlabel\":{\"align\":\"left\"},\"hovermode\":\"closest\",\"mapbox\":{\"style\":\"light\"},\"paper_bgcolor\":\"white\",\"plot_bgcolor\":\"#E5ECF6\",\"polar\":{\"angularaxis\":{\"gridcolor\":\"white\",\"linecolor\":\"white\",\"ticks\":\"\"},\"bgcolor\":\"#E5ECF6\",\"radialaxis\":{\"gridcolor\":\"white\",\"linecolor\":\"white\",\"ticks\":\"\"}},\"scene\":{\"xaxis\":{\"backgroundcolor\":\"#E5ECF6\",\"gridcolor\":\"white\",\"gridwidth\":2,\"linecolor\":\"white\",\"showbackground\":true,\"ticks\":\"\",\"zerolinecolor\":\"white\"},\"yaxis\":{\"backgroundcolor\":\"#E5ECF6\",\"gridcolor\":\"white\",\"gridwidth\":2,\"linecolor\":\"white\",\"showbackground\":true,\"ticks\":\"\",\"zerolinecolor\":\"white\"},\"zaxis\":{\"backgroundcolor\":\"#E5ECF6\",\"gridcolor\":\"white\",\"gridwidth\":2,\"linecolor\":\"white\",\"showbackground\":true,\"ticks\":\"\",\"zerolinecolor\":\"white\"}},\"shapedefaults\":{\"line\":{\"color\":\"#2a3f5f\"}},\"ternary\":{\"aaxis\":{\"gridcolor\":\"white\",\"linecolor\":\"white\",\"ticks\":\"\"},\"baxis\":{\"gridcolor\":\"white\",\"linecolor\":\"white\",\"ticks\":\"\"},\"bgcolor\":\"#E5ECF6\",\"caxis\":{\"gridcolor\":\"white\",\"linecolor\":\"white\",\"ticks\":\"\"}},\"title\":{\"x\":0.05},\"xaxis\":{\"automargin\":true,\"gridcolor\":\"white\",\"linecolor\":\"white\",\"ticks\":\"\",\"title\":{\"standoff\":15},\"zerolinecolor\":\"white\",\"zerolinewidth\":2},\"yaxis\":{\"automargin\":true,\"gridcolor\":\"white\",\"linecolor\":\"white\",\"ticks\":\"\",\"title\":{\"standoff\":15},\"zerolinecolor\":\"white\",\"zerolinewidth\":2}}},\"title\":{\"font\":{\"color\":\"#4D5663\"},\"text\":\"Histogram of Daily Returns\"},\"xaxis\":{\"anchor\":\"y\",\"domain\":[0.0,0.45],\"gridcolor\":\"#E1E5ED\",\"showgrid\":true,\"tickfont\":{\"color\":\"#4D5663\"},\"title\":{\"font\":{\"color\":\"#4D5663\"},\"text\":\"\"},\"zerolinecolor\":\"#E1E5ED\"},\"yaxis\":{\"anchor\":\"x\",\"domain\":[0.7333333333333333,1.0],\"gridcolor\":\"#E1E5ED\",\"showgrid\":true,\"tickfont\":{\"color\":\"#4D5663\"},\"title\":{\"font\":{\"color\":\"#4D5663\"},\"text\":\"\"},\"zerolinecolor\":\"#E1E5ED\"},\"xaxis2\":{\"anchor\":\"y2\",\"domain\":[0.55,1.0],\"gridcolor\":\"#E1E5ED\",\"showgrid\":true,\"tickfont\":{\"color\":\"#4D5663\"},\"title\":{\"font\":{\"color\":\"#4D5663\"},\"text\":\"\"},\"zerolinecolor\":\"#E1E5ED\"},\"yaxis2\":{\"anchor\":\"x2\",\"domain\":[0.7333333333333333,1.0],\"gridcolor\":\"#E1E5ED\",\"showgrid\":true,\"tickfont\":{\"color\":\"#4D5663\"},\"title\":{\"font\":{\"color\":\"#4D5663\"},\"text\":\"\"},\"zerolinecolor\":\"#E1E5ED\"},\"xaxis3\":{\"anchor\":\"y3\",\"domain\":[0.0,0.45],\"gridcolor\":\"#E1E5ED\",\"showgrid\":true,\"tickfont\":{\"color\":\"#4D5663\"},\"title\":{\"font\":{\"color\":\"#4D5663\"},\"text\":\"\"},\"zerolinecolor\":\"#E1E5ED\"},\"yaxis3\":{\"anchor\":\"x3\",\"domain\":[0.36666666666666664,0.6333333333333333],\"gridcolor\":\"#E1E5ED\",\"showgrid\":true,\"tickfont\":{\"color\":\"#4D5663\"},\"title\":{\"font\":{\"color\":\"#4D5663\"},\"text\":\"\"},\"zerolinecolor\":\"#E1E5ED\"},\"xaxis4\":{\"anchor\":\"y4\",\"domain\":[0.55,1.0],\"gridcolor\":\"#E1E5ED\",\"showgrid\":true,\"tickfont\":{\"color\":\"#4D5663\"},\"title\":{\"font\":{\"color\":\"#4D5663\"},\"text\":\"\"},\"zerolinecolor\":\"#E1E5ED\"},\"yaxis4\":{\"anchor\":\"x4\",\"domain\":[0.36666666666666664,0.6333333333333333],\"gridcolor\":\"#E1E5ED\",\"showgrid\":true,\"tickfont\":{\"color\":\"#4D5663\"},\"title\":{\"font\":{\"color\":\"#4D5663\"},\"text\":\"\"},\"zerolinecolor\":\"#E1E5ED\"},\"xaxis5\":{\"anchor\":\"y5\",\"domain\":[0.0,0.45],\"gridcolor\":\"#E1E5ED\",\"showgrid\":true,\"tickfont\":{\"color\":\"#4D5663\"},\"title\":{\"font\":{\"color\":\"#4D5663\"},\"text\":\"\"},\"zerolinecolor\":\"#E1E5ED\"},\"yaxis5\":{\"anchor\":\"x5\",\"domain\":[0.0,0.26666666666666666],\"gridcolor\":\"#E1E5ED\",\"showgrid\":true,\"tickfont\":{\"color\":\"#4D5663\"},\"title\":{\"font\":{\"color\":\"#4D5663\"},\"text\":\"\"},\"zerolinecolor\":\"#E1E5ED\"}},                        {\"showLink\": true, \"linkText\": \"Export to plot.ly\", \"plotlyServerURL\": \"https://plot.ly\", \"responsive\": true}                    ).then(function(){\n",
       "                            \n",
       "var gd = document.getElementById('99de3968-dcc4-473d-9746-75127a8cbcba');\n",
       "var x = new MutationObserver(function (mutations, observer) {{\n",
       "        var display = window.getComputedStyle(gd).display;\n",
       "        if (!display || display === 'none') {{\n",
       "            console.log([gd, 'removed!']);\n",
       "            Plotly.purge(gd);\n",
       "            observer.disconnect();\n",
       "        }}\n",
       "}});\n",
       "\n",
       "// Listen for the removal of the full notebook cells\n",
       "var notebookContainer = gd.closest('#notebook-container');\n",
       "if (notebookContainer) {{\n",
       "    x.observe(notebookContainer, {childList: true});\n",
       "}}\n",
       "\n",
       "// Listen for the clearing of the current output cell\n",
       "var outputEl = gd.closest('.output');\n",
       "if (outputEl) {{\n",
       "    x.observe(outputEl, {childList: true});\n",
       "}}\n",
       "\n",
       "                        })                };                });            </script>        </div>"
      ]
     },
     "metadata": {},
     "output_type": "display_data"
    }
   ],
   "source": [
    "# Plot log normal distribution of Nifty Index returns\n",
    "daily_returns.iplot(kind='histogram', title = 'Histogram of Daily Returns', subplots=True)"
   ]
  },
  {
   "cell_type": "markdown",
   "metadata": {},
   "source": [
    "## Correlation\n",
    "Correlation defines the similarity between two random variables. As an example we will check correlation between the FAANG stocks."
   ]
  },
  {
   "cell_type": "code",
   "execution_count": 66,
   "metadata": {},
   "outputs": [
    {
     "data": {
      "application/vnd.plotly.v1+json": {
       "config": {
        "linkText": "Export to plot.ly",
        "plotlyServerURL": "https://plot.ly",
        "showLink": true
       },
       "data": [
        {
         "colorscale": [
          [
           0,
           "rgb(247,251,255)"
          ],
          [
           0.125,
           "rgb(222,235,247)"
          ],
          [
           0.25,
           "rgb(198,219,239)"
          ],
          [
           0.375,
           "rgb(158,202,225)"
          ],
          [
           0.5,
           "rgb(107,174,214)"
          ],
          [
           0.625,
           "rgb(66,146,198)"
          ],
          [
           0.75,
           "rgb(33,113,181)"
          ],
          [
           0.875,
           "rgb(8,81,156)"
          ],
          [
           1,
           "rgb(8,48,107)"
          ]
         ],
         "type": "heatmap",
         "x": [
          "AAPL",
          "AMZN",
          "GOOG",
          "MSFT",
          "NFLX"
         ],
         "y": [
          "AAPL",
          "AMZN",
          "GOOG",
          "MSFT",
          "NFLX"
         ],
         "z": [
          [
           1,
           0.47145408298197905,
           0.6899446845111833,
           0.5822127755804479,
           0.41547673405232566
          ],
          [
           0.47145408298197905,
           1,
           0.7083096115755064,
           0.7038426693138351,
           0.37654543390322204
          ],
          [
           0.6899446845111833,
           0.7083096115755064,
           1,
           0.6798169969616975,
           0.28252930666030235
          ],
          [
           0.5822127755804479,
           0.7038426693138351,
           0.6798169969616975,
           1,
           0.3161141399367055
          ],
          [
           0.41547673405232566,
           0.37654543390322204,
           0.28252930666030235,
           0.3161141399367055,
           1
          ]
         ],
         "zmax": 1,
         "zmin": 0.28252930666030235
        }
       ],
       "layout": {
        "legend": {
         "bgcolor": "#F5F6F9",
         "font": {
          "color": "#4D5663"
         }
        },
        "paper_bgcolor": "#F5F6F9",
        "plot_bgcolor": "#F5F6F9",
        "template": {
         "data": {
          "bar": [
           {
            "error_x": {
             "color": "#2a3f5f"
            },
            "error_y": {
             "color": "#2a3f5f"
            },
            "marker": {
             "line": {
              "color": "#E5ECF6",
              "width": 0.5
             },
             "pattern": {
              "fillmode": "overlay",
              "size": 10,
              "solidity": 0.2
             }
            },
            "type": "bar"
           }
          ],
          "barpolar": [
           {
            "marker": {
             "line": {
              "color": "#E5ECF6",
              "width": 0.5
             },
             "pattern": {
              "fillmode": "overlay",
              "size": 10,
              "solidity": 0.2
             }
            },
            "type": "barpolar"
           }
          ],
          "carpet": [
           {
            "aaxis": {
             "endlinecolor": "#2a3f5f",
             "gridcolor": "white",
             "linecolor": "white",
             "minorgridcolor": "white",
             "startlinecolor": "#2a3f5f"
            },
            "baxis": {
             "endlinecolor": "#2a3f5f",
             "gridcolor": "white",
             "linecolor": "white",
             "minorgridcolor": "white",
             "startlinecolor": "#2a3f5f"
            },
            "type": "carpet"
           }
          ],
          "choropleth": [
           {
            "colorbar": {
             "outlinewidth": 0,
             "ticks": ""
            },
            "type": "choropleth"
           }
          ],
          "contour": [
           {
            "colorbar": {
             "outlinewidth": 0,
             "ticks": ""
            },
            "colorscale": [
             [
              0,
              "#0d0887"
             ],
             [
              0.1111111111111111,
              "#46039f"
             ],
             [
              0.2222222222222222,
              "#7201a8"
             ],
             [
              0.3333333333333333,
              "#9c179e"
             ],
             [
              0.4444444444444444,
              "#bd3786"
             ],
             [
              0.5555555555555556,
              "#d8576b"
             ],
             [
              0.6666666666666666,
              "#ed7953"
             ],
             [
              0.7777777777777778,
              "#fb9f3a"
             ],
             [
              0.8888888888888888,
              "#fdca26"
             ],
             [
              1,
              "#f0f921"
             ]
            ],
            "type": "contour"
           }
          ],
          "contourcarpet": [
           {
            "colorbar": {
             "outlinewidth": 0,
             "ticks": ""
            },
            "type": "contourcarpet"
           }
          ],
          "heatmap": [
           {
            "colorbar": {
             "outlinewidth": 0,
             "ticks": ""
            },
            "colorscale": [
             [
              0,
              "#0d0887"
             ],
             [
              0.1111111111111111,
              "#46039f"
             ],
             [
              0.2222222222222222,
              "#7201a8"
             ],
             [
              0.3333333333333333,
              "#9c179e"
             ],
             [
              0.4444444444444444,
              "#bd3786"
             ],
             [
              0.5555555555555556,
              "#d8576b"
             ],
             [
              0.6666666666666666,
              "#ed7953"
             ],
             [
              0.7777777777777778,
              "#fb9f3a"
             ],
             [
              0.8888888888888888,
              "#fdca26"
             ],
             [
              1,
              "#f0f921"
             ]
            ],
            "type": "heatmap"
           }
          ],
          "heatmapgl": [
           {
            "colorbar": {
             "outlinewidth": 0,
             "ticks": ""
            },
            "colorscale": [
             [
              0,
              "#0d0887"
             ],
             [
              0.1111111111111111,
              "#46039f"
             ],
             [
              0.2222222222222222,
              "#7201a8"
             ],
             [
              0.3333333333333333,
              "#9c179e"
             ],
             [
              0.4444444444444444,
              "#bd3786"
             ],
             [
              0.5555555555555556,
              "#d8576b"
             ],
             [
              0.6666666666666666,
              "#ed7953"
             ],
             [
              0.7777777777777778,
              "#fb9f3a"
             ],
             [
              0.8888888888888888,
              "#fdca26"
             ],
             [
              1,
              "#f0f921"
             ]
            ],
            "type": "heatmapgl"
           }
          ],
          "histogram": [
           {
            "marker": {
             "pattern": {
              "fillmode": "overlay",
              "size": 10,
              "solidity": 0.2
             }
            },
            "type": "histogram"
           }
          ],
          "histogram2d": [
           {
            "colorbar": {
             "outlinewidth": 0,
             "ticks": ""
            },
            "colorscale": [
             [
              0,
              "#0d0887"
             ],
             [
              0.1111111111111111,
              "#46039f"
             ],
             [
              0.2222222222222222,
              "#7201a8"
             ],
             [
              0.3333333333333333,
              "#9c179e"
             ],
             [
              0.4444444444444444,
              "#bd3786"
             ],
             [
              0.5555555555555556,
              "#d8576b"
             ],
             [
              0.6666666666666666,
              "#ed7953"
             ],
             [
              0.7777777777777778,
              "#fb9f3a"
             ],
             [
              0.8888888888888888,
              "#fdca26"
             ],
             [
              1,
              "#f0f921"
             ]
            ],
            "type": "histogram2d"
           }
          ],
          "histogram2dcontour": [
           {
            "colorbar": {
             "outlinewidth": 0,
             "ticks": ""
            },
            "colorscale": [
             [
              0,
              "#0d0887"
             ],
             [
              0.1111111111111111,
              "#46039f"
             ],
             [
              0.2222222222222222,
              "#7201a8"
             ],
             [
              0.3333333333333333,
              "#9c179e"
             ],
             [
              0.4444444444444444,
              "#bd3786"
             ],
             [
              0.5555555555555556,
              "#d8576b"
             ],
             [
              0.6666666666666666,
              "#ed7953"
             ],
             [
              0.7777777777777778,
              "#fb9f3a"
             ],
             [
              0.8888888888888888,
              "#fdca26"
             ],
             [
              1,
              "#f0f921"
             ]
            ],
            "type": "histogram2dcontour"
           }
          ],
          "mesh3d": [
           {
            "colorbar": {
             "outlinewidth": 0,
             "ticks": ""
            },
            "type": "mesh3d"
           }
          ],
          "parcoords": [
           {
            "line": {
             "colorbar": {
              "outlinewidth": 0,
              "ticks": ""
             }
            },
            "type": "parcoords"
           }
          ],
          "pie": [
           {
            "automargin": true,
            "type": "pie"
           }
          ],
          "scatter": [
           {
            "fillpattern": {
             "fillmode": "overlay",
             "size": 10,
             "solidity": 0.2
            },
            "type": "scatter"
           }
          ],
          "scatter3d": [
           {
            "line": {
             "colorbar": {
              "outlinewidth": 0,
              "ticks": ""
             }
            },
            "marker": {
             "colorbar": {
              "outlinewidth": 0,
              "ticks": ""
             }
            },
            "type": "scatter3d"
           }
          ],
          "scattercarpet": [
           {
            "marker": {
             "colorbar": {
              "outlinewidth": 0,
              "ticks": ""
             }
            },
            "type": "scattercarpet"
           }
          ],
          "scattergeo": [
           {
            "marker": {
             "colorbar": {
              "outlinewidth": 0,
              "ticks": ""
             }
            },
            "type": "scattergeo"
           }
          ],
          "scattergl": [
           {
            "marker": {
             "colorbar": {
              "outlinewidth": 0,
              "ticks": ""
             }
            },
            "type": "scattergl"
           }
          ],
          "scattermapbox": [
           {
            "marker": {
             "colorbar": {
              "outlinewidth": 0,
              "ticks": ""
             }
            },
            "type": "scattermapbox"
           }
          ],
          "scatterpolar": [
           {
            "marker": {
             "colorbar": {
              "outlinewidth": 0,
              "ticks": ""
             }
            },
            "type": "scatterpolar"
           }
          ],
          "scatterpolargl": [
           {
            "marker": {
             "colorbar": {
              "outlinewidth": 0,
              "ticks": ""
             }
            },
            "type": "scatterpolargl"
           }
          ],
          "scatterternary": [
           {
            "marker": {
             "colorbar": {
              "outlinewidth": 0,
              "ticks": ""
             }
            },
            "type": "scatterternary"
           }
          ],
          "surface": [
           {
            "colorbar": {
             "outlinewidth": 0,
             "ticks": ""
            },
            "colorscale": [
             [
              0,
              "#0d0887"
             ],
             [
              0.1111111111111111,
              "#46039f"
             ],
             [
              0.2222222222222222,
              "#7201a8"
             ],
             [
              0.3333333333333333,
              "#9c179e"
             ],
             [
              0.4444444444444444,
              "#bd3786"
             ],
             [
              0.5555555555555556,
              "#d8576b"
             ],
             [
              0.6666666666666666,
              "#ed7953"
             ],
             [
              0.7777777777777778,
              "#fb9f3a"
             ],
             [
              0.8888888888888888,
              "#fdca26"
             ],
             [
              1,
              "#f0f921"
             ]
            ],
            "type": "surface"
           }
          ],
          "table": [
           {
            "cells": {
             "fill": {
              "color": "#EBF0F8"
             },
             "line": {
              "color": "white"
             }
            },
            "header": {
             "fill": {
              "color": "#C8D4E3"
             },
             "line": {
              "color": "white"
             }
            },
            "type": "table"
           }
          ]
         },
         "layout": {
          "annotationdefaults": {
           "arrowcolor": "#2a3f5f",
           "arrowhead": 0,
           "arrowwidth": 1
          },
          "autotypenumbers": "strict",
          "coloraxis": {
           "colorbar": {
            "outlinewidth": 0,
            "ticks": ""
           }
          },
          "colorscale": {
           "diverging": [
            [
             0,
             "#8e0152"
            ],
            [
             0.1,
             "#c51b7d"
            ],
            [
             0.2,
             "#de77ae"
            ],
            [
             0.3,
             "#f1b6da"
            ],
            [
             0.4,
             "#fde0ef"
            ],
            [
             0.5,
             "#f7f7f7"
            ],
            [
             0.6,
             "#e6f5d0"
            ],
            [
             0.7,
             "#b8e186"
            ],
            [
             0.8,
             "#7fbc41"
            ],
            [
             0.9,
             "#4d9221"
            ],
            [
             1,
             "#276419"
            ]
           ],
           "sequential": [
            [
             0,
             "#0d0887"
            ],
            [
             0.1111111111111111,
             "#46039f"
            ],
            [
             0.2222222222222222,
             "#7201a8"
            ],
            [
             0.3333333333333333,
             "#9c179e"
            ],
            [
             0.4444444444444444,
             "#bd3786"
            ],
            [
             0.5555555555555556,
             "#d8576b"
            ],
            [
             0.6666666666666666,
             "#ed7953"
            ],
            [
             0.7777777777777778,
             "#fb9f3a"
            ],
            [
             0.8888888888888888,
             "#fdca26"
            ],
            [
             1,
             "#f0f921"
            ]
           ],
           "sequentialminus": [
            [
             0,
             "#0d0887"
            ],
            [
             0.1111111111111111,
             "#46039f"
            ],
            [
             0.2222222222222222,
             "#7201a8"
            ],
            [
             0.3333333333333333,
             "#9c179e"
            ],
            [
             0.4444444444444444,
             "#bd3786"
            ],
            [
             0.5555555555555556,
             "#d8576b"
            ],
            [
             0.6666666666666666,
             "#ed7953"
            ],
            [
             0.7777777777777778,
             "#fb9f3a"
            ],
            [
             0.8888888888888888,
             "#fdca26"
            ],
            [
             1,
             "#f0f921"
            ]
           ]
          },
          "colorway": [
           "#636efa",
           "#EF553B",
           "#00cc96",
           "#ab63fa",
           "#FFA15A",
           "#19d3f3",
           "#FF6692",
           "#B6E880",
           "#FF97FF",
           "#FECB52"
          ],
          "font": {
           "color": "#2a3f5f"
          },
          "geo": {
           "bgcolor": "white",
           "lakecolor": "white",
           "landcolor": "#E5ECF6",
           "showlakes": true,
           "showland": true,
           "subunitcolor": "white"
          },
          "hoverlabel": {
           "align": "left"
          },
          "hovermode": "closest",
          "mapbox": {
           "style": "light"
          },
          "paper_bgcolor": "white",
          "plot_bgcolor": "#E5ECF6",
          "polar": {
           "angularaxis": {
            "gridcolor": "white",
            "linecolor": "white",
            "ticks": ""
           },
           "bgcolor": "#E5ECF6",
           "radialaxis": {
            "gridcolor": "white",
            "linecolor": "white",
            "ticks": ""
           }
          },
          "scene": {
           "xaxis": {
            "backgroundcolor": "#E5ECF6",
            "gridcolor": "white",
            "gridwidth": 2,
            "linecolor": "white",
            "showbackground": true,
            "ticks": "",
            "zerolinecolor": "white"
           },
           "yaxis": {
            "backgroundcolor": "#E5ECF6",
            "gridcolor": "white",
            "gridwidth": 2,
            "linecolor": "white",
            "showbackground": true,
            "ticks": "",
            "zerolinecolor": "white"
           },
           "zaxis": {
            "backgroundcolor": "#E5ECF6",
            "gridcolor": "white",
            "gridwidth": 2,
            "linecolor": "white",
            "showbackground": true,
            "ticks": "",
            "zerolinecolor": "white"
           }
          },
          "shapedefaults": {
           "line": {
            "color": "#2a3f5f"
           }
          },
          "ternary": {
           "aaxis": {
            "gridcolor": "white",
            "linecolor": "white",
            "ticks": ""
           },
           "baxis": {
            "gridcolor": "white",
            "linecolor": "white",
            "ticks": ""
           },
           "bgcolor": "#E5ECF6",
           "caxis": {
            "gridcolor": "white",
            "linecolor": "white",
            "ticks": ""
           }
          },
          "title": {
           "x": 0.05
          },
          "xaxis": {
           "automargin": true,
           "gridcolor": "white",
           "linecolor": "white",
           "ticks": "",
           "title": {
            "standoff": 15
           },
           "zerolinecolor": "white",
           "zerolinewidth": 2
          },
          "yaxis": {
           "automargin": true,
           "gridcolor": "white",
           "linecolor": "white",
           "ticks": "",
           "title": {
            "standoff": 15
           },
           "zerolinecolor": "white",
           "zerolinewidth": 2
          }
         }
        },
        "title": {
         "font": {
          "color": "#4D5663"
         },
         "text": "Correlation Matrix"
        },
        "xaxis": {
         "gridcolor": "#E1E5ED",
         "showgrid": true,
         "tickfont": {
          "color": "#4D5663"
         },
         "title": {
          "font": {
           "color": "#4D5663"
          },
          "text": ""
         },
         "zerolinecolor": "#E1E5ED"
        },
        "yaxis": {
         "gridcolor": "#E1E5ED",
         "showgrid": true,
         "tickfont": {
          "color": "#4D5663"
         },
         "title": {
          "font": {
           "color": "#4D5663"
          },
          "text": ""
         },
         "zerolinecolor": "#E1E5ED"
        }
       }
      },
      "text/html": [
       "<div>                            <div id=\"103170ff-ad52-4d42-b684-311845b5a728\" class=\"plotly-graph-div\" style=\"height:525px; width:100%;\"></div>            <script type=\"text/javascript\">                require([\"plotly\"], function(Plotly) {                    window.PLOTLYENV=window.PLOTLYENV || {};\n",
       "                    window.PLOTLYENV.BASE_URL='https://plot.ly';                                    if (document.getElementById(\"103170ff-ad52-4d42-b684-311845b5a728\")) {                    Plotly.newPlot(                        \"103170ff-ad52-4d42-b684-311845b5a728\",                        [{\"colorscale\":[[0.0,\"rgb(247,251,255)\"],[0.125,\"rgb(222,235,247)\"],[0.25,\"rgb(198,219,239)\"],[0.375,\"rgb(158,202,225)\"],[0.5,\"rgb(107,174,214)\"],[0.625,\"rgb(66,146,198)\"],[0.75,\"rgb(33,113,181)\"],[0.875,\"rgb(8,81,156)\"],[1.0,\"rgb(8,48,107)\"]],\"x\":[\"AAPL\",\"AMZN\",\"GOOG\",\"MSFT\",\"NFLX\"],\"y\":[\"AAPL\",\"AMZN\",\"GOOG\",\"MSFT\",\"NFLX\"],\"z\":[[1.0,0.47145408298197905,0.6899446845111833,0.5822127755804479,0.41547673405232566],[0.47145408298197905,1.0,0.7083096115755064,0.7038426693138351,0.37654543390322204],[0.6899446845111833,0.7083096115755064,1.0,0.6798169969616975,0.28252930666030235],[0.5822127755804479,0.7038426693138351,0.6798169969616975,1.0,0.3161141399367055],[0.41547673405232566,0.37654543390322204,0.28252930666030235,0.3161141399367055,1.0]],\"zmax\":1.0,\"zmin\":0.28252930666030235,\"type\":\"heatmap\"}],                        {\"legend\":{\"bgcolor\":\"#F5F6F9\",\"font\":{\"color\":\"#4D5663\"}},\"paper_bgcolor\":\"#F5F6F9\",\"plot_bgcolor\":\"#F5F6F9\",\"template\":{\"data\":{\"barpolar\":[{\"marker\":{\"line\":{\"color\":\"#E5ECF6\",\"width\":0.5},\"pattern\":{\"fillmode\":\"overlay\",\"size\":10,\"solidity\":0.2}},\"type\":\"barpolar\"}],\"bar\":[{\"error_x\":{\"color\":\"#2a3f5f\"},\"error_y\":{\"color\":\"#2a3f5f\"},\"marker\":{\"line\":{\"color\":\"#E5ECF6\",\"width\":0.5},\"pattern\":{\"fillmode\":\"overlay\",\"size\":10,\"solidity\":0.2}},\"type\":\"bar\"}],\"carpet\":[{\"aaxis\":{\"endlinecolor\":\"#2a3f5f\",\"gridcolor\":\"white\",\"linecolor\":\"white\",\"minorgridcolor\":\"white\",\"startlinecolor\":\"#2a3f5f\"},\"baxis\":{\"endlinecolor\":\"#2a3f5f\",\"gridcolor\":\"white\",\"linecolor\":\"white\",\"minorgridcolor\":\"white\",\"startlinecolor\":\"#2a3f5f\"},\"type\":\"carpet\"}],\"choropleth\":[{\"colorbar\":{\"outlinewidth\":0,\"ticks\":\"\"},\"type\":\"choropleth\"}],\"contourcarpet\":[{\"colorbar\":{\"outlinewidth\":0,\"ticks\":\"\"},\"type\":\"contourcarpet\"}],\"contour\":[{\"colorbar\":{\"outlinewidth\":0,\"ticks\":\"\"},\"colorscale\":[[0.0,\"#0d0887\"],[0.1111111111111111,\"#46039f\"],[0.2222222222222222,\"#7201a8\"],[0.3333333333333333,\"#9c179e\"],[0.4444444444444444,\"#bd3786\"],[0.5555555555555556,\"#d8576b\"],[0.6666666666666666,\"#ed7953\"],[0.7777777777777778,\"#fb9f3a\"],[0.8888888888888888,\"#fdca26\"],[1.0,\"#f0f921\"]],\"type\":\"contour\"}],\"heatmapgl\":[{\"colorbar\":{\"outlinewidth\":0,\"ticks\":\"\"},\"colorscale\":[[0.0,\"#0d0887\"],[0.1111111111111111,\"#46039f\"],[0.2222222222222222,\"#7201a8\"],[0.3333333333333333,\"#9c179e\"],[0.4444444444444444,\"#bd3786\"],[0.5555555555555556,\"#d8576b\"],[0.6666666666666666,\"#ed7953\"],[0.7777777777777778,\"#fb9f3a\"],[0.8888888888888888,\"#fdca26\"],[1.0,\"#f0f921\"]],\"type\":\"heatmapgl\"}],\"heatmap\":[{\"colorbar\":{\"outlinewidth\":0,\"ticks\":\"\"},\"colorscale\":[[0.0,\"#0d0887\"],[0.1111111111111111,\"#46039f\"],[0.2222222222222222,\"#7201a8\"],[0.3333333333333333,\"#9c179e\"],[0.4444444444444444,\"#bd3786\"],[0.5555555555555556,\"#d8576b\"],[0.6666666666666666,\"#ed7953\"],[0.7777777777777778,\"#fb9f3a\"],[0.8888888888888888,\"#fdca26\"],[1.0,\"#f0f921\"]],\"type\":\"heatmap\"}],\"histogram2dcontour\":[{\"colorbar\":{\"outlinewidth\":0,\"ticks\":\"\"},\"colorscale\":[[0.0,\"#0d0887\"],[0.1111111111111111,\"#46039f\"],[0.2222222222222222,\"#7201a8\"],[0.3333333333333333,\"#9c179e\"],[0.4444444444444444,\"#bd3786\"],[0.5555555555555556,\"#d8576b\"],[0.6666666666666666,\"#ed7953\"],[0.7777777777777778,\"#fb9f3a\"],[0.8888888888888888,\"#fdca26\"],[1.0,\"#f0f921\"]],\"type\":\"histogram2dcontour\"}],\"histogram2d\":[{\"colorbar\":{\"outlinewidth\":0,\"ticks\":\"\"},\"colorscale\":[[0.0,\"#0d0887\"],[0.1111111111111111,\"#46039f\"],[0.2222222222222222,\"#7201a8\"],[0.3333333333333333,\"#9c179e\"],[0.4444444444444444,\"#bd3786\"],[0.5555555555555556,\"#d8576b\"],[0.6666666666666666,\"#ed7953\"],[0.7777777777777778,\"#fb9f3a\"],[0.8888888888888888,\"#fdca26\"],[1.0,\"#f0f921\"]],\"type\":\"histogram2d\"}],\"histogram\":[{\"marker\":{\"pattern\":{\"fillmode\":\"overlay\",\"size\":10,\"solidity\":0.2}},\"type\":\"histogram\"}],\"mesh3d\":[{\"colorbar\":{\"outlinewidth\":0,\"ticks\":\"\"},\"type\":\"mesh3d\"}],\"parcoords\":[{\"line\":{\"colorbar\":{\"outlinewidth\":0,\"ticks\":\"\"}},\"type\":\"parcoords\"}],\"pie\":[{\"automargin\":true,\"type\":\"pie\"}],\"scatter3d\":[{\"line\":{\"colorbar\":{\"outlinewidth\":0,\"ticks\":\"\"}},\"marker\":{\"colorbar\":{\"outlinewidth\":0,\"ticks\":\"\"}},\"type\":\"scatter3d\"}],\"scattercarpet\":[{\"marker\":{\"colorbar\":{\"outlinewidth\":0,\"ticks\":\"\"}},\"type\":\"scattercarpet\"}],\"scattergeo\":[{\"marker\":{\"colorbar\":{\"outlinewidth\":0,\"ticks\":\"\"}},\"type\":\"scattergeo\"}],\"scattergl\":[{\"marker\":{\"colorbar\":{\"outlinewidth\":0,\"ticks\":\"\"}},\"type\":\"scattergl\"}],\"scattermapbox\":[{\"marker\":{\"colorbar\":{\"outlinewidth\":0,\"ticks\":\"\"}},\"type\":\"scattermapbox\"}],\"scatterpolargl\":[{\"marker\":{\"colorbar\":{\"outlinewidth\":0,\"ticks\":\"\"}},\"type\":\"scatterpolargl\"}],\"scatterpolar\":[{\"marker\":{\"colorbar\":{\"outlinewidth\":0,\"ticks\":\"\"}},\"type\":\"scatterpolar\"}],\"scatter\":[{\"fillpattern\":{\"fillmode\":\"overlay\",\"size\":10,\"solidity\":0.2},\"type\":\"scatter\"}],\"scatterternary\":[{\"marker\":{\"colorbar\":{\"outlinewidth\":0,\"ticks\":\"\"}},\"type\":\"scatterternary\"}],\"surface\":[{\"colorbar\":{\"outlinewidth\":0,\"ticks\":\"\"},\"colorscale\":[[0.0,\"#0d0887\"],[0.1111111111111111,\"#46039f\"],[0.2222222222222222,\"#7201a8\"],[0.3333333333333333,\"#9c179e\"],[0.4444444444444444,\"#bd3786\"],[0.5555555555555556,\"#d8576b\"],[0.6666666666666666,\"#ed7953\"],[0.7777777777777778,\"#fb9f3a\"],[0.8888888888888888,\"#fdca26\"],[1.0,\"#f0f921\"]],\"type\":\"surface\"}],\"table\":[{\"cells\":{\"fill\":{\"color\":\"#EBF0F8\"},\"line\":{\"color\":\"white\"}},\"header\":{\"fill\":{\"color\":\"#C8D4E3\"},\"line\":{\"color\":\"white\"}},\"type\":\"table\"}]},\"layout\":{\"annotationdefaults\":{\"arrowcolor\":\"#2a3f5f\",\"arrowhead\":0,\"arrowwidth\":1},\"autotypenumbers\":\"strict\",\"coloraxis\":{\"colorbar\":{\"outlinewidth\":0,\"ticks\":\"\"}},\"colorscale\":{\"diverging\":[[0,\"#8e0152\"],[0.1,\"#c51b7d\"],[0.2,\"#de77ae\"],[0.3,\"#f1b6da\"],[0.4,\"#fde0ef\"],[0.5,\"#f7f7f7\"],[0.6,\"#e6f5d0\"],[0.7,\"#b8e186\"],[0.8,\"#7fbc41\"],[0.9,\"#4d9221\"],[1,\"#276419\"]],\"sequential\":[[0.0,\"#0d0887\"],[0.1111111111111111,\"#46039f\"],[0.2222222222222222,\"#7201a8\"],[0.3333333333333333,\"#9c179e\"],[0.4444444444444444,\"#bd3786\"],[0.5555555555555556,\"#d8576b\"],[0.6666666666666666,\"#ed7953\"],[0.7777777777777778,\"#fb9f3a\"],[0.8888888888888888,\"#fdca26\"],[1.0,\"#f0f921\"]],\"sequentialminus\":[[0.0,\"#0d0887\"],[0.1111111111111111,\"#46039f\"],[0.2222222222222222,\"#7201a8\"],[0.3333333333333333,\"#9c179e\"],[0.4444444444444444,\"#bd3786\"],[0.5555555555555556,\"#d8576b\"],[0.6666666666666666,\"#ed7953\"],[0.7777777777777778,\"#fb9f3a\"],[0.8888888888888888,\"#fdca26\"],[1.0,\"#f0f921\"]]},\"colorway\":[\"#636efa\",\"#EF553B\",\"#00cc96\",\"#ab63fa\",\"#FFA15A\",\"#19d3f3\",\"#FF6692\",\"#B6E880\",\"#FF97FF\",\"#FECB52\"],\"font\":{\"color\":\"#2a3f5f\"},\"geo\":{\"bgcolor\":\"white\",\"lakecolor\":\"white\",\"landcolor\":\"#E5ECF6\",\"showlakes\":true,\"showland\":true,\"subunitcolor\":\"white\"},\"hoverlabel\":{\"align\":\"left\"},\"hovermode\":\"closest\",\"mapbox\":{\"style\":\"light\"},\"paper_bgcolor\":\"white\",\"plot_bgcolor\":\"#E5ECF6\",\"polar\":{\"angularaxis\":{\"gridcolor\":\"white\",\"linecolor\":\"white\",\"ticks\":\"\"},\"bgcolor\":\"#E5ECF6\",\"radialaxis\":{\"gridcolor\":\"white\",\"linecolor\":\"white\",\"ticks\":\"\"}},\"scene\":{\"xaxis\":{\"backgroundcolor\":\"#E5ECF6\",\"gridcolor\":\"white\",\"gridwidth\":2,\"linecolor\":\"white\",\"showbackground\":true,\"ticks\":\"\",\"zerolinecolor\":\"white\"},\"yaxis\":{\"backgroundcolor\":\"#E5ECF6\",\"gridcolor\":\"white\",\"gridwidth\":2,\"linecolor\":\"white\",\"showbackground\":true,\"ticks\":\"\",\"zerolinecolor\":\"white\"},\"zaxis\":{\"backgroundcolor\":\"#E5ECF6\",\"gridcolor\":\"white\",\"gridwidth\":2,\"linecolor\":\"white\",\"showbackground\":true,\"ticks\":\"\",\"zerolinecolor\":\"white\"}},\"shapedefaults\":{\"line\":{\"color\":\"#2a3f5f\"}},\"ternary\":{\"aaxis\":{\"gridcolor\":\"white\",\"linecolor\":\"white\",\"ticks\":\"\"},\"baxis\":{\"gridcolor\":\"white\",\"linecolor\":\"white\",\"ticks\":\"\"},\"bgcolor\":\"#E5ECF6\",\"caxis\":{\"gridcolor\":\"white\",\"linecolor\":\"white\",\"ticks\":\"\"}},\"title\":{\"x\":0.05},\"xaxis\":{\"automargin\":true,\"gridcolor\":\"white\",\"linecolor\":\"white\",\"ticks\":\"\",\"title\":{\"standoff\":15},\"zerolinecolor\":\"white\",\"zerolinewidth\":2},\"yaxis\":{\"automargin\":true,\"gridcolor\":\"white\",\"linecolor\":\"white\",\"ticks\":\"\",\"title\":{\"standoff\":15},\"zerolinecolor\":\"white\",\"zerolinewidth\":2}}},\"title\":{\"font\":{\"color\":\"#4D5663\"},\"text\":\"Correlation Matrix\"},\"xaxis\":{\"gridcolor\":\"#E1E5ED\",\"showgrid\":true,\"tickfont\":{\"color\":\"#4D5663\"},\"title\":{\"font\":{\"color\":\"#4D5663\"},\"text\":\"\"},\"zerolinecolor\":\"#E1E5ED\"},\"yaxis\":{\"gridcolor\":\"#E1E5ED\",\"showgrid\":true,\"tickfont\":{\"color\":\"#4D5663\"},\"title\":{\"font\":{\"color\":\"#4D5663\"},\"text\":\"\"},\"zerolinecolor\":\"#E1E5ED\"}},                        {\"showLink\": true, \"linkText\": \"Export to plot.ly\", \"plotlyServerURL\": \"https://plot.ly\", \"responsive\": true}                    ).then(function(){\n",
       "                            \n",
       "var gd = document.getElementById('103170ff-ad52-4d42-b684-311845b5a728');\n",
       "var x = new MutationObserver(function (mutations, observer) {{\n",
       "        var display = window.getComputedStyle(gd).display;\n",
       "        if (!display || display === 'none') {{\n",
       "            console.log([gd, 'removed!']);\n",
       "            Plotly.purge(gd);\n",
       "            observer.disconnect();\n",
       "        }}\n",
       "}});\n",
       "\n",
       "// Listen for the removal of the full notebook cells\n",
       "var notebookContainer = gd.closest('#notebook-container');\n",
       "if (notebookContainer) {{\n",
       "    x.observe(notebookContainer, {childList: true});\n",
       "}}\n",
       "\n",
       "// Listen for the clearing of the current output cell\n",
       "var outputEl = gd.closest('.output');\n",
       "if (outputEl) {{\n",
       "    x.observe(outputEl, {childList: true});\n",
       "}}\n",
       "\n",
       "                        })                };                });            </script>        </div>"
      ]
     },
     "metadata": {},
     "output_type": "display_data"
    }
   ],
   "source": [
    "# Calculate correlation of returns\n",
    "daily_returns.corr().iplot(kind='heatmap', title=\"Correlation Matrix\", colorscale=\"Blues\")"
   ]
  },
  {
   "attachments": {},
   "cell_type": "markdown",
   "metadata": {},
   "source": [
    "## Pairwise Correlation"
   ]
  },
  {
   "cell_type": "code",
   "execution_count": 70,
   "metadata": {},
   "outputs": [
    {
     "data": {
      "text/plain": [
       "AAPL    0.582213\n",
       "AMZN    0.703843\n",
       "GOOG    0.679817\n",
       "MSFT    1.000000\n",
       "NFLX    0.316114\n",
       "dtype: float64"
      ]
     },
     "execution_count": 70,
     "metadata": {},
     "output_type": "execute_result"
    }
   ],
   "source": [
    "## Compute pairwise correlation\n",
    "daily_returns.corrwith(daily_returns['MSFT'])"
   ]
  },
  {
   "attachments": {},
   "cell_type": "markdown",
   "metadata": {},
   "source": [
    "## Manipulating the Volatility Index Dataframe"
   ]
  },
  {
   "cell_type": "code",
   "execution_count": 71,
   "metadata": {},
   "outputs": [
    {
     "data": {
      "text/html": [
       "<div>\n",
       "<style scoped>\n",
       "    .dataframe tbody tr th:only-of-type {\n",
       "        vertical-align: middle;\n",
       "    }\n",
       "\n",
       "    .dataframe tbody tr th {\n",
       "        vertical-align: top;\n",
       "    }\n",
       "\n",
       "    .dataframe thead th {\n",
       "        text-align: right;\n",
       "    }\n",
       "</style>\n",
       "<table border=\"1\" class=\"dataframe\">\n",
       "  <thead>\n",
       "    <tr style=\"text-align: right;\">\n",
       "      <th></th>\n",
       "      <th>2018</th>\n",
       "      <th>2019</th>\n",
       "      <th>2020</th>\n",
       "      <th>2021</th>\n",
       "      <th>2022</th>\n",
       "      <th>2023</th>\n",
       "    </tr>\n",
       "  </thead>\n",
       "  <tbody>\n",
       "    <tr>\n",
       "      <th>0</th>\n",
       "      <td>NaN</td>\n",
       "      <td>NaN</td>\n",
       "      <td>NaN</td>\n",
       "      <td>NaN</td>\n",
       "      <td>16.60</td>\n",
       "      <td>16.60</td>\n",
       "    </tr>\n",
       "    <tr>\n",
       "      <th>1</th>\n",
       "      <td>20.60</td>\n",
       "      <td>23.22</td>\n",
       "      <td>12.47</td>\n",
       "      <td>26.97</td>\n",
       "      <td>16.91</td>\n",
       "      <td>22.90</td>\n",
       "    </tr>\n",
       "    <tr>\n",
       "      <th>2</th>\n",
       "      <td>20.02</td>\n",
       "      <td>25.45</td>\n",
       "      <td>14.02</td>\n",
       "      <td>25.34</td>\n",
       "      <td>19.73</td>\n",
       "      <td>22.01</td>\n",
       "    </tr>\n",
       "    <tr>\n",
       "      <th>3</th>\n",
       "      <td>18.72</td>\n",
       "      <td>21.38</td>\n",
       "      <td>13.85</td>\n",
       "      <td>25.07</td>\n",
       "      <td>19.61</td>\n",
       "      <td>22.46</td>\n",
       "    </tr>\n",
       "    <tr>\n",
       "      <th>4</th>\n",
       "      <td>16.49</td>\n",
       "      <td>21.40</td>\n",
       "      <td>13.79</td>\n",
       "      <td>22.37</td>\n",
       "      <td>18.76</td>\n",
       "      <td>21.13</td>\n",
       "    </tr>\n",
       "  </tbody>\n",
       "</table>\n",
       "</div>"
      ],
      "text/plain": [
       "    2018   2019   2020   2021   2022   2023\n",
       "0    NaN    NaN    NaN    NaN  16.60  16.60\n",
       "1  20.60  23.22  12.47  26.97  16.91  22.90\n",
       "2  20.02  25.45  14.02  25.34  19.73  22.01\n",
       "3  18.72  21.38  13.85  25.07  19.61  22.46\n",
       "4  16.49  21.40  13.79  22.37  18.76  21.13"
      ]
     },
     "execution_count": 71,
     "metadata": {},
     "output_type": "execute_result"
    }
   ],
   "source": [
    "# Retrive unique years from our data frame\n",
    "years = cboe_vix.index.year.unique()\n",
    "\n",
    "# Create an empty data frame\n",
    "newdf = pd.DataFrame()\n",
    "\n",
    "# Use generators to assign values to empty dataframe, reset and drop index\n",
    "for year in years:\n",
    "    newdf[year] = pd.Series(cboe_vix[cboe_vix.index.year==year]['VIXCLS']).reset_index(drop=True)\n",
    "\n",
    "# Fill missing values forward with latest values\n",
    "newdf = newdf.ffill(axis=1)\n",
    "\n",
    "# Display the first five rows of the data frame to check the results\n",
    "newdf.head()"
   ]
  },
  {
   "cell_type": "code",
   "execution_count": 72,
   "metadata": {},
   "outputs": [
    {
     "data": {
      "text/html": [
       "<div>\n",
       "<style scoped>\n",
       "    .dataframe tbody tr th:only-of-type {\n",
       "        vertical-align: middle;\n",
       "    }\n",
       "\n",
       "    .dataframe tbody tr th {\n",
       "        vertical-align: top;\n",
       "    }\n",
       "\n",
       "    .dataframe thead th {\n",
       "        text-align: right;\n",
       "    }\n",
       "</style>\n",
       "<table border=\"1\" class=\"dataframe\">\n",
       "  <thead>\n",
       "    <tr style=\"text-align: right;\">\n",
       "      <th></th>\n",
       "      <th>count</th>\n",
       "      <th>mean</th>\n",
       "      <th>std</th>\n",
       "      <th>min</th>\n",
       "      <th>25%</th>\n",
       "      <th>50%</th>\n",
       "      <th>75%</th>\n",
       "      <th>max</th>\n",
       "    </tr>\n",
       "  </thead>\n",
       "  <tbody>\n",
       "    <tr>\n",
       "      <th>2018</th>\n",
       "      <td>218.0</td>\n",
       "      <td>16.731789</td>\n",
       "      <td>4.515245</td>\n",
       "      <td>10.85</td>\n",
       "      <td>12.8600</td>\n",
       "      <td>15.800</td>\n",
       "      <td>19.9475</td>\n",
       "      <td>36.07</td>\n",
       "    </tr>\n",
       "    <tr>\n",
       "      <th>2019</th>\n",
       "      <td>225.0</td>\n",
       "      <td>15.697333</td>\n",
       "      <td>2.657710</td>\n",
       "      <td>12.01</td>\n",
       "      <td>13.5600</td>\n",
       "      <td>15.260</td>\n",
       "      <td>17.4200</td>\n",
       "      <td>25.45</td>\n",
       "    </tr>\n",
       "    <tr>\n",
       "      <th>2020</th>\n",
       "      <td>225.0</td>\n",
       "      <td>29.893156</td>\n",
       "      <td>13.007893</td>\n",
       "      <td>12.10</td>\n",
       "      <td>23.2700</td>\n",
       "      <td>27.620</td>\n",
       "      <td>33.6100</td>\n",
       "      <td>82.69</td>\n",
       "    </tr>\n",
       "    <tr>\n",
       "      <th>2021</th>\n",
       "      <td>225.0</td>\n",
       "      <td>19.713689</td>\n",
       "      <td>4.475813</td>\n",
       "      <td>12.32</td>\n",
       "      <td>16.7900</td>\n",
       "      <td>18.630</td>\n",
       "      <td>21.5600</td>\n",
       "      <td>57.06</td>\n",
       "    </tr>\n",
       "    <tr>\n",
       "      <th>2022</th>\n",
       "      <td>226.0</td>\n",
       "      <td>26.120796</td>\n",
       "      <td>4.230937</td>\n",
       "      <td>16.57</td>\n",
       "      <td>22.9625</td>\n",
       "      <td>26.085</td>\n",
       "      <td>29.5775</td>\n",
       "      <td>36.45</td>\n",
       "    </tr>\n",
       "    <tr>\n",
       "      <th>2023</th>\n",
       "      <td>226.0</td>\n",
       "      <td>25.546239</td>\n",
       "      <td>4.503150</td>\n",
       "      <td>16.57</td>\n",
       "      <td>21.7725</td>\n",
       "      <td>25.705</td>\n",
       "      <td>29.2050</td>\n",
       "      <td>36.45</td>\n",
       "    </tr>\n",
       "  </tbody>\n",
       "</table>\n",
       "</div>"
      ],
      "text/plain": [
       "      count       mean        std    min      25%     50%      75%    max\n",
       "2018  218.0  16.731789   4.515245  10.85  12.8600  15.800  19.9475  36.07\n",
       "2019  225.0  15.697333   2.657710  12.01  13.5600  15.260  17.4200  25.45\n",
       "2020  225.0  29.893156  13.007893  12.10  23.2700  27.620  33.6100  82.69\n",
       "2021  225.0  19.713689   4.475813  12.32  16.7900  18.630  21.5600  57.06\n",
       "2022  226.0  26.120796   4.230937  16.57  22.9625  26.085  29.5775  36.45\n",
       "2023  226.0  25.546239   4.503150  16.57  21.7725  25.705  29.2050  36.45"
      ]
     },
     "execution_count": 72,
     "metadata": {},
     "output_type": "execute_result"
    }
   ],
   "source": [
    "# Analysing year wise statistics for India Volatility Index\n",
    "newdf.describe().T"
   ]
  },
  {
   "attachments": {},
   "cell_type": "markdown",
   "metadata": {},
   "source": [
    "## Box Plot\n",
    "In descriptive statistics, a box plot is a method for graphically depicting groups of numerical data through their quartiles. The spacing between the different parts of the box indicates the degree of dispersion (spread) and skewness in the data and show outliers. Let’s now analyze the CBOE Volatility Index using a box plot."
   ]
  },
  {
   "cell_type": "code",
   "execution_count": 73,
   "metadata": {},
   "outputs": [
    {
     "data": {
      "application/vnd.plotly.v1+json": {
       "config": {
        "linkText": "Export to plot.ly",
        "plotlyServerURL": "https://plot.ly",
        "showLink": true
       },
       "data": [
        {
         "boxpoints": "outliers",
         "line": {
          "width": 1.3
         },
         "marker": {
          "color": "rgba(255, 153, 51, 1.0)"
         },
         "name": "2018",
         "orientation": "v",
         "type": "box",
         "y": [
          null,
          20.6,
          20.02,
          18.72,
          16.49,
          15.8,
          18.59,
          19.85,
          22.47,
          19.59,
          18.73,
          18.36,
          17.76,
          16.54,
          14.64,
          15.78,
          16.35,
          17.23,
          16.59,
          15.8,
          19.02,
          18.2,
          17.86,
          23.34,
          24.87,
          21.03,
          22.5,
          22.87,
          19.97,
          null,
          23.62,
          21.1,
          20.06,
          18.94,
          21.49,
          21.77,
          20.47,
          20.24,
          18.49,
          17.41,
          16.56,
          15.25,
          15.6,
          15.96,
          16.88,
          16.34,
          18.02,
          17.84,
          16.24,
          15.41,
          15.93,
          15.49,
          15.97,
          15.9,
          14.77,
          14.75,
          14.71,
          13.42,
          13.23,
          12.65,
          12.93,
          14.63,
          13.42,
          13.43,
          13.42,
          13.08,
          13.22,
          12.58,
          12.53,
          13.22,
          null,
          17.02,
          14.94,
          15.43,
          13.46,
          12.74,
          12.4,
          11.64,
          12.13,
          12.18,
          12.35,
          12.34,
          12.94,
          12.12,
          11.98,
          12.31,
          13.35,
          12.79,
          14.64,
          13.77,
          17.33,
          15.92,
          17.91,
          16.85,
          16.09,
          15.6,
          16.14,
          null,
          14.97,
          13.37,
          12.69,
          12.64,
          13.63,
          12.58,
          12.18,
          12.83,
          12.06,
          12.1,
          12.87,
          12.86,
          12.62,
          12.41,
          12.29,
          12.14,
          13.03,
          14.26,
          12.83,
          13.15,
          12.19,
          11.64,
          11.27,
          10.93,
          10.85,
          11.27,
          13.16,
          14.78,
          13.31,
          14.64,
          13.45,
          12.64,
          12.49,
          12.86,
          12.25,
          12.41,
          11.99,
          12.16,
          12.5,
          12.25,
          13.53,
          12.86,
          null,
          13.16,
          13.91,
          14.65,
          14.88,
          14.16,
          13.22,
          13.14,
          12.37,
          12.07,
          13.68,
          12.79,
          11.75,
          11.8,
          11.68,
          12.2,
          12.42,
          12.89,
          12.41,
          12.12,
          12,
          12.05,
          11.61,
          14.22,
          14.82,
          15.69,
          15.95,
          22.96,
          24.98,
          21.31,
          21.3,
          17.62,
          17.4,
          20.06,
          19.89,
          19.64,
          20.71,
          25.23,
          24.22,
          24.16,
          24.7,
          23.35,
          21.23,
          19.34,
          19.51,
          19.96,
          19.91,
          16.36,
          16.72,
          17.36,
          20.45,
          20.02,
          21.25,
          19.98,
          18.14,
          20.1,
          22.48,
          20.8,
          null,
          21.52,
          18.9,
          19.02,
          18.49,
          18.79,
          18.07,
          16.44,
          20.74,
          null,
          21.19,
          23.23,
          22.64,
          21.76,
          21.46,
          20.65,
          21.63,
          24.52,
          25.58,
          25.58,
          28.38,
          30.11,
          36.07,
          null,
          30.41,
          29.96,
          28.34,
          25.42
         ]
        },
        {
         "boxpoints": "outliers",
         "line": {
          "width": 1.3
         },
         "marker": {
          "color": "rgba(55, 128, 191, 1.0)"
         },
         "name": "2019",
         "orientation": "v",
         "type": "box",
         "y": [
          null,
          23.22,
          25.45,
          21.38,
          21.4,
          20.47,
          19.98,
          19.5,
          18.19,
          19.07,
          18.6,
          19.04,
          18.06,
          17.8,
          14.64,
          20.8,
          19.52,
          18.89,
          17.42,
          18.87,
          19.13,
          17.66,
          16.57,
          16.14,
          15.73,
          15.57,
          15.38,
          16.37,
          15.72,
          15.97,
          15.43,
          15.65,
          16.22,
          14.91,
          21.49,
          14.88,
          14.02,
          14.46,
          13.51,
          14.85,
          15.17,
          14.7,
          14.7,
          13.57,
          14.63,
          14.74,
          15.74,
          16.59,
          16.05,
          14.33,
          13.77,
          13.41,
          13.5,
          12.88,
          13.1,
          13.56,
          13.91,
          13.63,
          16.48,
          16.33,
          14.68,
          15.15,
          14.43,
          13.71,
          13.4,
          13.36,
          13.74,
          13.58,
          12.82,
          13.18,
          14.28,
          13.3,
          13.02,
          12.01,
          12.32,
          12.18,
          12.6,
          12.09,
          12.13,
          12.42,
          12.28,
          13.14,
          13.25,
          12.73,
          13.11,
          13.12,
          14.8,
          14.42,
          12.87,
          15.44,
          19.32,
          19.4,
          19.1,
          16.04,
          20.55,
          18.06,
          16.44,
          15.29,
          15.96,
          16.31,
          14.95,
          14.75,
          16.92,
          15.85,
          12.18,
          17.5,
          17.9,
          17.3,
          18.71,
          18.86,
          16.97,
          16.09,
          15.93,
          16.3,
          15.94,
          15.99,
          15.91,
          15.82,
          15.28,
          15.35,
          15.15,
          14.33,
          14.75,
          15.4,
          15.26,
          16.28,
          16.21,
          15.82,
          15.08,
          14.06,
          12.93,
          12.57,
          12.25,
          13.28,
          13.96,
          14.09,
          13.03,
          12.93,
          12.39,
          12.68,
          12.86,
          13.97,
          13.53,
          14.45,
          13.53,
          12.61,
          12.07,
          12.74,
          12.16,
          12.83,
          13.94,
          16.12,
          17.87,
          17.61,
          24.59,
          20.17,
          19.49,
          16.91,
          17.97,
          21.09,
          17.52,
          22.1,
          21.18,
          18.47,
          16.88,
          17.5,
          15.8,
          16.68,
          19.87,
          19.32,
          20.31,
          19.35,
          17.88,
          18.98,
          19.89,
          19.66,
          17.33,
          16.27,
          15,
          15.27,
          15.2,
          14.61,
          14.22,
          13.74,
          14.67,
          14.44,
          13.95,
          14.05,
          15.32,
          14.91,
          17.05,
          15.96,
          16.07,
          17.22,
          16.24,
          18.56,
          20.56,
          19.12,
          17.04,
          17.86,
          20.28,
          18.64,
          17.57,
          15.58,
          14.57,
          13.54,
          13.68,
          13.79,
          14.25,
          14,
          14.46,
          14.01,
          13.71,
          12.65,
          13.11,
          13.2,
          12.33,
          13.22,
          12.3,
          12.83,
          13.1,
          12.62,
          12.73,
          12.07,
          12.69,
          12.68
         ]
        },
        {
         "boxpoints": "outliers",
         "line": {
          "width": 1.3
         },
         "marker": {
          "color": "rgba(50, 171, 96, 1.0)"
         },
         "name": "2020",
         "orientation": "v",
         "type": "box",
         "y": [
          null,
          12.47,
          14.02,
          13.85,
          13.79,
          13.45,
          12.54,
          12.56,
          12.32,
          12.39,
          12.42,
          12.32,
          12.1,
          17.8,
          12.85,
          12.91,
          12.98,
          14.56,
          18.23,
          16.28,
          16.39,
          15.49,
          18.84,
          17.97,
          16.05,
          15.15,
          14.96,
          15.47,
          15.04,
          15.18,
          13.74,
          14.15,
          13.68,
          14.91,
          14.83,
          14.38,
          15.56,
          17.08,
          25.03,
          27.85,
          27.56,
          39.16,
          40.11,
          33.42,
          36.82,
          31.99,
          39.62,
          41.94,
          54.46,
          47.3,
          53.9,
          75.47,
          57.83,
          82.69,
          75.91,
          76.45,
          72,
          66.04,
          61.59,
          61.67,
          63.95,
          61,
          65.54,
          57.08,
          53.54,
          57.06,
          50.91,
          46.8,
          45.24,
          46.7,
          43.35,
          41.67,
          13.02,
          41.17,
          37.76,
          40.84,
          40.11,
          38.15,
          43.83,
          45.41,
          41.98,
          41.38,
          35.93,
          33.29,
          33.57,
          31.23,
          34.15,
          37.19,
          35.97,
          33.61,
          34.12,
          31.44,
          27.98,
          27.57,
          33.04,
          35.28,
          32.61,
          31.89,
          29.3,
          30.53,
          27.99,
          29.53,
          28.16,
          15.85,
          28.01,
          27.62,
          28.59,
          27.51,
          28.23,
          26.84,
          25.66,
          25.81,
          24.52,
          25.81,
          27.57,
          27.57,
          40.79,
          36.09,
          34.4,
          33.67,
          33.47,
          32.94,
          35.12,
          31.77,
          31.37,
          33.84,
          32.22,
          34.73,
          31.78,
          30.43,
          28.62,
          27.68,
          12.25,
          27.94,
          29.43,
          28.08,
          29.26,
          27.29,
          32.19,
          29.52,
          27.76,
          28,
          25.68,
          24.46,
          24.84,
          24.32,
          26.08,
          25.84,
          24.74,
          25.44,
          24.1,
          24.76,
          24.46,
          24.28,
          23.76,
          22.99,
          22.65,
          22.21,
          22.13,
          24.03,
          22.28,
          22.13,
          22.05,
          21.35,
          21.51,
          22.54,
          22.72,
          22.54,
          22.37,
          22.03,
          23.27,
          24.47,
          22.96,
          26.41,
          26.12,
          26.57,
          33.6,
          30.75,
          15,
          31.46,
          28.81,
          29.71,
          26.87,
          25.85,
          25.59,
          26.04,
          26.46,
          25.83,
          27.78,
          26.86,
          28.58,
          28.51,
          26.38,
          26.19,
          26.27,
          26.37,
          26.7,
          27.63,
          27.96,
          29.48,
          28.06,
          26.36,
          25,
          25.07,
          26.07,
          26.4,
          26.97,
          27.41,
          29.18,
          29.35,
          28.65,
          28.11,
          27.55,
          32.46,
          33.35,
          40.28,
          37.59,
          38.02,
          37.13,
          35.55,
          29.57,
          27.58,
          24.86,
          25.75,
          24.8,
          23.45
         ]
        },
        {
         "boxpoints": "outliers",
         "line": {
          "width": 1.3
         },
         "marker": {
          "color": "rgba(128, 0, 128, 1.0)"
         },
         "name": "2021",
         "orientation": "v",
         "type": "box",
         "y": [
          null,
          26.97,
          25.34,
          25.07,
          22.37,
          21.56,
          24.08,
          23.33,
          22.21,
          23.25,
          24.34,
          12.32,
          23.24,
          21.58,
          21.32,
          21.91,
          23.19,
          23.02,
          37.21,
          30.21,
          33.09,
          30.24,
          25.56,
          22.91,
          21.77,
          20.87,
          21.24,
          21.63,
          21.99,
          21.25,
          19.97,
          14.15,
          21.46,
          21.5,
          22.49,
          22.05,
          23.45,
          23.11,
          21.34,
          28.89,
          27.95,
          23.35,
          24.1,
          26.67,
          28.57,
          24.66,
          25.47,
          24.03,
          22.56,
          21.91,
          20.69,
          20.03,
          19.79,
          19.23,
          21.58,
          20.95,
          18.88,
          20.3,
          21.2,
          19.81,
          18.86,
          20.74,
          19.61,
          19.4,
          17.33,
          57.06,
          17.91,
          18.12,
          17.16,
          16.95,
          16.69,
          16.91,
          16.65,
          16.99,
          16.57,
          16.25,
          17.29,
          18.68,
          17.5,
          18.71,
          17.33,
          17.64,
          17.56,
          17.28,
          17.61,
          18.61,
          18.31,
          19.48,
          19.15,
          18.39,
          16.69,
          19.66,
          21.84,
          27.59,
          23.13,
          18.81,
          19.72,
          21.34,
          22.18,
          20.67,
          20.15,
          18.4,
          18.84,
          17.36,
          16.74,
          16.76,
          28.59,
          17.9,
          17.48,
          18.04,
          16.42,
          16.42,
          17.07,
          17.89,
          16.1,
          15.65,
          16.39,
          17.02,
          18.15,
          17.75,
          20.7,
          17.89,
          16.66,
          16.32,
          15.97,
          15.62,
          15.76,
          16.02,
          15.83,
          15.48,
          15.07,
          27.68,
          16.44,
          16.2,
          19,
          16.18,
          16.17,
          17.12,
          16.33,
          17.01,
          18.45,
          22.5,
          19.73,
          17.91,
          17.69,
          17.2,
          17.58,
          19.36,
          18.31,
          17.7,
          18.24,
          19.46,
          18.04,
          17.97,
          17.28,
          16.15,
          16.72,
          16.79,
          16.06,
          15.59,
          15.45,
          16.12,
          17.91,
          21.57,
          21.67,
          18.56,
          17.15,
          17.22,
          16.79,
          18.84,
          16.39,
          16.19,
          16.48,
          16.11,
          16.41,
          16.41,
          33.6,
          18.14,
          17.96,
          18.8,
          20.95,
          19.37,
          19.46,
          18.18,
          18.69,
          20.81,
          25.71,
          24.36,
          20.87,
          18.63,
          17.75,
          18.76,
          23.25,
          22.56,
          23.14,
          21.15,
          22.96,
          21.3,
          21,
          19.54,
          18.77,
          20,
          19.85,
          18.64,
          16.86,
          16.3,
          16.31,
          15.7,
          15.49,
          15.01,
          15.43,
          15.24,
          15.98,
          16.98,
          16.53,
          16.26,
          16.41,
          16.03,
          15.1,
          15.44,
          16.48,
          17.22,
          17.78,
          18.73,
          17.66,
          16.29
         ]
        },
        {
         "boxpoints": "outliers",
         "line": {
          "width": 1.3
         },
         "marker": {
          "color": "rgba(219, 64, 82, 1.0)"
         },
         "name": "2022",
         "orientation": "v",
         "type": "box",
         "y": [
          16.6,
          16.91,
          19.73,
          19.61,
          18.76,
          19.4,
          18.41,
          17.62,
          20.31,
          19.19,
          24.34,
          22.79,
          23.85,
          25.59,
          28.85,
          29.9,
          31.16,
          31.96,
          30.49,
          27.66,
          24.83,
          21.96,
          22.09,
          24.35,
          23.22,
          22.86,
          21.44,
          19.96,
          23.91,
          27.36,
          28.33,
          25.7,
          24.29,
          28.11,
          27.75,
          22.05,
          28.81,
          31.02,
          30.32,
          27.59,
          30.15,
          33.32,
          30.74,
          30.48,
          31.98,
          36.45,
          35.13,
          32.45,
          30.23,
          30.75,
          31.77,
          29.83,
          26.67,
          25.67,
          23.87,
          23.53,
          22.94,
          23.57,
          21.67,
          20.81,
          19.63,
          18.9,
          19.33,
          20.56,
          19.63,
          18.57,
          21.03,
          22.1,
          21.55,
          21.16,
          24.37,
          24.26,
          21.82,
          22.7,
          16.57,
          22.17,
          21.37,
          20.32,
          22.68,
          28.21,
          27.02,
          33.52,
          31.6,
          29.99,
          33.4,
          32.34,
          29.25,
          25.42,
          31.2,
          30.19,
          34.75,
          32.99,
          32.56,
          31.77,
          28.87,
          27.47,
          26.1,
          30.96,
          29.35,
          29.43,
          28.48,
          29.45,
          28.37,
          27.5,
          25.72,
          26.54,
          26.19,
          25.69,
          24.72,
          24.79,
          25.07,
          24.02,
          23.96,
          26.09,
          27.75,
          34.02,
          32.69,
          29.62,
          32.95,
          31.13,
          31.03,
          30.19,
          28.95,
          29.05,
          27.23,
          26.95,
          28.36,
          28.16,
          28.71,
          26.7,
          27.53,
          27.54,
          26.73,
          26.08,
          24.64,
          26.17,
          27.29,
          26.82,
          26.4,
          24.23,
          25.3,
          24.5,
          23.88,
          23.11,
          23.03,
          23.36,
          24.69,
          23.24,
          22.33,
          21.33,
          22.84,
          23.93,
          21.95,
          21.44,
          21.15,
          21.29,
          21.77,
          19.74,
          20.2,
          19.53,
          19.95,
          19.69,
          19.9,
          19.56,
          20.6,
          23.8,
          24.11,
          22.82,
          21.78,
          25.56,
          26.21,
          26.21,
          25.87,
          25.56,
          25.47,
          25.99,
          26.91,
          24.64,
          23.61,
          22.79,
          23.87,
          27.27,
          26.16,
          26.27,
          26.3,
          25.76,
          27.16,
          27.99,
          27.35,
          29.92,
          32.26,
          32.6,
          30.18,
          31.84,
          31.62,
          30.1,
          29.07,
          28.55,
          30.52,
          31.36,
          32.45,
          33.63,
          33.57,
          31.94,
          32.02,
          31.37,
          30.5,
          30.76,
          29.98,
          29.69,
          29.85,
          28.46,
          27.28,
          27.39,
          25.75,
          25.88,
          25.81,
          25.86,
          25.3,
          24.55,
          24.35,
          25.54,
          26.09,
          23.53,
          22.52,
          23.73
         ]
        },
        {
         "boxpoints": "outliers",
         "line": {
          "width": 1.3
         },
         "marker": {
          "color": "rgba(0, 128, 128, 1.0)"
         },
         "name": "2023",
         "orientation": "v",
         "type": "box",
         "y": [
          16.6,
          22.9,
          22.01,
          22.46,
          21.13,
          21.97,
          20.58,
          21.09,
          18.83,
          18.35,
          19.49,
          19.36,
          20.34,
          20.52,
          19.85,
          19.81,
          19.2,
          19.08,
          18.73,
          18.51,
          19.94,
          19.4,
          17.87,
          18.73,
          18.33,
          19.43,
          18.66,
          19.63,
          20.71,
          20.53,
          20.34,
          18.91,
          18.23,
          20.17,
          27.75,
          22.05,
          28.81,
          31.02,
          30.32,
          27.59,
          30.15,
          33.32,
          30.74,
          30.48,
          31.98,
          36.45,
          35.13,
          32.45,
          30.23,
          30.75,
          31.77,
          29.83,
          26.67,
          25.67,
          23.87,
          23.53,
          22.94,
          23.57,
          21.67,
          20.81,
          19.63,
          18.9,
          19.33,
          20.56,
          19.63,
          18.57,
          21.03,
          22.1,
          21.55,
          21.16,
          24.37,
          24.26,
          21.82,
          22.7,
          16.57,
          22.17,
          21.37,
          20.32,
          22.68,
          28.21,
          27.02,
          33.52,
          31.6,
          29.99,
          33.4,
          32.34,
          29.25,
          25.42,
          31.2,
          30.19,
          34.75,
          32.99,
          32.56,
          31.77,
          28.87,
          27.47,
          26.1,
          30.96,
          29.35,
          29.43,
          28.48,
          29.45,
          28.37,
          27.5,
          25.72,
          26.54,
          26.19,
          25.69,
          24.72,
          24.79,
          25.07,
          24.02,
          23.96,
          26.09,
          27.75,
          34.02,
          32.69,
          29.62,
          32.95,
          31.13,
          31.03,
          30.19,
          28.95,
          29.05,
          27.23,
          26.95,
          28.36,
          28.16,
          28.71,
          26.7,
          27.53,
          27.54,
          26.73,
          26.08,
          24.64,
          26.17,
          27.29,
          26.82,
          26.4,
          24.23,
          25.3,
          24.5,
          23.88,
          23.11,
          23.03,
          23.36,
          24.69,
          23.24,
          22.33,
          21.33,
          22.84,
          23.93,
          21.95,
          21.44,
          21.15,
          21.29,
          21.77,
          19.74,
          20.2,
          19.53,
          19.95,
          19.69,
          19.9,
          19.56,
          20.6,
          23.8,
          24.11,
          22.82,
          21.78,
          25.56,
          26.21,
          26.21,
          25.87,
          25.56,
          25.47,
          25.99,
          26.91,
          24.64,
          23.61,
          22.79,
          23.87,
          27.27,
          26.16,
          26.27,
          26.3,
          25.76,
          27.16,
          27.99,
          27.35,
          29.92,
          32.26,
          32.6,
          30.18,
          31.84,
          31.62,
          30.1,
          29.07,
          28.55,
          30.52,
          31.36,
          32.45,
          33.63,
          33.57,
          31.94,
          32.02,
          31.37,
          30.5,
          30.76,
          29.98,
          29.69,
          29.85,
          28.46,
          27.28,
          27.39,
          25.75,
          25.88,
          25.81,
          25.86,
          25.3,
          24.55,
          24.35,
          25.54,
          26.09,
          23.53,
          22.52,
          23.73
         ]
        }
       ],
       "layout": {
        "legend": {
         "bgcolor": "#F5F6F9",
         "font": {
          "color": "#4D5663"
         }
        },
        "paper_bgcolor": "#F5F6F9",
        "plot_bgcolor": "#F5F6F9",
        "showlegend": false,
        "template": {
         "data": {
          "bar": [
           {
            "error_x": {
             "color": "#2a3f5f"
            },
            "error_y": {
             "color": "#2a3f5f"
            },
            "marker": {
             "line": {
              "color": "#E5ECF6",
              "width": 0.5
             },
             "pattern": {
              "fillmode": "overlay",
              "size": 10,
              "solidity": 0.2
             }
            },
            "type": "bar"
           }
          ],
          "barpolar": [
           {
            "marker": {
             "line": {
              "color": "#E5ECF6",
              "width": 0.5
             },
             "pattern": {
              "fillmode": "overlay",
              "size": 10,
              "solidity": 0.2
             }
            },
            "type": "barpolar"
           }
          ],
          "carpet": [
           {
            "aaxis": {
             "endlinecolor": "#2a3f5f",
             "gridcolor": "white",
             "linecolor": "white",
             "minorgridcolor": "white",
             "startlinecolor": "#2a3f5f"
            },
            "baxis": {
             "endlinecolor": "#2a3f5f",
             "gridcolor": "white",
             "linecolor": "white",
             "minorgridcolor": "white",
             "startlinecolor": "#2a3f5f"
            },
            "type": "carpet"
           }
          ],
          "choropleth": [
           {
            "colorbar": {
             "outlinewidth": 0,
             "ticks": ""
            },
            "type": "choropleth"
           }
          ],
          "contour": [
           {
            "colorbar": {
             "outlinewidth": 0,
             "ticks": ""
            },
            "colorscale": [
             [
              0,
              "#0d0887"
             ],
             [
              0.1111111111111111,
              "#46039f"
             ],
             [
              0.2222222222222222,
              "#7201a8"
             ],
             [
              0.3333333333333333,
              "#9c179e"
             ],
             [
              0.4444444444444444,
              "#bd3786"
             ],
             [
              0.5555555555555556,
              "#d8576b"
             ],
             [
              0.6666666666666666,
              "#ed7953"
             ],
             [
              0.7777777777777778,
              "#fb9f3a"
             ],
             [
              0.8888888888888888,
              "#fdca26"
             ],
             [
              1,
              "#f0f921"
             ]
            ],
            "type": "contour"
           }
          ],
          "contourcarpet": [
           {
            "colorbar": {
             "outlinewidth": 0,
             "ticks": ""
            },
            "type": "contourcarpet"
           }
          ],
          "heatmap": [
           {
            "colorbar": {
             "outlinewidth": 0,
             "ticks": ""
            },
            "colorscale": [
             [
              0,
              "#0d0887"
             ],
             [
              0.1111111111111111,
              "#46039f"
             ],
             [
              0.2222222222222222,
              "#7201a8"
             ],
             [
              0.3333333333333333,
              "#9c179e"
             ],
             [
              0.4444444444444444,
              "#bd3786"
             ],
             [
              0.5555555555555556,
              "#d8576b"
             ],
             [
              0.6666666666666666,
              "#ed7953"
             ],
             [
              0.7777777777777778,
              "#fb9f3a"
             ],
             [
              0.8888888888888888,
              "#fdca26"
             ],
             [
              1,
              "#f0f921"
             ]
            ],
            "type": "heatmap"
           }
          ],
          "heatmapgl": [
           {
            "colorbar": {
             "outlinewidth": 0,
             "ticks": ""
            },
            "colorscale": [
             [
              0,
              "#0d0887"
             ],
             [
              0.1111111111111111,
              "#46039f"
             ],
             [
              0.2222222222222222,
              "#7201a8"
             ],
             [
              0.3333333333333333,
              "#9c179e"
             ],
             [
              0.4444444444444444,
              "#bd3786"
             ],
             [
              0.5555555555555556,
              "#d8576b"
             ],
             [
              0.6666666666666666,
              "#ed7953"
             ],
             [
              0.7777777777777778,
              "#fb9f3a"
             ],
             [
              0.8888888888888888,
              "#fdca26"
             ],
             [
              1,
              "#f0f921"
             ]
            ],
            "type": "heatmapgl"
           }
          ],
          "histogram": [
           {
            "marker": {
             "pattern": {
              "fillmode": "overlay",
              "size": 10,
              "solidity": 0.2
             }
            },
            "type": "histogram"
           }
          ],
          "histogram2d": [
           {
            "colorbar": {
             "outlinewidth": 0,
             "ticks": ""
            },
            "colorscale": [
             [
              0,
              "#0d0887"
             ],
             [
              0.1111111111111111,
              "#46039f"
             ],
             [
              0.2222222222222222,
              "#7201a8"
             ],
             [
              0.3333333333333333,
              "#9c179e"
             ],
             [
              0.4444444444444444,
              "#bd3786"
             ],
             [
              0.5555555555555556,
              "#d8576b"
             ],
             [
              0.6666666666666666,
              "#ed7953"
             ],
             [
              0.7777777777777778,
              "#fb9f3a"
             ],
             [
              0.8888888888888888,
              "#fdca26"
             ],
             [
              1,
              "#f0f921"
             ]
            ],
            "type": "histogram2d"
           }
          ],
          "histogram2dcontour": [
           {
            "colorbar": {
             "outlinewidth": 0,
             "ticks": ""
            },
            "colorscale": [
             [
              0,
              "#0d0887"
             ],
             [
              0.1111111111111111,
              "#46039f"
             ],
             [
              0.2222222222222222,
              "#7201a8"
             ],
             [
              0.3333333333333333,
              "#9c179e"
             ],
             [
              0.4444444444444444,
              "#bd3786"
             ],
             [
              0.5555555555555556,
              "#d8576b"
             ],
             [
              0.6666666666666666,
              "#ed7953"
             ],
             [
              0.7777777777777778,
              "#fb9f3a"
             ],
             [
              0.8888888888888888,
              "#fdca26"
             ],
             [
              1,
              "#f0f921"
             ]
            ],
            "type": "histogram2dcontour"
           }
          ],
          "mesh3d": [
           {
            "colorbar": {
             "outlinewidth": 0,
             "ticks": ""
            },
            "type": "mesh3d"
           }
          ],
          "parcoords": [
           {
            "line": {
             "colorbar": {
              "outlinewidth": 0,
              "ticks": ""
             }
            },
            "type": "parcoords"
           }
          ],
          "pie": [
           {
            "automargin": true,
            "type": "pie"
           }
          ],
          "scatter": [
           {
            "fillpattern": {
             "fillmode": "overlay",
             "size": 10,
             "solidity": 0.2
            },
            "type": "scatter"
           }
          ],
          "scatter3d": [
           {
            "line": {
             "colorbar": {
              "outlinewidth": 0,
              "ticks": ""
             }
            },
            "marker": {
             "colorbar": {
              "outlinewidth": 0,
              "ticks": ""
             }
            },
            "type": "scatter3d"
           }
          ],
          "scattercarpet": [
           {
            "marker": {
             "colorbar": {
              "outlinewidth": 0,
              "ticks": ""
             }
            },
            "type": "scattercarpet"
           }
          ],
          "scattergeo": [
           {
            "marker": {
             "colorbar": {
              "outlinewidth": 0,
              "ticks": ""
             }
            },
            "type": "scattergeo"
           }
          ],
          "scattergl": [
           {
            "marker": {
             "colorbar": {
              "outlinewidth": 0,
              "ticks": ""
             }
            },
            "type": "scattergl"
           }
          ],
          "scattermapbox": [
           {
            "marker": {
             "colorbar": {
              "outlinewidth": 0,
              "ticks": ""
             }
            },
            "type": "scattermapbox"
           }
          ],
          "scatterpolar": [
           {
            "marker": {
             "colorbar": {
              "outlinewidth": 0,
              "ticks": ""
             }
            },
            "type": "scatterpolar"
           }
          ],
          "scatterpolargl": [
           {
            "marker": {
             "colorbar": {
              "outlinewidth": 0,
              "ticks": ""
             }
            },
            "type": "scatterpolargl"
           }
          ],
          "scatterternary": [
           {
            "marker": {
             "colorbar": {
              "outlinewidth": 0,
              "ticks": ""
             }
            },
            "type": "scatterternary"
           }
          ],
          "surface": [
           {
            "colorbar": {
             "outlinewidth": 0,
             "ticks": ""
            },
            "colorscale": [
             [
              0,
              "#0d0887"
             ],
             [
              0.1111111111111111,
              "#46039f"
             ],
             [
              0.2222222222222222,
              "#7201a8"
             ],
             [
              0.3333333333333333,
              "#9c179e"
             ],
             [
              0.4444444444444444,
              "#bd3786"
             ],
             [
              0.5555555555555556,
              "#d8576b"
             ],
             [
              0.6666666666666666,
              "#ed7953"
             ],
             [
              0.7777777777777778,
              "#fb9f3a"
             ],
             [
              0.8888888888888888,
              "#fdca26"
             ],
             [
              1,
              "#f0f921"
             ]
            ],
            "type": "surface"
           }
          ],
          "table": [
           {
            "cells": {
             "fill": {
              "color": "#EBF0F8"
             },
             "line": {
              "color": "white"
             }
            },
            "header": {
             "fill": {
              "color": "#C8D4E3"
             },
             "line": {
              "color": "white"
             }
            },
            "type": "table"
           }
          ]
         },
         "layout": {
          "annotationdefaults": {
           "arrowcolor": "#2a3f5f",
           "arrowhead": 0,
           "arrowwidth": 1
          },
          "autotypenumbers": "strict",
          "coloraxis": {
           "colorbar": {
            "outlinewidth": 0,
            "ticks": ""
           }
          },
          "colorscale": {
           "diverging": [
            [
             0,
             "#8e0152"
            ],
            [
             0.1,
             "#c51b7d"
            ],
            [
             0.2,
             "#de77ae"
            ],
            [
             0.3,
             "#f1b6da"
            ],
            [
             0.4,
             "#fde0ef"
            ],
            [
             0.5,
             "#f7f7f7"
            ],
            [
             0.6,
             "#e6f5d0"
            ],
            [
             0.7,
             "#b8e186"
            ],
            [
             0.8,
             "#7fbc41"
            ],
            [
             0.9,
             "#4d9221"
            ],
            [
             1,
             "#276419"
            ]
           ],
           "sequential": [
            [
             0,
             "#0d0887"
            ],
            [
             0.1111111111111111,
             "#46039f"
            ],
            [
             0.2222222222222222,
             "#7201a8"
            ],
            [
             0.3333333333333333,
             "#9c179e"
            ],
            [
             0.4444444444444444,
             "#bd3786"
            ],
            [
             0.5555555555555556,
             "#d8576b"
            ],
            [
             0.6666666666666666,
             "#ed7953"
            ],
            [
             0.7777777777777778,
             "#fb9f3a"
            ],
            [
             0.8888888888888888,
             "#fdca26"
            ],
            [
             1,
             "#f0f921"
            ]
           ],
           "sequentialminus": [
            [
             0,
             "#0d0887"
            ],
            [
             0.1111111111111111,
             "#46039f"
            ],
            [
             0.2222222222222222,
             "#7201a8"
            ],
            [
             0.3333333333333333,
             "#9c179e"
            ],
            [
             0.4444444444444444,
             "#bd3786"
            ],
            [
             0.5555555555555556,
             "#d8576b"
            ],
            [
             0.6666666666666666,
             "#ed7953"
            ],
            [
             0.7777777777777778,
             "#fb9f3a"
            ],
            [
             0.8888888888888888,
             "#fdca26"
            ],
            [
             1,
             "#f0f921"
            ]
           ]
          },
          "colorway": [
           "#636efa",
           "#EF553B",
           "#00cc96",
           "#ab63fa",
           "#FFA15A",
           "#19d3f3",
           "#FF6692",
           "#B6E880",
           "#FF97FF",
           "#FECB52"
          ],
          "font": {
           "color": "#2a3f5f"
          },
          "geo": {
           "bgcolor": "white",
           "lakecolor": "white",
           "landcolor": "#E5ECF6",
           "showlakes": true,
           "showland": true,
           "subunitcolor": "white"
          },
          "hoverlabel": {
           "align": "left"
          },
          "hovermode": "closest",
          "mapbox": {
           "style": "light"
          },
          "paper_bgcolor": "white",
          "plot_bgcolor": "#E5ECF6",
          "polar": {
           "angularaxis": {
            "gridcolor": "white",
            "linecolor": "white",
            "ticks": ""
           },
           "bgcolor": "#E5ECF6",
           "radialaxis": {
            "gridcolor": "white",
            "linecolor": "white",
            "ticks": ""
           }
          },
          "scene": {
           "xaxis": {
            "backgroundcolor": "#E5ECF6",
            "gridcolor": "white",
            "gridwidth": 2,
            "linecolor": "white",
            "showbackground": true,
            "ticks": "",
            "zerolinecolor": "white"
           },
           "yaxis": {
            "backgroundcolor": "#E5ECF6",
            "gridcolor": "white",
            "gridwidth": 2,
            "linecolor": "white",
            "showbackground": true,
            "ticks": "",
            "zerolinecolor": "white"
           },
           "zaxis": {
            "backgroundcolor": "#E5ECF6",
            "gridcolor": "white",
            "gridwidth": 2,
            "linecolor": "white",
            "showbackground": true,
            "ticks": "",
            "zerolinecolor": "white"
           }
          },
          "shapedefaults": {
           "line": {
            "color": "#2a3f5f"
           }
          },
          "ternary": {
           "aaxis": {
            "gridcolor": "white",
            "linecolor": "white",
            "ticks": ""
           },
           "baxis": {
            "gridcolor": "white",
            "linecolor": "white",
            "ticks": ""
           },
           "bgcolor": "#E5ECF6",
           "caxis": {
            "gridcolor": "white",
            "linecolor": "white",
            "ticks": ""
           }
          },
          "title": {
           "x": 0.05
          },
          "xaxis": {
           "automargin": true,
           "gridcolor": "white",
           "linecolor": "white",
           "ticks": "",
           "title": {
            "standoff": 15
           },
           "zerolinecolor": "white",
           "zerolinewidth": 2
          },
          "yaxis": {
           "automargin": true,
           "gridcolor": "white",
           "linecolor": "white",
           "ticks": "",
           "title": {
            "standoff": 15
           },
           "zerolinecolor": "white",
           "zerolinewidth": 2
          }
         }
        },
        "title": {
         "font": {
          "color": "#4D5663"
         },
         "text": "CBOE Volatility Index"
        },
        "xaxis": {
         "gridcolor": "#E1E5ED",
         "showgrid": true,
         "tickfont": {
          "color": "#4D5663"
         },
         "title": {
          "font": {
           "color": "#4D5663"
          },
          "text": ""
         },
         "zerolinecolor": "#E1E5ED"
        },
        "yaxis": {
         "gridcolor": "#E1E5ED",
         "showgrid": true,
         "tickfont": {
          "color": "#4D5663"
         },
         "title": {
          "font": {
           "color": "#4D5663"
          },
          "text": "Annualised Volatility (%)"
         },
         "zerolinecolor": "#E1E5ED"
        }
       }
      },
      "text/html": [
       "<div>                            <div id=\"5a7da207-ff56-4f46-8aa7-3cc359b50b28\" class=\"plotly-graph-div\" style=\"height:525px; width:100%;\"></div>            <script type=\"text/javascript\">                require([\"plotly\"], function(Plotly) {                    window.PLOTLYENV=window.PLOTLYENV || {};\n",
       "                    window.PLOTLYENV.BASE_URL='https://plot.ly';                                    if (document.getElementById(\"5a7da207-ff56-4f46-8aa7-3cc359b50b28\")) {                    Plotly.newPlot(                        \"5a7da207-ff56-4f46-8aa7-3cc359b50b28\",                        [{\"boxpoints\":\"outliers\",\"line\":{\"width\":1.3},\"marker\":{\"color\":\"rgba(255, 153, 51, 1.0)\"},\"name\":\"2018\",\"orientation\":\"v\",\"y\":[null,20.6,20.02,18.72,16.49,15.8,18.59,19.85,22.47,19.59,18.73,18.36,17.76,16.54,14.64,15.78,16.35,17.23,16.59,15.8,19.02,18.2,17.86,23.34,24.87,21.03,22.5,22.87,19.97,null,23.62,21.1,20.06,18.94,21.49,21.77,20.47,20.24,18.49,17.41,16.56,15.25,15.6,15.96,16.88,16.34,18.02,17.84,16.24,15.41,15.93,15.49,15.97,15.9,14.77,14.75,14.71,13.42,13.23,12.65,12.93,14.63,13.42,13.43,13.42,13.08,13.22,12.58,12.53,13.22,null,17.02,14.94,15.43,13.46,12.74,12.4,11.64,12.13,12.18,12.35,12.34,12.94,12.12,11.98,12.31,13.35,12.79,14.64,13.77,17.33,15.92,17.91,16.85,16.09,15.6,16.14,null,14.97,13.37,12.69,12.64,13.63,12.58,12.18,12.83,12.06,12.1,12.87,12.86,12.62,12.41,12.29,12.14,13.03,14.26,12.83,13.15,12.19,11.64,11.27,10.93,10.85,11.27,13.16,14.78,13.31,14.64,13.45,12.64,12.49,12.86,12.25,12.41,11.99,12.16,12.5,12.25,13.53,12.86,null,13.16,13.91,14.65,14.88,14.16,13.22,13.14,12.37,12.07,13.68,12.79,11.75,11.8,11.68,12.2,12.42,12.89,12.41,12.12,12.0,12.05,11.61,14.22,14.82,15.69,15.95,22.96,24.98,21.31,21.3,17.62,17.4,20.06,19.89,19.64,20.71,25.23,24.22,24.16,24.7,23.35,21.23,19.34,19.51,19.96,19.91,16.36,16.72,17.36,20.45,20.02,21.25,19.98,18.14,20.1,22.48,20.8,null,21.52,18.9,19.02,18.49,18.79,18.07,16.44,20.74,null,21.19,23.23,22.64,21.76,21.46,20.65,21.63,24.52,25.58,25.58,28.38,30.11,36.07,null,30.41,29.96,28.34,25.42],\"type\":\"box\"},{\"boxpoints\":\"outliers\",\"line\":{\"width\":1.3},\"marker\":{\"color\":\"rgba(55, 128, 191, 1.0)\"},\"name\":\"2019\",\"orientation\":\"v\",\"y\":[null,23.22,25.45,21.38,21.4,20.47,19.98,19.5,18.19,19.07,18.6,19.04,18.06,17.8,14.64,20.8,19.52,18.89,17.42,18.87,19.13,17.66,16.57,16.14,15.73,15.57,15.38,16.37,15.72,15.97,15.43,15.65,16.22,14.91,21.49,14.88,14.02,14.46,13.51,14.85,15.17,14.7,14.7,13.57,14.63,14.74,15.74,16.59,16.05,14.33,13.77,13.41,13.5,12.88,13.1,13.56,13.91,13.63,16.48,16.33,14.68,15.15,14.43,13.71,13.4,13.36,13.74,13.58,12.82,13.18,14.28,13.3,13.02,12.01,12.32,12.18,12.6,12.09,12.13,12.42,12.28,13.14,13.25,12.73,13.11,13.12,14.8,14.42,12.87,15.44,19.32,19.4,19.1,16.04,20.55,18.06,16.44,15.29,15.96,16.31,14.95,14.75,16.92,15.85,12.18,17.5,17.9,17.3,18.71,18.86,16.97,16.09,15.93,16.3,15.94,15.99,15.91,15.82,15.28,15.35,15.15,14.33,14.75,15.4,15.26,16.28,16.21,15.82,15.08,14.06,12.93,12.57,12.25,13.28,13.96,14.09,13.03,12.93,12.39,12.68,12.86,13.97,13.53,14.45,13.53,12.61,12.07,12.74,12.16,12.83,13.94,16.12,17.87,17.61,24.59,20.17,19.49,16.91,17.97,21.09,17.52,22.1,21.18,18.47,16.88,17.5,15.8,16.68,19.87,19.32,20.31,19.35,17.88,18.98,19.89,19.66,17.33,16.27,15.0,15.27,15.2,14.61,14.22,13.74,14.67,14.44,13.95,14.05,15.32,14.91,17.05,15.96,16.07,17.22,16.24,18.56,20.56,19.12,17.04,17.86,20.28,18.64,17.57,15.58,14.57,13.54,13.68,13.79,14.25,14.0,14.46,14.01,13.71,12.65,13.11,13.2,12.33,13.22,12.3,12.83,13.1,12.62,12.73,12.07,12.69,12.68],\"type\":\"box\"},{\"boxpoints\":\"outliers\",\"line\":{\"width\":1.3},\"marker\":{\"color\":\"rgba(50, 171, 96, 1.0)\"},\"name\":\"2020\",\"orientation\":\"v\",\"y\":[null,12.47,14.02,13.85,13.79,13.45,12.54,12.56,12.32,12.39,12.42,12.32,12.1,17.8,12.85,12.91,12.98,14.56,18.23,16.28,16.39,15.49,18.84,17.97,16.05,15.15,14.96,15.47,15.04,15.18,13.74,14.15,13.68,14.91,14.83,14.38,15.56,17.08,25.03,27.85,27.56,39.16,40.11,33.42,36.82,31.99,39.62,41.94,54.46,47.3,53.9,75.47,57.83,82.69,75.91,76.45,72.0,66.04,61.59,61.67,63.95,61.0,65.54,57.08,53.54,57.06,50.91,46.8,45.24,46.7,43.35,41.67,13.02,41.17,37.76,40.84,40.11,38.15,43.83,45.41,41.98,41.38,35.93,33.29,33.57,31.23,34.15,37.19,35.97,33.61,34.12,31.44,27.98,27.57,33.04,35.28,32.61,31.89,29.3,30.53,27.99,29.53,28.16,15.85,28.01,27.62,28.59,27.51,28.23,26.84,25.66,25.81,24.52,25.81,27.57,27.57,40.79,36.09,34.4,33.67,33.47,32.94,35.12,31.77,31.37,33.84,32.22,34.73,31.78,30.43,28.62,27.68,12.25,27.94,29.43,28.08,29.26,27.29,32.19,29.52,27.76,28.0,25.68,24.46,24.84,24.32,26.08,25.84,24.74,25.44,24.1,24.76,24.46,24.28,23.76,22.99,22.65,22.21,22.13,24.03,22.28,22.13,22.05,21.35,21.51,22.54,22.72,22.54,22.37,22.03,23.27,24.47,22.96,26.41,26.12,26.57,33.6,30.75,15.0,31.46,28.81,29.71,26.87,25.85,25.59,26.04,26.46,25.83,27.78,26.86,28.58,28.51,26.38,26.19,26.27,26.37,26.7,27.63,27.96,29.48,28.06,26.36,25.0,25.07,26.07,26.4,26.97,27.41,29.18,29.35,28.65,28.11,27.55,32.46,33.35,40.28,37.59,38.02,37.13,35.55,29.57,27.58,24.86,25.75,24.8,23.45],\"type\":\"box\"},{\"boxpoints\":\"outliers\",\"line\":{\"width\":1.3},\"marker\":{\"color\":\"rgba(128, 0, 128, 1.0)\"},\"name\":\"2021\",\"orientation\":\"v\",\"y\":[null,26.97,25.34,25.07,22.37,21.56,24.08,23.33,22.21,23.25,24.34,12.32,23.24,21.58,21.32,21.91,23.19,23.02,37.21,30.21,33.09,30.24,25.56,22.91,21.77,20.87,21.24,21.63,21.99,21.25,19.97,14.15,21.46,21.5,22.49,22.05,23.45,23.11,21.34,28.89,27.95,23.35,24.1,26.67,28.57,24.66,25.47,24.03,22.56,21.91,20.69,20.03,19.79,19.23,21.58,20.95,18.88,20.3,21.2,19.81,18.86,20.74,19.61,19.4,17.33,57.06,17.91,18.12,17.16,16.95,16.69,16.91,16.65,16.99,16.57,16.25,17.29,18.68,17.5,18.71,17.33,17.64,17.56,17.28,17.61,18.61,18.31,19.48,19.15,18.39,16.69,19.66,21.84,27.59,23.13,18.81,19.72,21.34,22.18,20.67,20.15,18.4,18.84,17.36,16.74,16.76,28.59,17.9,17.48,18.04,16.42,16.42,17.07,17.89,16.1,15.65,16.39,17.02,18.15,17.75,20.7,17.89,16.66,16.32,15.97,15.62,15.76,16.02,15.83,15.48,15.07,27.68,16.44,16.2,19.0,16.18,16.17,17.12,16.33,17.01,18.45,22.5,19.73,17.91,17.69,17.2,17.58,19.36,18.31,17.7,18.24,19.46,18.04,17.97,17.28,16.15,16.72,16.79,16.06,15.59,15.45,16.12,17.91,21.57,21.67,18.56,17.15,17.22,16.79,18.84,16.39,16.19,16.48,16.11,16.41,16.41,33.6,18.14,17.96,18.8,20.95,19.37,19.46,18.18,18.69,20.81,25.71,24.36,20.87,18.63,17.75,18.76,23.25,22.56,23.14,21.15,22.96,21.3,21.0,19.54,18.77,20.0,19.85,18.64,16.86,16.3,16.31,15.7,15.49,15.01,15.43,15.24,15.98,16.98,16.53,16.26,16.41,16.03,15.1,15.44,16.48,17.22,17.78,18.73,17.66,16.29],\"type\":\"box\"},{\"boxpoints\":\"outliers\",\"line\":{\"width\":1.3},\"marker\":{\"color\":\"rgba(219, 64, 82, 1.0)\"},\"name\":\"2022\",\"orientation\":\"v\",\"y\":[16.6,16.91,19.73,19.61,18.76,19.4,18.41,17.62,20.31,19.19,24.34,22.79,23.85,25.59,28.85,29.9,31.16,31.96,30.49,27.66,24.83,21.96,22.09,24.35,23.22,22.86,21.44,19.96,23.91,27.36,28.33,25.7,24.29,28.11,27.75,22.05,28.81,31.02,30.32,27.59,30.15,33.32,30.74,30.48,31.98,36.45,35.13,32.45,30.23,30.75,31.77,29.83,26.67,25.67,23.87,23.53,22.94,23.57,21.67,20.81,19.63,18.9,19.33,20.56,19.63,18.57,21.03,22.1,21.55,21.16,24.37,24.26,21.82,22.7,16.57,22.17,21.37,20.32,22.68,28.21,27.02,33.52,31.6,29.99,33.4,32.34,29.25,25.42,31.2,30.19,34.75,32.99,32.56,31.77,28.87,27.47,26.1,30.96,29.35,29.43,28.48,29.45,28.37,27.5,25.72,26.54,26.19,25.69,24.72,24.79,25.07,24.02,23.96,26.09,27.75,34.02,32.69,29.62,32.95,31.13,31.03,30.19,28.95,29.05,27.23,26.95,28.36,28.16,28.71,26.7,27.53,27.54,26.73,26.08,24.64,26.17,27.29,26.82,26.4,24.23,25.3,24.5,23.88,23.11,23.03,23.36,24.69,23.24,22.33,21.33,22.84,23.93,21.95,21.44,21.15,21.29,21.77,19.74,20.2,19.53,19.95,19.69,19.9,19.56,20.6,23.8,24.11,22.82,21.78,25.56,26.21,26.21,25.87,25.56,25.47,25.99,26.91,24.64,23.61,22.79,23.87,27.27,26.16,26.27,26.3,25.76,27.16,27.99,27.35,29.92,32.26,32.6,30.18,31.84,31.62,30.1,29.07,28.55,30.52,31.36,32.45,33.63,33.57,31.94,32.02,31.37,30.5,30.76,29.98,29.69,29.85,28.46,27.28,27.39,25.75,25.88,25.81,25.86,25.3,24.55,24.35,25.54,26.09,23.53,22.52,23.73],\"type\":\"box\"},{\"boxpoints\":\"outliers\",\"line\":{\"width\":1.3},\"marker\":{\"color\":\"rgba(0, 128, 128, 1.0)\"},\"name\":\"2023\",\"orientation\":\"v\",\"y\":[16.6,22.9,22.01,22.46,21.13,21.97,20.58,21.09,18.83,18.35,19.49,19.36,20.34,20.52,19.85,19.81,19.2,19.08,18.73,18.51,19.94,19.4,17.87,18.73,18.33,19.43,18.66,19.63,20.71,20.53,20.34,18.91,18.23,20.17,27.75,22.05,28.81,31.02,30.32,27.59,30.15,33.32,30.74,30.48,31.98,36.45,35.13,32.45,30.23,30.75,31.77,29.83,26.67,25.67,23.87,23.53,22.94,23.57,21.67,20.81,19.63,18.9,19.33,20.56,19.63,18.57,21.03,22.1,21.55,21.16,24.37,24.26,21.82,22.7,16.57,22.17,21.37,20.32,22.68,28.21,27.02,33.52,31.6,29.99,33.4,32.34,29.25,25.42,31.2,30.19,34.75,32.99,32.56,31.77,28.87,27.47,26.1,30.96,29.35,29.43,28.48,29.45,28.37,27.5,25.72,26.54,26.19,25.69,24.72,24.79,25.07,24.02,23.96,26.09,27.75,34.02,32.69,29.62,32.95,31.13,31.03,30.19,28.95,29.05,27.23,26.95,28.36,28.16,28.71,26.7,27.53,27.54,26.73,26.08,24.64,26.17,27.29,26.82,26.4,24.23,25.3,24.5,23.88,23.11,23.03,23.36,24.69,23.24,22.33,21.33,22.84,23.93,21.95,21.44,21.15,21.29,21.77,19.74,20.2,19.53,19.95,19.69,19.9,19.56,20.6,23.8,24.11,22.82,21.78,25.56,26.21,26.21,25.87,25.56,25.47,25.99,26.91,24.64,23.61,22.79,23.87,27.27,26.16,26.27,26.3,25.76,27.16,27.99,27.35,29.92,32.26,32.6,30.18,31.84,31.62,30.1,29.07,28.55,30.52,31.36,32.45,33.63,33.57,31.94,32.02,31.37,30.5,30.76,29.98,29.69,29.85,28.46,27.28,27.39,25.75,25.88,25.81,25.86,25.3,24.55,24.35,25.54,26.09,23.53,22.52,23.73],\"type\":\"box\"}],                        {\"legend\":{\"bgcolor\":\"#F5F6F9\",\"font\":{\"color\":\"#4D5663\"}},\"paper_bgcolor\":\"#F5F6F9\",\"plot_bgcolor\":\"#F5F6F9\",\"showlegend\":false,\"template\":{\"data\":{\"barpolar\":[{\"marker\":{\"line\":{\"color\":\"#E5ECF6\",\"width\":0.5},\"pattern\":{\"fillmode\":\"overlay\",\"size\":10,\"solidity\":0.2}},\"type\":\"barpolar\"}],\"bar\":[{\"error_x\":{\"color\":\"#2a3f5f\"},\"error_y\":{\"color\":\"#2a3f5f\"},\"marker\":{\"line\":{\"color\":\"#E5ECF6\",\"width\":0.5},\"pattern\":{\"fillmode\":\"overlay\",\"size\":10,\"solidity\":0.2}},\"type\":\"bar\"}],\"carpet\":[{\"aaxis\":{\"endlinecolor\":\"#2a3f5f\",\"gridcolor\":\"white\",\"linecolor\":\"white\",\"minorgridcolor\":\"white\",\"startlinecolor\":\"#2a3f5f\"},\"baxis\":{\"endlinecolor\":\"#2a3f5f\",\"gridcolor\":\"white\",\"linecolor\":\"white\",\"minorgridcolor\":\"white\",\"startlinecolor\":\"#2a3f5f\"},\"type\":\"carpet\"}],\"choropleth\":[{\"colorbar\":{\"outlinewidth\":0,\"ticks\":\"\"},\"type\":\"choropleth\"}],\"contourcarpet\":[{\"colorbar\":{\"outlinewidth\":0,\"ticks\":\"\"},\"type\":\"contourcarpet\"}],\"contour\":[{\"colorbar\":{\"outlinewidth\":0,\"ticks\":\"\"},\"colorscale\":[[0.0,\"#0d0887\"],[0.1111111111111111,\"#46039f\"],[0.2222222222222222,\"#7201a8\"],[0.3333333333333333,\"#9c179e\"],[0.4444444444444444,\"#bd3786\"],[0.5555555555555556,\"#d8576b\"],[0.6666666666666666,\"#ed7953\"],[0.7777777777777778,\"#fb9f3a\"],[0.8888888888888888,\"#fdca26\"],[1.0,\"#f0f921\"]],\"type\":\"contour\"}],\"heatmapgl\":[{\"colorbar\":{\"outlinewidth\":0,\"ticks\":\"\"},\"colorscale\":[[0.0,\"#0d0887\"],[0.1111111111111111,\"#46039f\"],[0.2222222222222222,\"#7201a8\"],[0.3333333333333333,\"#9c179e\"],[0.4444444444444444,\"#bd3786\"],[0.5555555555555556,\"#d8576b\"],[0.6666666666666666,\"#ed7953\"],[0.7777777777777778,\"#fb9f3a\"],[0.8888888888888888,\"#fdca26\"],[1.0,\"#f0f921\"]],\"type\":\"heatmapgl\"}],\"heatmap\":[{\"colorbar\":{\"outlinewidth\":0,\"ticks\":\"\"},\"colorscale\":[[0.0,\"#0d0887\"],[0.1111111111111111,\"#46039f\"],[0.2222222222222222,\"#7201a8\"],[0.3333333333333333,\"#9c179e\"],[0.4444444444444444,\"#bd3786\"],[0.5555555555555556,\"#d8576b\"],[0.6666666666666666,\"#ed7953\"],[0.7777777777777778,\"#fb9f3a\"],[0.8888888888888888,\"#fdca26\"],[1.0,\"#f0f921\"]],\"type\":\"heatmap\"}],\"histogram2dcontour\":[{\"colorbar\":{\"outlinewidth\":0,\"ticks\":\"\"},\"colorscale\":[[0.0,\"#0d0887\"],[0.1111111111111111,\"#46039f\"],[0.2222222222222222,\"#7201a8\"],[0.3333333333333333,\"#9c179e\"],[0.4444444444444444,\"#bd3786\"],[0.5555555555555556,\"#d8576b\"],[0.6666666666666666,\"#ed7953\"],[0.7777777777777778,\"#fb9f3a\"],[0.8888888888888888,\"#fdca26\"],[1.0,\"#f0f921\"]],\"type\":\"histogram2dcontour\"}],\"histogram2d\":[{\"colorbar\":{\"outlinewidth\":0,\"ticks\":\"\"},\"colorscale\":[[0.0,\"#0d0887\"],[0.1111111111111111,\"#46039f\"],[0.2222222222222222,\"#7201a8\"],[0.3333333333333333,\"#9c179e\"],[0.4444444444444444,\"#bd3786\"],[0.5555555555555556,\"#d8576b\"],[0.6666666666666666,\"#ed7953\"],[0.7777777777777778,\"#fb9f3a\"],[0.8888888888888888,\"#fdca26\"],[1.0,\"#f0f921\"]],\"type\":\"histogram2d\"}],\"histogram\":[{\"marker\":{\"pattern\":{\"fillmode\":\"overlay\",\"size\":10,\"solidity\":0.2}},\"type\":\"histogram\"}],\"mesh3d\":[{\"colorbar\":{\"outlinewidth\":0,\"ticks\":\"\"},\"type\":\"mesh3d\"}],\"parcoords\":[{\"line\":{\"colorbar\":{\"outlinewidth\":0,\"ticks\":\"\"}},\"type\":\"parcoords\"}],\"pie\":[{\"automargin\":true,\"type\":\"pie\"}],\"scatter3d\":[{\"line\":{\"colorbar\":{\"outlinewidth\":0,\"ticks\":\"\"}},\"marker\":{\"colorbar\":{\"outlinewidth\":0,\"ticks\":\"\"}},\"type\":\"scatter3d\"}],\"scattercarpet\":[{\"marker\":{\"colorbar\":{\"outlinewidth\":0,\"ticks\":\"\"}},\"type\":\"scattercarpet\"}],\"scattergeo\":[{\"marker\":{\"colorbar\":{\"outlinewidth\":0,\"ticks\":\"\"}},\"type\":\"scattergeo\"}],\"scattergl\":[{\"marker\":{\"colorbar\":{\"outlinewidth\":0,\"ticks\":\"\"}},\"type\":\"scattergl\"}],\"scattermapbox\":[{\"marker\":{\"colorbar\":{\"outlinewidth\":0,\"ticks\":\"\"}},\"type\":\"scattermapbox\"}],\"scatterpolargl\":[{\"marker\":{\"colorbar\":{\"outlinewidth\":0,\"ticks\":\"\"}},\"type\":\"scatterpolargl\"}],\"scatterpolar\":[{\"marker\":{\"colorbar\":{\"outlinewidth\":0,\"ticks\":\"\"}},\"type\":\"scatterpolar\"}],\"scatter\":[{\"fillpattern\":{\"fillmode\":\"overlay\",\"size\":10,\"solidity\":0.2},\"type\":\"scatter\"}],\"scatterternary\":[{\"marker\":{\"colorbar\":{\"outlinewidth\":0,\"ticks\":\"\"}},\"type\":\"scatterternary\"}],\"surface\":[{\"colorbar\":{\"outlinewidth\":0,\"ticks\":\"\"},\"colorscale\":[[0.0,\"#0d0887\"],[0.1111111111111111,\"#46039f\"],[0.2222222222222222,\"#7201a8\"],[0.3333333333333333,\"#9c179e\"],[0.4444444444444444,\"#bd3786\"],[0.5555555555555556,\"#d8576b\"],[0.6666666666666666,\"#ed7953\"],[0.7777777777777778,\"#fb9f3a\"],[0.8888888888888888,\"#fdca26\"],[1.0,\"#f0f921\"]],\"type\":\"surface\"}],\"table\":[{\"cells\":{\"fill\":{\"color\":\"#EBF0F8\"},\"line\":{\"color\":\"white\"}},\"header\":{\"fill\":{\"color\":\"#C8D4E3\"},\"line\":{\"color\":\"white\"}},\"type\":\"table\"}]},\"layout\":{\"annotationdefaults\":{\"arrowcolor\":\"#2a3f5f\",\"arrowhead\":0,\"arrowwidth\":1},\"autotypenumbers\":\"strict\",\"coloraxis\":{\"colorbar\":{\"outlinewidth\":0,\"ticks\":\"\"}},\"colorscale\":{\"diverging\":[[0,\"#8e0152\"],[0.1,\"#c51b7d\"],[0.2,\"#de77ae\"],[0.3,\"#f1b6da\"],[0.4,\"#fde0ef\"],[0.5,\"#f7f7f7\"],[0.6,\"#e6f5d0\"],[0.7,\"#b8e186\"],[0.8,\"#7fbc41\"],[0.9,\"#4d9221\"],[1,\"#276419\"]],\"sequential\":[[0.0,\"#0d0887\"],[0.1111111111111111,\"#46039f\"],[0.2222222222222222,\"#7201a8\"],[0.3333333333333333,\"#9c179e\"],[0.4444444444444444,\"#bd3786\"],[0.5555555555555556,\"#d8576b\"],[0.6666666666666666,\"#ed7953\"],[0.7777777777777778,\"#fb9f3a\"],[0.8888888888888888,\"#fdca26\"],[1.0,\"#f0f921\"]],\"sequentialminus\":[[0.0,\"#0d0887\"],[0.1111111111111111,\"#46039f\"],[0.2222222222222222,\"#7201a8\"],[0.3333333333333333,\"#9c179e\"],[0.4444444444444444,\"#bd3786\"],[0.5555555555555556,\"#d8576b\"],[0.6666666666666666,\"#ed7953\"],[0.7777777777777778,\"#fb9f3a\"],[0.8888888888888888,\"#fdca26\"],[1.0,\"#f0f921\"]]},\"colorway\":[\"#636efa\",\"#EF553B\",\"#00cc96\",\"#ab63fa\",\"#FFA15A\",\"#19d3f3\",\"#FF6692\",\"#B6E880\",\"#FF97FF\",\"#FECB52\"],\"font\":{\"color\":\"#2a3f5f\"},\"geo\":{\"bgcolor\":\"white\",\"lakecolor\":\"white\",\"landcolor\":\"#E5ECF6\",\"showlakes\":true,\"showland\":true,\"subunitcolor\":\"white\"},\"hoverlabel\":{\"align\":\"left\"},\"hovermode\":\"closest\",\"mapbox\":{\"style\":\"light\"},\"paper_bgcolor\":\"white\",\"plot_bgcolor\":\"#E5ECF6\",\"polar\":{\"angularaxis\":{\"gridcolor\":\"white\",\"linecolor\":\"white\",\"ticks\":\"\"},\"bgcolor\":\"#E5ECF6\",\"radialaxis\":{\"gridcolor\":\"white\",\"linecolor\":\"white\",\"ticks\":\"\"}},\"scene\":{\"xaxis\":{\"backgroundcolor\":\"#E5ECF6\",\"gridcolor\":\"white\",\"gridwidth\":2,\"linecolor\":\"white\",\"showbackground\":true,\"ticks\":\"\",\"zerolinecolor\":\"white\"},\"yaxis\":{\"backgroundcolor\":\"#E5ECF6\",\"gridcolor\":\"white\",\"gridwidth\":2,\"linecolor\":\"white\",\"showbackground\":true,\"ticks\":\"\",\"zerolinecolor\":\"white\"},\"zaxis\":{\"backgroundcolor\":\"#E5ECF6\",\"gridcolor\":\"white\",\"gridwidth\":2,\"linecolor\":\"white\",\"showbackground\":true,\"ticks\":\"\",\"zerolinecolor\":\"white\"}},\"shapedefaults\":{\"line\":{\"color\":\"#2a3f5f\"}},\"ternary\":{\"aaxis\":{\"gridcolor\":\"white\",\"linecolor\":\"white\",\"ticks\":\"\"},\"baxis\":{\"gridcolor\":\"white\",\"linecolor\":\"white\",\"ticks\":\"\"},\"bgcolor\":\"#E5ECF6\",\"caxis\":{\"gridcolor\":\"white\",\"linecolor\":\"white\",\"ticks\":\"\"}},\"title\":{\"x\":0.05},\"xaxis\":{\"automargin\":true,\"gridcolor\":\"white\",\"linecolor\":\"white\",\"ticks\":\"\",\"title\":{\"standoff\":15},\"zerolinecolor\":\"white\",\"zerolinewidth\":2},\"yaxis\":{\"automargin\":true,\"gridcolor\":\"white\",\"linecolor\":\"white\",\"ticks\":\"\",\"title\":{\"standoff\":15},\"zerolinecolor\":\"white\",\"zerolinewidth\":2}}},\"title\":{\"font\":{\"color\":\"#4D5663\"},\"text\":\"CBOE Volatility Index\"},\"xaxis\":{\"gridcolor\":\"#E1E5ED\",\"showgrid\":true,\"tickfont\":{\"color\":\"#4D5663\"},\"title\":{\"font\":{\"color\":\"#4D5663\"},\"text\":\"\"},\"zerolinecolor\":\"#E1E5ED\"},\"yaxis\":{\"gridcolor\":\"#E1E5ED\",\"showgrid\":true,\"tickfont\":{\"color\":\"#4D5663\"},\"title\":{\"font\":{\"color\":\"#4D5663\"},\"text\":\"Annualised Volatility (%)\"},\"zerolinecolor\":\"#E1E5ED\"}},                        {\"showLink\": true, \"linkText\": \"Export to plot.ly\", \"plotlyServerURL\": \"https://plot.ly\", \"responsive\": true}                    ).then(function(){\n",
       "                            \n",
       "var gd = document.getElementById('5a7da207-ff56-4f46-8aa7-3cc359b50b28');\n",
       "var x = new MutationObserver(function (mutations, observer) {{\n",
       "        var display = window.getComputedStyle(gd).display;\n",
       "        if (!display || display === 'none') {{\n",
       "            console.log([gd, 'removed!']);\n",
       "            Plotly.purge(gd);\n",
       "            observer.disconnect();\n",
       "        }}\n",
       "}});\n",
       "\n",
       "// Listen for the removal of the full notebook cells\n",
       "var notebookContainer = gd.closest('#notebook-container');\n",
       "if (notebookContainer) {{\n",
       "    x.observe(notebookContainer, {childList: true});\n",
       "}}\n",
       "\n",
       "// Listen for the clearing of the current output cell\n",
       "var outputEl = gd.closest('.output');\n",
       "if (outputEl) {{\n",
       "    x.observe(outputEl, {childList: true});\n",
       "}}\n",
       "\n",
       "                        })                };                });            </script>        </div>"
      ]
     },
     "metadata": {},
     "output_type": "display_data"
    }
   ],
   "source": [
    "newdf.iplot(kind='box', \n",
    "            title='CBOE Volatility Index', \n",
    "            yTitle='Annualised Volatility (%)', \n",
    "            legend=False, boxpoints='outliers')"
   ]
  },
  {
   "attachments": {},
   "cell_type": "markdown",
   "metadata": {},
   "source": [
    "## References\n",
    "Python Resources\n",
    "\n",
    "Pandas Documentaion\n",
    "\n",
    "Numpy Documentation\n",
    "\n",
    "Pandas Datareader documentation\n",
    "\n",
    "YFinance Documentation\n",
    "\n",
    "Alphavantage Documentation\n",
    "\n",
    "Finnhub Documentation\n",
    "\n",
    "Cufflinks Documentation"
   ]
  }
 ],
 "metadata": {
  "kernelspec": {
   "display_name": "JL",
   "language": "python",
   "name": "jl"
  },
  "language_info": {
   "codemirror_mode": {
    "name": "ipython",
    "version": 3
   },
   "file_extension": ".py",
   "mimetype": "text/x-python",
   "name": "python",
   "nbconvert_exporter": "python",
   "pygments_lexer": "ipython3",
   "version": "3.10.0"
  },
  "orig_nbformat": 4
 },
 "nbformat": 4,
 "nbformat_minor": 2
}
